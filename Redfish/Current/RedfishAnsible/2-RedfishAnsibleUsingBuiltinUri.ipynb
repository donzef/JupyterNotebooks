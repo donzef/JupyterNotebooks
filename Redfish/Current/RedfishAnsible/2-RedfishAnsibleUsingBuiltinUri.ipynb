{
 "cells": [
  {
   "cell_type": "markdown",
   "metadata": {},
   "source": [
    "# Use of the Ansible built-in URI method to query a Redfish service"
   ]
  },
  {
   "cell_type": "markdown",
   "metadata": {},
   "source": [
    "Version 0.158"
   ]
  },
  {
   "cell_type": "markdown",
   "metadata": {},
   "source": [
    "## Introduction\n",
    "\n",
    "This Jupyter Notebook uses the Ansible [built-in uri](https://docs.ansible.com/ansible/latest/collections/ansible/builtin/uri_module.html) method and an authentication token for getting and setting parameters of an iLO 5  Redfish service.\n",
    "\n",
    "The use case of this Notebook explains how you can get and set the properties of an HPE OneView managed compute node without any additional iLO user than the built-in `_HPOneViewAdmin` user.\n",
    "\n",
    "In addition, you will learn the basic methodology to discover Redfish resources instead of assuming their final location in the Redfish tree."
   ]
  },
  {
   "cell_type": "markdown",
   "metadata": {},
   "source": [
    "## <a id = \"EnvironmentPreparation\">Environment preparation</a>\n",
    "\n",
    "The following cell sets environment variables and checks the connectivity to your Synegy iLO 5 simulator."
   ]
  },
  {
   "cell_type": "code",
   "execution_count": null,
   "metadata": {},
   "outputs": [],
   "source": [
    "########## Environment preparation (Version: 0.133) ############\n",
    "\n",
    "# Set Student ID number\n",
    "export stdid=00\n",
    "Id=$(id --user --name)\n",
    "NbId=2\n",
    "InvFile=${NbId}/hosts\n",
    "\n",
    "# location and ports variables\n",
    "IloSyBasePort=46000\n",
    "let iLO5SimulatorBasePort=$IloSyBasePort\n",
    "let iLO5SimulatorPort=${iLO5SimulatorBasePort}+${stdid}\n",
    "\n",
    "iLO5SimulatorIP=ilo5simulators\n",
    "iLOSimulator=${iLO5SimulatorIP}:${iLO5SimulatorPort}\n",
    "iLO5SimulatorURI=https://${iLOSimulator}\n",
    "\n",
    "# Fake Credentials as we are testing against a BMC simulator\n",
    "OvSsoToken=\"FakeOvSsoToken\"\n",
    "\n",
    "# Miscellaneous\n",
    "WorkshopDir=$PWD\n",
    "HpePythonRedfishVenv=\"${NbId}/HpePythonRedfishVenv\"\n",
    "export PYTHONPATH=\"${WorkshopDir}/${NbId}/library/\"\n",
    "w=$(basename $PWD)\n",
    "\n",
    "alias ResetSimulators=\"../create-globalbmc.shc.x &>/dev/null ; sleep 1\"\n",
    "\n",
    "# Verify we can reach the remote Bmcs on the right HTTPS ports. \n",
    "for bmc in iLO5Simulator ; do\n",
    "    ip=\"${bmc}IP\" ; port=$(echo ${bmc}Port)\n",
    "    nc -vz  $(eval echo \"\\$${ip}\") $(eval echo \"\\$${port}\") &>/dev/null && \n",
    "        echo -e \"\\n\\tGood News: $bmc is reachable\" \\\n",
    "        || echo \"WARNING: Problem reaching $bmc\"\n",
    "done\n",
    "\n",
    "\n",
    "# Create the Ansible inventory file\n",
    "cat > ${InvFile} << __EOF__\n",
    "[OneViewManagedBmcs]\n",
    "${iLO5SimulatorIP} ansible_port=${iLO5SimulatorPort}\n",
    "\n",
    "[OneViewManagedBmcs:vars]\n",
    "ansible_python_interpreter=${WorkshopDir}/${HpePythonRedfishVenv}/bin/python3\n",
    "ansible_search_path=${HpePythonRedfishVenv}\n",
    "# Below is a fake session token as we are testing against an iLO 5 simulator\n",
    "token=\"${OvSsoToken}\"\n",
    "__EOF__\n"
   ]
  },
  {
   "cell_type": "markdown",
   "metadata": {},
   "source": [
    "## Virtual Python environment creation\n",
    "\n",
    "In order to completely isolate this notebook environment from other notebooks or student Python environments, it is safer to create a dedicated Python virtual environment.\n",
    "\n",
    "> NOTE: This `Venv` creation can take up to **2 minutes**. Just wait until the message `Finished creating Venv` is displayed"
   ]
  },
  {
   "cell_type": "code",
   "execution_count": null,
   "metadata": {},
   "outputs": [],
   "source": [
    "# Create Virtual Python environment (Venv)\n",
    "[ -d ${HpePythonRedfishVenv} ] && rm -r ${HpePythonRedfishVenv} &>/dev/null \n",
    "python3 -m venv ${HpePythonRedfishVenv}                         &>/dev/null\n",
    "source ${HpePythonRedfishVenv}/bin/activate                     &>/dev/null\n",
    "export PS1=\"[PEXP\\[\\]ECT_PROMPT>\"                               # Avoid Venv long prompt messing up outputs\n",
    "\n",
    "# Install latest Ansible in the Venv\n",
    "pip install wheel                                               &>/dev/null\n",
    "pip install jmespath                                            &>/dev/null\n",
    "pip install ansible                                             &>/dev/null\n",
    "\n",
    "echo -e \"\\n\\n\\tFinished creating Venv\\n\\n\""
   ]
  },
  {
   "cell_type": "markdown",
   "metadata": {},
   "source": [
    "### <a id = \"iLO5SimulatorRestart\">Restart iLO 5 simulator</a>\n",
    "\n",
    "If you need or desire to restart your iLO 5 simulator in order to restart this workshop from scratch or for other reasons, run the following cell at any time."
   ]
  },
  {
   "cell_type": "code",
   "execution_count": null,
   "metadata": {},
   "outputs": [],
   "source": [
    "# iLO 5 Simulator restart  (Version 0.1)\n",
    "ResetSimulators \n",
    "\n",
    "# Verify we can reach the remote Bmcs on the right HTTPS ports. \n",
    "for bmc in iLO5Simulator ; do\n",
    "    ip=\"${bmc}IP\" ; port=$(echo ${bmc}Port)\n",
    "    nc -vz  $(eval echo \"\\$${ip}\") $(eval echo \"\\$${port}\") &> /dev/null && \n",
    "        echo \"$bmc is reachable\" \\\n",
    "        || echo \"WARNING: Problem reaching $bmc\"\n",
    "done"
   ]
  },
  {
   "cell_type": "markdown",
   "metadata": {},
   "source": [
    "## Get and Set Redfish properties using Ansible built-in uri module \n",
    "\n",
    "In this section you will change the status of the Unit Identification light (UID, also called `IndicatorLED` in Redfish terminology) of compute nodes in order to facilitate their location in the Datacenter before maintenance. To make this exercise more realistic, you will automatically modify the enclosure UID/LED of these compute nodes if they are part of an enclosure/frame infrastructure.\n",
    "\n",
    "The `IndicatorLED` resource location is standardized by Redfish as part of the `Chassis` data type and documented in the [HPE Redfish API reference document](https://hewlettpackard.github.io/ilo-rest-api-docs/ilo5/#indicatorled):\n",
    "\n",
    "\n",
    "![IndicatorLED Chassis property](Pictures/IndicatorLEDProperty.png)\n",
    "\n",
    "\n",
    "The `Chassis` [data type](https://hewlettpackard.github.io/ilo-rest-api-docs/ilo5/#chassis-v1_6_0-chassis), as per Redfish, is located at `/redfish/v1/Chassis`. From this entry point you will retrieve the `{item}` list of each chassis composing this data type.\n",
    "\n",
    "In an HPE Synergy compute node, this list is composed of two chassis: a chassis called `enclosurechassis` containing the properties of the frame enclosure, and a chassis called `1` for the compute node.\n",
    "\n",
    "> **NOTE**: The chassis names are not standadized by Redfish and may change over time.\n",
    "Moreover, this naming convention is definitively different for Moonshot, Superdome and other vendors of blade computers. Hence, if you want your script to work against other Redfish implementations than ilO based servers, you need to discover each `{item}` in the `Chassis` collection instead of assuming it.\n",
    "\n",
    "![Chassis data type location](Pictures/ChassisDataType.png)\n"
   ]
  },
  {
   "cell_type": "markdown",
   "metadata": {},
   "source": [
    "### Show, modify and verify a Redfish property using Ansible uri\n",
    "\n",
    "The following cell discovers the `Chassis` collection of the nodes listed in the [hosts](2/hosts) inventory file created in the first cell of this notebook. Then, it prints selected properties of each member of the collection, including the location and the value of the `IndicatorLED`. \n",
    "\n",
    "The next tasks toggle the `IndicatorLED` value (`Off` - `Lit`) and apply the modification on each item of the collection. \n",
    "\n",
    "The last part of the playbook validates the modification by once again retrieving the `IndicatorLED` property of each item of the chassis collection.\n",
    "\n",
    "All of the above is performed using the [ansible.builtin.uri](https://docs.ansible.com/ansible/latest/collections/ansible/builtin/uri_module.html) module and a (fake) HPE OneView Single Sign On (SSO) token obtained in the previous notebook.\n",
    "\n"
   ]
  },
  {
   "cell_type": "markdown",
   "metadata": {},
   "source": [
    "A convenient way to study the playbook of the next cell is to open it in a different view in this pane. Right click on this Notebook tab name and select `New View for Notebook` to open a new view:\n",
    "<img src=\"Pictures/2-NewViewForNotebook.png\" align=middle alt=\"New View for Notebook\" height=30px />\n",
    "\n",
    "Then, click on this [file link](2/SetIndicatorLEDUsingBuiltInUri.yml).\n",
    "\n",
    "If you need more space, type `Ctrl-B` (or `Command-B` on a Mac) to hide the left pane. You can make it reappear by hitting `Ctrl-B` again."
   ]
  },
  {
   "cell_type": "code",
   "execution_count": null,
   "metadata": {},
   "outputs": [],
   "source": [
    "# Modify IndicatorLED(s) using the Ansible built-in URI module\n",
    "ansible-playbook -i ${InvFile} ${NbId}/SetIndicatorLEDUsingBuiltInUri.yml"
   ]
  },
  {
   "cell_type": "markdown",
   "metadata": {},
   "source": [
    "### Test the same playbook against a rack-mount server"
   ]
  },
  {
   "cell_type": "markdown",
   "metadata": {},
   "source": [
    "The following cell switches your environment toward an **HPE DL360 Gen10** simulator and then runs again the Ansible Playbook. You will notice that the same playbook works for both a Synergy compute node and a rack-mount server although it is not enclosed in any frame or enclosure chassis.\n",
    "\n",
    "> **NOTE**: In a real and physical environment, session token authentication against HPE iLO 5 rack mount servers is supported when managed by a OneView appliance. If not managed by OneView, you have to modify the playbook code and supply `url_username` and `url_password` parameters to the `uri` method for basic authentication. Or you could create an additional task with basic authentication to create a session and then extract a session token from the headers of the response of the Redfish service. This mechanism is deeply explained in the [Redfish API 101 Workshop-on-Demand](https://developer.hpe.com) ."
   ]
  },
  {
   "cell_type": "code",
   "execution_count": null,
   "metadata": {},
   "outputs": [],
   "source": [
    "# location and ports variables\n",
    "IloDlBasePort=45000\n",
    "let iLO5SimulatorBasePort=$IloDlBasePort\n",
    "let iLO5SimulatorPort=${iLO5SimulatorBasePort}+${stdid}\n",
    "\n",
    "iLO5SimulatorIP=ilo5simulators\n",
    "iLOSimulator=${iLO5SimulatorIP}:${iLO5SimulatorPort}\n",
    "iLO5SimulatorURI=https://${iLOSimulator}\n",
    "\n",
    "# Adapt the Ansible inventory file\n",
    "cat > ${InvFile} << __EOF__\n",
    "[OneViewManagedBmcs]\n",
    "${iLO5SimulatorIP} ansible_port=${iLO5SimulatorPort}\n",
    "\n",
    "[OneViewManagedBmcs:vars]\n",
    "ansible_python_interpreter=${WorkshopDir}/${HpePythonRedfishVenv}/bin/python3\n",
    "ansible_search_path=${HpePythonRedfishVenv}\n",
    "# Below is a fake session token as we are testing against an iLO 5 simulator\n",
    "token=\"${OvSsoToken}\"\n",
    "__EOF__\n",
    "\n",
    "\n",
    "# Modify IndicatorLED(s) using the Ansible built-in URI module against an HPE DL360 Gen10 ilo5 \n",
    "ansible-playbook -i ${InvFile} ${NbId}/SetIndicatorLEDUsingBuiltInUri.yml"
   ]
  },
  {
   "cell_type": "markdown",
   "metadata": {},
   "source": [
    "## Summary\n",
    "\n",
    "In this workshop, you used the Ansible built-in `uri` module to get and set Redfish properties, using an HPE OneView SSO (fake) token and without assuming their location. You validated the same code against two different types of server, proving its portability. Crawling the Redfish tree using `yaml` is possible, but may become very quickly complex for managing resources deeper than the second level of the Redfish tree.\n",
    "\n",
    "\n",
    "Select the next [Notebook](3-RedfishAnsibleUsingHpePlaybooks.ipynb) to perform the same exercise with the HPE provided playbooks."
   ]
  }
 ],
 "metadata": {
  "kernelspec": {
   "display_name": "Bash",
   "language": "bash",
   "name": "bash"
  },
  "language_info": {
   "codemirror_mode": "shell",
   "file_extension": ".sh",
   "mimetype": "text/x-sh",
   "name": "bash"
  }
 },
 "nbformat": 4,
 "nbformat_minor": 4
}
