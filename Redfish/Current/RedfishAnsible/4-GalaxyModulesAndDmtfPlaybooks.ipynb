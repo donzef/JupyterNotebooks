{
 "cells": [
  {
   "cell_type": "markdown",
   "metadata": {},
   "source": [
    "# Ansible Galaxy Redfish collections"
   ]
  },
  {
   "cell_type": "markdown",
   "metadata": {},
   "source": [
    "Version 0.129"
   ]
  },
  {
   "cell_type": "markdown",
   "metadata": {},
   "source": [
    "## Introduction\n",
    "\n",
    "The Ansible Galaxy [community.general collection](https://galaxy.ansible.com/community/general) proposes three Redfish modules:\n",
    "  \n",
    "  * [Redfish info](https://docs.ansible.com/ansible/latest/collections/community/general/redfish_info_module.html) - Retrieves information like systems and accounts inventories. The exhaustive list of possible commands is in the `CATEGORY_COMMANDS_ALL` array in the [module sources](https://github.com/ansible-collections/community.general/blob/main/plugins/modules/remote_management/redfish/redfish_info.py). \n",
    "  * [Redfish command](https://docs.ansible.com/ansible/latest/collections/community/general/redfish_command_module.html) - Performs `set` operations on log management, user management, and power operations (e.g. on, off, reboot, etc.). The exhaustive list of possible commands is in the `CATEGORY_COMMANDS_ALL` array in the [module sources](https://github.com/ansible-collections/community.general/blob/main/plugins/modules/remote_management/redfish/redfish_command.py). \n",
    "  * [Redfish config](https://docs.ansible.com/ansible/latest/collections/community/general/redfish_config_module.html) - Performs configuration operations on BIOS and other subsystems. The exhaustive list of possible commands is in the `CATEGORY_COMMANDS_ALL` array in the [module sources](https://github.com/ansible-collections/community.general/blob/main/plugins/modules/remote_management/redfish/redfish_config.py). \n",
    "  \n",
    "The above Ansible Redfish modules are based upon the [redfish_utils.py](https://github.com/ansible-collections/community.general/blob/main/plugins/module_utils/redfish_utils.py) python utility module.\n",
    "\n",
    "\n",
    "Redfish Ansible Playbook examples using the above modules are present in the [DMTF Redfish-Ansible-Playbooks](https://github.com/DMTF/Redfish-Ansible-Playbooks) public GitHub repository.\n",
    "\n",
    "> **Note**: The Ansible Galaxy Redfish modules can be extended using the [DMTF](https://github.com/DMTF/Redfish-Ansible-Playbooks/blob/master/OEM_EXTENSIONS.md) Oem extensions instructions. This part is not covered in this workshop.\n"
   ]
  },
  {
   "cell_type": "markdown",
   "metadata": {},
   "source": [
    "## <a id = \"EnvironmentPreparation\">Environment preparation</a>\n",
    "\n",
    "The following cell sets environment variables and checks the connectivity toward the various BMCs used in this notebook."
   ]
  },
  {
   "cell_type": "code",
   "execution_count": null,
   "metadata": {},
   "outputs": [],
   "source": [
    "########## Environment preparation (Version: 0.133) ############\n",
    "\n",
    "# Set Student ID number\n",
    "export stdid=00\n",
    "Id=$(id --user --name)\n",
    "NbId=4\n",
    "InvFile=${NbId}/hosts\n",
    "\n",
    "# location and ports variables\n",
    "IloSyBasePort=46000\n",
    "let iLO5SimulatorBasePort=$IloSyBasePort\n",
    "let iLO5SimulatorPort=${iLO5SimulatorBasePort}+${stdid}\n",
    "\n",
    "iLO5SimulatorIP=ilo5simulators\n",
    "iLOSimulator=${iLO5SimulatorIP}:${iLO5SimulatorPort}\n",
    "iLO5SimulatorURI=https://${iLOSimulator}\n",
    "\n",
    "# Fake Credentials as we are testing against a BMC simulator\n",
    "OvSsoToken=\"FakeOvSsoToken\"\n",
    "\n",
    "# Miscellaneous\n",
    "WorkshopDir=$PWD\n",
    "HpePythonRedfishVenv=\"${NbId}/HpePythonRedfishVenv\"\n",
    "export PYTHONPATH=\"${WorkshopDir}/${NbId}/library/\"\n",
    "w=$(basename $PWD)\n",
    "\n",
    "alias ResetSimulators=\"../create-globalbmc.shc.x &>/dev/null; sleep 1\"\n",
    "\n",
    "# Verify we can reach the remote Bmcs on the right HTTPS ports. \n",
    "for bmc in iLO5Simulator ; do\n",
    "    ip=\"${bmc}IP\" ; port=$(echo ${bmc}Port)\n",
    "    nc -vz  $(eval echo \"\\$${ip}\") $(eval echo \"\\$${port}\") &>/dev/null && \n",
    "        echo -e \"\\n\\tGood News: $bmc is reachable\" \\\n",
    "        || echo \"WARNING: Problem reaching $bmc\"\n",
    "done\n",
    "\n",
    "\n",
    "# Create the Ansible inventory file\n",
    "cat > ${InvFile} << __EOF__\n",
    "[OneViewManagedBmcs]\n",
    "${iLO5SimulatorIP} ansible_port=${iLO5SimulatorPort}\n",
    "\n",
    "[OneViewManagedBmcs:vars]\n",
    "ansible_python_interpreter=${WorkshopDir}/${HpePythonRedfishVenv}/bin/python3\n",
    "ansible_search_path=${HpePythonRedfishVenv}\n",
    "\n",
    "# Below is a fake session token as we are testing against an iLO 5 simulator.\n",
    "# In real life, you should populate this variable with the token obtained\n",
    "# lab 1 of this workshop.\n",
    "token=\"${OvSsoToken}\"\n",
    "__EOF__\n"
   ]
  },
  {
   "cell_type": "markdown",
   "metadata": {},
   "source": [
    "## Virtual Python environment creation\n",
    "\n",
    "In order to completely isolate this notebook environment from other notebooks and student environments, it is safer to create a dedicated Python and Ansible virtual environment.\n",
    "\n",
    "> **Note**: The installation of Ansible in this `Venv` will also install the `community.general` Galaxy collection in your `~/.ansible` personal directory.\n",
    "\n",
    "> NOTE: This `Venv` creation can take up to **2 minutes**. Just wait until message `Finished creating Venv` is displayed.\n",
    "\n"
   ]
  },
  {
   "cell_type": "code",
   "execution_count": null,
   "metadata": {},
   "outputs": [],
   "source": [
    "# Create Virtual Python environment (Venv)\n",
    "[ -d ${HpePythonRedfishVenv} ] && rm -r ${HpePythonRedfishVenv} &>/dev/null \n",
    "python3 -m venv ${HpePythonRedfishVenv}                         &>/dev/null\n",
    "source ${HpePythonRedfishVenv}/bin/activate                     &>/dev/null\n",
    "PS1=\"[PEXP\\[\\]ECT_PROMPT>\"                                      # Avoid Venv long prompt messing up outputs\n",
    "\n",
    "# Install latest Ansible in the Venv\n",
    "pip install wheel                                               &>/dev/null\n",
    "pip install jmespath                                            &>/dev/null\n",
    "pip install ansible                                             &>/dev/null\n",
    "\n",
    "echo -e \"\\n\\n\\tFinished creating Venv\\n\\n\""
   ]
  },
  {
   "cell_type": "markdown",
   "metadata": {},
   "source": [
    "### <a id = \"iLO5SimulatorRestart\">Restart iLO 5 simulator</a>\n",
    "\n",
    "If you need or desire to restart your iLO 5 simulator to restart this workshop from scratch or for other reasons, run the following cell at any time."
   ]
  },
  {
   "cell_type": "code",
   "execution_count": null,
   "metadata": {},
   "outputs": [],
   "source": [
    "# iLO 5 Simulator restart\n",
    "ResetSimulators \n",
    "\n",
    "# Verify we can reach the remote Bmcs on the right HTTPS ports. \n",
    "for bmc in iLO5Simulator ; do\n",
    "    ip=\"${bmc}IP\" ; port=$(echo ${bmc}Port)\n",
    "    nc -vz  $(eval echo \"\\$${ip}\") $(eval echo \"\\$${port}\") &> /dev/null && \n",
    "        echo \"$bmc is reachable\" \\\n",
    "        || echo \"WARNING: Problem reaching $bmc\"\n",
    "done"
   ]
  },
  {
   "cell_type": "markdown",
   "metadata": {},
   "source": [
    "## Get and set Redfish properties using Ansible Galaxy collections\n",
    "\n",
    "This third method of using Ansible for Redfish tasks uses the [redfish_info](https://docs.ansible.com/ansible/latest/collections/community/general/redfish_info_module.html) and [redfish_command](https://docs.ansible.com/ansible/latest/collections/community/general/redfish_command_module.html) Galaxy collections to get and set the Indicator LED of a Synergy compute node and its enclosure.\n",
    "\n",
    "Although the Redfish Ansible collections presented here are very handy in RedHat [Tower](https://www.ansible.com/tower) or [AWX](https://github.com/ansible/awx) environments, they don't offer (as of the writing of this notebook) the possibility to use session-based authentication (i.e. HPE OneView Token). \n",
    "\n",
    "Despite this limitation, it is important to know the existence of those collections and to know that they can be extended using the  [DMTF instructions](https://github.com/DMTF/Redfish-Ansible-Playbooks/blob/master/OEM_EXTENSIONS.md).\n"
   ]
  },
  {
   "cell_type": "markdown",
   "metadata": {},
   "source": [
    "### Indicator LED management\n",
    "\n",
    "The next cell launches an Ansible Playbook that has the same three sections as the previous playbooks:\n",
    "\n",
    "  * Get status of indicator LEDs \n",
    "  * Modify indicator LED(s) status\n",
    "  * Verify that the action was successful.\n"
   ]
  },
  {
   "cell_type": "markdown",
   "metadata": {},
   "source": [
    "A convenient way to study the playbook of the next cell is to open it in a different view in this pane. Right click on this Notebook tab name and select `New View for Notebook` to open a new view.\n",
    "<img src=\"Pictures/4-NewViewForNotebook.png\" align=middle alt=\"New View for Notebook\" height=30px />\n",
    "\n",
    "Then, click on this \n",
    "[file link](4/SetIndicatorLEDUsingGalaxy.yml).\n",
    "\n",
    "If you need more space, type `Ctrl-B` (or `Command-B` on a Mac) to hide the left pane. You can have it reappear by hitting `Ctrl-B` again."
   ]
  },
  {
   "cell_type": "markdown",
   "metadata": {},
   "source": [
    "Read carefully all the embedded comments in the `.yml` file of the following cell to better understand how the Ansible Galaxy collection works."
   ]
  },
  {
   "cell_type": "code",
   "execution_count": null,
   "metadata": {},
   "outputs": [],
   "source": [
    "# Set Indicator LED using Galaxy community.general collections against a Synergy compute node\n",
    "ansible-playbook -i ${InvFile} ${NbId}/SetIndicatorLEDUsingGalaxy.yml"
   ]
  },
  {
   "cell_type": "markdown",
   "metadata": {},
   "source": [
    "### Test the same playbook against a rack-mount server"
   ]
  },
  {
   "cell_type": "markdown",
   "metadata": {},
   "source": [
    "The following cell switches your environment toward an **HPE DL360 Gen10** simulator and then runs again the Ansible Playbook. You will notice that the same playbook works for both a Synergy compute node and a rack-mount server although it is not enclosed in any frame or enclosure chassis."
   ]
  },
  {
   "cell_type": "code",
   "execution_count": null,
   "metadata": {},
   "outputs": [],
   "source": [
    "# location and ports variables\n",
    "IloDlBasePort=45000\n",
    "let iLO5SimulatorBasePort=$IloDlBasePort\n",
    "let iLO5SimulatorPort=${iLO5SimulatorBasePort}+${stdid}\n",
    "\n",
    "iLO5SimulatorIP=ilo5simulators\n",
    "iLOSimulator=${iLO5SimulatorIP}:${iLO5SimulatorPort}\n",
    "iLO5SimulatorURI=https://${iLOSimulator}\n",
    "\n",
    "# Adapt the Ansible inventory file\n",
    "cat > ${InvFile} << __EOF__\n",
    "[OneViewManagedBmcs]\n",
    "${iLO5SimulatorIP} ansible_port=${iLO5SimulatorPort}\n",
    "\n",
    "[OneViewManagedBmcs:vars]\n",
    "ansible_python_interpreter=${WorkshopDir}/${HpePythonRedfishVenv}/bin/python3\n",
    "ansible_search_path=${HpePythonRedfishVenv}\n",
    "# Below is a fake session token as we are testing against an iLO 5 simulator\n",
    "token=\"${OvSsoToken}\"\n",
    "__EOF__\n",
    "\n",
    "\n",
    "# Set Indicator LED using Galaxy community.general collections against a rack-mount DL360 Gen10 server\n",
    "ansible-playbook -i ${InvFile} ${NbId}/SetIndicatorLEDUsingGalaxy.yml"
   ]
  },
  {
   "cell_type": "markdown",
   "metadata": {},
   "source": [
    "## Summary\n",
    "\n",
    "In this workshop, you used two modules from the `community.general` Ansible Galaxy collection to modify the `IndicatorLED` of an HPE Synergy compute node and its enclosure. This playbooks is generic and also works for rack-mount servers and you could verify this assertion.\n",
    "\n",
    "The crawling of the Redfish tree to locate the IndicatorLED resources has been mainly performed by the provided Ansible collections. However, you had to extract the properties using the Ansible `yml` syntax in a similar manner as what you did in the second notebook of this workshop.\n",
    "\n",
    "The Ansible Redfish collections are constantly growing, in terms of new commands. However, if you don't find what you need in the Ansible Redfish collections, you can extend them with your own code as mentioned by the [DMTF](https://github.com/DMTF/Redfish-Ansible-Playbooks/blob/master/OEM_EXTENSIONS.md).\n",
    "\n",
    "If you are finished, you can go to the [next Notebook](5-RedfishAnsibleUsingIlorest.ipynb)."
   ]
  }
 ],
 "metadata": {
  "kernelspec": {
   "display_name": "Bash",
   "language": "bash",
   "name": "bash"
  },
  "language_info": {
   "codemirror_mode": "shell",
   "file_extension": ".sh",
   "mimetype": "text/x-sh",
   "name": "bash"
  }
 },
 "nbformat": 4,
 "nbformat_minor": 4
}
