{
 "cells": [
  {
   "cell_type": "markdown",
   "metadata": {},
   "source": [
    "![HPE DEV Logo](Pictures/hpe-dev-logo.png)\n",
    "\n",
    "Powered by [HPE DEV Team](https://hpedev.io)\n",
    "\n",
    "Version 0.121\n",
    "\n",
    "# Introduction to Redfish Ansible playbooks\n",
    "\n",
    "[<img src=\"https://redfish.dmtf.org/sites/default/files/DMTF_Redfish_logo_R.jpg\" alt=\"Redfish Logo\" style=\"width: 125px;\"/>](https://redfish.dmtf.org/)&nbsp; &nbsp; &nbsp; &nbsp; &nbsp; &nbsp; &nbsp; &nbsp; &nbsp;[<img src=\"Pictures/logo_ansible.png\" alt=\"Ansible logo\" style=\"width: 90px;\" />](https://docs.ansible.com/)\n",
    "\n",
    "## Authors: [François Donzé](francois.donze@hpe.com), [Vincent Berger](vincent.berger@hpe.com)\n",
    "\n",
    "Feel free to watch Redfish related videos on [YouTube](https://www.youtube.com/playlist?list=PLmYBqUM74OygZjhoZMEZmMP50Od8EfaW8) and read [blogs](https://developer.hpe.com/search?term=redfish) posts.\n",
    "\n",
    "## Handouts\n",
    "You can freely copy the Jupyter Notebooks used in this workshop, including their output, in order to practice back at your office at your own pace, leveraging a local installation of Jupyter Notebook on your laptop. To download the notebooks, right click on them in the left sidebar of this Jupyter window and select `Download`.\n",
    "\n",
    "- You can download the Jupyter Notebook application from [here](https://jupyter.org/install) \n",
    "- A Beginners Guide is also available [here](https://jupyter-notebook-beginner-guide.readthedocs.io/en/latest/what_is_jupyter.html)\n",
    "\n",
    "In a nutshell, a notebook works as follows:\n",
    "\n",
    "• A Notebook is a series de cells\n",
    "\n",
    "• Notebook uses a kernel (visible in the upper right corner of the Notebook)\n",
    "\n",
    "• Cell can be Markdown or Code (in the selected kernel)\n",
    "\n",
    "• To Run a cell use:\n",
    "\n",
    "    o The Play Button at the top\n",
    "    o Ctrl-Enter (run and stay on same cell)\n",
    "    o Shift-Enter (run and move to next cell)\n",
    "    \n",
    "• Running a markdown cell is just rendering it\n",
    "\n",
    "• Running a Code cell runs the code and display the output just below the cell\n",
    "\n",
    "• When a cell is running it displays a [*] to its left, then when finished, it displays a counter of the number of execution of that cell\n",
    "\n",
    "• You cannot run a cell when another is already running but you can interrupt a running cell with the stop button\n"
   ]
  },
  {
   "cell_type": "markdown",
   "metadata": {},
   "source": [
    "## Workshop goals\n",
    "\n",
    "The goal of this workshop is to present an overview of the management of HPE servers using several Ansible Redfish methods.\n",
    "\n",
    "This goal is achieved through exercises performed against a OneView Data Center Simulator (DCS), iLO 5 Redfish simulators (HPE SY480 Gen10 and HPE ProLiant DL360 Gen10) and a Superdome Flex Redfish simmulator (exercises 2,3 and 4).\n",
    "\n",
    "> NOTE: Creating your own iLO 5 or Superdome Flex RMC simulator is explained in [this article](https://developer.hpe.com/blog/build-your-own-ilo-redfish-simulator/). "
   ]
  },
  {
   "cell_type": "markdown",
   "metadata": {},
   "source": [
    "## Disclaimer\n",
    "\n",
    "The material presented in this workshop has been designed to be educative and didactic. Security, error handling, performance, and Python/Ansible best practices have not been correctly implemented on purpose."
   ]
  },
  {
   "cell_type": "markdown",
   "metadata": {},
   "source": [
    "## Workshop infrastructure\n",
    "\n",
    "Each student has a dedicated [Jupyter](https://jupyter.org/) environment hosted by a Linux host that provides a set of [Jupyter Notebooks](https://jupyter-notebook-beginner-guide.readthedocs.io/en/latest/what_is_jupyter.html).\n",
    "\n",
    "The Jupyter Notebooks have access to an HPE OneView DCS and [DMTF Redfish servers]( https://github.com/DMTF/Redfish-Mockup-Server) providing access the simulators listed in the previous paragraph.\n",
    "\n",
    ">Note: Your simulators may not always respond exactly like real ilO 5 or RMC, but this will not alter the content of the workshop.\n"
   ]
  },
  {
   "cell_type": "markdown",
   "metadata": {},
   "source": [
    "## Workshop description\n",
    "\n",
    "The material available in this workshop consists of the following Jupyter Notebooks. Double click on them sequentially in the left sidebar before reading or executing their content:\n",
    "\n",
    "- Introduction (this notebook)\n",
    "- [Lab 1](1-RetrieveOneViewToken.ipynb): Retrieve an HPE OneView Single Sign On iLO 5 session token\n",
    "- [Lab 2](2-RedfishAnsibleUsingBuiltinUri.ipynb): Redfish Ansible Playbook using on the `uri` built-in module\n",
    "- [Lab 3](3-RedfishAnsibleUsingHpePlaybooks.ipynb): Redfish Ansible Playbook derived from HPE Playbook examples\n",
    "- [Lab 4](4-GalaxyModulesAndDmtfPlaybooks.ipynb): Redfish Ansible Playbook with examples using the Ansible Galaxy collection\n",
    "- [Lab 5](5-RedfishAnsibleUsingIlorest.ipynb): HPE iLOrest Ansible Playbook\n",
    "- [Conclusion](6-Conclusion.ipynb)"
   ]
  }
 ],
 "metadata": {
  "kernelspec": {
   "display_name": "Python 3",
   "language": "python",
   "name": "python3"
  },
  "language_info": {
   "codemirror_mode": {
    "name": "ipython",
    "version": 3
   },
   "file_extension": ".py",
   "mimetype": "text/x-python",
   "name": "python",
   "nbconvert_exporter": "python",
   "pygments_lexer": "ipython3",
   "version": "3.8.10"
  }
 },
 "nbformat": 4,
 "nbformat_minor": 4
}
