{
 "cells": [
  {
   "cell_type": "markdown",
   "metadata": {},
   "source": [
    "# Retrieve an HPE OneView authentication token to access a managed iLO 5\n",
    "\n",
    "Version 0.17"
   ]
  },
  {
   "cell_type": "markdown",
   "metadata": {},
   "source": [
    "## Introduction \n",
    "\n",
    "This notebook uses the [HPE OneView Ansible Galaxy collection](https://galaxy.ansible.com/hpe/oneview) to connect to an HPE OneView appliance, retrieve properties of a server that is managed by this appliance as well as a security token for that server's iLO. This token will be used in subsequent sections of the lab to connect to the iLO without authenticating again, using the Single Sign On (SSO) feature of HPE OneView and iLO.\n",
    "\n",
    "For the sake of transparency, the unabated truth regarding this lab is that you will be using simulated hardware. You are going to connect to an HPE OneView appliance containing code that simulates responses from managed hardware. While these simulated responses allow one to obtain an iLO security token, they do not fully simulate an iLO. So, in subsequent sections of this lab, you will be using another simulator that fully implements the Redfish API like an iLO. The two simulators are independent of each other. In other words the token you are going to obtain in this section cannot be used in the following sections. You will just have to trust us that it really works this way with real hardware. Yes, we've tested it!"
   ]
  },
  {
   "cell_type": "markdown",
   "metadata": {},
   "source": [
    "## <a id = \"EnvironmentPreparation\">Environment preparation</a>"
   ]
  },
  {
   "cell_type": "code",
   "execution_count": null,
   "metadata": {},
   "outputs": [],
   "source": [
    "########## Environment preparation ############\n",
    "\n",
    "# Set Student ID number\n",
    "stdid=00\n",
    "Id=$(id --user --name)\n",
    "NbId=1\n",
    "\n",
    "# OneView variables\n",
    "OneViewSimulatorIP=16.31.86.247\n",
    "\n",
    "cat > ${NbId}/config.json << __EoF__\n",
    "{\n",
    "    \"ip\": \"${OneViewSimulatorIP}\",\n",
    "    \"credentials\": {\n",
    "      \"userName\": \"Administrator\",\n",
    "      \"authLoginDomain\": \"\",\n",
    "      \"password\": \"password\"\n",
    "    },\n",
    "    \"api_version\": 1800\n",
    "  }\n",
    "__EoF__\n",
    "\n",
    "echo \"You are ready to continue....\"\n"
   ]
  },
  {
   "cell_type": "markdown",
   "metadata": {},
   "source": [
    "First, we need to install the [HPE OneView Ansible Galaxy collection](https://galaxy.ansible.com/hpe/oneview). This is simply done with the following command:"
   ]
  },
  {
   "cell_type": "code",
   "execution_count": null,
   "metadata": {},
   "outputs": [],
   "source": [
    "/opt/jupyterhub/bin/ansible-galaxy collection install hpe.oneview"
   ]
  },
  {
   "cell_type": "markdown",
   "metadata": {},
   "source": [
    "The collection is installed (by default) in ~/.ansible/collections. We also need to look at the requirements for this collection, as they are not installed by the `ansible-galaxy collection install` command."
   ]
  },
  {
   "cell_type": "code",
   "execution_count": null,
   "metadata": {},
   "outputs": [],
   "source": [
    "cat ~/.ansible/collections/ansible_collections/hpe/oneview/requirements.txt"
   ]
  },
  {
   "cell_type": "markdown",
   "metadata": {},
   "source": [
    "These are Python packages to be installed with `pip`. You can safely ignore `hpICsp`, which is no longer used. The `ansible` package is kind of obvious and is already installed. The `hpeOneView` package represents the [Python OneView SDK](https://github.com/HewlettPackard/oneview-python), which has already been installed in your environment as well."
   ]
  },
  {
   "cell_type": "markdown",
   "metadata": {},
   "source": [
    "We are now ready to run a playbook to get a security token for an iLO of a managed server. Before running it, let's look at it. Open [the playbook](1/GetiLOSSOToken.yml), it will open in a new tab. Come back to this tab for explanations. The playbook starts with these lines:"
   ]
  },
  {
   "cell_type": "markdown",
   "metadata": {},
   "source": [
    "```\n",
    "- hosts: localhost\n",
    "  gather_facts: false\n",
    "  collections:\n",
    "    - hpe.oneview\n",
    "```"
   ]
  },
  {
   "cell_type": "markdown",
   "metadata": {},
   "source": [
    "The playbook always runs on `localhost`. This is not the traditional Ansible way where Ansible will connect to various hosts to perform its tasks. HPE OneView is an appliance and you cannot ssh into it. Hence, you cannot have an HPE OneView appliance in an Ansible hosts' inventory. This would not work. Instead, the Ansible OneView collection runs locally but connects to the REST API of an HPE OneView appliance specified in a config file we will look at in a minute.\n",
    "\n",
    "We are not particularly interested in the details of the host we are running the playbook on, so `gather_facts: false` allows to speed up the execution a bit.\n",
    "\n",
    "And finally we declare the collection we are going to use in this playbook."
   ]
  },
  {
   "cell_type": "markdown",
   "metadata": {},
   "source": [
    "Next is our first task:\n",
    "```\n",
    "  - name: Get server\n",
    "    oneview_server_hardware_facts:\n",
    "      config: \"config.json\"  \n",
    "      name: \"0000A66101, bay 7\"\n",
    "      options:\n",
    "      - remoteConsoleUrl: true\n",
    "\n",
    "```"
   ]
  },
  {
   "cell_type": "markdown",
   "metadata": {},
   "source": [
    "`oneview_server_hardware_facts` is the role we want to use from our Ansible Galaxy collection. It essentially translates to a REST API call to HPE OneView with a GET /rest/server-hardware.\n",
    "\n",
    "`config: \"config.json\"` is where we define which HPE OneView appliance we want to connect to. You can open [this JSON file](1/config.json). It simply contains the IP address and credentials of an HPE OneView appliance (there are ways to avoid having a password in clear text like this, but they are beyond the scope of this lab), and the API version we want to use. Each version of OneView implements a version of the REST API (and a number of previous versions for backwards compatibility). See [the About page of the OneView REST API Reference](https://techlibrary.hpe.com/docs/enterprise/servers/oneview5.5/cicf-api/en/index.html#about).\n",
    "\n",
    "`name: \"0000A66101, bay 7\"` is the name of the server we want to access.\n",
    "\n",
    "`      options:\n",
    "      - remoteConsoleUrl: true\n",
    "` says that we want to retrieve in our GET call the remoteConsoleUrl attribute that contains the iLO token we want."
   ]
  },
  {
   "cell_type": "markdown",
   "metadata": {},
   "source": [
    "Now we want to parse the results of our REST API call to extract just the bit we are interested in. It is in the session key parameter in the remoteConsoleUrl, and we store it in the `iloToken` variable:\n",
    "```\n",
    "  - set_fact:\n",
    "      iloToken: \"{{ server_hardware_remote_console_url.remoteConsoleUrl | regex_search(regexp, '\\\\1') }}\"\n",
    "    vars:\n",
    "      regexp: 'sessionkey=([0-9a-f]+)'\n",
    "```"
   ]
  },
  {
   "cell_type": "markdown",
   "metadata": {},
   "source": [
    "And finally we print the result:\n",
    "```\n",
    "  - name: print result\n",
    "    debug: \n",
    "      var: iloToken\n",
    "```"
   ]
  },
  {
   "cell_type": "markdown",
   "metadata": {},
   "source": [
    "Now you can run the playbook:"
   ]
  },
  {
   "cell_type": "code",
   "execution_count": null,
   "metadata": {},
   "outputs": [],
   "source": [
    "/opt/jupyterhub/bin/ansible-playbook 1/GetiLOSSOToken.yml"
   ]
  },
  {
   "cell_type": "markdown",
   "metadata": {},
   "source": [
    "You can now move to [the next lab](2-RedfishAnsibleUsingBuiltinUri.ipynb) and start talking Redfish to an iLO."
   ]
  }
 ],
 "metadata": {
  "kernelspec": {
   "display_name": "Bash",
   "language": "bash",
   "name": "bash"
  },
  "language_info": {
   "codemirror_mode": "shell",
   "file_extension": ".sh",
   "mimetype": "text/x-sh",
   "name": "bash"
  }
 },
 "nbformat": 4,
 "nbformat_minor": 4
}
