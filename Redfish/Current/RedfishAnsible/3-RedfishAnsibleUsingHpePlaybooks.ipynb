{
 "cells": [
  {
   "cell_type": "markdown",
   "metadata": {},
   "source": [
    "# HPE Redfish Ansible playbooks"
   ]
  },
  {
   "cell_type": "markdown",
   "metadata": {},
   "source": [
    "Version 0.135"
   ]
  },
  {
   "cell_type": "markdown",
   "metadata": {},
   "source": [
    "## Introduction\n",
    "\n",
    "The goal of this notebook is to present another approach for creating Redfish Ansible Playbooks compared to the approach used in the previous notebook.\n",
    "\n",
    "The HPE Ansible Redfish [Gitub repository](https://github.com/HewlettPackard/ansible-ilorest-role) proposes three sets of Ansible Redfish Playbooks examples using:\n",
    "\n",
    "  * the [iLOrest tool](https://github.com/HewlettPackard/ansible-ilorest-role/tree/master/iloresttool_playbooks)\n",
    "  * the Ansible Redfish Galaxy [collection](https://github.com/HewlettPackard/ansible-ilorest-role/tree/master/ansibleredfish_playbooks)\n",
    "  * [Ansible modules](https://github.com/HewlettPackard/ansible-ilorest-role/tree/master/library) derived from the [examples](https://github.com/HewlettPackard/python-ilorest-library/tree/master/examples/Redfish) in the `python-ilorest-library`.\n",
    "\n",
    "In this Jupyter Notebook, you will study a [Redfish Ansible Playbook](3/SetIndicatorLEDUsingiLOrestLibrary.yml) based upon the [set_uid_light.py](https://github.com/HewlettPackard/python-ilorest-library/tree/master/examples/Redfish/set_uid_light.py) example of the the HPE [python-ilorest-library](https://github.com/HewlettPackard/python-ilorest-library/tree/master/). This Python example has been modified to become an Ansible module similar (but slightly differently) to the one in the [HPE GitHub site](https://github.com/HewlettPackard/ansible-ilorest-role/blob/master/library/set_uid_light.py). "
   ]
  },
  {
   "cell_type": "markdown",
   "metadata": {},
   "source": [
    "## <a id = \"EnvironmentPreparation\">Environment preparation</a>\n",
    "\n",
    "The following cell sets environment variables and checks the connectivity toward the various BMCs used in this notebook."
   ]
  },
  {
   "cell_type": "code",
   "execution_count": null,
   "metadata": {},
   "outputs": [],
   "source": [
    "########## Environment preparation (Version: 0.132) ############\n",
    "\n",
    "# Set Student ID number\n",
    "stdid=00\n",
    "Id=$(id --user --name)\n",
    "NbId=3\n",
    "InvFile=${NbId}/hosts\n",
    "\n",
    "# location and ports variables\n",
    "IloSyBasePort=46000\n",
    "let iLO5SimulatorBasePort=$IloSyBasePort\n",
    "let iLO5SimulatorPort=${iLO5SimulatorBasePort}+${stdid}\n",
    "\n",
    "iLO5SimulatorIP=ilo5simulators\n",
    "iLOSimulator=${iLO5SimulatorIP}:${iLO5SimulatorPort}\n",
    "iLO5SimulatorURI=https://${iLOSimulator}\n",
    "\n",
    "# Fake Credentials as we are testing against a BMC simulator\n",
    "OvSsoToken=\"FakeOvSsoToken\"\n",
    "\n",
    "# Miscellaneous\n",
    "WorkshopDir=$PWD\n",
    "HpePythonRedfishVenv=\"${NbId}/HpePythonRedfishVenv\"\n",
    "export PYTHONPATH=\"${WorkshopDir}/${NbId}/library/\"\n",
    "w=$(basename $PWD)\n",
    "\n",
    "alias ResetSimulators=\"../create-globalbmc.shc.x &>/dev/null; sleep 1\"\n",
    "\n",
    "# Verify we can reach the remote Bmcs on the right HTTPS ports. \n",
    "for bmc in iLO5Simulator ; do\n",
    "    ip=\"${bmc}IP\" ; port=$(echo ${bmc}Port)\n",
    "    nc -vz  $(eval echo \"\\$${ip}\") $(eval echo \"\\$${port}\") &>/dev/null && \n",
    "        echo -e \"\\n\\tGood News: $bmc is reachable\" \\\n",
    "        || echo \"WARNING: Problem reaching $bmc\"\n",
    "done\n",
    "\n",
    "\n",
    "# Create the Ansible inventory file\n",
    "cat > ${InvFile} << __EOF__\n",
    "[OneViewManagedBmcs]\n",
    "${iLO5SimulatorIP} ansible_port=${iLO5SimulatorPort}\n",
    "\n",
    "[OneViewManagedBmcs:vars]\n",
    "ansible_python_interpreter=${WorkshopDir}/${HpePythonRedfishVenv}/bin/python3\n",
    "ansible_search_path=${HpePythonRedfishVenv}\n",
    "\n",
    "# Below is a fake session token as we are testing against an iLO 5 simulator.\n",
    "# In real life, you should populate this variable with the token obtained\n",
    "# lab 1 of this workshop.\n",
    "token=\"${OvSsoToken}\"\n",
    "__EOF__\n"
   ]
  },
  {
   "cell_type": "markdown",
   "metadata": {},
   "source": [
    "## Virtual Python environment creation\n",
    "\n",
    "In order to completely isolate this notebook environment from other notebooks or student Python environments, it is safer to create your dedicated Python virtual environment.\n",
    "\n",
    "> NOTE: This `Venv` creation can take up to **2 minutes**. Just wait until the message `Finished creating Venv` is displayed"
   ]
  },
  {
   "cell_type": "code",
   "execution_count": null,
   "metadata": {},
   "outputs": [],
   "source": [
    "# Create Virtual Python environment (Venv) [Version 0.111]\n",
    "[ -d ${HpePythonRedfishVenv} ] && rm -r ${HpePythonRedfishVenv} &>/dev/null \n",
    "python3 -m venv ${HpePythonRedfishVenv}                         &>/dev/null\n",
    "source ${HpePythonRedfishVenv}/bin/activate                     &>/dev/null\n",
    "PS1=\"[PEXP\\[\\]ECT_PROMPT>\"                                      # Avoid Venv long prompt messing up outputs\n",
    "\n",
    "# Populate Python Venv with the HPE python-ilorest-library\n",
    "pip install wheel                                               &>/dev/null\n",
    "pip install python-ilorest-library                              &>/dev/null\n",
    "\n",
    "# Install latest Ansible in the Venv\n",
    "pip install jmespath                                            &>/dev/null\n",
    "pip install ansible                                             &>/dev/null\n",
    "\n",
    "echo -e \"\\n\\n\\tFinished creating Venv\\n\\n\""
   ]
  },
  {
   "cell_type": "markdown",
   "metadata": {},
   "source": [
    "### <a id = \"iLO5SimulatorRestart\">Restart iLO 5 simulator</a>\n",
    "\n",
    "If you need or desire to reset your iLO 5 simulator to restart this workshop from scratch or for other reasons, run the following cell at any time."
   ]
  },
  {
   "cell_type": "code",
   "execution_count": null,
   "metadata": {},
   "outputs": [],
   "source": [
    "# iLO 5 Simulator restart\n",
    "ResetSimulators \n",
    "\n",
    "# Verify we can reach the remote Bmcs on the right HTTPS ports. \n",
    "for bmc in iLO5Simulator ; do\n",
    "    ip=\"${bmc}IP\" ; port=$(echo ${bmc}Port)\n",
    "    nc -vz  $(eval echo \"\\$${ip}\") $(eval echo \"\\$${port}\") &> /dev/null && \n",
    "        echo \"$bmc is reachable\" \\\n",
    "        || echo \"WARNING: Problem reaching $bmc\"\n",
    "done"
   ]
  },
  {
   "cell_type": "markdown",
   "metadata": {},
   "source": [
    "## Get and set Redfish properties using HPE's python-ilorest-library\n",
    "\n",
    "In the previous notebook, to discover the `Chassis` collection and the value of the indicator LEDs, you had to crawl the Redfish tree using Ansible and its built-in `uri` module.\n",
    "\n",
    "When using a custom Ansible module derived from a `python-ilorest-library` example, the Redfish tree crawling is performed inside the Ansible ([(pyhon) module](3/library/get_uid_light.py)), not in the `.yml` playbook. \n",
    "\n",
    "HPE `python-ilorest-library` has been loaded in your Python `Venv` in the second cell of this notebook. It will allow the creation of a Redfish object with a (fake) authentication token. The `python-ilorest-library` also contains all the needed HTTP requests for getting, setting and performing Redfish actions.\n",
    "\n",
    "You will find your custom Ansible modules and the [get_resource_directory.py](3/library/get_resource_directory.py) file in your `library` sub-folder. The [get_resource_directory.py](3/library/get_resource_directory.py)  file contains a `get_resource_directory` function that is used to speed up the crawling of HPE iLO Redfish trees. \n",
    "\n",
    "ILO Redfish implementations offer an HPE specific directory containing information (e.g. location) about all the data types present in the Redfish implementation. You can substantially improve the performance of your scripts using this directory to find resources in the Redfish tree."
   ]
  },
  {
   "cell_type": "markdown",
   "metadata": {},
   "source": [
    "### Indicator LED\n",
    "\n",
    "The next cell calls an [Ansible Playbook](3/SetIndicatorLEDUsingiLOrestLibrary.yml) that toggles the chassis UID/LED of an HPE Synergy compute node, as well as its enclosure."
   ]
  },
  {
   "cell_type": "markdown",
   "metadata": {},
   "source": [
    "A convenient way to study this playbook is to open it in a different view in this pane. Right click on this Notebook tab and select `New View for Notebook` to open a new view:\n",
    "<img src=\"Pictures/3-NewViewForNotebook.png\" align=middle alt=\"New View for Notebook\" height=30px />\n",
    "\n",
    "Then, click on this [file link](3/SetIndicatorLEDUsingiLOrestLibrary.yml).\n",
    "\n",
    "If you need more space, type `Ctrl-B` (or `Command-B` on a Mac) to hide the left pane. You can make it reappear by hitting `Ctrl-B` again."
   ]
  },
  {
   "cell_type": "markdown",
   "metadata": {},
   "source": [
    "You can as well study the [get_uid_light.py](3/library/get_uid_light.py), the [set_uid_light.py](3/library/set_uid_light.py) Ansible modules and the [get_resource_directory](3/library/get_resource_directory.py) Python file."
   ]
  },
  {
   "cell_type": "code",
   "execution_count": null,
   "metadata": {},
   "outputs": [],
   "source": [
    "# Modify IndicatorLED(s) using a custom Ansible Python module against an HPE Synergy Gen10 ilo5 \n",
    "ansible-playbook -i ${InvFile} ${NbId}/SetIndicatorLEDUsingiLOrestLibrary.yml"
   ]
  },
  {
   "cell_type": "markdown",
   "metadata": {},
   "source": [
    "### Test the same playbook against a rack-mount server"
   ]
  },
  {
   "cell_type": "markdown",
   "metadata": {},
   "source": [
    "The following cell switches your environment toward an **HPE DL360 Gen10** simulator and then runs again the Ansible Playbook. You will notice that the same playbook works for both a Synergy compute node and a rack-mount server although it is not enclosed in any frame or enclosure chassis.\n",
    "\n",
    "> **NOTE**: In a real and physical environment, session token authentication against HPE iLO 5 rack mount servers is supported when managed by a OneView appliance. If not managed by OneView, you have to modify the Ansible Python modules (`[get,set]_uid_light.py`) as well as the playbook with `username` and `password` parameters."
   ]
  },
  {
   "cell_type": "code",
   "execution_count": null,
   "metadata": {},
   "outputs": [],
   "source": [
    "# location and ports variables\n",
    "IloDlBasePort=45000\n",
    "let iLO5SimulatorBasePort=$IloDlBasePort\n",
    "let iLO5SimulatorPort=${iLO5SimulatorBasePort}+${stdid}\n",
    "\n",
    "iLO5SimulatorIP=ilo5simulators\n",
    "iLOSimulator=${iLO5SimulatorIP}:${iLO5SimulatorPort}\n",
    "iLO5SimulatorURI=https://${iLOSimulator}\n",
    "\n",
    "# Adapt the Ansible inventory file\n",
    "cat > ${InvFile} << __EOF__\n",
    "[OneViewManagedBmcs]\n",
    "${iLO5SimulatorIP} ansible_port=${iLO5SimulatorPort}\n",
    "\n",
    "[OneViewManagedBmcs:vars]\n",
    "ansible_python_interpreter=${WorkshopDir}/${HpePythonRedfishVenv}/bin/python3\n",
    "ansible_search_path=${HpePythonRedfishVenv}\n",
    "# Below is a fake session token as we are testing against an iLO 5 simulator\n",
    "token=\"${OvSsoToken}\"\n",
    "__EOF__\n",
    "\n",
    "\n",
    "# Modify IndicatorLED(s) using a custom Ansible Python module against an HPE DL360 Gen10 ilo5 \n",
    "ansible-playbook -i ${InvFile} ${NbId}/SetIndicatorLEDUsingiLOrestLibrary.yml"
   ]
  },
  {
   "cell_type": "markdown",
   "metadata": {},
   "source": [
    "## Summary\n",
    "\n",
    "In this workshop, you used an Ansible Python module containing calls to the HPE `python-ilorest-library` to get and set the same Redfish resources as in the previous notebook. The advantage of this method is to move the complexity of crawling the Redfish tree from the playbook into the Python module. This allows you to use the power and flexibility of the Python language in terms of authentication, data manipulation and error handling. You validated as well the same code against two different types of server, proving its portability.\n",
    "\n",
    "Read [this article](https://developer.hpe.com/blog/LOVkjn6AxWfAzmYlY12A/accessing-ilo-redfish-apis-and-hpe-oneview-apis-on-ansible-awx) if you want to use HPE's `python-ilorest-library` in a [Tower](https://www.ansible.com/tower) or [AWX](https://github.com/ansible/awx) environment.\n",
    "\n",
    "You are now ready to go through the [next Notebook](4-GalaxyModulesAndDmtfPlaybooks.ipynb)."
   ]
  }
 ],
 "metadata": {
  "kernelspec": {
   "display_name": "Bash",
   "language": "bash",
   "name": "bash"
  },
  "language_info": {
   "codemirror_mode": "shell",
   "file_extension": ".sh",
   "mimetype": "text/x-sh",
   "name": "bash"
  }
 },
 "nbformat": 4,
 "nbformat_minor": 4
}
