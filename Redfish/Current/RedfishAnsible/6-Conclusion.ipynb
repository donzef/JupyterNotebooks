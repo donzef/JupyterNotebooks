{
 "cells": [
  {
   "cell_type": "markdown",
   "metadata": {},
   "source": [
    "![HPE DEV Logo](Pictures/hpe-dev-logo.png)\n",
    "\n",
    "Version 0.14\n",
    "\n",
    "# Thank you for visiting the Hack Shack\n",
    "\n",
    "Powered by [HPE DEV Team](https://hpedev.io)\n",
    "\n",
    "# Conclusion\n",
    "\n",
    "In this workshop, you obtained a practical experience with different methods to use Ansible for Redfish management tasks in an HPE Synergy and HPE OneView environment. The first method was with the Ansible built-in `uri` method and the second with the HPE iLOrest library. Then, you had an overview of the Ansible Galaxy collection and its three Redfish modules. The last method used the Ansible `Shell` module calling the [HPE iLOrest tool](http://hpe.com/info/resttool).\n",
    "\n",
    "At the end of notebooks 2,3 and 4, you validated the portability of the code against two different types of servers (Synergy and rack-mount).\n",
    "\n",
    "**Congratulations!**\n"
   ]
  },
  {
   "cell_type": "markdown",
   "metadata": {},
   "source": [
    "# Final step\n",
    "\n",
    "### Please take a moment to fill out our [survey]( {{SURVEYURL}} ) so we can ensure future workshops meet your needs.\n",
    "\n",
    "### And make sure you use `File->Log Out` to terminate your workshop session.\n",
    "\n",
    "# Thank you\n",
    "![ThankYou](Pictures/grommet.JPG)"
   ]
  }
 ],
 "metadata": {
  "kernelspec": {
   "display_name": "Python 3",
   "language": "python",
   "name": "python3"
  },
  "language_info": {
   "codemirror_mode": {
    "name": "ipython",
    "version": 3
   },
   "file_extension": ".py",
   "mimetype": "text/x-python",
   "name": "python",
   "nbconvert_exporter": "python",
   "pygments_lexer": "ipython3",
   "version": "3.8.10"
  }
 },
 "nbformat": 4,
 "nbformat_minor": 4
}
