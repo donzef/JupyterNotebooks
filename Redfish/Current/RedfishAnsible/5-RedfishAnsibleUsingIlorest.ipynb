{
 "cells": [
  {
   "cell_type": "markdown",
   "metadata": {},
   "source": [
    "# HPE iLOrest Ansible playbooks"
   ]
  },
  {
   "cell_type": "markdown",
   "metadata": {},
   "source": [
    "Version 0.15"
   ]
  },
  {
   "cell_type": "markdown",
   "metadata": {},
   "source": [
    "## Introduction\n",
    "\n",
    "This notebook invokes a playbook that uses the [Ansible Shell](https://docs.ansible.com/ansible/latest/collections/ansible/builtin/shell_module.html) built-in module to launch the HPE [iLOrest](http://hpe.com/info/resttool) Command Line Interface (CLI) to get and set the chassis [Unit Identification light](https://hewlettpackard.github.io/ilo-rest-api-docs/ilo5/#indicatorled) (UID) status of two HPE iLO 5 based servers: an HPE Synergy compute and a rack server. The content of the [Ansible Playbook](5/SetIndicatorLEDUsingIlorest.yml) used in this notebook is derived from the examples present in the [ansible-ilorest-role](https://github.com/HewlettPackard/ansible-ilorest-role/tree/master/iloresttool_playbooks) HPE GitHub.\n",
    "\n",
    "### Cache considerations\n",
    "\n",
    "In order to increase performance, the iLOrest tool uses a cache directory to store various data specific to managed servers. This cache directory is created during the authentication process in a default location unless a specific location is specified on the command line. If you don't specify any cache location, the next login process will overwrite the default cache location and you will not be able to use anymore the previous logged in Redfish service.\n",
    "\n",
    "In an Ansible context with potentially several managed nodes it is mandatory to specifiy a dedicated cache location for each managed node in order to be keep the `(node, cache)` tuples coherent. You will use a combination of the IP address of the global iLO5 simulator host and the specific TCP port number of your simulators (`SimulIP:SimuoPort`). \n",
    "\n",
    "A generic Ansible `cache_dir` variable is created in the `host` inventory file created on the fly in the Environment Preparation cell of this notebook. This variable is used in the [Ansible Playbook](5/SetIndicatorLEDUsingIlorest.yml). \n",
    "\n"
   ]
  },
  {
   "cell_type": "markdown",
   "metadata": {},
   "source": [
    "### Authentication considerations\n",
    "\n",
    "As iLOrest does not support the OneView Single Sign On (SSO) we are not able to use the token obtained in the first notebook of this workshop.\n",
    "\n",
    "Moreover, the `ilorest` login process is commented out, in the [Ansible Playbook](5/SetIndicatorLEDUsingIlorest.yml) because the iLO 5 simulators does not support any authentication process. Skipping the iLOrest authentication process also means that the cache directory is not populated. To overcome this, your environment holds compressed cache files (one per simulator) that are uncompressed in the right location.\n",
    "\n",
    "The `ilorest logout` process is also commented out in this [Ansible Playbook](5/SetIndicatorLEDUsingIlorest.yml), in case you want to run multiple times the playbook. The reason is because an `ilorest logout` command triggers a complete delation of the cache directory, which would prevent you to re-run the playbook again without playing the Environment Preparation cell."
   ]
  },
  {
   "cell_type": "markdown",
   "metadata": {},
   "source": [
    "## <a id = \"EnvironmentPreparation\">Environment preparation</a>\n",
    "\n",
    "The following cell sets environment variables, uncompresses iLOrest cache files, creates an Ansible inventory file and checks the connectivity with the iLO 5 simulators."
   ]
  },
  {
   "cell_type": "code",
   "execution_count": null,
   "metadata": {},
   "outputs": [],
   "source": [
    "########## Environment preparation (Version: 0.134) ############\n",
    "\n",
    "# Set Student ID number and more\n",
    "export stdid=00\n",
    "Id=$(id --user --name)\n",
    "NbId=5\n",
    "InvFile=${NbId}/hosts\n",
    "\n",
    "\n",
    "# locations, IP and port variables\n",
    "iLO5DlBasePort=45000\n",
    "iLO5SyBasePort=46000\n",
    "\n",
    "iLO5SySimulatorIP=ilo5simulators\n",
    "iLO5DlSimulatorIP=ilo5simulators\n",
    "\n",
    "iLO5DlSimulatorPort=$((iLO5DlBasePort+stdid))\n",
    "iLO5SySimulatorPort=$((iLO5SyBasePort+stdid)) \n",
    "\n",
    "iLO5DlSimulator=${iLO5DlSimulatorIP}:${iLO5DlSimulatorPort}\n",
    "iLO5SySimulator=${iLO5SySimulatorIP}:${iLO5SySimulatorPort}\n",
    "\n",
    "iLO5DlSimulatorURI=https://${iLO5DlSimulator}\n",
    "iLO5SySimulatorURI=https://${iLO5SySimulator}\n",
    "\n",
    "iLO5SyMockup=\"iLO5Sy480g10.tgz\"\n",
    "iLO5DlMockup=\"iLO5Dl360g10.tgz\"\n",
    "\n",
    "# Miscellaneous\n",
    "alias ResetSimulators=\"../create-globalbmc.shc.x &>/dev/null; sleep 1\"\n",
    "WorkshopDir=$PWD\n",
    "w=$(basename $PWD)\n",
    "\n",
    "# iLOrest cache preparation\n",
    "CacheLocation=\"${WorkshopDir}/${NbId}\" \n",
    "echo\n",
    "for s in iLO5Dl iLO5Sy ; do\n",
    "   BasePort=\"${s}BasePort\" ; SimulIP=\"${s}SimulatorIP\"; SimulPort=\"${s}SimulatorPort\"\n",
    "   exp=\"s?$(eval echo \\$$BasePort)?$(eval echo \\$$SimulPort)?\"\n",
    "   CacheDir=\"${CacheLocation}/$(eval echo \\$$SimulIP):$(eval echo \\$$SimulPort)\"\n",
    "   Mockup=$(eval echo \"\\$${s}Mockup\")\n",
    "   [ -d ${CacheDir} ] && rm ${CacheDir}                           &>/dev/null\n",
    "   mkdir -p ${CacheDir}/cache/                                    &>/dev/null\n",
    "   tar -C ${CacheDir}/cache -x -f ${NbId}/${Mockup}   \n",
    "   sed -i -e \"$exp\" ${CacheDir}/cache/*\n",
    "   echo -e \"\\tPopulated $s cache directory under ${NbId}/$(basename ${CacheDir})\"\n",
    "done\n",
    "\n",
    "# Create the Ansible inventory file with a rack-mount and an HPE Synergy compute node\n",
    "cat > ${InvFile} << __EOF__\n",
    "[OneViewManagedBmcs]\n",
    "iLO5DlSimulator ansible_host=${iLO5DlSimulatorIP} ansible_port=${iLO5DlSimulatorPort}\n",
    "iLO5SySimulator ansible_host=${iLO5SySimulatorIP} ansible_port=${iLO5SySimulatorPort}\n",
    "\n",
    "[OneViewManagedBmcs:vars]\n",
    "ansible_python_interpreter=/usr/bin/python3\n",
    "cache_dir=\"${WorkshopDir}/${NbId}/{{ ansible_host }}:{{ ansible_port }}\"\n",
    "__EOF__\n",
    "\n",
    "echo -e \"\\n\\tCreated Ansible inventory file at ${NbId}/host\"\n",
    "\n",
    "\n",
    "# Verify we can reach the remote Bmcs on the right HTTPS ports. \n",
    "echo\n",
    "for bmc in iLO5SySimulator iLO5DlSimulator ; do\n",
    "    ip=\"${bmc}IP\" ; port=$(echo ${bmc}Port)\n",
    "    nc -vz  $(eval echo \"\\$${ip}\") $(eval echo \"\\$${port}\") &>/dev/null && \n",
    "        echo -e \"\\tGood News: $bmc is reachable\" \\\n",
    "        || echo \"WARNING: Problem reaching $bmc\"\n",
    "done\n"
   ]
  },
  {
   "cell_type": "markdown",
   "metadata": {},
   "source": [
    "### <a id = \"iLO5SimulatorRestart\">Restart iLO 5 simulators</a>\n",
    "\n",
    "If you need or desire to reset your iLO 5 simulators to restart this workshop from scratch or for other reasons, run the following cell at any time."
   ]
  },
  {
   "cell_type": "code",
   "execution_count": null,
   "metadata": {},
   "outputs": [],
   "source": [
    "# iLO 5 Simulator restart\n",
    "ResetSimulators \n",
    "\n",
    "# Verify we can reach the remote Bmcs on the right HTTPS ports. \n",
    "for bmc in iLO5SySimulator iLO5DlSimulator ; do\n",
    "    ip=\"${bmc}IP\" ; port=$(echo ${bmc}Port)\n",
    "    nc -vz  $(eval echo \"\\$${ip}\") $(eval echo \"\\$${port}\") &> /dev/null && \n",
    "        echo \"$bmc is reachable\" \\\n",
    "        || echo \"WARNING: Problem reaching $bmc\"\n",
    "done"
   ]
  },
  {
   "cell_type": "markdown",
   "metadata": {},
   "source": [
    "## Get and set Redfish properties using HPE iLOrest\n",
    "\n",
    "In previous notebooks, you had to crawl the Redfish tree to get and set Redfish properties, either in the Ansible Playbook or in an Ansible Python module. In this notebooks, the Redfish tree crawl proces is performed by iLOrest.\n",
    "\n",
    "IlOrest is invoked by the Ansible `Shell` built-in module. Each invocation contains the data type associated to the property you want to get or set (`--select Chassis.`). As a programmer, you can use either the [DMTF standard schemas documents](http://redfish.dmtf.org/schemas/v1/) or the [HPE API Reference document](https://hewlettpackard.github.io/ilo-rest-api-docs/ilo5/) to identify the correct data type.\n",
    "\n",
    "The data type is used by iLOrest to get or set the requested properties without assumming their location."
   ]
  },
  {
   "cell_type": "markdown",
   "metadata": {},
   "source": [
    "### Indicator LED\n",
    "\n",
    "The next cell calls an [Ansible Playbook](3/SetIndicatorLEDUsingiLOrestLibrary.yml) that toggles the chassis UIDs of an HPE Synergy compute node and a rack-mount server (chassis and enclosure if any)."
   ]
  },
  {
   "cell_type": "markdown",
   "metadata": {},
   "source": [
    "A convenient way to study this playbook is to open it in a different view in this pane. Right click on this Notebook tab and select `New View for Notebook` to open a new view:\n",
    "<img src=\"Pictures/3-NewViewForNotebook.png\" align=middle alt=\"New View for Notebook\" height=30px />\n",
    "\n",
    "Then, click on this [file link](5/SetIndicatorLEDUsingIlorest.yml).\n",
    "\n",
    "If you need more space, type `Ctrl-B` (or `Command-B` on a Mac) to hide the left pane. You can make it reappear by hitting `Ctrl-B` again."
   ]
  },
  {
   "cell_type": "code",
   "execution_count": null,
   "metadata": {},
   "outputs": [],
   "source": [
    "# Modify IndicatorLED(s) using the `shell` Ansible module against \n",
    "# an HPE Synergy Gen10 iLO5 and a rack-mount iLO 5 based server\n",
    "ansible-playbook -i ${InvFile} ${NbId}/SetIndicatorLEDUsingIlorest.yml"
   ]
  },
  {
   "cell_type": "markdown",
   "metadata": {},
   "source": [
    "## Summary\n",
    "\n",
    "In this workshop, you used the built-in Ansible `Shell` module calling the HPE ilOrest tool to get and set the same Redfish resources as in the previous notebooks. The advantage of this method is to move the complexity of crawling the Redfish tree from the playbook or an home made Python module, into iLOrest.\n",
    "\n",
    "In addition, you used the powerful iLOrest cache feature to perform actions on multiple target compute nodes. \n",
    "\n",
    "This allows you to use the power and flexibility of the Python language in terms of authentication, data manipulation and error handling. You validated as well the same code against two different types of server, proving its portability.\n",
    "\n",
    "Read [this article](https://developer.hpe.com/blog/massive-parallel-management-with-ilorest-on-linux) if you need more details about the iLOrest cache directory.\n",
    "\n",
    "If you are finished, you can to the [conclusion](6-Conclusion.ipynb)."
   ]
  }
 ],
 "metadata": {
  "kernelspec": {
   "display_name": "Bash",
   "language": "bash",
   "name": "bash"
  },
  "language_info": {
   "codemirror_mode": "shell",
   "file_extension": ".sh",
   "mimetype": "text/x-sh",
   "name": "bash"
  }
 },
 "nbformat": 4,
 "nbformat_minor": 4
}
