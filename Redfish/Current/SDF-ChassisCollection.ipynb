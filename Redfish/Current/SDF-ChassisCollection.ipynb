{
 "cells": [
  {
   "cell_type": "markdown",
   "metadata": {},
   "source": [
    "![HPE DEV Logo](Pictures/hpe-dev-logo.png \"HPE DEV Hack Shack\")\n",
    "\n",
    "# DevTalks\n",
    "\n",
    "Powered by [HPE DEV Team](hpedev.io)\n",
    "\n",
    "### Speaker : François Donzé\n",
    "\n",
    "### Redfish API 101 workshop\n",
    "\n",
    "**Abstract**: For this Redfish interactive demo-lab, you'll be able to use your own laptop or the provided station and perform your own tests. After a quick positioning of the DMTF Redfish API, we'll explore a Redfish tree to understand its basic structure. In addition we'll learn how to modify resources and perform actions. Best practises will be presented as well. Beginners and experts are welcome.\n",
    "\n",
    "Version 0.1\n",
    "\n",
    "<img src=\"https://redfish.dmtf.org/sites/default/files/DMTF_Redfish_logo_R.jpg\" alt=\"Redfish Logo\" style=\"width: 125px;\"/> "
   ]
  },
  {
   "cell_type": "markdown",
   "metadata": {},
   "source": [
    "\n",
    "## Introduction\n",
    "\n",
    "This Jupyter notebook defines first environment variables that will be used through the rest of the notebook. Then, it lists a ProLiant and a Superdome Flex Chassis collection.\n",
    "\n",
    "\n",
    "## Create environment variables\n",
    "\n",
    "The following `bash` code defines environment variables (i.e. IP address, username, password....) depending on your student ID number stored in variable `$Stud`. It creates as well a `.json` file containing the credentials of your OpenBMC appliance required to open a Redfish session. \n",
    "\n",
    "Select the cell below and then click on the\n",
    "<img src=\"Pictures/RunButton.png\" style=\"display:inline;width=55px;height=25px\"/>\n",
    "icon to create the environment variables and the json file."
   ]
  },
  {
   "cell_type": "code",
   "execution_count": null,
   "metadata": {},
   "outputs": [],
   "source": [
    "# Retrieve Student number using current directory\n",
    "Stud=\"$(echo ${PWD} | tr -d '\\/[:alpha:]-_')\"\n",
    "echo \"You are Student $Stud\"\n",
    "\n",
    "# Create BMC location/ports variables\n",
    "iLO5IP=ilo-hst360g10\n",
    "iLO5URI=\"https://${iLO5IP}\"\n",
    "SdfBmcIP=ah-654-rmc\n",
    "SdfBmcURI=\"https://${SdfBmcIP}\"\n",
    "\n",
    "# BMC Administrator credentials\n",
    "BmcUser=\"student\"\n",
    "BmcPassword='P@ssw0rd!'\n",
    "\n",
    "# Minimum required Redfish headers\n",
    "HeaderODataVersion=\"OData-Version: 4.0\"\n",
    "HeaderContentType=\"Content-Type: application/json\"\n",
    "\n",
    "ping -c 3 ${iLO5IP}   > /dev/null || echo \"Problem reaching ${iLO5IP}\"\n",
    "ping -c 3 ${SdfBmcIP} > /dev/null || echo \"Problem reaching ${SdfBmcIP}\""
   ]
  },
  {
   "cell_type": "markdown",
   "metadata": {},
   "source": [
    "## Chassis collection examples\n",
    "\n",
    "The following two cells retrieve the Chassis collection from a **ProLiant** server first and then from a 16 Socket **Superdome Flex** complex."
   ]
  },
  {
   "cell_type": "markdown",
   "metadata": {},
   "source": [
    "### ProLiant Chassis collection"
   ]
  },
  {
   "cell_type": "code",
   "execution_count": null,
   "metadata": {},
   "outputs": [],
   "source": [
    "echo \"ProLiant Chassis collection:\"\n",
    "curl --insecure --silent --noproxy \"localhost, 127.0.0.1\"  \\\n",
    "  --user ${BmcUser}:${BmcPassword}     \\\n",
    "  --header  \"$HeaderContentType\" --header \"$HeaderODataVersion\" \\\n",
    "  --request GET ${iLO5URI}/redfish/v1/Chassis | jq"
   ]
  },
  {
   "cell_type": "markdown",
   "metadata": {},
   "source": [
    "### Superdome Flex Chassis collection"
   ]
  },
  {
   "cell_type": "code",
   "execution_count": null,
   "metadata": {},
   "outputs": [],
   "source": [
    "echo \"Superdome Flex Chassis collection:\"\n",
    "curl --insecure --silent --noproxy \"localhost, 127.0.0.1\"  \\\n",
    "  --user ${BmcUser}:${BmcPassword}     \\\n",
    "  --header  \"$HeaderContentType\" --header \"$HeaderODataVersion\" \\\n",
    "  --request GET ${SdfBmcURI}/redfish/v1/Chassis | jq"
   ]
  },
  {
   "cell_type": "code",
   "execution_count": null,
   "metadata": {},
   "outputs": [],
   "source": []
  }
 ],
 "metadata": {
  "kernelspec": {
   "display_name": "Bash",
   "language": "bash",
   "name": "bash"
  },
  "language_info": {
   "codemirror_mode": "shell",
   "file_extension": ".sh",
   "mimetype": "text/x-sh",
   "name": "bash"
  }
 },
 "nbformat": 4,
 "nbformat_minor": 4
}
