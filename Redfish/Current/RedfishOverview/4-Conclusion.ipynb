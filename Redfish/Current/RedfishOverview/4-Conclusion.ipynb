{
 "cells": [
  {
   "cell_type": "markdown",
   "metadata": {},
   "source": [
    "![HPEDEVlogo](Pictures/hpe-dev-logo.png)\n",
    "\n",
    "Version 0.34\n",
    "\n",
    "# Thank you for attending this workshop\n",
    "\n",
    "Powered by [HPE DEV Team](https://hpedev.io)\n",
    "\n",
    "\n",
    "# Conclusion\n",
    "\n",
    "\n",
    "In this Redfish lab, you learned its basic architecture using simple `cURL` and/or `PowerShell` commands and simple Python instructions using DMTF's Redfish module. In addition concrete examples have been presented against different implementations so you can better understand the fundamental best practise saying that you should never assume a resource location.\n",
    "\n",
    "**Congratulations!**"
   ]
  },
  {
   "cell_type": "markdown",
   "metadata": {},
   "source": [
    "# Final step\n",
    "\n",
    "### Please take a moment to fill out our [survey]({{SURVEYURL}}) so we can ensure future workshops meet your needs.\n",
    "\n",
    "### And make sure you use `File->Log Out` to terminate your workshop session."
   ]
  },
  {
   "cell_type": "markdown",
   "metadata": {},
   "source": [
    "# Thank you\n",
    "![ThankYou](Pictures/grommet.jpg)"
   ]
  }
 ],
 "metadata": {
  "kernelspec": {
   "display_name": "Bash",
   "language": "bash",
   "name": "bash"
  },
  "language_info": {
   "codemirror_mode": "shell",
   "file_extension": ".sh",
   "mimetype": "text/x-sh",
   "name": "bash"
  }
 },
 "nbformat": 4,
 "nbformat_minor": 4
}
