{
 "cells": [
  {
   "cell_type": "markdown",
   "metadata": {},
   "source": [
    "![HPE DEV Logo](Pictures/hpe-dev-logo.png)\n",
    "\n",
    "Version 0.26\n",
    "\n",
    "# Thank you for visiting the Hack Shack\n",
    "\n",
    "Powered by [HPE DEV Team](https://hpedev.io)\n",
    "\n",
    "# Conclusion\n",
    "\n",
    "In this workshop, you obtained a practical experience with the HPE [`ilorest`](http://hpe.com/info/resttool) Redfish tool. In the first part, you learned how to use this tool interactively, in script and debug mode, througout multiple basic examples. In the second part, you had access to a set of examples that were formulated based on recurrent questions from HPE cutomers. You should now have a solid base of knowledge to use to practice by yourself and become extremely efficient in the management tasks of your servers.\n",
    "\n",
    "**Congratulations!**\n"
   ]
  },
  {
   "cell_type": "markdown",
   "metadata": {},
   "source": [
    "# Final step\n",
    "\n",
    "### Please take a moment to fill out our [survey]( {{SURVEYURL}} ) so we can ensure future workshops meet your needs.\n",
    "\n",
    "### And make sure you use `File->Log Out` to terminate your workshop session.\n",
    "\n",
    "# Thank you\n",
    "![ThankYou](Pictures/grommet.JPG)"
   ]
  }
 ],
 "metadata": {
  "kernelspec": {
   "display_name": "Python 3",
   "language": "python",
   "name": "python3"
  },
  "language_info": {
   "codemirror_mode": {
    "name": "ipython",
    "version": 3
   },
   "file_extension": ".py",
   "mimetype": "text/x-python",
   "name": "python",
   "nbconvert_exporter": "python",
   "pygments_lexer": "ipython3",
   "version": "3.8.10"
  }
 },
 "nbformat": 4,
 "nbformat_minor": 4
}
