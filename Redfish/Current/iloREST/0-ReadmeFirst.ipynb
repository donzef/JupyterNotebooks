{
 "cells": [
  {
   "cell_type": "markdown",
   "metadata": {},
   "source": [
    "![HPE DEV Logo](Pictures/hpe-dev-logo.png)\n",
    "\n",
    "Powered by [HPE DEV Team](https://hpedev.io)\n",
    "\n",
    "Version 0.53\n",
    "\n",
    "# Author: [François Donzé](francois.donze@hpe.com)\n",
    "\n",
    "Watch Redfish videos on [YouTube](https://www.youtube.com/channel/UCIZhrIYcNh3wHLiY4ola5ew) and [blogs](https://developer.hpe.com/search?term=redfish)\n",
    "\n",
    "\n",
    "# Introduction to iLOrest, the HPE RESTful Interface tool\n",
    "\n",
    "<img src=\"https://redfish.dmtf.org/sites/default/files/DMTF_Redfish_logo_R.jpg\" alt=\"Redfish Logo\" style=\"width: 125px;\"/>\n",
    "\n",
    "[<img src=\"Pictures/HpeComInfoRestTool.png\" alt=\"hpe.com/info/resttool\" />](http://hpe.com/info/resttool)\n",
    "\n",
    "## Handouts\n",
    "You can freely copy the Jupyter Notebooks used in this workshop, including their output, in order to practice back at your office at your own pace, leveraging a local installation of Jupyter Notebook on your laptop. To download the notebooks, right click on them in the left sidebar of this Jupyter window and select `Download`.\n",
    "\n",
    "- You can download the Jupyter Notebook application from [here](https://jupyter.org/install) \n",
    "- A Beginners Guide is also available [here](https://jupyter-notebook-beginner-guide.readthedocs.io/en/latest/what_is_jupyter.html)\n"
   ]
  },
  {
   "cell_type": "markdown",
   "metadata": {},
   "source": [
    "## Workshop goals\n",
    "\n",
    "The goal of this workshop is to present an overview of the HPE [iLOrest](http://hpe.com/info/resttool) RESTful interface tool. After a brief introduction, the following iLOrest operating modes will be presented:\n",
    "\n",
    "- In-band and out-of-band management\n",
    "- Interactive, scripted and file based\n",
    "\n",
    "You will able to perform and test numerous examples using the infrastructure depicted below."
   ]
  },
  {
   "cell_type": "markdown",
   "metadata": {},
   "source": [
    "## Disclaimer\n",
    "The material presented in this workshop cannot be considered as a replacement of the [official documentation](https://hewlettpackard.github.io/python-redfish-utility/#installset-command). It is a complement to it aimed at enhancing the HPE Redfish ecosystem."
   ]
  },
  {
   "cell_type": "markdown",
   "metadata": {},
   "source": [
    "## Workshop infrastructure\n",
    "\n",
    "Each student has a dedicated [Jupyter](https://jupyter.org/) environment hosted by a Linux host that provides a set of [Jupyter Notebooks](https://jupyter-notebook-beginner-guide.readthedocs.io/en/latest/what_is_jupyter.html).\n",
    "\n",
    "The Jupyter Notebooks can access a dedicated [OpenBMC](https://www.openbmc.org/)  simulator and a [DMTF Redfish server]( https://github.com/DMTF/Redfish-Mockup-Server) populated with iLO 5 data. Read this [article](https://developer.hpe.com/blog/build-your-own-ilo-redfish-simulator/) to build your own iLO 5 simulator. \n",
    "\n",
    "The OpenBMC and the iLO 5 simulators support `GET` and `SET` methods. You can also access a shared [HPE iLO 5](http://hpe.com/info/ilo) in `GET` mode only.\n",
    "\n",
    "![ProgrammingRedfsihInfrastructureDescription](Pictures/ProgrammingRedfishInfraDescription.png)\n"
   ]
  },
  {
   "cell_type": "markdown",
   "metadata": {},
   "source": [
    "## Workshop description\n",
    "\n",
    "The material available in this workshop consists of the following Jupyter Notebooks. Double click on them sequentially in the left sidebar before reading or exectuting their content:\n",
    "\n",
    "- Introduction (this notebook)\n",
    "- [Lab 1](1-iloRestBasics.ipynb): iLOrest overview\n",
    "- [Lab 2](2-iloRestExamples.ipynb): library of iloREST examples\n",
    "- [Conclusion](3-Conclusion.ipynb)"
   ]
  }
 ],
 "metadata": {
  "kernelspec": {
   "display_name": "Python 3",
   "language": "python",
   "name": "python3"
  },
  "language_info": {
   "codemirror_mode": {
    "name": "ipython",
    "version": 3
   },
   "file_extension": ".py",
   "mimetype": "text/x-python",
   "name": "python",
   "nbconvert_exporter": "python",
   "pygments_lexer": "ipython3",
   "version": "3.8.10"
  }
 },
 "nbformat": 4,
 "nbformat_minor": 4
}
