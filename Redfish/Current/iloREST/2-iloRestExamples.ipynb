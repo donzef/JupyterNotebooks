{
 "cells": [
  {
   "cell_type": "markdown",
   "metadata": {},
   "source": [
    "# iLOrest examples\n"
   ]
  },
  {
   "cell_type": "markdown",
   "metadata": {},
   "source": [
    "Version 0.39"
   ]
  },
  {
   "cell_type": "markdown",
   "metadata": {},
   "source": [
    "## Introduction\n",
    "\n",
    "This Jupyter Notebook contains iLOrest examples as well as tips and tricks answering recurrent questions from HPE customers."
   ]
  },
  {
   "cell_type": "markdown",
   "metadata": {},
   "source": [
    "## Environment preparation\n",
    "\n",
    "The following cell sets environment variables and checks the connectivity toward the various BMCs used in this notebook."
   ]
  },
  {
   "cell_type": "code",
   "execution_count": null,
   "metadata": {},
   "outputs": [],
   "source": [
    "########## Environment preparation ((Version: 0.2)) ############\n",
    "\n",
    "\n",
    "# Set Student ID number\n",
    "Stud=00\n",
    "\n",
    "# location and ports variables\n",
    "let OpenBmcPort=44000+${Stud}\n",
    "let iLO5SimulatorPort=45000+${Stud}\n",
    "let ilo5Port=443\n",
    "\n",
    "CacheDir=\"${PWD}/iLOrestCache\"\n",
    "LogDir=\"${PWD}\"\n",
    "LogFile=\"${LogDir}/iLOrest.log\"\n",
    "\n",
    "#iLO5SimulatorIP=bmcsimulators\n",
    "iLO5SimulatorIP=ilo5simulators\n",
    "iLOSimulator=${iLO5SimulatorIP}:${iLO5SimulatorPort}\n",
    "iLO5SimulatorURI=https://${iLOSimulator}\n",
    "\n",
    "OpenBmcIP=openbmcsimulators\n",
    "OpenBmc=\"${OpenBmcIP}:${OpenBmcPort}\"\n",
    "OpenBmcURI=\"https://${OpenBmc}\"\n",
    "\n",
    "ilo5IP=\"ilo5\"\n",
    "ilo5=\"${ilo5IP}:${ilo5Port}\"\n",
    "ilo5URI=\"https://${ilo5}\"\n",
    "\n",
    "# Credentials\n",
    "User=\"student\"\n",
    "Password='P@ssw0rd!'\n",
    "\n",
    "# Miscellaneous\n",
    "alias ilorest='ilorest --nologo --cache-dir ${CacheDir} --logdir ${LogDir}'\n",
    "ilorest logout &>/dev/null # Clear cache\n",
    "\n",
    "\n",
    "# Verify we can reach the remote Bmcs on the right HTTPS ports. \n",
    "for bmc in ilo5 OpenBmc iLO5Simulator ; do\n",
    "    ip=\"${bmc}IP\" ; port=$(echo ${bmc}Port)\n",
    "    nc -vz  $(eval echo \"\\$${ip}\") $(eval echo \"\\$${port}\") &> /dev/null && \n",
    "        echo \"$bmc is reachable\" \\\n",
    "        || echo \"WARNING: Problem reaching $bmc\"\n",
    "done"
   ]
  },
  {
   "cell_type": "markdown",
   "metadata": {},
   "source": [
    "### iLO 5 login and cache redirection\n",
    "\n",
    "This [infrastructure](Pictures/ProgrammingRedfishInfraDescription.png) contains only one physical iLO 5 and prevents multiple students to perform SET actions on this unique BMC. Therefore, students have to use a DMTF BMC simulator populated with an iLO 5 mockup.\n",
    "\n",
    "However, because `iLOrest` populates a cache directory during the login process you need first to authenticate with the iLO 5 and then modify the cache files to have them pointing to the DMTF simulator. This is the role of the next cell."
   ]
  },
  {
   "cell_type": "code",
   "execution_count": null,
   "metadata": {},
   "outputs": [],
   "source": [
    "ilorest login $ilo5 -u $User -p $Password\n",
    "\n",
    "# Copy cache in a safe location before logging out to\n",
    "# minimize opened sessions. iLO 5 is limited to 15 concurrent\n",
    "# sessions. \n",
    "mv ${CacheDir}/cache{,-bck}\n",
    "ilorest logout\n",
    "\n",
    "# Move back the cache\n",
    "mv ${CacheDir}/cache{-bck,}\n",
    "\n",
    "# Redirect cache toward the iLO 5 Simulator\n",
    "sed -i \"s.${ilo5URI}.${iLO5SimulatorURI}.\" ${CacheDir}/cache/*"
   ]
  },
  {
   "cell_type": "markdown",
   "metadata": {},
   "source": [
    "### <a id = \"iLO5SimulatorRestart\">Restart iLO 5 simulator</a>\n",
    "\n",
    "If you need or desire to restart you iLO 5 simulator to start this workshop from scratch or for other reasons, run the following cell at any time."
   ]
  },
  {
   "cell_type": "code",
   "execution_count": null,
   "metadata": {},
   "outputs": [],
   "source": [
    "# iLO 5 Simulator restart\n",
    "ssh -t ilo5simulators\n",
    "\n",
    "# Verify we can reach the remote Bmcs on the right HTTPS ports. \n",
    "for bmc in ilo5 OpenBmc iLO5Simulator ; do\n",
    "    ip=\"${bmc}IP\" ; port=$(echo ${bmc}Port)\n",
    "    nc -vz  $(eval echo \"\\$${ip}\") $(eval echo \"\\$${port}\") &> /dev/null && \n",
    "        echo \"$bmc is reachable\" \\\n",
    "        || echo \"WARNING: Problem reaching $bmc\"\n",
    "done"
   ]
  },
  {
   "cell_type": "markdown",
   "metadata": {},
   "source": [
    "## <a id = \"BackToList\">List of examples</a>\n",
    "\n",
    "Note that the list of examples present in this Jupyter Notebook is changing overtime. The classification is not following any strict model; it is a mix of Root service and data type locations.\n",
    "\n",
    "* AccountService\n",
    "   - [iLO users: Enforce password complexity and minimum password length](#EnforceiLOUsersPasswordComplexity)\n",
    "\n",
    "* Chassis\n",
    "   - [Chassis Serial Number](#ChassisSerialNumber)\n",
    "   - [Power State](#PowerState)\n",
    "   - [Indicator LED](#IndicatorLED)\n",
    "   - [Asset Tag](#AssetTag)\n",
    "\n",
    "* Thermal\n",
    "   - [Server thermal information](#ThermalInfo)\n",
    "   - [Thermal configuration](#ThermalConfiguration)\n",
    "\n",
    "* Managers (iLO)\n",
    "    - [Enable/Disable SNMPv1 in iLO](#SNMPv1Enabled)\n",
    " \n",
    "* Resource Directory\n",
    "    - TBD\n",
    "\n",
    "* CompusterSystem\n",
    "     - [PostState and DiscoveryComplete](#PostState_And_DiscoveryComplete)\n",
    "     - [Bios/RBSU Login password](#ManageBiosRbsuPassword)\n",
    "     \n",
    "* Security\n",
    "     - [Security Dashboard](#SecurityDashboard) \n",
    "     \n",
    "* Bios\n",
    "     - [Server Serial Number](#BiosSerialNumber)"
   ]
  },
  {
   "cell_type": "markdown",
   "metadata": {},
   "source": [
    "## AccountService\n",
    "\n",
    "This root service models the iLO User Accounts."
   ]
  },
  {
   "cell_type": "markdown",
   "metadata": {},
   "source": [
    "<a id = \"EnforceiLOUsersPasswordComplexity\">iLO users: Enforce password complexity and minimum password length</a>\\\n",
    "API Reference document keyword: `EnforcePasswordComplexity` \\\n",
    "iLO GUI location: `Security - Access Settings`"
   ]
  },
  {
   "cell_type": "code",
   "execution_count": null,
   "metadata": {},
   "outputs": [],
   "source": [
    "# Select DMTF data type \n",
    "ilorest select AccountService\n",
    "\n",
    "# List properties of the HPE Oem extension in json format \n",
    "ilorest list Oem/Hpe --json\n",
    "\n",
    "# Modify two AccountService parameters\n",
    "ilorest set Oem/Hpe/EnforcePasswordComplexity=True\n",
    "ilorest set Oem/Hpe/MinPasswordLength=5\n",
    "\n",
    "# Retrieve the list of modified paramters\n",
    "ilorest status\n",
    "\n",
    "# Uncommnent the following comand to commit changes in the iLO 5 simulator.\n",
    "# Note that you will not get the same answer as if done on a real iLO 5.\n",
    "#ilorest commit\n",
    "\n",
    "# Undo changes (clear cache)\n",
    "ilorest select AccountService --refresh"
   ]
  },
  {
   "cell_type": "markdown",
   "metadata": {},
   "source": [
    "<-- [Back to the list of examples](#BackToList) ; [Restart iLO 5 Simulator](#iLO5SimulatorRestart) -->"
   ]
  },
  {
   "cell_type": "markdown",
   "metadata": {},
   "source": [
    "## Chassis\n",
    "\n",
    "This section contains parameters related to the `Chassis` [data type](https://hewlettpackard.github.io/ilo-rest-api-docs/ilo5/#chassis-v1_6_0-chassis). A Chassis represents a physical or virtual container of compute resources with attrbutes such as FRU information, power supplies, temperature, etc.\n",
    "\n",
    "Complex chassis subsystems may have their own data type (i.e. [Thermal](#ThermalInfo))\n",
    "\n",
    "Chassis examples:\n",
    "  - Rack\n",
    "  - Blade enclosure\n",
    "  - HPE Synergy frame \n",
    "  - Compute node chassis"
   ]
  },
  {
   "cell_type": "markdown",
   "metadata": {},
   "source": [
    "### <a id = \"ChassisSerialNumber\">Chassis Serial Number</a>\n",
    "\n",
    "The chassis serial number of an HPE compute node mentionned on an external label/tag with code bar/QRcode is identical to its embedded server serial number (Bios parameter). Note that the serial number of a C7000 enclosure chassis or Synergy frame chassis is unique different to every SN of embedded compute nodes. \n",
    "\n",
    "The following cell retrieves the serial number of an HPE compute node chassis and shows explicitely that it is a `read-only` property. The server serial number is presented [here](#BiosSerialNumber).\n",
    "\n",
    "[API Reference document](https://hewlettpackard.github.io/ilo-rest-api-docs/ilo5/#serialnumber294) keyword: `SerialNumber` \\\n",
    "iLO GUI location: `Information - iLO Overview` \n",
    "\n"
   ]
  },
  {
   "cell_type": "code",
   "execution_count": null,
   "metadata": {},
   "outputs": [],
   "source": [
    "# Select data type\n",
    "ilorest select Chassis\n",
    "\n",
    "# Get SerialNumber from the Chassis data type\n",
    "ilorest get SerialNumber\n",
    "\n",
    "# Note that this property is READ-ONLY\n",
    "ilorest info SerialNumber"
   ]
  },
  {
   "cell_type": "markdown",
   "metadata": {},
   "source": [
    "### <a id = \"PowerState\">Power State</a>\n",
    "\n",
    "The following cell retrieves the power state and information related to this parameter. Note that this parameter is read-only. To power on or off you'll need to TBD"
   ]
  },
  {
   "cell_type": "code",
   "execution_count": null,
   "metadata": {},
   "outputs": [],
   "source": [
    "# Select data type\n",
    "ilorest select Chassis\n",
    "\n",
    "# Get property value\n",
    "ilorest get PowerState\n",
    "\n",
    "# Retrieve property info\n",
    "ilorest info PowerState\n",
    "\n"
   ]
  },
  {
   "cell_type": "markdown",
   "metadata": {},
   "source": [
    "### <a id = \"IndicatorLED\">Indicator LED</a>\n",
    "\n",
    "TBD"
   ]
  },
  {
   "cell_type": "code",
   "execution_count": null,
   "metadata": {},
   "outputs": [],
   "source": [
    "# Select data type\n",
    "ilorest select Chassis\n",
    "\n",
    "# Get property value\n",
    "ilorest get IndicatorLED\n",
    "\n",
    "# Retrieve property info\n",
    "ilorest info IndicatorLED\n",
    "\n"
   ]
  },
  {
   "cell_type": "code",
   "execution_count": null,
   "metadata": {},
   "outputs": [],
   "source": [
    "# Change the indicator LED state\n",
    "ilorest set IndicatorLED=\"Off\" --commit\n",
    "\n",
    "ilorest status\n",
    "\n",
    "\n",
    "ilorest get IndicatorLED"
   ]
  },
  {
   "cell_type": "markdown",
   "metadata": {},
   "source": [
    "### <a id = \"AssetTag\">Asset Tag</a>\n",
    "\n",
    "TBD"
   ]
  },
  {
   "cell_type": "code",
   "execution_count": null,
   "metadata": {},
   "outputs": [],
   "source": [
    "# Select data type\n",
    "ilorest select Chassis\n",
    "\n",
    "# Get property value\n",
    "ilorest get AssetTag\n",
    "\n",
    "# Retrieve property info\n",
    "ilorest info AssetTag\n",
    "\n"
   ]
  },
  {
   "cell_type": "code",
   "execution_count": null,
   "metadata": {},
   "outputs": [],
   "source": [
    "# Change the Asset Tag property\n",
    "ilorest set AssetTag=\"NewAsset Tag\" --commit\n",
    "\n",
    "ilorest status\n",
    "\n",
    "\n",
    "ilorest get AssetTag\n",
    "\n",
    "# Clear cache\n",
    "ilorest select Chassis. --refresh\n",
    "\n",
    "ilorest status"
   ]
  },
  {
   "cell_type": "markdown",
   "metadata": {},
   "source": [
    "<-- [Back to the list of examples](#BackToList) ; [Restart iLO 5 Simulator](#iLO5SimulatorRestart) -->"
   ]
  },
  {
   "cell_type": "markdown",
   "metadata": {},
   "source": [
    "## Thermal\n",
    "\n",
    "The [Thermal](https://hewlettpackard.github.io/ilo-rest-api-docs/ilo5/#thermal-v1_1_0-thermal) resource describes the system thermal metrics. It represents the properties for temperature and cooling. \n",
    "\n",
    "Thermal Information comes from multiple data types. Since iLO 5 firmware 2.30, thermal configuration can be performed from Bios and TBD data types. \n",
    "\n",
    "> NOTE: performing a modification of the thermal configuration from the "
   ]
  },
  {
   "cell_type": "markdown",
   "metadata": {},
   "source": [
    "### <a id = \"ThermalInfo\">Server Thermal Information</a>"
   ]
  },
  {
   "cell_type": "code",
   "execution_count": null,
   "metadata": {},
   "outputs": [],
   "source": [
    "# Retrieve server thermal properties\n",
    "ilorest serverinfo --thermal\n",
    "echo \n",
    "\n",
    "# Retrieve data type used by the server info macro command\n",
    "ilorest select\n"
   ]
  },
  {
   "cell_type": "code",
   "execution_count": null,
   "metadata": {},
   "outputs": [],
   "source": [
    "# List HPE specific thermal resources\n",
    "ilorest list Oem/Hpe --json"
   ]
  },
  {
   "cell_type": "code",
   "execution_count": null,
   "metadata": {},
   "outputs": [],
   "source": [
    "# Modify property. This should work !?\n",
    "ilorest set Oem/Hpe/ThermalConfiguration=\"MaxCooling\"\n",
    "\n",
    "ilorest status"
   ]
  },
  {
   "cell_type": "markdown",
   "metadata": {},
   "source": [
    "### <a id = \"ThermalConfiguration\">ThermalConfiguration</a>\n",
    "\n",
    "> **NOTE** This parameter is new with iLO 5 firmware 2.30. \n",
    "\n",
    "    API Reference document keyword: `TBD: Not yet documented` \\\n",
    "    iLO GUI location: `TBD: Not yet implemented`"
   ]
  },
  {
   "cell_type": "code",
   "execution_count": null,
   "metadata": {},
   "outputs": [],
   "source": [
    "# Select data type\n",
    "ilorest select HpeThermalExt\n",
    " \n",
    "#ilorest list --json"
   ]
  },
  {
   "cell_type": "markdown",
   "metadata": {},
   "source": [
    "<-- [Back to the list of examples](#BackToList) ; [Restart iLO 5 Simulator](#iLO5SimulatorRestart) -->"
   ]
  },
  {
   "cell_type": "markdown",
   "metadata": {},
   "source": [
    "## Managers\n",
    "\n",
    "Examples in this section are related to the `Manager` data type as well as data Oem data types located below `/redfish/v1/Managers/` end point like `HpeiLOSnmpService`. "
   ]
  },
  {
   "cell_type": "markdown",
   "metadata": {},
   "source": [
    "### <a id = \"SNMPv1Enabled\">Enable/Disable SNMPv1 in iLO</a>\n",
    "\n",
    "> **NOTE** Changing the `SNMPv1Enabled` setting appeared in iLO 5 FW 2.30.\n",
    "\n",
    "    API Reference document keyword: `SNMPv1Enabled` \\\n",
    "    iLO GUI location: `TBD`"
   ]
  },
  {
   "cell_type": "code",
   "execution_count": null,
   "metadata": {},
   "outputs": [],
   "source": [
    "# Select data type\n",
    "ilorest select HpeiLOSnmpService\n",
    "\n",
    "# Get current value\n",
    "ilorest get SNMPv1Enabled\n",
    "echo\n",
    "\n",
    "# Set new value\n",
    "ilorest set SNMPv1Enabled=False\n",
    "\n",
    "ilorest status"
   ]
  },
  {
   "cell_type": "markdown",
   "metadata": {},
   "source": [
    "<-- [Back to the list of examples](#BackToList) ; [Restart iLO 5 Simulator](#iLO5SimulatorRestart) -->"
   ]
  },
  {
   "cell_type": "markdown",
   "metadata": {},
   "source": [
    "## HPE iLO Resource Directory\n",
    "\n",
    "The HPE iLO Resource Directory is an HPE Oem extention containing the exhaustive list of the data types present the in a Redfish pecific data types. This directory can be used by Redfish clients to find faster find a specific resource in the Redfish tree."
   ]
  },
  {
   "cell_type": "code",
   "execution_count": null,
   "metadata": {},
   "outputs": [],
   "source": [
    "Type=\"HpeThermalExt\"\n",
    "#Type=\"SoftwareInventory\"\n",
    "ilorest types | grep Resource\n",
    "ilorest select HpeiLOResourceDirectory\n",
    "echo\n",
    "ilorest list instances --json | jq -r '.[]|.[]|.\"@odata.type\"' \\\n",
    "         | awk -F. '/'${Type}'/ {print $1}' | sort -u"
   ]
  },
  {
   "cell_type": "markdown",
   "metadata": {},
   "source": [
    "<-- [Back to the list of examples](#BackToList) ; [Restart iLO 5 Simulator](#iLO5SimulatorRestart) -->"
   ]
  },
  {
   "cell_type": "markdown",
   "metadata": {},
   "source": [
    "## ComputerSystem\n",
    "\n",
    "This section contains examples related to the `ComputerSystem` data type."
   ]
  },
  {
   "cell_type": "markdown",
   "metadata": {},
   "source": [
    "### <a id = \"PostState_And_DiscoveryComplete\">PostState and DiscoveryComplete</a>\n",
    "\n",
    "Use these state parameters to evaluate the current state of a system before modifying or viewing its resources. As explained in this [article](https://developer.hpe.com/blog/master-the-redfish-server-states-to-improve-your-monitoring-and-manageme) certain parameters cannot be modified if the computer is not in a specific state.\n",
    "\n",
    "Moreover, some parameters cannot be viewed when the entire discovery of all subsystems is not complete. As an example, you will not be able to view or modify SmartArray and logical drive configurations if the `SmartArrayDiscovery` is not complete."
   ]
  },
  {
   "cell_type": "code",
   "execution_count": null,
   "metadata": {},
   "outputs": [],
   "source": [
    "ilorest select ComputerSystem\n",
    "# Try to include HpeComputerSystemExt in the Mockup \n",
    "ilorest get Oem/Hpe/DeviceDiscoveryComplete\n",
    "echo\n",
    "ilorest get Oem/Hpe/PostState \n",
    "echo \n"
   ]
  },
  {
   "cell_type": "markdown",
   "metadata": {},
   "source": [
    "<-- [Back to the list of examples](#BackToList) ; [Restart iLO 5 Simulator](#iLO5SimulatorRestart) -->"
   ]
  },
  {
   "cell_type": "markdown",
   "metadata": {},
   "source": [
    "### <a id = \"ManageBiosRbsuPassword\">Bios/RBSU Login password</a>"
   ]
  },
  {
   "cell_type": "code",
   "execution_count": null,
   "metadata": {},
   "outputs": [],
   "source": [
    "# Setting a password for the first time\n",
    "ilorest setpassword FirstTimePassword '\"\"'\n",
    "\n",
    "# Removing the Bios/RBSU password\n",
    "ilorest setpassword '\"\"' FirstTimePassowrd\n",
    "\n",
    "# No commit needed. No iLO nor system reset needed. \n",
    "ilorest status\n"
   ]
  },
  {
   "cell_type": "markdown",
   "metadata": {},
   "source": [
    "<-- [Back to the list of examples](#BackToList) ; [Restart iLO 5 Simulator](#iLO5SimulatorRestart) -->"
   ]
  },
  {
   "cell_type": "markdown",
   "metadata": {},
   "source": [
    "## Security\n",
    "\n",
    "### <a id = \"SecurityDashboard\">Security Dashboard</a>\n",
    "\n",
    "The following five examples retrieve different security dashboard properties.\n",
    "\n",
    "#### Overall security dashboard status\n",
    "\n",
    "Use keyword `Security Dashboard` or `SecurityDashboard` in the [API reference document](https://hewlettpackard.github.io/ilo-rest-api-docs/ilo5/#hpeilosecuritydashboard-v1_0_0-hpeilosecuritydashboard) to find the overall security dashboard data type."
   ]
  },
  {
   "cell_type": "code",
   "execution_count": null,
   "metadata": {},
   "outputs": [],
   "source": [
    "# Select data type\n",
    "ilorest select HpeiLOSecurityDashboard.\n",
    "\n",
    "# Retrieve overall security dashboard status \n",
    "ilorest get \n"
   ]
  },
  {
   "cell_type": "markdown",
   "metadata": {},
   "source": [
    "#### All Security parameters and properties in json format\n",
    "\n",
    "Use keyword `SecurityParam` to find the corresponding data type in the [API Reference Document](https://hewlettpackard.github.io/ilo-rest-api-docs/ilo5/#hpeilosecurityparam-v1_1_0-hpeilosecurityparam)"
   ]
  },
  {
   "cell_type": "code",
   "execution_count": null,
   "metadata": {},
   "outputs": [],
   "source": [
    "# Select data type\n",
    "ilorest select HpeiLOSecurityParam.\n",
    "\n",
    "# List security params in JSON format\n",
    "ilorest list --json"
   ]
  },
  {
   "cell_type": "markdown",
   "metadata": {},
   "source": [
    "#### List all security params at risk\n",
    "\n",
    "To retrieve this list you don't need to select the data type as it is already selected."
   ]
  },
  {
   "cell_type": "code",
   "execution_count": null,
   "metadata": {},
   "outputs": [],
   "source": [
    "ilorest list --filter SecurityStatus=\"Risk\""
   ]
  },
  {
   "cell_type": "markdown",
   "metadata": {},
   "source": [
    "#### Get specific security parameter properties"
   ]
  },
  {
   "cell_type": "code",
   "execution_count": null,
   "metadata": {},
   "outputs": [],
   "source": [
    "ilorest get --filter Name=\"Require Login for iLO RBSU\""
   ]
  },
  {
   "cell_type": "markdown",
   "metadata": {},
   "source": [
    "#### Get specific property of a specific security parameter"
   ]
  },
  {
   "cell_type": "code",
   "execution_count": null,
   "metadata": {},
   "outputs": [],
   "source": [
    "ilorest get Ignore --filter Name=\"Minimum Password Length\""
   ]
  },
  {
   "cell_type": "markdown",
   "metadata": {},
   "source": [
    "<-- [Back to the list of examples](#BackToList) ; [Restart iLO 5 Simulator](#iLO5SimulatorRestart) -->"
   ]
  },
  {
   "cell_type": "markdown",
   "metadata": {},
   "source": [
    "## Bios"
   ]
  },
  {
   "cell_type": "markdown",
   "metadata": {},
   "source": [
    "### <a id = \"BiosSerialNumber\">Server Serial Number stored in BIOS</a>\n",
    "\n",
    "In a computer node, the Serial Number stored in the `Bios.` data type corresponds to the server mother board serial number. HPE requires to change this serial number in case of mother board replacement to match the chassis serial number. "
   ]
  },
  {
   "cell_type": "code",
   "execution_count": null,
   "metadata": {},
   "outputs": [],
   "source": [
    "# Select data type\n",
    "ilorest select Bios. --refresh\n",
    "echo\n",
    "\n",
    "# Make sure SN is read-write\n",
    "ilorest info Attributes/SerialNumber --latestschema\n",
    "echo\n",
    "\n",
    "# Get SerialNumber from Bios data type.\n",
    "ilorest get Attributes/SerialNumber\n",
    "\n",
    "echo \"Set new SN\"\n",
    "ilorest set Attributes/SerialNumber=\"NEWSN\" --commit\n",
    "\n",
    "# Reload a fresh simulator cache\n",
    "ilorest select Bios. --refresh\n",
    "echo \n",
    "\n",
    "# Validate the SN change\n",
    "ilorest get Attributes/SerialNumber\n"
   ]
  },
  {
   "cell_type": "markdown",
   "metadata": {},
   "source": [
    "<-- [Back to the list of examples](#BackToList) ; [Restart iLO 5 Simulator](#iLO5SimulatorRestart) -->"
   ]
  },
  {
   "cell_type": "code",
   "execution_count": null,
   "metadata": {},
   "outputs": [],
   "source": []
  },
  {
   "cell_type": "code",
   "execution_count": null,
   "metadata": {},
   "outputs": [],
   "source": []
  },
  {
   "cell_type": "code",
   "execution_count": null,
   "metadata": {},
   "outputs": [],
   "source": [
    "ilorest logout"
   ]
  },
  {
   "cell_type": "markdown",
   "metadata": {},
   "source": [
    "## TBD\n"
   ]
  }
 ],
 "metadata": {
  "kernelspec": {
   "display_name": "Bash",
   "language": "bash",
   "name": "bash"
  },
  "language_info": {
   "codemirror_mode": "shell",
   "file_extension": ".sh",
   "mimetype": "text/x-sh",
   "name": "bash"
  }
 },
 "nbformat": 4,
 "nbformat_minor": 4
}
