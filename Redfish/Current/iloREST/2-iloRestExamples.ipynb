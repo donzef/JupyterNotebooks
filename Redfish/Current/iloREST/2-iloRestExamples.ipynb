{
 "cells": [
  {
   "cell_type": "markdown",
   "metadata": {},
   "source": [
    "# iLOrest examples\n"
   ]
  },
  {
   "cell_type": "markdown",
   "metadata": {},
   "source": [
    "Version 0.57"
   ]
  },
  {
   "cell_type": "markdown",
   "metadata": {},
   "source": [
    "## Introduction\n",
    "\n",
    "This Jupyter Notebook contains iLOrest [examples](#BackToList) as well as tips and tricks answering recurrent questions from HPE customers."
   ]
  },
  {
   "cell_type": "markdown",
   "metadata": {},
   "source": [
    "## <a id = \"EnvironmentPreparation\">Environment preparation</a>\n",
    "\n",
    "The following cell sets environment variables and checks the connectivity toward the various BMCs used in this notebook."
   ]
  },
  {
   "cell_type": "code",
   "execution_count": null,
   "metadata": {},
   "outputs": [],
   "source": [
    "########## Environment preparation (Version: 0.25) ############\n",
    "\n",
    "\n",
    "# Set Student ID number\n",
    "Stud=00\n",
    "Id=$(id --user --name)\n",
    "\n",
    "# location and ports variables\n",
    "ObmcBasePort=44000\n",
    "IloDlBasePort=45000\n",
    "IloSyBasePort=46000\n",
    "let OpenBmcBasePort=$ObmcBasePort\n",
    "let OpenBmcPort=${OpenBmcBasePort}+${Stud}\n",
    "let iLO5SimulatorBasePort=$IloDlBasePort\n",
    "let iLO5SimulatorPort=${iLO5SimulatorBasePort}+${Stud}\n",
    "let ilo5Port=443\n",
    "\n",
    "CacheDir=\"${PWD}/iLOrestCache\"\n",
    "LogDir=\"${PWD}\"\n",
    "LogFile=\"${LogDir}/iLOrest.log\"\n",
    "\n",
    "#iLO5SimulatorIP=bmcsimulators\n",
    "iLO5SimulatorIP=ilo5simulators\n",
    "iLOSimulator=${iLO5SimulatorIP}:${iLO5SimulatorPort}\n",
    "iLO5SimulatorURI=https://${iLOSimulator}\n",
    "\n",
    "OpenBmcIP=openbmcsimulators\n",
    "OpenBmc=\"${OpenBmcIP}:${OpenBmcPort}\"\n",
    "OpenBmcURI=\"https://${OpenBmc}\"\n",
    "\n",
    "ilo5IP=\"ilo5\"\n",
    "ilo5=\"${ilo5IP}:${ilo5Port}\"\n",
    "ilo5URI=\"https://${ilo5}\"\n",
    "\n",
    "# Credentials\n",
    "User=\"student\"\n",
    "Password='P@ssw0rd!'\n",
    "\n",
    "# Miscellaneous\n",
    "alias ilorest='ilorest --nologo --cache-dir ${CacheDir} --logdir ${LogDir}'\n",
    "alias ResetIlo5Simulator=\"ssh rstsimul@${iLO5SimulatorIP} $Id $iLO5SimulatorBasePort\"\n",
    "ilorest logout &>/dev/null # Clear cache\n",
    "\n",
    "alias ResetIlo5Simulator\n",
    "\n",
    "# Verify we can reach the remote Bmcs on the right HTTPS ports. \n",
    "for bmc in ilo5 OpenBmc iLO5Simulator ; do\n",
    "    ip=\"${bmc}IP\" ; port=$(echo ${bmc}Port)\n",
    "    nc -vz  $(eval echo \"\\$${ip}\") $(eval echo \"\\$${port}\") &> /dev/null && \n",
    "        echo \"$bmc is reachable\" \\\n",
    "        || echo \"WARNING: Problem reaching $bmc\"\n",
    "done"
   ]
  },
  {
   "cell_type": "markdown",
   "metadata": {},
   "source": [
    "### iLO 5 login and cache redirection\n",
    "\n",
    "This [infrastructure](Pictures/ProgrammingRedfishInfraDescription.png) contains only one physical iLO 5 and prevents multiple students to perform SET actions on this unique BMC. Therefore, students have to use a DMTF BMC simulator populated with an iLO 5 mockup.\n",
    "\n",
    "However, because `iLOrest` populates a cache directory during the login process, you need first to authenticate with the iLO 5 and then modify the cache files to have them pointing to the DMTF simulator. This is the role of the next cell."
   ]
  },
  {
   "cell_type": "code",
   "execution_count": null,
   "metadata": {},
   "outputs": [],
   "source": [
    "ilorest login $ilo5 -u $User -p $Password\n",
    "\n",
    "# Copy cache in a safe location before logging out to\n",
    "# minimize opened sessions. iLO 5 is limited to 15 concurrent\n",
    "# sessions. \n",
    "mv ${CacheDir}/cache{,-bck}\n",
    "ilorest logout\n",
    "\n",
    "# Move back the cache\n",
    "mv ${CacheDir}/cache{-bck,}\n",
    "\n",
    "# Redirect cache toward the iLO 5 Simulator\n",
    "sed -i \"s?${ilo5URI}?${iLO5SimulatorURI}?\" ${CacheDir}/cache/*"
   ]
  },
  {
   "cell_type": "markdown",
   "metadata": {},
   "source": [
    "### <a id = \"iLO5SimulatorRestart\">Restart iLO 5 simulator</a>\n",
    "\n",
    "If you need or desire to restart you iLO 5 simulator to start this workshop from scratch or for other reasons, run the following cell at any time."
   ]
  },
  {
   "cell_type": "code",
   "execution_count": null,
   "metadata": {},
   "outputs": [],
   "source": [
    "# iLO 5 Simulator restart\n",
    "ResetIlo5Simulator\n",
    "\n",
    "# Verify we can reach the remote Bmcs on the right HTTPS ports. \n",
    "for bmc in ilo5 OpenBmc iLO5Simulator ; do\n",
    "    ip=\"${bmc}IP\" ; port=$(echo ${bmc}Port)\n",
    "    nc -vz  $(eval echo \"\\$${ip}\") $(eval echo \"\\$${port}\") &> /dev/null && \n",
    "        echo \"$bmc is reachable\" \\\n",
    "        || echo \"WARNING: Problem reaching $bmc\"\n",
    "done"
   ]
  },
  {
   "cell_type": "markdown",
   "metadata": {},
   "source": [
    "## <a id = \"BackToList\">List of examples</a>\n",
    "\n",
    "Note that the list of examples present in this Jupyter Notebook is changing over time. The classification is not following any strict model; it is a mix of Root service and data type locations.\n"
   ]
  },
  {
   "cell_type": "markdown",
   "metadata": {},
   "source": [
    "<table>\n",
    "    <tr>\n",
    "        <th> &nbsp; &nbsp; &nbsp; &nbsp; &nbsp; </th>\n",
    "        <th> &nbsp; &nbsp; &nbsp; &nbsp; &nbsp; </th>\n",
    "    </tr>\n",
    "    <tr>\n",
    "        <td>    \n",
    "            \n",
    "Account Service\n",
    "   - [iLO users: Enforce password complexity and minimum password length](#EnforceiLOUsersPasswordComplexity)\n",
    "        \n",
    "        </td>\n",
    "        <td>\n",
    "            \n",
    "Chassis\n",
    "   - [Chassis Serial Number](#ChassisSerialNumber)\n",
    "   - [Power State](#PowerState)\n",
    "   - [Indicator LED](#IndicatorLED)\n",
    "   - [Chassis Asset Tag](#ChassisAssetTag)\n",
    "            \n",
    "        </td>\n",
    "    </tr>\n",
    "    <tr>\n",
    "        <td>\n",
    "            \n",
    "Thermal\n",
    "   - [Server thermal information](#ThermalInfo)\n",
    "   - [Thermal configuration](#ThermalConfiguration)\n",
    "            \n",
    "        </td>\n",
    "        <td>\n",
    "            \n",
    "Managers (iLO)\n",
    "   - [Enable/Disable SNMPv1 in iLO](#SNMPv1Enabled)\n",
    "\n",
    "        </td>\n",
    "    </tr>\n",
    "    <tr>\n",
    "        <td>\n",
    "            \n",
    "CompusterSystem\n",
    "   - [PostState and DiscoveryComplete](#PostState_And_DiscoveryComplete)\n",
    "   - [AMS and HostOS](#AMS_And_HostOS)\n",
    "   - [Bios/RBSU Login password](#ManageBiosRbsuPassword)\n",
    "   - [Computer System Asset Tag](#ComputerSystemAssetTag)\n",
    "                       \n",
    "        </td>\n",
    "        <td>\n",
    "            \n",
    "Resource Directory\n",
    "   - [Introduction](#ResourceDirectoryIntroduction)             \n",
    "             \n",
    "        </td>\n",
    "    </tr>\n",
    "    <tr>\n",
    "        <td>\n",
    "            \n",
    "Security\n",
    "   - [Security Dashboard](#SecurityDashboard)\n",
    "   - [iLO Security Mode/State](#iLOSecurityMode)\n",
    "   - [Login Security Banner](#LoginSecurityBanner)\n",
    "\n",
    "        </td>\n",
    "        <td>\n",
    "            \n",
    "Bios\n",
    "   - [Server Serial Number](#BiosSerialNumber)\n",
    "                      \n",
    "        </td>       \n",
    "    </tr>\n",
    "    <tr>\n",
    "        <td>\n",
    "            \n",
    "Storage\n",
    "   - [SSD Wear Status](#SSD_WearStatus)            \n",
    "            \n",
    "        </td>\n",
    "        <td>\n",
    "            \n",
    "Logout\n",
    "   - [Logout](#Logout)            \n",
    "            \n",
    "        </td>\n",
    "    </tr>\n",
    "</table>"
   ]
  },
  {
   "cell_type": "markdown",
   "metadata": {},
   "source": [
    "## Account Service\n",
    "\n",
    "This root service models the iLO User Accounts."
   ]
  },
  {
   "cell_type": "markdown",
   "metadata": {},
   "source": [
    "### <a id = \"EnforceiLOUsersPasswordComplexity\">iLO users: Enforce password complexity and minimum password length</a>\n",
    "\n",
    "API Reference document keyword: `EnforcePasswordComplexity` \\\n",
    "iLO GUI location: `Security - Access Settings`"
   ]
  },
  {
   "cell_type": "code",
   "execution_count": null,
   "metadata": {},
   "outputs": [],
   "source": [
    "# Select DMTF data type \n",
    "ilorest select AccountService\n",
    "\n",
    "# List properties of the HPE Oem extension in json format \n",
    "ilorest list Oem/Hpe --json\n",
    "\n",
    "# Modify two AccountService parameters\n",
    "ilorest set Oem/Hpe/EnforcePasswordComplexity=True\n",
    "ilorest set Oem/Hpe/MinPasswordLength=5\n",
    "\n",
    "# Retrieve the list of modified paramters\n",
    "ilorest status\n",
    "\n",
    "# Uncommnent the following comand to commit changes in the iLO 5 simulator.\n",
    "# Note that you will not get the same answer as if done on a real iLO 5.\n",
    "#ilorest commit\n",
    "\n",
    "# Undo changes (clear cache)\n",
    "ilorest select AccountService --refresh"
   ]
  },
  {
   "cell_type": "markdown",
   "metadata": {},
   "source": [
    "<-- [Environment Preparation](#EnvironmentPreparation) ; [List of examples](#BackToList)  ; [Restart iLO 5 Simulator](#iLO5SimulatorRestart) ; [Logout](#Logout) -->"
   ]
  },
  {
   "cell_type": "markdown",
   "metadata": {},
   "source": [
    "## Chassis\n",
    "\n",
    "This section contains parameters related to the `Chassis` [data type](https://hewlettpackard.github.io/ilo-rest-api-docs/ilo5/#chassis-v1_6_0-chassis). A Chassis represents a physical or virtual container of compute resources with attrbutes such as FRU information, power supplies, temperature, etc.\n",
    "\n",
    "Complex chassis subsystems may have their own data type (i.e. [Thermal](#ThermalInfo))\n",
    "\n",
    "Chassis examples:\n",
    "  - Rack\n",
    "  - Blade enclosure\n",
    "  - HPE Synergy frame \n",
    "  - Compute node chassis"
   ]
  },
  {
   "cell_type": "markdown",
   "metadata": {},
   "source": [
    "### <a id = \"ChassisSerialNumber\">Chassis Serial Number</a>\n",
    "\n",
    "The chassis serial number of an HPE compute node mentioned on an external label/tag with code bar/QRcode is identical to its embedded server serial number (Bios parameter). Note that the serial number of a C7000 enclosure chassis or Synergy frame chassis is unique and different to every SN of embedded compute nodes. \n",
    "\n",
    "The following cell retrieves the serial number of an HPE compute node chassis and shows explicitely that it is a `read-only` property. The server serial number is presented [here](#BiosSerialNumber).\n",
    "\n",
    "[API Reference document](https://hewlettpackard.github.io/ilo-rest-api-docs/ilo5/#serialnumber294) keyword: `SerialNumber` \\\n",
    "iLO GUI location: `Information - iLO Overview` \n",
    "\n"
   ]
  },
  {
   "cell_type": "code",
   "execution_count": null,
   "metadata": {},
   "outputs": [],
   "source": [
    "# Select data type\n",
    "ilorest select Chassis\n",
    "\n",
    "# Get SerialNumber from the Chassis data type\n",
    "ilorest get SerialNumber\n",
    "\n",
    "# Note that this property is READ-ONLY\n",
    "ilorest info SerialNumber"
   ]
  },
  {
   "cell_type": "markdown",
   "metadata": {},
   "source": [
    "### <a id = \"PowerState\">Power State</a>\n",
    "\n",
    "The following cell retrieves the power state and information related to this parameter. Note that this parameter is read-only. If you want a more precise server state, read the [PostState and DiscoveryComplete](#PostState_And_DiscoveryComplete) and [AMS and HostOS](#AMS_And_HostOS) paragraphs.\n",
    "\n",
    "As mentioned in the [API reference documentation](https://hewlettpackard.github.io/ilo-rest-api-docs/ilo5/#powerstate) this property is part of the `Chassis` data type. "
   ]
  },
  {
   "cell_type": "code",
   "execution_count": null,
   "metadata": {},
   "outputs": [],
   "source": [
    "# Select data type\n",
    "ilorest select Chassis\n",
    "\n",
    "# Get property value\n",
    "ilorest get PowerState\n",
    "\n",
    "# Retrieve property info with possible values.\n",
    "ilorest info PowerState\n",
    "\n"
   ]
  },
  {
   "cell_type": "markdown",
   "metadata": {},
   "source": [
    "### <a id = \"IndicatorLED\">Indicator LED</a>\n",
    "\n",
    "The chassis indicator LED corresponds to the blue LED that is used to identify the chassis in a rack of the datacenter."
   ]
  },
  {
   "cell_type": "code",
   "execution_count": null,
   "metadata": {},
   "outputs": [],
   "source": [
    "# Select data type\n",
    "ilorest select Chassis\n",
    "\n",
    "# Get property value\n",
    "IndicatorLED=$(ilorest get --json IndicatorLED | jq -r '.IndicatorLED')\n",
    "echo \"IndicatorLED=$IndicatorLED\"\n",
    "\n",
    "# Retrieve property info\n",
    "ilorest info IndicatorLED"
   ]
  },
  {
   "cell_type": "code",
   "execution_count": null,
   "metadata": {},
   "outputs": [],
   "source": [
    "# Refresh cache\n",
    "ilorest select Chassis --refresh\n",
    "\n",
    "# Change the indicator LED state\n",
    "LEDState=$(ilorest get IndicatorLED | cut -d= --field=2)\n",
    "echo -e \"LED State:$LEDState\\n\"  \n",
    "\n",
    "if [ \"$LEDState\" = \"Off\" ]; then\n",
    "    LEDState=\"Lit\"\n",
    "else\n",
    "    LEDState=\"Off\"\n",
    "fi\n",
    "\n",
    "# Change property and commit\n",
    "echo \"Changing IndicatorLED to $LEDState\"\n",
    "ilorest set IndicatorLED=\"$LEDState\" --commit\n",
    "echo\n",
    "\n",
    "# Validate property change\n",
    "ilorest get IndicatorLED"
   ]
  },
  {
   "cell_type": "markdown",
   "metadata": {},
   "source": [
    "### <a id = \"ChassisAssetTag\">Chassis Asset Tag</a>\n",
    "\n",
    "The Chassis `AssetTag` is different from the `ComputerSystem` [Asset Tag](#ComputerSystemAssetTag). "
   ]
  },
  {
   "cell_type": "code",
   "execution_count": null,
   "metadata": {},
   "outputs": [],
   "source": [
    "# Select data type\n",
    "ilorest select Chassis --refresh\n",
    "\n",
    "# Get property value\n",
    "ilorest get AssetTag"
   ]
  },
  {
   "cell_type": "code",
   "execution_count": null,
   "metadata": {},
   "outputs": [],
   "source": [
    "# Change the Chassis Asset Tag property\n",
    "ilorest set AssetTag=\"New Chassis Asset Tag\" --commit\n",
    "\n",
    "# Verify change\n",
    "ilorest get AssetTag"
   ]
  },
  {
   "cell_type": "markdown",
   "metadata": {},
   "source": [
    "<-- [Environment Preparation](#EnvironmentPreparation) ; [List of examples](#BackToList)  ; [Restart iLO 5 Simulator](#iLO5SimulatorRestart) ; [Logout](#Logout) -->"
   ]
  },
  {
   "cell_type": "markdown",
   "metadata": {},
   "source": [
    "## Thermal\n",
    "\n",
    "The [Thermal](https://hewlettpackard.github.io/ilo-rest-api-docs/ilo5/#thermal-v1_1_0-thermal) data type describes the system thermal metrics. It provides the temperatures in different locations in the chassis as well as fan properties. It also offers the possibility to configure the fans with a specific cooling directive (Optimal, Enhanced, etc ...). \n",
    "\n",
    "Thermal information belongs to the `Thermal` data type. However, the thermal configuration (`ThermalConfig`) is part of the `Bios` data type. Hence, to modify the `ThermalConfig` property, you will need to reboot the entire system to effectively apply this modification.\n",
    "\n",
    "However, starting with iLO firmware **2.30**, it is possible to modify the thermal configuration using the `ThermalConfiguration` property of the `Thermal` data type without any system reset. \n",
    "\n",
    ">**NOTE**: The `Thermal` schema implemented in this iLO firmware version (2.30) is not totally accurate and only an `ilorest rawpatch` command can modify this setting. This problem will be fixed in a later update."
   ]
  },
  {
   "cell_type": "markdown",
   "metadata": {},
   "source": [
    "### <a id = \"ThermalInfo\">Server Thermal Information</a>\n",
    "\n",
    "The following cell retrieves both fan and sensor properties, including temperatures."
   ]
  },
  {
   "cell_type": "code",
   "execution_count": null,
   "metadata": {},
   "outputs": [],
   "source": [
    "# Retrieve server thermal properties\n",
    "ilorest list --json --select Thermal"
   ]
  },
  {
   "cell_type": "markdown",
   "metadata": {},
   "source": [
    "If you want only sensor information, you can use the **`serverinfo`** macro command like that found in the following cell"
   ]
  },
  {
   "cell_type": "code",
   "execution_count": null,
   "metadata": {},
   "outputs": [],
   "source": [
    "# Retrieve data type used by the server info macro command\n",
    "ilorest serverinfo --thermal"
   ]
  },
  {
   "cell_type": "markdown",
   "metadata": {},
   "source": [
    "### <a id = \"ThermalConfiguration\">ThermalConfiguration</a>\n",
    "\n",
    "The following cells retrieve the thermal configuration from the `Bios` data type first, and then from the `Thermal` data type."
   ]
  },
  {
   "cell_type": "code",
   "execution_count": null,
   "metadata": {},
   "outputs": [],
   "source": [
    "# Select data type\n",
    "ilorest select Bios\n",
    "\n",
    "# Retrieve property\n",
    "ilorest get Attributes/ThermalConfig --json | jq '.[]'\n",
    "\n",
    "# Retrieve possible values for the ThermalConfig property\n",
    "#TBD\n",
    "\n",
    "# Change ThermalConfig\n",
    "#ilorest set ThermalConfig=\"EnhancedCPUCooling\" --select Bios."
   ]
  },
  {
   "cell_type": "code",
   "execution_count": null,
   "metadata": {},
   "outputs": [],
   "source": [
    "# Verify iLO firmware is equal or greater than 2.30\n",
    "ilorest get FirmwareVersion --select Manager.\n",
    "\n",
    "# Select data type\n",
    "ilorest select Thermal\n",
    "\n",
    "# Retrieve property\n",
    "ilorest get Oem/Hpe/ThermalConfiguration --json | jq -r '.[]|.[]'\n",
    "\n",
    "# Retrieve possible values for property\n",
    "# TBD\n",
    "\n",
    "# Modify property\n",
    "#ilorest set Oem/Hpe/ThermalConfiguration=\"MaximumCooling\"\n",
    "\n"
   ]
  },
  {
   "cell_type": "markdown",
   "metadata": {},
   "source": [
    "<-- [Environment Preparation](#EnvironmentPreparation) ; [List of examples](#BackToList)  ; [Restart iLO 5 Simulator](#iLO5SimulatorRestart) ; [Logout](#Logout) -->"
   ]
  },
  {
   "cell_type": "markdown",
   "metadata": {},
   "source": [
    "## Managers\n",
    "\n",
    "Examples in this section are related to the `Manager` data type as well as HPE Oem data types located below the `/redfish/v1/Managers/` end point like the `HpeiLOSnmpService`. "
   ]
  },
  {
   "cell_type": "markdown",
   "metadata": {},
   "source": [
    "### <a id = \"SNMPv1Enabled\">Enable/Disable SNMPv1 in iLO</a>\n",
    "\n",
    "> **NOTE** Changing the `SNMPv1Enabled` setting appeared in iLO 5 FW **2.30**.\n",
    "\n",
    "    API Reference document keyword: \"SNMPv1Enabled\" \\\n",
    "    iLO GUI location: Management --> SNMP Settings --> SNMP Alerts --> SNMPv1"
   ]
  },
  {
   "cell_type": "code",
   "execution_count": null,
   "metadata": {},
   "outputs": [],
   "source": [
    "# Select data type\n",
    "ilorest select HpeiLOSnmpService\n",
    "\n",
    "# Get current value\n",
    "ilorest get SNMPv1Enabled\n",
    "echo\n",
    "\n",
    "# Set new value\n",
    "ilorest set SNMPv1Enabled=False\n",
    "\n",
    "ilorest status"
   ]
  },
  {
   "cell_type": "markdown",
   "metadata": {},
   "source": [
    "<-- [Environment Preparation](#EnvironmentPreparation) ; [List of examples](#BackToList)  ; [Restart iLO 5 Simulator](#iLO5SimulatorRestart) ; [Logout](#Logout) -->"
   ]
  },
  {
   "cell_type": "markdown",
   "metadata": {},
   "source": [
    "## HPE iLO Resource Directory\n",
    "\n",
    "The HPE iLO Resource Directory is an HPE OEM extention that contains the exhaustive list of the data types present in a Redfish service. This directory can be used by Redfish clients to lookup resources faster. Without this extension, Redfish clients must crawl the entire Redfish tree, starting at the root entry point, to find a specific resource.\n",
    "\n",
    "The iLOrest utility caches the HPE iLO Resource Directory locally during the login process. When you select a data type, iLOrest very quickly retrieves its location from the cached directory. Then, when you submit get or set requests against specific properties, iLOrest starts looking for them starting at the location found in the cached directory.\n"
   ]
  },
  {
   "cell_type": "markdown",
   "metadata": {},
   "source": [
    "### <a id = \"ResourceDirectoryIntroduction\">Introduction</a>\n",
    "\n",
    "The `HpeiLOResourceDirectory` data type contains an array called `Instances`. Each element of this array corresponds to a data type with associated descriptors: `@odata.id` and `HttpMethods`. The first descriptor is the entry point of the data type in the Redfish tree and the second lists the valid HTTP methods against the data type.\n",
    "\n",
    "> NOTE: The word \"instance\" is a synonym of \"data type\". You will find it in DMTF [python programs](https://github.com/DMTF/Redfish-Tacklebox/blob/master/redfish_utilities/sensors.py) as well as [HPE programs](https://github.com/HewlettPackard/python-ilorest-library/blob/master/examples/Redfish/get_resource_directory.py).\n",
    "\n",
    "The following cell retrieves the first data types (aka instances) of the current iLO 5."
   ]
  },
  {
   "cell_type": "code",
   "execution_count": null,
   "metadata": {},
   "outputs": [],
   "source": [
    "# Select data type\n",
    "ilorest select HpeiLOResourceDirectory\n",
    "\n",
    "# List the first elements of array Instances containing data type properties\n",
    "ilorest list Instances --json | head -30"
   ]
  },
  {
   "cell_type": "markdown",
   "metadata": {},
   "source": [
    "<-- [Environment Preparation](#EnvironmentPreparation) ; [List of examples](#BackToList)  ; [Restart iLO 5 Simulator](#iLO5SimulatorRestart) ; [Logout](#Logout) -->"
   ]
  },
  {
   "cell_type": "markdown",
   "metadata": {},
   "source": [
    "## Computer System\n",
    "\n",
    "This section contains examples related to the `ComputerSystem` data type."
   ]
  },
  {
   "cell_type": "markdown",
   "metadata": {},
   "source": [
    "### <a id = \"PostState_And_DiscoveryComplete\">PostState and DiscoveryComplete</a>\n",
    "\n",
    "Use these state parameters to evaluate the current state of a system before modifying or viewing its resources. As explained in this [article](https://developer.hpe.com/blog/master-the-redfish-server-states-to-improve-your-monitoring-and-manageme), certain parameters cannot be modified if the computer is not in a specific state.\n",
    "\n",
    "Moreover, some parameters cannot be viewed when the entire discovery of all subsystems is not complete. As an example, you will not be able to view or modify SmartArray and logical drive configurations if the `SmartArrayDiscovery` is not complete."
   ]
  },
  {
   "cell_type": "code",
   "execution_count": null,
   "metadata": {},
   "outputs": [],
   "source": [
    "# Select data type\n",
    "ilorest select ComputerSystem\n",
    "\n",
    "# Retrieve and print DeviceDiscoveryComplete and PostState properties\n",
    "ilorest get Oem/Hpe/DeviceDiscoveryComplete | grep -v -E 'Oem|Hpe'; echo\n",
    "ilorest get Oem/Hpe/PostState | grep -v -E 'Oem|Hpe' ; echo"
   ]
  },
  {
   "cell_type": "markdown",
   "metadata": {},
   "source": [
    "<-- [Environment Preparation](#EnvironmentPreparation) ; [List of examples](#BackToList)  ; [Restart iLO 5 Simulator](#iLO5SimulatorRestart) ; [Logout](#Logout) -->"
   ]
  },
  {
   "cell_type": "markdown",
   "metadata": {},
   "source": [
    "### <a id = \"AMS_And_HostOS\">AMS and HostOS</a>\n",
    "\n",
    "When the HPE Agentless Management Service (AMS) is installed in the operating system of the host, it is possible to get various information from the `HostOS` property. This property is present only when AMS is up and running in the host OS.\n",
    "\n",
    "Use keywords `agentless` or `ams` in the [API reference documentation](https://hewlettpackard.github.io/ilo-rest-api-docs/ilo5/#introduction) to get the data type related to this topic."
   ]
  },
  {
   "cell_type": "code",
   "execution_count": null,
   "metadata": {},
   "outputs": [],
   "source": [
    "# Select type\n",
    "ilorest select ComputerSystem.\n",
    "\n",
    "# Retrieve and print AMS status\n",
    "AmsStatus=$(ilorest get --json Oem/Hpe/AggregateHealthStatus/AgentlessManagementService | \\\n",
    "jq -r '.Oem.Hpe.AggregateHealthStatus.AgentlessManagementService')\n",
    "echo \"AMS Status: $AmsStatus\" ; echo\n",
    "\n",
    "# Retrieve and print HostOS info only if AMS is ready\n",
    "if [ \"$AmsStatus\" == \"Ready\" ] ; then\n",
    "    echo \"Host OS properties:\"\n",
    "    ilorest get --json Oem/Hpe/HostOS | jq -r '.Oem.Hpe.HostOS'\n",
    "fi"
   ]
  },
  {
   "cell_type": "markdown",
   "metadata": {},
   "source": [
    "<-- [Environment Preparation](#EnvironmentPreparation) ; [List of examples](#BackToList)  ; [Restart iLO 5 Simulator](#iLO5SimulatorRestart) ; [Logout](#Logout) -->"
   ]
  },
  {
   "cell_type": "markdown",
   "metadata": {},
   "source": [
    "### <a id = \"ManageBiosRbsuPassword\">Bios/RBSU Login password</a>"
   ]
  },
  {
   "cell_type": "code",
   "execution_count": null,
   "metadata": {},
   "outputs": [],
   "source": [
    "# Setting a password for the first time\n",
    "ilorest setpassword FirstTimePassword '\"\"'\n",
    "\n",
    "# Removing the Bios/RBSU password\n",
    "ilorest setpassword '\"\"' FirstTimePassowrd\n",
    "\n",
    "# No commit needed. No iLO nor system reset needed. \n",
    "ilorest status\n"
   ]
  },
  {
   "cell_type": "markdown",
   "metadata": {},
   "source": [
    "<-- [Environment Preparation](#EnvironmentPreparation) ; [List of examples](#BackToList)  ; [Restart iLO 5 Simulator](#iLO5SimulatorRestart) ; [Logout](#Logout) -->"
   ]
  },
  {
   "cell_type": "markdown",
   "metadata": {},
   "source": [
    "### <a id = \"ComputerSystemAssetTag\">ComputerSystem Asset Tag</a>\n",
    "\n",
    "The `ComputerSystem` Asset Tag is different from the `Chassis` [Asset Tag](#ChassisAssetTag)."
   ]
  },
  {
   "cell_type": "code",
   "execution_count": null,
   "metadata": {},
   "outputs": [],
   "source": [
    "# Select data type and clear cache\n",
    "ilorest select ComputerSystem. --refresh\n",
    "\n",
    "# Retrieve ComputerSystem Asset Tag\n",
    "ilorest get AssetTag\n",
    "\n",
    "# Change ComputerSystem Asset Tag\n",
    "ilorest set AssetTag=\"New ComputerSystem Asset Tag\" --commit\n",
    "\n",
    "# Verify change\n",
    "ilorest get AssetTag"
   ]
  },
  {
   "cell_type": "markdown",
   "metadata": {},
   "source": [
    "<-- [Environment Preparation](#EnvironmentPreparation) ; [List of examples](#BackToList)  ; [Restart iLO 5 Simulator](#iLO5SimulatorRestart) ; [Logout](#Logout) -->"
   ]
  },
  {
   "cell_type": "markdown",
   "metadata": {},
   "source": [
    "## Security\n",
    "\n",
    "### <a id = \"SecurityDashboard\">Security Dashboard</a>\n",
    "\n",
    "The following five examples retrieve different security dashboard properties.\n",
    "\n",
    "#### Overall security dashboard status\n",
    "\n",
    "Use keyword `Security Dashboard` or `SecurityDashboard` in the [API reference document](https://hewlettpackard.github.io/ilo-rest-api-docs/ilo5/#hpeilosecuritydashboard-v1_0_0-hpeilosecuritydashboard) to find the overall security dashboard data type."
   ]
  },
  {
   "cell_type": "code",
   "execution_count": null,
   "metadata": {},
   "outputs": [],
   "source": [
    "# Select data type\n",
    "ilorest select HpeiLOSecurityDashboard.\n",
    "\n",
    "# Retrieve overall security dashboard status \n",
    "ilorest get \n"
   ]
  },
  {
   "cell_type": "markdown",
   "metadata": {},
   "source": [
    "#### All Security parameters and properties in json format\n",
    "\n",
    "Use keyword `SecurityParam` to find the corresponding data type in the [API Reference Document](https://hewlettpackard.github.io/ilo-rest-api-docs/ilo5/#hpeilosecurityparam-v1_1_0-hpeilosecurityparam)."
   ]
  },
  {
   "cell_type": "code",
   "execution_count": null,
   "metadata": {},
   "outputs": [],
   "source": [
    "# Select data type\n",
    "ilorest select HpeiLOSecurityParam.\n",
    "\n",
    "# List security params in JSON format\n",
    "ilorest list --json"
   ]
  },
  {
   "cell_type": "markdown",
   "metadata": {},
   "source": [
    "#### List all security params at risk\n",
    "\n",
    "To retrieve this list you don't need to select the data type as it is already selected."
   ]
  },
  {
   "cell_type": "code",
   "execution_count": null,
   "metadata": {},
   "outputs": [],
   "source": [
    "ilorest list --filter SecurityStatus=\"Risk\""
   ]
  },
  {
   "cell_type": "markdown",
   "metadata": {},
   "source": [
    "#### Get specific security parameter properties"
   ]
  },
  {
   "cell_type": "code",
   "execution_count": null,
   "metadata": {},
   "outputs": [],
   "source": [
    "ilorest get --filter Name=\"Require Login for iLO RBSU\""
   ]
  },
  {
   "cell_type": "markdown",
   "metadata": {},
   "source": [
    "#### Get specific property of a specific security parameter"
   ]
  },
  {
   "cell_type": "code",
   "execution_count": null,
   "metadata": {},
   "outputs": [],
   "source": [
    "ilorest get Ignore --filter Name=\"Minimum Password Length\""
   ]
  },
  {
   "cell_type": "markdown",
   "metadata": {},
   "source": [
    "<-- [Environment Preparation](#EnvironmentPreparation) ; [List of examples](#BackToList)  ; [Restart iLO 5 Simulator](#iLO5SimulatorRestart) ; [Logout](#Logout) -->"
   ]
  },
  {
   "cell_type": "markdown",
   "metadata": {},
   "source": [
    "### <a id = \"iLOSecurityMode\">Security Mode/State</a>\n",
    "\n",
    "From the iLO 5 Graphical User Interface, in the `Security` --> `Encryption` menu, you can view and modify the `SecurityState` setting. This setting is part of the `HpeSecurityService` data type as mentioned in the [API Reference Document](https://hewlettpackard.github.io/ilo-rest-api-docs/ilo5/#securitystate).\n",
    "\n",
    ">NOTE: Software like the Smart Update Tool (`SUT`) may refer to this setting as `Security Mode` instead of `Security State`. \n",
    "\n",
    "#### Retrieve and modify the iLO 5 Security State setting\n",
    "\n",
    "The following cell retrieves all the properties of the `HpeSecurityService` and modifies the `SecurityState`. A similar change on a real iLO 5 **automatically triggers a reset** of the iLO. "
   ]
  },
  {
   "cell_type": "code",
   "execution_count": null,
   "metadata": {},
   "outputs": [],
   "source": [
    "# Select data type and refresh cache\n",
    "ilorest select HpeSecurityService. --refresh\n",
    "\n",
    "# Retrieve all Security Service paramters\n",
    "ilorest get --json\n",
    "\n",
    "# Modify Security State\n",
    "SecurityState=$(ilorest get SecurityState | cut --delimiter== --field=2)\n",
    "echo \n",
    "\n",
    "if [ \"$SecurityState\" = \"Production\" ]; then\n",
    "   echo \"Setting Security State to HighSecurity\"\n",
    "   ilorest set SecurityState=\"HighSecurity\" --commit\n",
    "else\n",
    "    echo \"Setting Security State to Production\"\n",
    "    ilorest set SecurityState=\"Production\" --commit\n",
    "fi\n",
    "\n",
    "echo\n",
    "ilorest get SecurityState "
   ]
  },
  {
   "cell_type": "markdown",
   "metadata": {},
   "source": [
    "<-- [Environment Preparation](#EnvironmentPreparation) ; [List of examples](#BackToList)  ; [Restart iLO 5 Simulator](#iLO5SimulatorRestart) ; [Logout](#Logout) -->"
   ]
  },
  {
   "cell_type": "markdown",
   "metadata": {},
   "source": [
    "### <a id = \"LoginSecurityBanner\">Login Security Banner</a>\n",
    "\n",
    "From the iLO 5 Graphical User Interface, in the `Security` --> `Login Security Banner` menu, you can enable/disable and customize the `LoginSecurityBanner` setting. This setting is part of the `HpeSecurityService` data type as mentioned in the [API Reference Document](https://hewlettpackard.github.io/ilo-rest-api-docs/ilo5/#loginsecuritybanner).\n",
    "\n",
    "#### Retrieve and modify the iLO 5 Security State setting\n",
    "\n",
    "The following cell modifies the state of the Security Login Banner and provides a message when enabled. You don't need to reset the iLO 5 to effectively modify this banner."
   ]
  },
  {
   "cell_type": "code",
   "execution_count": null,
   "metadata": {},
   "outputs": [],
   "source": [
    "# Select data type and refresh cache\n",
    "ilorest select HpeSecurityService. --refresh\n",
    "\n",
    "# Retrieve Login Security Banner settings\n",
    "ilorest get LoginSecurityBanner --json\n",
    "\n",
    "# Modify Login Security Banner settings\n",
    "LoginSecurityBanner=$(ilorest get LoginSecurityBanner/IsEnabled | cut --delimiter== --field=2)\n",
    "echo \n",
    "\n",
    "if [ $LoginSecurityBanner = False ]; then\n",
    "   echo \"Enabling Login Security Banner with a custom message\"\n",
    "   ilorest set LoginSecurityBanner/IsEnabled=True --commit\n",
    "   ilorest set LoginSecurityBanner/SecurityMessage=\"This is My Custom Security Message\" --commit\n",
    "else\n",
    "    echo \"Disabling Login Security Banner\"\n",
    "    # The following set command is not required with a real iLO 5. \n",
    "    # It's only there to get a \"realistic\" behavior of the simulator.\n",
    "    ilorest set LoginSecurityBanner/SecurityMessage=\"\" --commit\n",
    "    ilorest set LoginSecurityBanner/IsEnabled=False --commit\n",
    "fi\n",
    "\n",
    "echo\n",
    "ilorest get --json LoginSecurityBanner "
   ]
  },
  {
   "cell_type": "markdown",
   "metadata": {},
   "source": [
    "<-- [Environment Preparation](#EnvironmentPreparation) ; [List of examples](#BackToList)  ; [Restart iLO 5 Simulator](#iLO5SimulatorRestart) ; [Logout](#Logout) -->"
   ]
  },
  {
   "cell_type": "markdown",
   "metadata": {},
   "source": [
    "## Bios"
   ]
  },
  {
   "cell_type": "markdown",
   "metadata": {},
   "source": [
    "### <a id = \"BiosSerialNumber\">Server Serial Number stored in BIOS</a>\n",
    "\n",
    "In a computer node, the Serial Number stored in the `Bios.` data type corresponds to the server mother board serial number. HPE requires the change of this serial number in case of mother board replacement to match the chassis serial number. "
   ]
  },
  {
   "cell_type": "code",
   "execution_count": null,
   "metadata": {},
   "outputs": [],
   "source": [
    "# Select data type\n",
    "ilorest select Bios. --refresh\n",
    "echo\n",
    "\n",
    "# Make sure SN is read-write\n",
    "ilorest info Attributes/SerialNumber --latestschema\n",
    "echo\n",
    "\n",
    "# Get SerialNumber from Bios data type.\n",
    "ilorest get Attributes/SerialNumber\n",
    "\n",
    "echo \"Set new SN\"\n",
    "ilorest set Attributes/SerialNumber=\"NEWSN\" --commit\n",
    "\n",
    "# Reload a fresh simulator cache\n",
    "ilorest select Bios. --refresh\n",
    "echo \n",
    "\n",
    "# Validate the SN change\n",
    "ilorest get Attributes/SerialNumber\n"
   ]
  },
  {
   "cell_type": "markdown",
   "metadata": {},
   "source": [
    "## Storage"
   ]
  },
  {
   "cell_type": "markdown",
   "metadata": {},
   "source": [
    "<-- [Environment Preparation](#EnvironmentPreparation) ; [List of examples](#BackToList)  ; [Restart iLO 5 Simulator](#iLO5SimulatorRestart) ; [Logout](#Logout) -->"
   ]
  },
  {
   "cell_type": "markdown",
   "metadata": {},
   "source": [
    "### <a id = \"SSD_WearStatus\">SSD Wear Status</a>\n",
    "\n",
    "The `WearStatus` property belongs to the `Drive` data type as mentioned in the [API Reference Document](https://hewlettpackard.github.io/ilo-rest-api-docs/ilo5/#oem-hpe-wearstatus).\n",
    "\n",
    "The `Drive` data type may not exist in servers not containing suitable hardware. Unfortunately, the physical DL360 Gen10 server available in this infrastrucutre (and associated simulator) does not contain any SSD drive with a `WearStatus`. Hence, you will have to switch to another iLO 5 simulator.\n",
    "\n",
    "The next cell points to another iLO 5 simulator containing suitable hardware.\n"
   ]
  },
  {
   "cell_type": "code",
   "execution_count": null,
   "metadata": {},
   "outputs": [],
   "source": [
    "# Switch iLO 5 Simulator\n",
    "PreviousiLO5SimulatorURI=${iLO5SimulatorURI}\n",
    "let iLO5SimulatorBasePort=$IloSyBasePort\n",
    "let iLO5SimulatorPort=${iLO5SimulatorBasePort}+${Stud}\n",
    "iLOSimulator=${iLO5SimulatorIP}:${iLO5SimulatorPort}\n",
    "iLO5SimulatorURI=https://${iLOSimulator}\n",
    "alias ResetIlo5Simulator=\"ssh rstsimul@${iLO5SimulatorIP} $Id $iLO5SimulatorBasePort\"\n",
    "\n",
    "# iLO 5 Simulator restart\n",
    "ResetIlo5Simulator\n",
    "\n",
    "# Verify all BMCs are reachable\n",
    "for bmc in ilo5 OpenBmc iLO5Simulator ; do\n",
    "    ip=\"${bmc}IP\" ; port=$(echo ${bmc}Port)\n",
    "    nc -vz  $(eval echo \"\\$${ip}\") $(eval echo \"\\$${port}\") &> /dev/null && \n",
    "        echo \"$bmc is reachable\" \\\n",
    "        || echo \"WARNING: Problem reaching $bmc\"\n",
    "done\n",
    "\n",
    "\n",
    "# Change cache with Synergy simulator content and SSD drives\n",
    "rm ${CacheDir}/cache/* &>/dev/null\n",
    "tar -C ${CacheDir}/cache -x -f SSD-cache.tgz \n",
    "\n",
    "\n",
    "# Redirect cache toward the iLO 5 Simulator\n",
    "sed -i \"s?${iLO5SimulatorBasePort}?${iLO5SimulatorPort}?\" ${CacheDir}/cache/*\n",
    "\n",
    "echo ; echo\n",
    "echo \"NOTE: This notebooks points now to a Synergy iLO 5 simulator\"\n",
    "echo \"      If you want to come back to the DL360g10 iLO 5 simulator,\"\n",
    "echo \"      restart Kernel and clear all output and run the first two cells (environment preparation and login)\n",
    "echo \"      at the beginning of this Notebook\"\n",
    "echo ; echo"
   ]
  },
  {
   "cell_type": "markdown",
   "metadata": {},
   "source": [
    "   &nbsp;\n",
    "\n",
    "\n",
    "The Redfish service of this new simulated compute node contains several SSD disk drives. Among them, only two of them have the `WearStatus` propoerty. The next cell identifies these two drives and then retrieves the `WearStatus` of one of them."
   ]
  },
  {
   "cell_type": "code",
   "execution_count": null,
   "metadata": {},
   "outputs": [],
   "source": [
    "echo \"Drives in the Chassis data type\"\n",
    "ilorest list Links/Drives --json --select Chassis.\n",
    "\n",
    "echo -e \"\\n Wear status of drive 3d9db7a1\" \n",
    "ilorest get Oem/Hpe/WearStatus --json --filter Id=\"3d9db7a1\" --select Drive"
   ]
  },
  {
   "cell_type": "markdown",
   "metadata": {},
   "source": [
    "<-- [Environment Preparation](#EnvironmentPreparation) ; [List of examples](#BackToList)  ; [Restart iLO 5 Simulator](#iLO5SimulatorRestart) ; [Logout](#Logout) -->"
   ]
  },
  {
   "cell_type": "markdown",
   "metadata": {},
   "source": [
    "## <a id = \"Logout\">Logout</a>\n",
    "\n",
    "Always logout when your session is over. You can as well logout and [restart](#iLO5SimulatorRestart) the iLO 5 simulator if you want once again use this Jupyter Notebook."
   ]
  },
  {
   "cell_type": "code",
   "execution_count": null,
   "metadata": {},
   "outputs": [],
   "source": [
    "ilorest logout"
   ]
  },
  {
   "cell_type": "markdown",
   "metadata": {},
   "source": [
    "<-- [Environment Preparation](#EnvironmentPreparation) ; [List of examples](#BackToList)  ; [Restart iLO 5 Simulator](#iLO5SimulatorRestart) ; [Logout](#Logout) -->"
   ]
  },
  {
   "cell_type": "markdown",
   "metadata": {},
   "source": [
    "## Summary\n",
    "\n",
    "In this workshop, you discovered several HPE iLOrest examples. Go to the [Conclusion Notebook](3-Conclusion.ipynb) if you are finished."
   ]
  }
 ],
 "metadata": {
  "kernelspec": {
   "display_name": "Bash",
   "language": "bash",
   "name": "bash"
  },
  "language_info": {
   "codemirror_mode": "shell",
   "file_extension": ".sh",
   "mimetype": "text/x-sh",
   "name": "bash"
  }
 },
 "nbformat": 4,
 "nbformat_minor": 4
}
