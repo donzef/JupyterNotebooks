{
 "cells": [
  {
   "cell_type": "markdown",
   "metadata": {},
   "source": [
    "# iLOrest examples\n"
   ]
  },
  {
   "cell_type": "markdown",
   "metadata": {},
   "source": [
    "Version 0.72"
   ]
  },
  {
   "cell_type": "markdown",
   "metadata": {},
   "source": [
    "## Introduction\n",
    "\n",
    "This Jupyter Notebook contains iLOrest [examples](#BackToList) as well as tips and tricks answering recurrent questions from HPE customers."
   ]
  },
  {
   "cell_type": "markdown",
   "metadata": {},
   "source": [
    "## <a id = \"EnvironmentPreparation\">Environment preparation</a>\n",
    "\n",
    "The following cell sets environment variables and checks the connectivity toward the various BMCs used in this notebook."
   ]
  },
  {
   "cell_type": "code",
   "execution_count": null,
   "metadata": {},
   "outputs": [],
   "source": [
    "########## Environment preparation (Version: 0.30) ############\n",
    "\n",
    "\n",
    "# Set Student ID number\n",
    "export stdid=00\n",
    "Id=$(id --user --name)\n",
    "\n",
    "# location and ports variables\n",
    "ObmcBasePort=44000\n",
    "iLO5DlBasePort=45000\n",
    "iLO5SyBasePort=46000\n",
    "RMCSdfBasePort=47000\n",
    "\n",
    "let OpenBmcPort=${ObmcBasePort}+${stdid}\n",
    "let iLO5DlSimulatorPort=$iLO5DlBasePort+${stdid}\n",
    "let iLO5SySimulatorPort=${iLO5SyBasePort}+${stdid}\n",
    "let RMCSdfSimulatorPort=${RMCSdfBasePort}+${stdid}\n",
    "let ilo5Port=443\n",
    "\n",
    "CacheDlDir=\"${PWD}/iLOrestCacheDl\"\n",
    "CacheSyDir=\"${PWD}/iLOrestCacheSy\"\n",
    "CacheSdfDir=\"${PWD}/iLOrestCacheSdf\"\n",
    "LogDir=\"${PWD}\"\n",
    "LogFile=\"${LogDir}/iLOrest.log\"\n",
    "\n",
    "iLO5DlSimulatorIP=ilo5simulators\n",
    "iLO5SySimulatorIP=ilo5simulators\n",
    "RMCSdfSimulatorIP=ilo5simulators\n",
    "OpenBmcIP=openbmcsimulators\n",
    "\n",
    "iLO5DlSimulator=${iLO5SimulatorIP}:${iLO5DlSimulatorPort}\n",
    "iLO5DlSimulatorURI=https://${iLO5DlSimulator}\n",
    "\n",
    "iLO5SySimulator=${iLO5SimulatorIP}:${iLO5SySimulatorPort}\n",
    "iLO5SySimulatorURI=https://${iLO5SySimulator}\n",
    "\n",
    "RMCSdfSimulator=${RMCSdfSimulatorIP}:${RMCSdfSimulatorPort}\n",
    "RMCSdfSimulatorURI=https://${RMCSdfSimulator}\n",
    "\n",
    "OpenBmc=\"${OpenBmcIP}:${OpenBmcPort}\"\n",
    "OpenBmcURI=\"https://${OpenBmc}\"\n",
    "\n",
    "ilo5IP=\"ilo5\"\n",
    "ilo5=\"${ilo5IP}:${ilo5Port}\"\n",
    "ilo5URI=\"https://${ilo5}\"\n",
    "\n",
    "# Credentials\n",
    "User=\"student\"\n",
    "Password='P@ssw0rd!'\n",
    "\n",
    "# Miscellaneous\n",
    "w=$(basename $PWD)\n",
    "alias ResetSimulators=\"../create-globalbmc.shc.x &>/dev/null ; sleep 1\"\n",
    "\n",
    "# Verify we can reach the remote Bmcs on the right HTTPS ports. \n",
    "for bmc in OpenBmc ilo5 iLO5DlSimulator iLO5SySimulator RMCSdfSimulator ; do\n",
    "    ip=\"${bmc}IP\" ; port=\"${bmc}Port\"\n",
    "    nc -vz  $(eval echo \"\\$${ip}\") $(eval echo \"\\$${port}\") &> /dev/null &&\n",
    "        echo \"$bmc is reachable\" \\\n",
    "        || echo \"WARNING: Problem reaching $bmc\"\n",
    "done\n",
    "\n",
    "echo\n",
    "# Retrieve iLO firmware versions from ServiceRoot (no credentials needed)\n",
    "for bmc in ilo5 iLO5DlSimulator iLO5SySimulator ; do\n",
    "    ip=\"${bmc}IP\" ; port=\"${bmc}Port\"\n",
    "    echo -n \"$bmc firmware version: \"\n",
    "    curl --silent --insecure -X GET https://$(eval echo \\$${ip}):$(eval echo \\$${port})/redfish/v1 | \\\n",
    "         jq  '[.Oem.Hpe.Manager[]] | .[] | .ManagerFirmwareVersion' 2>/dev/null\n",
    "done\n",
    "\n",
    "echo \n",
    "# Print ilorest version\n",
    "ilorest --version"
   ]
  },
  {
   "cell_type": "markdown",
   "metadata": {},
   "source": [
    "### Cache preparation\n",
    "\n",
    "The following examples can be run against either an HPE ProLiant DL360 Gen10 simulator or an HPE Sy480 Gen10 simulators. To allow these simulateneous tests, we need to populate a cache directory for each simulator with the corresponding mockup and then create aliases of the `ilorest` command with the ad'hoc cache directory supplied on the command line.\n",
    "\n",
    "Moockup files have been created with the [DMTF Mockup creator utility](https://github.com/DMTF/Redfish-Mockup-Creator)."
   ]
  },
  {
   "cell_type": "code",
   "execution_count": null,
   "metadata": {},
   "outputs": [],
   "source": [
    "# iLOrest cache preparation\n",
    "iLO5SyCache=\"iLO5Sy480g10.tgz\"\n",
    "iLO5DlCache=\"iLO5Dl360g10.tgz\"\n",
    "RMCSdfCache=\"RMCSdf.tgz\"\n",
    "\n",
    "CacheLocation=\"${PWD}\" \n",
    "echo\n",
    "for s in iLO5Dl iLO5Sy RMCSdf ; do\n",
    "   case $s in \n",
    "      RMC*) ServerType=$(echo $s | cut -dC -f2); ;;\n",
    "      iLO*) ServerType=$(echo $s | cut -d5 -f2); ;;\n",
    "      *) echo \"Server $s not known\" ; break; ;;\n",
    "   esac\n",
    "   \n",
    "   BasePort=\"${s}BasePort\" ; SimulIP=\"${s}SimulatorIP\"; SimulPort=\"${s}SimulatorPort\"\n",
    "   exp=\"s?$(eval echo \\$$BasePort)?$(eval echo \\$$SimulPort)?\"\n",
    "   \n",
    "   CacheDir=\"${CacheLocation}/$(eval echo \\$$SimulIP):$(eval echo \\$$SimulPort)\"\n",
    "   Cache=$(eval echo \"\\$${s}Cache\")\n",
    "   \n",
    "   [ -d ${CacheDir} ] && rm -rf ${CacheDir}                       &>/dev/null\n",
    "   mkdir -p ${CacheDir}/cache/                                    &>/dev/null\n",
    "   tar -C ${CacheDir}/cache -x -f ${Cache} \n",
    "   sed -i -e 's/:'$(eval echo \\$${s}BasePort)'/:'$(eval echo \\$${s}SimulatorPort)'/' ${CacheDir}/cache/*\n",
    "   alias ilorest${ServerType}=\"ilorest --nologo --cache-dir ${CacheDir} --logdir ${LogDir}\"\n",
    "   echo -e \"\\tPopulated $s cache directory under $(basename ${CacheDir}) and created ilorest${ServerType} alias\"   \n",
    "done"
   ]
  },
  {
   "cell_type": "markdown",
   "metadata": {},
   "source": [
    "### <a id = \"iLO5SimulatorRestart\">Restart iLO 5 simulator</a>\n",
    "\n",
    "If you need or desire to restart your iLO 5 simulator to start this workshop from scratch or for other reasons, run the following cell at any time."
   ]
  },
  {
   "cell_type": "code",
   "execution_count": null,
   "metadata": {},
   "outputs": [],
   "source": [
    "# Simulators restart\n",
    "ResetSimulators\n",
    "\n",
    "# Verify we can reach the remote Bmcs on the right HTTPS ports. \n",
    "for bmc in ilo5 OpenBmc iLO5DlSimulator iLO5SySimulator RMCSdfSimulator ; do\n",
    "    ip=\"${bmc}IP\" ; port=\"${bmc}Port\"\n",
    "    nc -vz  $(eval echo \"\\$${ip}\") $(eval echo \"\\$${port}\") &>/dev/null && \n",
    "        echo \"$bmc is reachable\" \\\n",
    "        || echo \"WARNING: Problem reaching $bmc\"\n",
    "done"
   ]
  },
  {
   "cell_type": "markdown",
   "metadata": {},
   "source": [
    "## <a id = \"BackToList\">List of examples</a>\n",
    "\n",
    "Note that the list of examples present in this Jupyter Notebook is changing over time. The classification is not following any strict model; it is a mix of Root service and data type locations.\n"
   ]
  },
  {
   "cell_type": "markdown",
   "metadata": {},
   "source": [
    "<table>\n",
    "    <tr>\n",
    "        <th> &nbsp; &nbsp; &nbsp; &nbsp; &nbsp; </th>\n",
    "        <th> &nbsp; &nbsp; &nbsp; &nbsp; &nbsp; </th>\n",
    "    </tr>\n",
    "    <tr>\n",
    "        <td>    \n",
    "            \n",
    "Account Service\n",
    "   - [iLO users: Enforce password complexity and minimum password length](#EnforceiLOUsersPasswordComplexity)\n",
    "        \n",
    "        </td>\n",
    "        <td>\n",
    "            \n",
    "Chassis\n",
    "   - [Chassis Serial Number](#ChassisSerialNumber)\n",
    "   - [Power State](#PowerState)\n",
    "   - [Indicator LED](#IndicatorLED)\n",
    "   - [Chassis Asset Tag](#ChassisAssetTag)\n",
    "            \n",
    "        </td>\n",
    "    </tr>\n",
    "    <tr>\n",
    "        <td>\n",
    "            \n",
    "Thermal\n",
    "   - [Server thermal information](#ThermalInfo)\n",
    "   - [Thermal configuration](#ThermalConfiguration)\n",
    "            \n",
    "        </td>\n",
    "        <td>\n",
    "            \n",
    "Managers (iLO)\n",
    "   - [Retrieve iLO firmware version](#iLOFwVersion)\n",
    "   - [Enable/Disable SNMPv1 in iLO](#SNMPv1Enabled)\n",
    "\n",
    "        </td>\n",
    "    </tr>\n",
    "    <tr>\n",
    "        <td>\n",
    "            \n",
    "CompusterSystem\n",
    "   - [PostState and DiscoveryComplete](#PostState_And_DiscoveryComplete)\n",
    "   - [AMS and HostOS](#AMS_And_HostOS)\n",
    "   - [Bios/RBSU Login password](#ManageBiosRbsuPassword)\n",
    "   - [Computer System Asset Tag](#ComputerSystemAssetTag)\n",
    "                       \n",
    "        </td>\n",
    "        <td>\n",
    "            \n",
    "Resource Directory\n",
    "   - [Introduction](#ResourceDirectoryIntroduction)             \n",
    "             \n",
    "        </td>\n",
    "    </tr>\n",
    "    <tr>\n",
    "        <td>\n",
    "            \n",
    "Security\n",
    "   - [Security Dashboard](#SecurityDashboard)\n",
    "   - [iLO Security Mode/State](#iLOSecurityMode)\n",
    "   - [Login Security Banner](#LoginSecurityBanner)\n",
    "\n",
    "        </td>\n",
    "        <td>\n",
    "            \n",
    "Bios\n",
    "   - [Server Serial Number](#BiosSerialNumber)\n",
    "                      \n",
    "        </td>       \n",
    "    </tr>\n",
    "    <tr>\n",
    "        <td>\n",
    "            \n",
    "Storage\n",
    "   - [SSD Wear Status](#SSD_WearStatus)            \n",
    "            \n",
    "        </td>\n",
    "        <td>\n",
    "            \n",
    "Logout\n",
    "   - [Logout](#Logout)            \n",
    "            \n",
    "        </td>\n",
    "    </tr>\n",
    "</table>"
   ]
  },
  {
   "cell_type": "markdown",
   "metadata": {},
   "source": [
    "## Account Service\n",
    "\n",
    "This root service models the iLO User Accounts."
   ]
  },
  {
   "cell_type": "markdown",
   "metadata": {},
   "source": [
    "### <a id = \"EnforceiLOUsersPasswordComplexity\">iLO users: Enforce password complexity and minimum password length</a>\n",
    "\n",
    "[API Reference document](https://hewlettpackard.github.io/ilo-rest-api-docs/ilo5/#oem-hpe-enforcepasswordcomplexity) keyword: `EnforcePasswordComplexity` \\\n",
    "iLO GUI location: `Security - Access Settings`"
   ]
  },
  {
   "cell_type": "code",
   "execution_count": null,
   "metadata": {},
   "outputs": [],
   "source": [
    "# Select type of server: Dl (ProLiant DL360g10) or Sy (Synergy)\n",
    "s=\"Dl\" \n",
    "\n",
    "# Select DMTF data type \n",
    "eval ilorest$s select AccountService\n",
    "\n",
    "# List properties of the HPE Oem extension in json format \n",
    "eval ilorest$s list Oem/Hpe --json\n",
    "\n",
    "# Modify two AccountService parameters\n",
    "eval ilorest$s set Oem/Hpe/EnforcePasswordComplexity=True\n",
    "eval ilorest$s set Oem/Hpe/MinPasswordLength=5\n",
    "\n",
    "# Retrieve the list of modified paramters\n",
    "echo -e \"\\n\\nList of modified parameters:\"\n",
    "eval ilorest$s status\n",
    "\n",
    "# Uncommnent the following comand to commit changes in the iLO 5 simulator.\n",
    "# Note that you will not get the same answer as if done on a real iLO 5.\n",
    "#eval ilorest$s commit\n",
    "\n",
    "# Undo changes (clear cache)\n",
    "eval ilorest$s select AccountService --refresh"
   ]
  },
  {
   "cell_type": "markdown",
   "metadata": {},
   "source": [
    "<-- [Environment Preparation](#EnvironmentPreparation) ; [List of examples](#BackToList)  ; [Restart iLO 5 Simulator](#iLO5SimulatorRestart) ; [Logout](#Logout) -->"
   ]
  },
  {
   "cell_type": "markdown",
   "metadata": {},
   "source": [
    "## Chassis\n",
    "\n",
    "This section contains parameters related to the `Chassis` [data type](https://hewlettpackard.github.io/ilo-rest-api-docs/ilo5/#chassis-v1_6_0-chassis). A Chassis represents a physical or virtual container of compute resources with attrbutes such as Field Replacement Units (FRU) information, power supplies, temperature, etc.\n",
    "\n",
    "Complex chassis subsystems may have their own data type (i.e. [Thermal](#ThermalInfo))\n",
    "\n",
    "Chassis examples:\n",
    "  - Rack\n",
    "  - Blade enclosure\n",
    "  - HPE Synergy frame \n",
    "  - Compute node chassis"
   ]
  },
  {
   "cell_type": "markdown",
   "metadata": {},
   "source": [
    "### <a id = \"ChassisSerialNumber\">Chassis Serial Number</a>\n",
    "\n",
    "The chassis Serial Number (SN) of an HPE compute node mentioned on an external label/tag with code bar/QRcode is identical to its embedded server serial number (Bios parameter). Note that the serial number of a C7000 enclosure chassis or Synergy frame chassis is unique and different to every SN of embedded compute nodes.\n",
    "\n",
    "The following cell retrieves the serial number of an HPE compute node chassis and shows explicitely that it is a `read-only` property. The server serial number is presented [here](#BiosSerialNumber) in the documentation.\n",
    "\n",
    "This chassis serial number is also present in the Bios data type as a writable resource. See the [example](#BiosSerialNumber) below.\n",
    "\n",
    "[API Reference document](https://hewlettpackard.github.io/ilo-rest-api-docs/ilo5/#serialnumber294) keyword: `SerialNumber` \\\n",
    "iLO GUI location: `Information - iLO Overview` \n",
    "\n"
   ]
  },
  {
   "cell_type": "code",
   "execution_count": null,
   "metadata": {},
   "outputs": [],
   "source": [
    "# Select type of server: Dl (ProLiant DL360g10) or Sy (Synergy)\n",
    "s=\"Dl\" \n",
    "\n",
    "# Select data type\n",
    "eval ilorest$s select Chassis\n",
    "\n",
    "# Get SerialNumber from the Chassis data type\n",
    "eval ilorest$s get SerialNumber\n",
    "\n",
    "# Note that this property is READ-ONLY\n",
    "echo -e \"\\n\\nGet information about resource:\"\n",
    "eval ilorest$s info SerialNumber"
   ]
  },
  {
   "cell_type": "markdown",
   "metadata": {},
   "source": [
    "### <a id = \"PowerState\">Power State</a>\n",
    "\n",
    "The following cell retrieves the power state and information related to this parameter. Note that this parameter is read-only. If you want a more precise server state, read the [PostState and DiscoveryComplete](#PostState_And_DiscoveryComplete) and [AMS and HostOS](#AMS_And_HostOS) paragraphs.\n",
    "\n",
    "As mentioned in the [API reference documentation](https://hewlettpackard.github.io/ilo-rest-api-docs/ilo5/#powerstate) this property is part of the `Chassis` data type. "
   ]
  },
  {
   "cell_type": "code",
   "execution_count": null,
   "metadata": {},
   "outputs": [],
   "source": [
    "# Select type of server: Dl (ProLiant DL360g10) or Sy (Synergy)\n",
    "s=\"Dl\" \n",
    "\n",
    "# Select data type\n",
    "eval ilorest$s select Chassis\n",
    "\n",
    "# Get property value\n",
    "eval ilorest$s get PowerState\n",
    "\n",
    "# Retrieve property info with possible values.\n",
    "echo -e \"\\n\\nGet information about resource:\"\n",
    "eval ilorest$s info PowerState\n",
    "\n"
   ]
  },
  {
   "cell_type": "markdown",
   "metadata": {},
   "source": [
    "### <a id = \"IndicatorLED\">Indicator LED</a>\n",
    "\n",
    "The chassis indicator LED corresponds to the blue LED that is used to identify the chassis of a compute node or of a Synergy framce in the datacenter.\n",
    "\n",
    "The following cell prints the status of the `IndicatorLED` property of the compute node only (`RackMount` or `Blade`). It filters out the `IndicatorLED` status of the Synergy frame if any."
   ]
  },
  {
   "cell_type": "code",
   "execution_count": null,
   "metadata": {},
   "outputs": [],
   "source": [
    "# Select type of server: Dl (ProLiant DL360g10) or Sy (Synergy)\n",
    "#s=\"Dl\" \n",
    "s=\"Dl\"\n",
    "\n",
    "# Set filter depending on Chassis type\n",
    "case $s in  Dl )  Filter=\"RackMount\"; ;; Sy ) Filter=\"Blade\"; ;; * )  echo \"Chassis Type not recognized\"; ;; esac\n",
    "\n",
    "# Select data type\n",
    "eval ilorest$s select Chassis\n",
    "\n",
    "# Get property value\n",
    "IndicatorLED=$(eval ilorest$s get --json IndicatorLED --filter ChassisType=\"$Filter\")\n",
    "echo \"IndicatorLED=$IndicatorLED\"\n",
    "\n",
    "# Retrieve property info\n",
    "eval ilorest$s info IndicatorLED"
   ]
  },
  {
   "cell_type": "code",
   "execution_count": null,
   "metadata": {},
   "outputs": [],
   "source": [
    "# Select type of server: Dl (ProLiant DL360g10) or Sy (Synergy)\n",
    "s=\"Dl\" \n",
    "\n",
    "# Set filter depending on Chassis type\n",
    "case $s in  Dl )  Filter=\"RackMount\"; ;; Sy ) Filter=\"Blade\"; ;; * )  echo \"Chassis Type not recognized\"; ;; esac\n",
    "\n",
    "# Refresh cache\n",
    "eval ilorest$s select Chassis --refresh\n",
    "\n",
    "# Change the indicator LED state\n",
    "LEDState=$(eval ilorest$s get IndicatorLED --filter ChassisType=\"$Filter\" | cut -d= --field=2)\n",
    "echo -e \"LED State:$LEDState\\n\"  \n",
    "\n",
    "if [ \"$LEDState\" = \"Off\" ]; then\n",
    "    LEDState=\"Lit\"\n",
    "else\n",
    "    LEDState=\"Off\"\n",
    "fi\n",
    "\n",
    "# Change property and commit\n",
    "echo \"Changing IndicatorLED to $LEDState\"\n",
    "eval ilorest$s set IndicatorLED=\"$LEDState\" --filter ChassisType=\"$Filter\"  #--commit \n",
    "echo\n",
    "\n",
    "# Validate property change\n",
    "#eval ilorest$s get IndicatorLED"
   ]
  },
  {
   "cell_type": "markdown",
   "metadata": {},
   "source": [
    "### <a id = \"ChassisAssetTag\">Chassis Asset Tag</a>\n",
    "\n",
    "The Chassis `AssetTag` is different from the `ComputerSystem` [Asset Tag](#ComputerSystemAssetTag). "
   ]
  },
  {
   "cell_type": "code",
   "execution_count": null,
   "metadata": {},
   "outputs": [],
   "source": [
    "# Select type of server: Dl (ProLiant DL360g10) or Sy (Synergy)\n",
    "s=\"Dl\" \n",
    "\n",
    "# Select data type\n",
    "eval ilorest$s select Chassis --refresh\n",
    "\n",
    "# Get property value\n",
    "eval ilorest$s get AssetTag"
   ]
  },
  {
   "cell_type": "code",
   "execution_count": null,
   "metadata": {},
   "outputs": [],
   "source": [
    "# Select type of server: Dl (ProLiant DL360g10) or Sy (Synergy)\n",
    "s=\"Dl\" \n",
    "\n",
    "# Select data type\n",
    "eval ilorest$s select Chassis --refresh\n",
    "\n",
    "# Change the Chassis Asset Tag property. Uncomment the --commit when performing this action against a real BMC\n",
    "eval ilorest$s set AssetTag=\"New\\ Chassis\\ Asset\\ Tag\" #--commit \n",
    "\n",
    "# Verify change\n",
    "echo\n",
    "eval ilorest$s get AssetTag"
   ]
  },
  {
   "cell_type": "markdown",
   "metadata": {},
   "source": [
    "<-- [Environment Preparation](#EnvironmentPreparation) ; [List of examples](#BackToList)  ; [Restart iLO 5 Simulator](#iLO5SimulatorRestart) ; [Logout](#Logout) -->"
   ]
  },
  {
   "cell_type": "markdown",
   "metadata": {},
   "source": [
    "## Thermal\n",
    "\n",
    "The [Thermal](https://hewlettpackard.github.io/ilo-rest-api-docs/ilo5/#thermal-v1_1_0-thermal) data type describes the system thermal metrics. It provides the temperatures in different locations in the chassis as well as fan properties. It also offers the possibility to configure the fans with a specific cooling directive (Optimal, Enhanced, etc ...). \n",
    "\n",
    "Thermal information belongs to the `Thermal` data type. However, the thermal configuration (`ThermalConfig`) is part of the `Bios` data type. Hence, to modify the `ThermalConfig` property, you will need to reboot the entire system to effectively apply this modification.\n",
    "\n",
    "Starting with iLO firmware **2.30**, it is theoritically possible to modify the thermal configuration using the `Oem/Hpe/ThermalConfiguration` property of the `Thermal` data type without any system reset. \n",
    "\n",
    ">**NOTE**: As of the writing of this workshop, `Oem/Hpe/ThermalConfiguration` property cannot be modified (Read-Only property error). Hence you need to use a `rawpatch` command to modify it. Possible values for the `ThermalConfiguration` property are: `OptimalCooling`, `IncreasedCooling`, `MaximumCooling` and `EnhancedCooling`. The last two values differ from the Bios `ThermalConfig` property (`MaxCooling`, `EnhancedCPUCooling`)"
   ]
  },
  {
   "cell_type": "markdown",
   "metadata": {},
   "source": [
    "### <a id = \"ThermalInfo\">Server Thermal Information</a>\n",
    "\n",
    "The following cell retrieves both fan and sensor properties, including temperatures."
   ]
  },
  {
   "cell_type": "code",
   "execution_count": null,
   "metadata": {},
   "outputs": [],
   "source": [
    "# Select type of server: Dl (ProLiant DL360g10) or Sy (Synergy)\n",
    "s=\"Dl\" \n",
    "\n",
    "# Retrieve server thermal properties\n",
    "eval ilorest$s list --json --select Thermal"
   ]
  },
  {
   "cell_type": "markdown",
   "metadata": {},
   "source": [
    "If you want only sensor information, you can use the **`serverinfo`** macro command like that found in the following cell"
   ]
  },
  {
   "cell_type": "code",
   "execution_count": null,
   "metadata": {},
   "outputs": [],
   "source": [
    "# Select type of server: Dl (ProLiant DL360g10) or Sy (Synergy)\n",
    "s=\"Dl\" \n",
    "\n",
    "# Retrieve data type used by the server info macro command\n",
    "eval ilorest$s serverinfo --thermal"
   ]
  },
  {
   "cell_type": "markdown",
   "metadata": {},
   "source": [
    "### <a id = \"ThermalConfiguration\">ThermalConfiguration</a>\n",
    "\n",
    "The following cells retrieve the thermal configuration from the `Bios` data type first, and then from the `Thermal` data type."
   ]
  },
  {
   "cell_type": "code",
   "execution_count": null,
   "metadata": {},
   "outputs": [],
   "source": [
    "# Select type of server: Dl (ProLiant DL360g10) or Sy (Synergy)\n",
    "s=\"Sy\" \n",
    "\n",
    "# Select data type\n",
    "eval ilorest$s select Bios.\n",
    "\n",
    "# Retrieve property\n",
    "eval ilorest$s get Attributes/ThermalConfig\n",
    "echo\n",
    "\n",
    "# Retrieve possible values for the ThermalConfig property\n",
    "#   NOTE: The following command fails against an iLO 5 simulator because the \n",
    "eval ilorest$s info Attributes/ThermalConfig \n",
    "\n",
    "# Change ThermalConfig\n",
    "echo -e \"\\n\\nChanging ThermalConfig\"\n",
    "eval ilorest$s set Attributes/ThermalConfig=\"IncreasedCooling\"  #--commit"
   ]
  },
  {
   "cell_type": "code",
   "execution_count": null,
   "metadata": {},
   "outputs": [],
   "source": [
    "# Select type of server: Dl (ProLiant DL360g10) or Sy (Synergy)\n",
    "s=\"Dl\" \n",
    "\n",
    "# Verify iLO firmware is equal or greater than 2.30\n",
    "eval ilorest$s get FirmwareVersion --select Manager.\n",
    "echo\n",
    "\n",
    "# Select data type\n",
    "eval ilorest$s select Thermal\n",
    "\n",
    "# Retrieve property\n",
    "eval ilorest$s get Oem/Hpe/ThermalConfiguration --json | jq -r '.[]|.[]'\n",
    "echo\n",
    "\n",
    "# Retrieve possible values for property\n",
    "eval ilorest$s info Oem/Hpe/ThermalConfiguration\n",
    "echo\n",
    "\n",
    "# Modify property\n",
    "eval ilorest$s select Thermal --refresh\n",
    "eval ilorest$s set Oem/Hpe/ThermalConfiguration=\"MaximumCooling\"\n",
    "\n"
   ]
  },
  {
   "cell_type": "markdown",
   "metadata": {},
   "source": [
    "<-- [Environment Preparation](#EnvironmentPreparation) ; [List of examples](#BackToList)  ; [Restart iLO 5 Simulator](#iLO5SimulatorRestart) ; [Logout](#Logout) -->"
   ]
  },
  {
   "cell_type": "markdown",
   "metadata": {},
   "source": [
    "## Managers\n",
    "\n",
    "Examples in this section are related to the `Manager` data type as well as HPE Oem data types located below the `/redfish/v1/Managers/` end point like the `HpeiLOSnmpService`. "
   ]
  },
  {
   "cell_type": "markdown",
   "metadata": {},
   "source": [
    "### <a id = \"iLOFwVersion\">Retrieve iLO firmware version</a>\n",
    "\n",
    "The easiest way to retrieve an iLO firmware version is from the `Oem.Hpe.ManagerFirmwareVersion` property of the ` ServiceRoot` data type at `/redfish/v1`. See the last loop in the enviroment preparation cell above. Note that a GET on this location does not require any authentication. \n",
    "\n",
    "As pert the [DMTF Schema documenation](http://redfish.dmtf.org/schemas/v1/Manager.v1_4_9.json#/definitions/Manager), the standard location for managers firmware is in the  [FirmwareVersion](https://hewlettpackard.github.io/ilo-rest-api-docs/ilo5/#firmwareversion1267) property of the [Manager](https://hewlettpackard.github.io/ilo-rest-api-docs/ilo5/#manager-v1_5_1-manager) data type."
   ]
  },
  {
   "cell_type": "code",
   "execution_count": null,
   "metadata": {},
   "outputs": [],
   "source": [
    "# Select type of server: Dl (ProLiant DL360g10) or Sy (Synergy)\n",
    "s=\"Dl\" \n",
    "\n",
    "# Select data type\n",
    "eval ilorest$s select Manager.\n",
    "\n",
    "# Get current value\n",
    "eval ilorest$s get FirmwareVersion\n",
    "echo"
   ]
  },
  {
   "cell_type": "markdown",
   "metadata": {},
   "source": [
    "### <a id = \"SNMPv1Enabled\">Enable/Disable SNMPv1 in iLO</a>\n",
    "\n",
    "> **NOTE** Changing the `SNMPv1Enabled` setting appeared in iLO 5 FW **2.30**.\n",
    "\n",
    "    API Reference document keyword: \"SNMPv1Enabled\" \n",
    "    iLO GUI location: Management --> SNMP Settings --> SNMP Alerts --> SNMPv1"
   ]
  },
  {
   "cell_type": "code",
   "execution_count": null,
   "metadata": {},
   "outputs": [],
   "source": [
    "# Select type of server: Dl (ProLiant DL360g10) or Sy (Synergy)\n",
    "s=\"Sy\" \n",
    "\n",
    "# Select data type\n",
    "eval ilorest$s select HpeiLOSnmpService\n",
    "\n",
    "# Get current value\n",
    "eval ilorest$s get SNMPv1Enabled\n",
    "echo\n",
    "\n",
    "# Set new value\n",
    "eval ilorest$s set SNMPv1Enabled=False #--commit\n",
    "\n",
    "#eval ilorest$s status"
   ]
  },
  {
   "cell_type": "markdown",
   "metadata": {},
   "source": [
    "<-- [Environment Preparation](#EnvironmentPreparation) ; [List of examples](#BackToList)  ; [Restart iLO 5 Simulator](#iLO5SimulatorRestart) ; [Logout](#Logout) -->"
   ]
  },
  {
   "cell_type": "markdown",
   "metadata": {},
   "source": [
    "## HPE iLO Resource Directory\n",
    "\n",
    "The HPE iLO Resource Directory is an HPE OEM extention that contains the exhaustive list of the data types present in a Redfish service. This directory can be used by Redfish clients to lookup resources faster. Without this extension, Redfish clients must crawl the entire Redfish tree, starting at the root entry point, to find a specific resource.\n",
    "\n",
    "The iLOrest utility caches the HPE iLO Resource Directory locally during the login process. When you select a data type, iLOrest very quickly retrieves its location from the cached directory. Then, when you submit get or set requests against specific properties, iLOrest starts looking for them starting at the location found in the cached directory.\n"
   ]
  },
  {
   "cell_type": "markdown",
   "metadata": {},
   "source": [
    "### <a id = \"ResourceDirectoryIntroduction\">Introduction</a>\n",
    "\n",
    "The `HpeiLOResourceDirectory` data type contains an array called `Instances`. Each element of this array corresponds to a data type with associated descriptors: `@odata.id` and `HttpMethods`. The first descriptor is the entry point of the data type in the Redfish tree and the second lists the valid HTTP methods against the data type.\n",
    "\n",
    "> NOTE: The word \"instance\" is a synonym of \"data type\". You will find it in DMTF [python programs](https://github.com/DMTF/Redfish-Tacklebox/blob/master/redfish_utilities/sensors.py) as well as [HPE programs](https://github.com/HewlettPackard/python-ilorest-library/blob/master/examples/Redfish/get_resource_directory.py).\n",
    "\n",
    "The following cell retrieves the first data types (aka instances) of the current iLO 5."
   ]
  },
  {
   "cell_type": "code",
   "execution_count": null,
   "metadata": {},
   "outputs": [],
   "source": [
    "# Select type of server: Dl (ProLiant DL360g10) or Sy (Synergy)\n",
    "s=\"Dl\" \n",
    "\n",
    "# Select data type\n",
    "eval ilorest$s select HpeiLOResourceDirectory\n",
    "\n",
    "# List the first elements of array Instances containing data type properties\n",
    "eval ilorest$s list Instances --json | head -30"
   ]
  },
  {
   "cell_type": "markdown",
   "metadata": {},
   "source": [
    "<-- [Environment Preparation](#EnvironmentPreparation) ; [List of examples](#BackToList)  ; [Restart iLO 5 Simulator](#iLO5SimulatorRestart) ; [Logout](#Logout) -->"
   ]
  },
  {
   "cell_type": "markdown",
   "metadata": {},
   "source": [
    "## Computer System\n",
    "\n",
    "This section contains examples related to the `ComputerSystem` data type."
   ]
  },
  {
   "cell_type": "markdown",
   "metadata": {},
   "source": [
    "### <a id = \"PostState_And_DiscoveryComplete\">PostState and DiscoveryComplete</a>\n",
    "\n",
    "Use these state parameters to evaluate the current state of a system before modifying or viewing its resources. As explained in this [article](https://developer.hpe.com/blog/master-the-redfish-server-states-to-improve-your-monitoring-and-manageme), certain parameters cannot be modified if the computer is not in a specific state.\n",
    "\n",
    "Moreover, some parameters cannot be viewed when the entire discovery of all subsystems is not complete. As an example, you will not be able to view or modify SmartArray and logical drive configurations if the `SmartArrayDiscovery` is not complete."
   ]
  },
  {
   "cell_type": "code",
   "execution_count": null,
   "metadata": {},
   "outputs": [],
   "source": [
    "# Select type of server: Dl (ProLiant DL360g10) or Sy (Synergy)\n",
    "s=\"Dl\" \n",
    "\n",
    "# Select data type\n",
    "eval ilorest$s select ComputerSystem\n",
    "\n",
    "# Retrieve and print DeviceDiscoveryComplete and PostState properties\n",
    "eval ilorest$s get Oem/Hpe/DeviceDiscoveryComplete | grep -v -E 'Oem|Hpe'; echo\n",
    "eval ilorest$s get Oem/Hpe/PostState | grep -v -E 'Oem|Hpe' ; echo"
   ]
  },
  {
   "cell_type": "markdown",
   "metadata": {},
   "source": [
    "<-- [Environment Preparation](#EnvironmentPreparation) ; [List of examples](#BackToList)  ; [Restart iLO 5 Simulator](#iLO5SimulatorRestart) ; [Logout](#Logout) -->"
   ]
  },
  {
   "cell_type": "markdown",
   "metadata": {},
   "source": [
    "### <a id = \"AMS_And_HostOS\">AMS and HostOS</a>\n",
    "\n",
    "When the HPE Agentless Management Service (AMS) is installed in the operating system of the host, it is possible to get various information from the `HostOS` property. This property is present only when AMS is up and running in the host OS.\n",
    "\n",
    "Use keywords `agentless` or `ams` in the [API reference documentation](https://hewlettpackard.github.io/ilo-rest-api-docs/ilo5/#introduction) to get the data type related to this topic."
   ]
  },
  {
   "cell_type": "code",
   "execution_count": null,
   "metadata": {},
   "outputs": [],
   "source": [
    "# Select type of server: Dl (ProLiant DL360g10) or Sy (Synergy)\n",
    "s=\"Dl\" \n",
    "\n",
    "# Print info on the AgentlessManagementService\n",
    "echo \"*********************************************************************\"\n",
    "eval ilorest$s info Oem/Hpe/AggregateHealthStatus/AgentlessManagementService\n",
    "echo \"*********************************************************************\"\n",
    "echo -e \"\\n\\n\"\n",
    "\n",
    "\n",
    "# Select type\n",
    "eval ilorest$s select ComputerSystem.\n",
    "\n",
    "# Retrieve and print AMS status\n",
    "AmsStatus=$(eval ilorest$s get --json Oem/Hpe/AggregateHealthStatus/AgentlessManagementService | \\\n",
    "jq -r '.Oem.Hpe.AggregateHealthStatus.AgentlessManagementService')\n",
    "echo \"AMS Status on $s simulator: $AmsStatus\" ; echo\n",
    "\n",
    "# Retrieve and print HostOS info only if AMS is ready\n",
    "if [ \"$AmsStatus\" == \"Ready\" ] ; then\n",
    "    echo \"Host OS properties:\"\n",
    "    eval ilorest$s get --json Oem/Hpe/HostOS | jq -r '.Oem.Hpe.HostOS'\n",
    "fi"
   ]
  },
  {
   "cell_type": "markdown",
   "metadata": {},
   "source": [
    "<-- [Environment Preparation](#EnvironmentPreparation) ; [List of examples](#BackToList)  ; [Restart iLO 5 Simulator](#iLO5SimulatorRestart) ; [Logout](#Logout) -->"
   ]
  },
  {
   "cell_type": "markdown",
   "metadata": {},
   "source": [
    "### <a id = \"ManageBiosRbsuPassword\">Bios/RBSU Login password</a>\n",
    "\n",
    "The following cell uses the `setpassword` macro command to set the RBSU password for the first time and then removes it.\n",
    "\n",
    "> **NOTE**: The `setpassword` command may return errors when launched against a DMTF iLO 5 simulator."
   ]
  },
  {
   "cell_type": "code",
   "execution_count": null,
   "metadata": {},
   "outputs": [],
   "source": [
    "# Select type of server: Dl (ProLiant DL360g10) or Sy (Synergy)\n",
    "s=\"Dl\" \n",
    "\n",
    "# Retrieve help syntax and examples\n",
    "echo -e \"setpassword help syntax:\\n\"\n",
    "eval ilorest$s help setpassword\n",
    "\n",
    "\n",
    "# Setting a password for the first time\n",
    "echo -e \"\\nSetting a password for the first time\"\n",
    "eval ilorest$s setpassword --newpassword testnew --currentpassword None\n",
    "\n",
    "# Removing the Bios/RBSU password\n",
    "echo -e \"\\n\\nRemoving the BIOS/RBSU password\"\n",
    "eval ilorest$s setpassword --newpassword None --currentpassword testnew \n",
    "\n",
    "# No commit needed. No iLO nor system reset needed. \n",
    "eval ilorest$s status\n"
   ]
  },
  {
   "cell_type": "markdown",
   "metadata": {},
   "source": [
    "<-- [Environment Preparation](#EnvironmentPreparation) ; [List of examples](#BackToList)  ; [Restart iLO 5 Simulator](#iLO5SimulatorRestart) ; [Logout](#Logout) -->"
   ]
  },
  {
   "cell_type": "markdown",
   "metadata": {},
   "source": [
    "### <a id = \"ComputerSystemAssetTag\">ComputerSystem Asset Tag</a>\n",
    "\n",
    "The `ComputerSystem` Asset Tag is different from the `Chassis` [Asset Tag](#ChassisAssetTag)."
   ]
  },
  {
   "cell_type": "code",
   "execution_count": null,
   "metadata": {},
   "outputs": [],
   "source": [
    "# Select type of server: Dl (ProLiant DL360g10) or Sy (Synergy)\n",
    "s=\"Dl\" \n",
    "\n",
    "# Select data type and clear cache\n",
    "eval ilorest$s select ComputerSystem. --refresh\n",
    "\n",
    "# Retrieve ComputerSystem Asset Tag\n",
    "eval ilorest$s get AssetTag\n",
    "\n",
    "# Change ComputerSystem Asset Tag\n",
    "eval ilorest$s set AssetTag=\"New\\ ComputerSystem\\ Asset\\ Tag\" --commit \n",
    "echo\n",
    "\n",
    "# Verify change\n",
    "#eval ilorest$s get AssetTag"
   ]
  },
  {
   "cell_type": "markdown",
   "metadata": {},
   "source": [
    "<-- [Environment Preparation](#EnvironmentPreparation) ; [List of examples](#BackToList)  ; [Restart iLO 5 Simulator](#iLO5SimulatorRestart) ; [Logout](#Logout) -->"
   ]
  },
  {
   "cell_type": "markdown",
   "metadata": {},
   "source": [
    "## Security\n",
    "\n",
    "### <a id = \"SecurityDashboard\">Security Dashboard</a>\n",
    "\n",
    "The following five examples retrieve different security dashboard properties.\n",
    "\n",
    "#### Overall security dashboard status\n",
    "\n",
    "Use keyword `Security Dashboard` or `SecurityDashboard` in the [API reference document](https://hewlettpackard.github.io/ilo-rest-api-docs/ilo5/#hpeilosecuritydashboard-v1_0_0-hpeilosecuritydashboard) to find the overall security dashboard data type."
   ]
  },
  {
   "cell_type": "code",
   "execution_count": null,
   "metadata": {},
   "outputs": [],
   "source": [
    "# Select type of server: Dl (ProLiant DL360g10) or Sy (Synergy)\n",
    "s=\"Dl\" \n",
    "\n",
    "# Select data type\n",
    "eval ilorest$s select HpeiLOSecurityDashboard.\n",
    "\n",
    "# Retrieve overall security dashboard status \n",
    "eval ilorest$s get OverallSecurityStatus "
   ]
  },
  {
   "cell_type": "markdown",
   "metadata": {},
   "source": [
    "#### All Security parameters and properties in json format\n",
    "\n",
    "Use keyword `SecurityParam` to find the corresponding data type in the [API Reference Document](https://hewlettpackard.github.io/ilo-rest-api-docs/ilo5/#hpeilosecurityparam-v1_1_0-hpeilosecurityparam)."
   ]
  },
  {
   "cell_type": "code",
   "execution_count": null,
   "metadata": {},
   "outputs": [],
   "source": [
    "# Select type of server: Dl (ProLiant DL360g10) or Sy (Synergy)\n",
    "s=\"Dl\" \n",
    "\n",
    "# Select data type\n",
    "eval ilorest$s select HpeiLOSecurityParam.\n",
    "\n",
    "# List all security params in JSON format. Discard \"@odata\" metadata to get cleaner output.\n",
    "eval ilorest$s list --json | grep -v '@'"
   ]
  },
  {
   "cell_type": "markdown",
   "metadata": {},
   "source": [
    "#### List only security params at risk\n",
    "\n",
    "To retrieve this list you don't need to select the data type as it has already selected in the previous cell."
   ]
  },
  {
   "cell_type": "code",
   "execution_count": null,
   "metadata": {},
   "outputs": [],
   "source": [
    "# Select type of server: Dl (ProLiant DL360g10) or Sy (Synergy)\n",
    "s=\"Dl\" \n",
    "\n",
    "# Select data type\n",
    "eval ilorest$s select HpeiLOSecurityParam.\n",
    "\n",
    "eval ilorest$s list --filter SecurityStatus=\"Risk\" | grep -v '@'\n",
    "echo"
   ]
  },
  {
   "cell_type": "markdown",
   "metadata": {},
   "source": [
    "#### Get specific security parameter properties"
   ]
  },
  {
   "cell_type": "code",
   "execution_count": null,
   "metadata": {},
   "outputs": [],
   "source": [
    "# Select type of server: Dl (ProLiant DL360g10) or Sy (Synergy)\n",
    "s=\"Dl\" \n",
    "\n",
    "# Select data type\n",
    "eval ilorest$s select HpeiLOSecurityParam.\n",
    "\n",
    "eval ilorest$s get --filter Name=\"Require\\ Login\\ for\\ iLO\\ RBSU\" | grep -v '@'\n",
    "echo"
   ]
  },
  {
   "cell_type": "markdown",
   "metadata": {},
   "source": [
    "#### Get specific property of a specific security parameter"
   ]
  },
  {
   "cell_type": "code",
   "execution_count": null,
   "metadata": {},
   "outputs": [],
   "source": [
    "# Select type of server: Dl (ProLiant DL360g10) or Sy (Synergy)\n",
    "s=\"Dl\" \n",
    "\n",
    "# Select data type\n",
    "eval ilorest$s select HpeiLOSecurityParam.\n",
    "\n",
    "# Retrieve the `Ignore` property of the `Minimum Password Length` security parameter\n",
    "eval ilorest$s get Ignore --filter Name=\"Minimum\\ Password\\ Length\"\n",
    "echo"
   ]
  },
  {
   "cell_type": "markdown",
   "metadata": {},
   "source": [
    "<-- [Environment Preparation](#EnvironmentPreparation) ; [List of examples](#BackToList)  ; [Restart iLO 5 Simulator](#iLO5SimulatorRestart) ; [Logout](#Logout) -->"
   ]
  },
  {
   "cell_type": "markdown",
   "metadata": {},
   "source": [
    "### <a id = \"iLOSecurityMode\">Security Mode/State</a>\n",
    "\n",
    "From the iLO 5 Graphical User Interface, in the `Security` --> `Encryption` menu, you can view and modify the `SecurityState` setting. This setting is part of the `HpeSecurityService` data type as mentioned in the [API Reference Document](https://hewlettpackard.github.io/ilo-rest-api-docs/ilo5/#securitystate).\n",
    "\n",
    ">NOTE: Software like the Smart Update Tool (`SUT`) may refer to this setting as `Security Mode` instead of `Security State`. \n",
    "\n",
    "#### Retrieve and modify the iLO 5 Security State setting\n",
    "\n",
    "The following cell retrieves all the properties of the `HpeSecurityService` and modifies the `SecurityState`. A similar change on a real iLO 5 **automatically triggers a reset** of the iLO. "
   ]
  },
  {
   "cell_type": "code",
   "execution_count": null,
   "metadata": {},
   "outputs": [],
   "source": [
    "# Select type of server: Dl (ProLiant DL360g10) or Sy (Synergy)\n",
    "s=\"Dl\" \n",
    "\n",
    "# Select data type and refresh cache\n",
    "eval ilorest$s select HpeSecurityService. --refresh\n",
    "\n",
    "# Retrieve all Security Service paramters\n",
    "eval ilorest$s get --json\n",
    "\n",
    "# Modify Security State\n",
    "SecurityState=$(eval ilorest$s get SecurityState | cut --delimiter== --field=2)\n",
    "echo \n",
    "\n",
    "if [ \"$SecurityState\" = \"Production\" ]; then\n",
    "   echo \"Setting Security State to HighSecurity\"\n",
    "   eval ilorest$s set SecurityState=\"HighSecurity\" #--commit\n",
    "else\n",
    "    echo \"Setting Security State to Production\"\n",
    "    eval ilorest$s set SecurityState=\"Production\" #--commit\n",
    "fi\n",
    "\n",
    "echo\n",
    "eval ilorest$s get SecurityState "
   ]
  },
  {
   "cell_type": "markdown",
   "metadata": {},
   "source": [
    "<-- [Environment Preparation](#EnvironmentPreparation) ; [List of examples](#BackToList)  ; [Restart iLO 5 Simulator](#iLO5SimulatorRestart) ; [Logout](#Logout) -->"
   ]
  },
  {
   "cell_type": "markdown",
   "metadata": {},
   "source": [
    "### <a id = \"LoginSecurityBanner\">Login Security Banner</a>\n",
    "\n",
    "From the iLO 5 Graphical User Interface, in the `Security` --> `Login Security Banner` menu, you can enable/disable and customize the `LoginSecurityBanner` setting. This setting is part of the `HpeSecurityService` data type as mentioned in the [API Reference Document](https://hewlettpackard.github.io/ilo-rest-api-docs/ilo5/#loginsecuritybanner).\n",
    "\n",
    "#### Retrieve and modify the iLO 5 Security State setting\n",
    "\n",
    "The following cell modifies the state of the Security Login Banner and provides a message when enabled. You don't need to reset the iLO 5 to effectively modify this banner."
   ]
  },
  {
   "cell_type": "code",
   "execution_count": null,
   "metadata": {},
   "outputs": [],
   "source": [
    "# Select type of server: Dl (ProLiant DL360g10) or Sy (Synergy)\n",
    "s=\"Sy\" \n",
    "\n",
    "# Select data type and refresh cache\n",
    "eval ilorest$s select HpeSecurityService. --refresh\n",
    "\n",
    "# Retrieve Login Security Banner settings\n",
    "eval ilorest$s get LoginSecurityBanner --json\n",
    "\n",
    "# Modify Login Security Banner settings\n",
    "LoginSecurityBanner=$(eval ilorest$s get LoginSecurityBanner/IsEnabled | cut --delimiter== --field=2)\n",
    "echo \n",
    "\n",
    "if [ $LoginSecurityBanner = False ]; then\n",
    "   echo \"Enabling Login Security Banner with a custom message\"\n",
    "   eval ilorest$s set LoginSecurityBanner/IsEnabled=True #--commit\n",
    "   eval ilorest$s set LoginSecurityBanner/SecurityMessage=\"This is My Custom Security Message\" #--commit\n",
    "else\n",
    "    echo \"Disabling Login Security Banner\"\n",
    "    # The following set command is not required with a real iLO 5. \n",
    "    # It's only there to get a \"realistic\" behavior of the simulator.\n",
    "    eval ilorest$s set LoginSecurityBanner/SecurityMessage=\"\" #--commit\n",
    "    eval ilorest$s set LoginSecurityBanner/IsEnabled=False    #--commit\n",
    "fi\n",
    "\n",
    "echo\n",
    "eval ilorest$s get --json LoginSecurityBanner "
   ]
  },
  {
   "cell_type": "markdown",
   "metadata": {},
   "source": [
    "<-- [Environment Preparation](#EnvironmentPreparation) ; [List of examples](#BackToList)  ; [Restart iLO 5 Simulator](#iLO5SimulatorRestart) ; [Logout](#Logout) -->"
   ]
  },
  {
   "cell_type": "markdown",
   "metadata": {},
   "source": [
    "## Bios"
   ]
  },
  {
   "cell_type": "markdown",
   "metadata": {},
   "source": [
    "### <a id = \"BiosSerialNumber\">Server Serial Number stored in BIOS</a>\n",
    "\n",
    "In a computer node, the Serial Number stored in the `Bios.` data type corresponds to the server mother board serial number. HPE requires the change of this serial number in case of mother board replacement to match the chassis serial number. "
   ]
  },
  {
   "cell_type": "code",
   "execution_count": null,
   "metadata": {},
   "outputs": [],
   "source": [
    "# Select type of server: Dl (ProLiant DL360g10) or Sy (Synergy)\n",
    "s=\"Dl\" \n",
    "\n",
    "# Select data type\n",
    "eval ilorest$s select Bios. --refresh\n",
    "echo\n",
    "\n",
    "# Make sure SN is read-write\n",
    "eval ilorest$s info Attributes/SerialNumber --latestschema\n",
    "echo\n",
    "\n",
    "# Get SerialNumber from Bios data type.\n",
    "eval ilorest$s get Attributes/SerialNumber\n",
    "\n",
    "echo \"Set new SN\"\n",
    "eval ilorest$s set Attributes/SerialNumber=\"NEWSN\" #--commit\n",
    "\n",
    "# Reload a fresh simulator cache\n",
    "eval ilorest$s select Bios. --refresh\n",
    "echo \n",
    "\n",
    "# Validate the SN change\n",
    "eval ilorest$s get Attributes/SerialNumber\n",
    "echo"
   ]
  },
  {
   "cell_type": "markdown",
   "metadata": {},
   "source": [
    "<-- [Environment Preparation](#EnvironmentPreparation) ; [List of examples](#BackToList)  ; [Restart iLO 5 Simulator](#iLO5SimulatorRestart) ; [Logout](#Logout) -->"
   ]
  },
  {
   "cell_type": "markdown",
   "metadata": {},
   "source": [
    "## Storage\n",
    "\n",
    "The following cell lists the storage related data types implemented in the current iLO 5 Redfish service."
   ]
  },
  {
   "cell_type": "code",
   "execution_count": null,
   "metadata": {},
   "outputs": [],
   "source": [
    "# Select type of server: Dl (ProLiant DL360g10) or Sy (Synergy)\n",
    "s=\"Sy\" \n",
    "\n",
    "eval ilorest$s types | grep -i -E 'storage|drive' | grep -v -i driver"
   ]
  },
  {
   "cell_type": "markdown",
   "metadata": {},
   "source": [
    "### <a id = \"SSD_WearStatus\">SSD Wear Status</a>\n",
    "\n",
    "The `WearStatus` property is an HPE Oem property part of the `Drive` data type as mentioned in the [API Reference Document](https://hewlettpackard.github.io/ilo-rest-api-docs/ilo5/#oem-hpe-wearstatus). Note that the Redfish standard proposes the `PredictedMediaLifeLeftPercent` property, also in the `Drive` type, and being somehow equivalent.\n",
    "\n",
    "The `Drive` data type may be absent in servers not containing suitable hardware. The physical DL360 Gen10 server available in this infrastructure (and the associated simulator) does not contain any SSD drive with a `WearStatus`. Hence, you will have to use the Synergy iLO 5 simulator to view this property."
   ]
  },
  {
   "cell_type": "markdown",
   "metadata": {},
   "source": [
    " &nbsp;\n",
    "\n",
    "\n",
    "The Redfish service of the Synergy iLO 5 simulator contains two SSD drives. The next cell retrieves successively all their properties, the `PredictedMediaLifeLeftPercent` standard property and then the Oem HPE `WearStatus` property."
   ]
  },
  {
   "cell_type": "code",
   "execution_count": null,
   "metadata": {},
   "outputs": [],
   "source": [
    "# Select type of server: Dl (ProLiant DL360g10) or Sy (Synergy)\n",
    "s=\"Sy\" \n",
    "\n",
    "echo -e \"Drive list. Physical and Logical Hpe SmartStorage excluded\"\n",
    "eval ilorest$s list --json --select Drive. --filter \"@odata.type\"=\"#Drive.v1_1_0.Drive\"\n",
    "\n",
    "echo -e \"\\n\\n'PredictedMediaLifeLeftPercent' standard property of drives. Odata metadata discarded.\"\n",
    "eval ilorest$s get --json Id PredictedMediaLifeLeftPercent --filter \"@odata.type\"=\"#Drive.v1_1_0.Drive\"\n",
    "\n",
    "echo -e \"\\n\\nOem/Hpe specific 'WearStatus' of non-SmartStorage\" \n",
    "eval ilorest$s get Id Oem/Hpe/WearStatus --json --filter \"@odata.type\"=\"#Drive.v1_1_0.Drive\""
   ]
  },
  {
   "cell_type": "markdown",
   "metadata": {},
   "source": [
    "<-- [Environment Preparation](#EnvironmentPreparation) ; [List of examples](#BackToList)  ; [Restart iLO 5 Simulator](#iLO5SimulatorRestart) ; [Logout](#Logout) -->"
   ]
  },
  {
   "cell_type": "markdown",
   "metadata": {},
   "source": [
    "## <a id = \"Logout\">Logout</a>\n",
    "\n",
    "Always logout when your session is over. You can as well logout and [restart](#iLO5SimulatorRestart) the iLO 5 simulator if you want once again use this Jupyter Notebook."
   ]
  },
  {
   "cell_type": "code",
   "execution_count": null,
   "metadata": {},
   "outputs": [],
   "source": [
    "ilorestDl logout\n",
    "ilorestSy logout"
   ]
  },
  {
   "cell_type": "markdown",
   "metadata": {},
   "source": [
    "<-- [Environment Preparation](#EnvironmentPreparation) ; [List of examples](#BackToList)  ; [Restart iLO 5 Simulator](#iLO5SimulatorRestart) ; [Logout](#Logout) -->"
   ]
  },
  {
   "cell_type": "markdown",
   "metadata": {},
   "source": [
    "## Summary\n",
    "\n",
    "In this workshop, you discovered several HPE eval iLOrest$s examples. Go to the [Conclusion Notebook](3-Conclusion.ipynb) if you are finished."
   ]
  }
 ],
 "metadata": {
  "kernelspec": {
   "display_name": "Bash",
   "language": "bash",
   "name": "bash"
  },
  "language_info": {
   "codemirror_mode": "shell",
   "file_extension": ".sh",
   "mimetype": "text/x-sh",
   "name": "bash"
  }
 },
 "nbformat": 4,
 "nbformat_minor": 4
}
