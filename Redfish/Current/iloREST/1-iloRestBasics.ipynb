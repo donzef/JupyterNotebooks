{
 "cells": [
  {
   "cell_type": "markdown",
   "metadata": {},
   "source": [
    "# iLOrest: The HPE Redfish Swiss knife\n",
    "\n",
    "Version 0.48"
   ]
  },
  {
   "cell_type": "markdown",
   "metadata": {},
   "source": [
    "## What is iLOrest?\n",
    "\n",
    "  * Command line Redfish client primarily designed to managed HPE iLO 4 and iLO 5 based servers\n",
    "  * Python oriented\n",
    "  * Sources on GitHub ([python-redfish-utility](https://github.com/HewlettPackard/python-redfish-utility))\n",
    "  * [Packaged binaries](https://github.com/HewlettPackard/python-redfish-utility/releases/latest) available for several Operating Environments (.deb, .rpm, .msi and .pkg)\n",
    "  * Windows and RPM packages available on [HPE Customer Support Center](http://hpe.com/info/resttool)"
   ]
  },
  {
   "cell_type": "markdown",
   "metadata": {},
   "source": [
    "### Extreme flexibility\n",
    "\n",
    "  * Interactive mode allows you to save and load settings from a file with command completion (tab key) and command recall (up and down arrows)\n",
    "  * Script mode: easy integration with bash, PowerShell or DOS\n",
    "  * File-based mode: allows you to save, customize and then deploy settings\n",
    "  * Extensible (See [tutorial video](https://www.youtube.com/watch?v=CGl8DsYTdQo))\n",
    "  * In-band and out-of-band management\n",
    "  * Useful for debugging Python and PowerShell scripts\n",
    "  * Rich ecosystem with [videos](https://www.youtube.com/playlist?list=PLmYBqUM74OygZjhoZMEZmMP50Od8EfaW8) and [articles](https://developer.hpe.com/blog)"
   ]
  },
  {
   "cell_type": "markdown",
   "metadata": {},
   "source": [
    "## Interactive out-of-band mode demo\n",
    "\n",
    "<img src=\"Pictures/OutOfBandManagement.png\" alt=\"Out-Of-Band management\" style=\"with: 125px;\"/>\n",
    "\n",
    "### Command completion and recall with help description\n",
    "\n",
    "Open a `Terminal` from a Jupyter Launcher\n",
    "<img src=\"Pictures/LauncherIcon.png\" style=\"display:inline;width=55px;height=25px\"/>\n",
    "and issue the following commands. To ease this exercise, you can open a New View for this notebook by right clicking on its tabulation: \n",
    "<img src=\"Pictures/NotebookNewView.png\" style=\"display:inline;width=55px;height=25px\"/>\n",
    "\n",
    "```bash\n",
    "\n",
    "# Invoke iLOrest with no arguments\n",
    "ilorest \n",
    "\n",
    "# Type beginning of command and hit the Tab key to complete the command\n",
    "ilorest > he (tab)\n",
    "\n",
    "# Recall help command with up-arrow\n",
    "\n",
    "# login remote iLO as user student. If password is not suppplied, iLOrest asks for password in hidden text.\n",
    "iLOrest > login ilo5 -u student\n",
    "password: P@ssw0rd!\n",
    "``` "
   ]
  },
  {
   "cell_type": "markdown",
   "metadata": {},
   "source": [
    "### Data/Resource Types\n",
    "\n",
    "Redfish resources are associated with a data type. The list of all iLO 5 data types can be retrieved with the `types` command. Each data type and its content is present in the [API Reference document](https://hewlettpackard.github.io/ilo-rest-api-docs/ilo5/#resource-definitions).\n",
    "\n",
    "```bash\n",
    "# List all data types\n",
    "iLOrest > types\n",
    "```\n",
    "\n",
    "Data types with prefix `Hpe` are Oem/Hpe specific types. Others are standard Redfish types. The following cell lists all data types present in the Redfish service, selects the `Bios` data type and shows all the resources associated with that type.\n"
   ]
  },
  {
   "cell_type": "markdown",
   "metadata": {},
   "source": [
    "```bash\n",
    "# Select the Bios type\n",
    "iLOrest > select Bio(Tab)\n",
    "\n",
    "# View selected type\n",
    "iLOrest > select\n",
    "\n",
    "# Show resources associated to the selected type \n",
    "iLOrest > get\n",
    "\n",
    "# Retrieve a single reseource from another type in json format\n",
    "iLOrest > get SecurityState --json --select HpeSecurityService.\n",
    "\n",
    "# Logout: close session. Local cache will be removed automatically.\n",
    "iLOrest > logout\n",
    "iLOrest > exit\n",
    "```"
   ]
  },
  {
   "cell_type": "markdown",
   "metadata": {},
   "source": [
    "### In-band management demo: Modification of a BIOS attribute\n",
    "\n",
    "<img src=\"Pictures/InBandManagement.png\" alt=\"In-Band management\" style=\"with: 125px;\"/>\n",
    "\n",
    "> **NOTE**: Only a **privileged instructor** can perform the following commands\n",
    "\n",
    "```bash\n",
    "ssh root@ilo5server\n",
    "\n",
    "# When logged as root and when iLO 5 security mode/state is Production, no need to provide credentials.\n",
    "ilorest login\n",
    "\n",
    "# Retrieve and modify Bios parameter\n",
    "ilorest get AdminName --select Bios.\n",
    "ilorest set AdminName=\"John Deuf\" \n",
    "ilorest status --json    # Useful for rawpatch command\n",
    "\n",
    "# Commit modification\n",
    "ilorest commit\n",
    "\n",
    "# Reset cache and view modification\n",
    "ilorest select Bios. --refresh\n",
    "ilorest get AdminName\n",
    "\n",
    "# Logout (complete cache removal)\n",
    "ilorest logout\n",
    " \n",
    "```"
   ]
  },
  {
   "cell_type": "markdown",
   "metadata": {},
   "source": [
    "## Script mode examples\n",
    "\n",
    "### Environment preparation\n",
    "\n",
    "The following cell sets environment variables and checks the connectivity toward the various BMCs used in this notebook."
   ]
  },
  {
   "cell_type": "code",
   "execution_count": null,
   "metadata": {},
   "outputs": [],
   "source": [
    "########## Environment preparation (Version: 0.24) ############\n",
    "\n",
    "\n",
    "# Set Student ID number\n",
    "Stud=00\n",
    "Id=$(id --user --name)\n",
    "\n",
    "# location and ports variables\n",
    "let OpenBmcBasePort=44000\n",
    "let OpenBmcPort=${OpenBmcBasePort}+${Stud}\n",
    "let iLO5SimulatorBasePort=45000\n",
    "let iLO5SimulatorPort=${iLO5SimulatorBasePort}+${Stud}\n",
    "let ilo5Port=443\n",
    "\n",
    "CacheDir=\"${PWD}/iLOrestCache\"\n",
    "LogDir=\"${PWD}\"\n",
    "LogFile=\"${LogDir}/iLOrest.log\"\n",
    "\n",
    "#iLO5SimulatorIP=bmcsimulators\n",
    "iLO5SimulatorIP=ilo5simulators\n",
    "iLOSimulator=${iLO5SimulatorIP}:${iLO5SimulatorPort}\n",
    "iLO5SimulatorURI=https://${iLOSimulator}\n",
    "\n",
    "OpenBmcIP=openbmcsimulators\n",
    "OpenBmc=\"${OpenBmcIP}:${OpenBmcPort}\"\n",
    "OpenBmcURI=\"https://${OpenBmc}\"\n",
    "\n",
    "ilo5IP=\"ilo5\"\n",
    "ilo5=\"${ilo5IP}:${ilo5Port}\"\n",
    "ilo5URI=\"https://${ilo5}\"\n",
    "\n",
    "# Credentials\n",
    "User=\"student\"\n",
    "Password='P@ssw0rd!'\n",
    "\n",
    "# Miscellaneous\n",
    "alias ilorest='ilorest --nologo --cache-dir ${CacheDir} --logdir ${LogDir}'\n",
    "alias ResetIlo5Simulator=\"ssh rstsimul@${iLO5SimulatorIP} $Id $iLO5SimulatorBasePort\"\n",
    "ilorest logout &>/dev/null # Clear cache\n",
    "\n",
    "\n",
    "# Verify we can reach the remote Bmcs on the right HTTPS ports. \n",
    "for bmc in ilo5 OpenBmc iLO5Simulator ; do\n",
    "    ip=\"${bmc}IP\" ; port=$(echo ${bmc}Port)\n",
    "    nc -vz  $(eval echo \"\\$${ip}\") $(eval echo \"\\$${port}\") &> /dev/null && \n",
    "        echo \"$bmc is reachable\" \\\n",
    "        || echo \"WARNING: Problem reaching $bmc\"\n",
    "done"
   ]
  },
  {
   "cell_type": "markdown",
   "metadata": {},
   "source": [
    "###  Log into a real iLO 5 to populate the cache directory\n",
    "\n",
    "iLOrest populates a cache directory during the execution of the `login` command just after a successul authentication. However, the DMTF Redfish simulator used in this workshop does not implement authentication and returns an error to the `login` command, preventing iLOrest to populate its cache.\n",
    "\n",
    "To overcome this problem you will first log into a physical iLO 5 and then hack the cache to make it point to the DMTF iLO 5 simulator."
   ]
  },
  {
   "cell_type": "code",
   "execution_count": null,
   "metadata": {},
   "outputs": [],
   "source": [
    "ilorest login $ilo5 -u $User -p $Password\n",
    "head ${CacheDir}/cache/* | grep url | sort -u                     # extract URL target in cache\n",
    "\n",
    "# Copy cache in a safe location before logging out to\n",
    "# minimize opened sessions. iLO 5 is limited to 15 concurrent\n",
    "# sessions. \n",
    "mv ${CacheDir}/cache{,-bck}\n",
    "ilorest logout\n",
    "\n",
    "# Move back the cache\n",
    "mv ${CacheDir}/cache{-bck,}\n",
    "\n",
    "# Redirect cache to point to the iLO 5 Simulator\n",
    "sed -i \"s.${ilo5URI}.${iLO5SimulatorURI}.\" ${CacheDir}/cache/*\n",
    "head ${CacheDir}/cache/* | grep url | sort -u                     # extract URL target in cache"
   ]
  },
  {
   "cell_type": "markdown",
   "metadata": {},
   "source": [
    "## Get multiple properties with single request\n",
    "\n",
    "The following request retrieves all firmware versions and description with a single command. Note that DMTF includes computer firmware in the `SoftwareInventory` collection.\n",
    "\n",
    "> **NOTE**: iLOrest versions 3.0, 3.1.0 and 3.1.1 return an `ERROR: list index out of range` message."
   ]
  },
  {
   "cell_type": "code",
   "execution_count": null,
   "metadata": {},
   "outputs": [],
   "source": [
    "ilorest --version\n",
    "\n",
    "ilorest get Name Version --select SoftwareInventory"
   ]
  },
  {
   "cell_type": "markdown",
   "metadata": {},
   "source": [
    "### Change iLO time zone\n",
    "\n",
    "Searching for keywords `time zone` or `timezone` in the [API Reference document](https://hewlettpackard.github.io/ilo-rest-api-docs/ilo5/) leads to **two** properties. A BIOS and an iLO related property. We will focus on the [iLO property](https://hewlettpackard.github.io/ilo-rest-api-docs/ilo5/#timezone).\n",
    "\n",
    "The iLO `TimeZone` property is associated to the `HpeiLODateTime` type. The next cells select this data type and then modify it."
   ]
  },
  {
   "cell_type": "code",
   "execution_count": null,
   "metadata": {},
   "outputs": [],
   "source": [
    "# select type\n",
    "ilorest select HpeiLODateTime\n",
    "\n",
    "# Get all resources from the selected data type in stripped mode\n",
    "ilorest get --json"
   ]
  },
  {
   "cell_type": "code",
   "execution_count": null,
   "metadata": {},
   "outputs": [],
   "source": [
    "# Get all resources associated to this data type in verbose mode\n",
    "ilorest list --json"
   ]
  },
  {
   "cell_type": "code",
   "execution_count": null,
   "metadata": {},
   "outputs": [],
   "source": [
    "# You can get more info about a specific property.\n",
    "# Note the \"READ-ONLY\" attribute.\n",
    "ilorest info TimeZone"
   ]
  },
  {
   "cell_type": "code",
   "execution_count": null,
   "metadata": {},
   "outputs": [],
   "source": [
    "# Set iLO TimeZone to \"New Delhi\"\n",
    "ilorest set TimeZone/Name=\"New Delhi\"\n",
    "\n",
    "# View changed settings\n",
    "ilorest status"
   ]
  },
  {
   "cell_type": "code",
   "execution_count": null,
   "metadata": {},
   "outputs": [],
   "source": [
    "# Commit changes in Redfish server\n",
    "ilorest commit"
   ]
  },
  {
   "cell_type": "markdown",
   "metadata": {},
   "source": [
    "> **NOTE**: A successful `commit` against a real iLO 5 clears pending changes in the cache. However, our simulator does not behave like a real iLO 5 and we need to clean up the cache manually to mimic a real successful commit."
   ]
  },
  {
   "cell_type": "code",
   "execution_count": null,
   "metadata": {},
   "outputs": [],
   "source": [
    "ilorest status\n",
    "ilorest select HpeiLODateTime --refresh\n",
    "ilorest status"
   ]
  },
  {
   "cell_type": "markdown",
   "metadata": {},
   "source": [
    "### Use of the --filter option\n",
    "\n",
    "In this example you will use the iLOrest `--filter` option to retrieve only the IPv4 address of the iLO Dedicated Network Port."
   ]
  },
  {
   "cell_type": "markdown",
   "metadata": {},
   "source": [
    "Searching for keywords `dedicated` or `shared` in the [API Reference document](https://hewlettpackard.github.io/ilo-rest-api-docs/ilo5/#oem-hpe-interfacetype) leads to the `EthernetInterface` data type. The following cell logs into a remote iLO 5 and retrieves all the data types containing the string `Ethernet`."
   ]
  },
  {
   "cell_type": "code",
   "execution_count": null,
   "metadata": {},
   "outputs": [],
   "source": [
    "ilorest types | grep Ethernet"
   ]
  },
  {
   "cell_type": "markdown",
   "metadata": {},
   "source": [
    "Data types with suffix [`Collection`](https://hewlettpackard.github.io/ilo-rest-api-docs/ilo5/#collections) group similar resources usually represented in an array of `Members` links. The following cell lists all the ethernet interfaces in a system: System Interfaces (4) and Manager Interfaces (3). "
   ]
  },
  {
   "cell_type": "code",
   "execution_count": null,
   "metadata": {},
   "outputs": [],
   "source": [
    "ilorest list --json --select EthernetInterfaceCollection"
   ]
  },
  {
   "cell_type": "markdown",
   "metadata": {},
   "source": [
    "To retrieve the IPv4 address of the dedicated iLO network port you need to find a unique property characterizing the iLO Dedicated Network Port. The following cells select the ` EthernetInterface` data type and prints the `Name` property of each and every ethernet port in the server to verify whether it is a good candidate for a filter criteria.\n"
   ]
  },
  {
   "cell_type": "code",
   "execution_count": null,
   "metadata": {},
   "outputs": [],
   "source": [
    "ilorest select EthernetInterface\n",
    "ilorest list Name --json "
   ]
  },
  {
   "cell_type": "markdown",
   "metadata": {},
   "source": [
    "The output of the previous command shows that Dedicated iLO Network Interface can be uniquely identified using the `Name` property. The following command displays the IPv4 configuration of the Dedicated iLO Network Interface using the `--filter` option."
   ]
  },
  {
   "cell_type": "code",
   "execution_count": null,
   "metadata": {},
   "outputs": [],
   "source": [
    "ilorest get IPv4Addresses --filter Name=\"Manager Dedicated Network Interface\""
   ]
  },
  {
   "cell_type": "code",
   "execution_count": null,
   "metadata": {},
   "outputs": [],
   "source": [
    "ilorest get IPv4Addresses/Address --filter Name=\"Manager Dedicated Network Interface\""
   ]
  },
  {
   "cell_type": "markdown",
   "metadata": {},
   "source": [
    "> Note: The `Oem/Hpe/InterfaceType` property could have been used as well."
   ]
  },
  {
   "cell_type": "code",
   "execution_count": null,
   "metadata": {},
   "outputs": [],
   "source": [
    "ilorest get IPv4Addresses/Address --filter Oem/Hpe/InterfaceType=\"Dedicated\""
   ]
  },
  {
   "cell_type": "markdown",
   "metadata": {},
   "source": [
    "## Use of the iLOrest debug mode\n",
    "\n",
    "This paragraph explains how the iLOrest debug mode can help you to troubleshoot your Python, Bash or PowerShell Redfish scripts. \n",
    "\n",
    "Imagine you have difficulties to develop a Python or Bash/cURL script modifying the system boot order in order to stop the next reboot of a server at RBSU/Bios Setup.\n",
    "\n",
    "You can use iLOrest and its `bootorder` macro command in debug mode to understand how it perfoms this task and then reproduce it in your own programs.\n",
    "\n",
    "The next cell prepares the environment: Remove any log file if any, login, modify the cache files."
   ]
  },
  {
   "cell_type": "code",
   "execution_count": null,
   "metadata": {},
   "outputs": [],
   "source": [
    "# Cleanup log file if any\n",
    "rm ${LogFile} &> /dev/null"
   ]
  },
  {
   "cell_type": "markdown",
   "metadata": {},
   "source": [
    "The help of the `bootorder` extension provides the syntax to send a `OneTimeBoot` command"
   ]
  },
  {
   "cell_type": "code",
   "execution_count": null,
   "metadata": {},
   "outputs": [],
   "source": [
    "ilorest help bootorder | grep 'onetime'"
   ]
  },
  {
   "cell_type": "markdown",
   "metadata": {},
   "source": [
    "The `bootorder` extension with no argument returns the list of all possible `OneTimeBoot` options."
   ]
  },
  {
   "cell_type": "code",
   "execution_count": null,
   "metadata": {},
   "outputs": [],
   "source": [
    "ilorest bootorder"
   ]
  },
  {
   "cell_type": "markdown",
   "metadata": {},
   "source": [
    "The following cell sends the desired `bootorder` command and retrieves the list of all modifies parameters. This is interesting information but you may need more details to understand exactly how to send the request to the remoter iLO 5."
   ]
  },
  {
   "cell_type": "code",
   "execution_count": null,
   "metadata": {},
   "outputs": [],
   "source": [
    "ilorest bootorder --onetimeboot=BiosSetup\n",
    "ilorest status"
   ]
  },
  {
   "cell_type": "markdown",
   "metadata": {},
   "source": [
    "The following command commits the changes in **debug mode** in the remore iLO 5.\n",
    "\n",
    "Debug messages are redirected a log file, `stdout` and `stderr`. However, `stdout` and `stderr` are discarded to `/dev/null` to keep a clean display in this noteobook."
   ]
  },
  {
   "cell_type": "code",
   "execution_count": null,
   "metadata": {},
   "outputs": [],
   "source": [
    "ilorest --debug commit &> /dev/null\n",
    "\n",
    "# Cleaning manually pending changes in the cache to mimic a real iLO 5\n",
    "ilorest select $(ilorest select | awk '{print $NF}') --refresh"
   ]
  },
  {
   "cell_type": "markdown",
   "metadata": {},
   "source": [
    "### Debug file analysis\n",
    "\n",
    "An `iLOrest.log` file should appear soon in your left Jupyter Sidebar. Double click on it and search for string `: PATCH` \n",
    "\n",
    "Analyze the PATCH request. Interesting for your debugging are:\n",
    "\n",
    "  * PATH / target URI: `/redfish/v1/Systems/1/`\n",
    "  * BODY / Payload request: `{\"Boot\": {\"BootSourceOverrideTarget\": \"BiosSetup\", \"BootSourceOverrideEnabled\": \"Once\"}}`\n",
    "  * Response Code: `Code:204 No Content`\n",
    "  * Response BODY: `BODY: None`\n",
    "  \n",
    "> NOTE: In this simulator environment the Response code is 204 (No Content) and thus the BODY is empty (`None`). If you send this request toward a real iLO 5, you will get a non-empty response."
   ]
  },
  {
   "cell_type": "markdown",
   "metadata": {},
   "source": [
    "## File-based mode\n",
    "\n",
    "In this section, you will study the `save`/`load` and `serverclone` commands. Note that the `iloclone` command is being deprecated.\n",
    "\n",
    "To deploy / load configuration files in parallel towards multiple targets, you can read this [article](https://developer.hpe.com/blog/massive-parallel-management-with-ilorest-on-linux).\n",
    "\n",
    "### Save/load a specific data type configuration\n",
    "\n",
    "In this section, you will the `save` and `load` macro iLOrest commands to save and then deploy a specific or multiple data types.\n",
    "\n"
   ]
  },
  {
   "cell_type": "markdown",
   "metadata": {},
   "source": [
    "By default, the output of the save macro command is written in the `ilorest.json` file in the current directory. This can be altered by the `-f` command option.\n",
    "\n",
    "The following cell retrieves the `Chassis`and `ManagerNetworkProtocol` data types. After its execution, you will see file `ilorest.json` appearing in your left sidebar. It can take 10-15 seconds to appear in the left sidebar."
   ]
  },
  {
   "cell_type": "code",
   "execution_count": null,
   "metadata": {},
   "outputs": [],
   "source": [
    "# Note: there is NO space character between list items\n",
    "ilorest save --multisave Chassis,ManagerNetworkProtocol                         "
   ]
  },
  {
   "cell_type": "markdown",
   "metadata": {},
   "source": [
    "You can double click on the `ilorest.json` file to review its content. In addition to the `Chassis` and `ManagerNetworkProtocol` data types, it contains a `Comments` section with \"administrative\" properties.\n",
    "\n",
    "The following cell modifies two parameters (`IndicatorLED` and `AlertMailEmail`) in the `ilorest.json` file."
   ]
  },
  {
   "cell_type": "code",
   "execution_count": null,
   "metadata": {},
   "outputs": [],
   "source": [
    "sed -i -e 's/\\(\"IndicatorLED\": \\).*/\\1\"Blinking\",/ ; s/\\(\"AlertMailEmail\": \\).*/\\1\"John Deuf\",/' ilorest.json"
   ]
  },
  {
   "cell_type": "markdown",
   "metadata": {},
   "source": [
    "The following cell loads the modified configuration files into its cache, displays the modifications and commits them to the managed server."
   ]
  },
  {
   "cell_type": "code",
   "execution_count": null,
   "metadata": {},
   "outputs": [],
   "source": [
    "echo \"Loading modified properties into target system\"\n",
    "ilorest load \n",
    "\n",
    "echo -e \"\\nPrint Status\"\n",
    "ilorest status\n",
    "\n",
    "echo -e \"\\nCommit changes\"\n",
    "ilorest commit \n",
    "\n",
    "# Clean up manually pending changes in the cache to mimic a real iLO 5\n",
    "ilorest select ManagerNetworkProtocol. --refresh\n",
    "ilorest select Chassis. --refresh"
   ]
  },
  {
   "cell_type": "markdown",
   "metadata": {},
   "source": [
    "### Save/load the entire configuration of a server\n",
    "\n",
    "The `serverclone save` and `serverclone load` commands respectively create from a server or restore to a server a JSON formatted file containing most of its configuration settings (Smart Array configuration is not saved by default). The default output file is `ilorest_clone.json` but can be altered with the command `-f` parameter. Smart Array controller settings and logical drive configurations can be optionally included for saving.\n",
    "\n",
    "By default the `serverclone save` command asks the user to provide inputs (i.e passwords) to be included in the output configuration file. If you don't want to supply them manually during the save operation, you can provide the `--auto` parameter like in the following cell. A placeholder will be inserted in the output file for later editing.\n",
    "\n",
    "The following cell retrieves the configuration parameters of a remove iLO 5 based server without the SSA parameters."
   ]
  },
  {
   "cell_type": "code",
   "execution_count": null,
   "metadata": {},
   "outputs": [],
   "source": [
    "# Retrieve server configuration including SSA parameters but without Bios parameters.\n",
    "ilorest serverclone save --auto --nobios --ilossa"
   ]
  },
  {
   "cell_type": "markdown",
   "metadata": {},
   "source": [
    "You can edit the `ilorest_clone.json` file, modify it and load it in suitable servers. The `--auto` paramter avoids manual inputs. When the entire file has been loaded, a server reset is automatically performed.\n",
    "\n",
    "> Note: The HTTP responses of the iLO 5 simulator may not be identical to the responses of a real iLO 5."
   ]
  },
  {
   "cell_type": "code",
   "execution_count": null,
   "metadata": {},
   "outputs": [],
   "source": [
    "ilorest serverclone load --auto -f ilorest_clone.json\n",
    "\n",
    "# Clean up of pending changes in the cache to mimic a real iLO 5\n",
    "ilorest select SmartStorageConfig. --refresh"
   ]
  },
  {
   "cell_type": "markdown",
   "metadata": {},
   "source": [
    "## Raw commands\n",
    "\n",
    "iLOrest allows you to get and set parameters directly in the Redfish tree using the following \"raw\" commands: `rawdelete`, `rawget`, `rawput`, `rawpost`, `rawhead` and `rawpatch`. \n",
    "\n",
    "The use of raw commands is not recommended as it assumes the resource URIs. Resource URIs can change over time as explained in this [article](https://developer.hpe.com/blog/getting-started-with-ilo-restful-api-redfish-api-conformance). However, in some specific cases or for troubleshooting they can be useful.\n"
   ]
  },
  {
   "cell_type": "markdown",
   "metadata": {},
   "source": [
    "### Raw get\n",
    "\n",
    "The `rawget` command fetches the content of the supplied URI. Refer to the [API Reference Document](https://hewlettpackard.github.io/ilo-rest-api-docs/ilo5/) to find the location of your desired URI. Additional tools have to be used to filter specific properties. "
   ]
  },
  {
   "cell_type": "markdown",
   "metadata": {},
   "source": [
    "The following cell intends to retrieve the IPv4 address of the iLO Dedicated Network port, assuming it is the first NIC in the collection. It uses the popular JsonQuery (`jq`) utility to filter desired parameters. "
   ]
  },
  {
   "cell_type": "code",
   "execution_count": null,
   "metadata": {},
   "outputs": [],
   "source": [
    "# Get the Name and the IPv4 address parameters of the first iLO NIC. \n",
    "ilorest rawget \"/redfish/v1/Managers/1/EthernetInterfaces/1\" | jq '.Name, .IPv4Addresses[].Address' "
   ]
  },
  {
   "cell_type": "markdown",
   "metadata": {},
   "source": [
    "### Raw patch, put and post\n",
    "\n",
    "The `rawpatch`, `rawput` and `rawpost` commands require a target location URI and a \"body/workload\" companion json file containing the parameters to patch, put or post. \n",
    "\n",
    "> **NOTE**: The body/workload file format has changed between iLOrest versions 2.X and 3. Issue `ilorest help rawpatch` to get the file format suitable for your iLOrest version. "
   ]
  },
  {
   "cell_type": "markdown",
   "metadata": {},
   "source": [
    "The following cell creates a .json file containing the body of a patch request asking the next reboot to stop at RBSU. The content of this file comes from the debug paragraph studied earlier.\n",
    "\n",
    "Then, it executes a `rawpatch` command of this file as input. As we are using an iLO 5 simulator, the response message may not be the one received by a real physical iLO 5.\n",
    "\n",
    "> Note: The `ilorest status` command returns \"No changes found\" because the `rawpatch` command is not cached."
   ]
  },
  {
   "cell_type": "code",
   "execution_count": null,
   "metadata": {},
   "outputs": [],
   "source": [
    "cat > RawPatchFile.json << __EOF__\n",
    "{\n",
    "   \"/redfish/v1/Systems/1\":\n",
    "   {\n",
    "     \"Boot\": {\n",
    "             \"BootSourceOverrideTarget\": \"Utilities\",\n",
    "             \"BootSourceOverrideEnabled\": \"Once\"\n",
    "             }  \n",
    "   }\n",
    "}\n",
    "__EOF__\n",
    "\n",
    "# Send the PATCH workload\n",
    "ilorest rawpatch RawPatchFile.json \n",
    "\n",
    "# rawpatch bypasses the cache files. Hence ilorest will not detect any changes.\n",
    "ilorest status \n",
    "\n",
    "# Logout\n",
    "ilorest logout"
   ]
  },
  {
   "cell_type": "markdown",
   "metadata": {},
   "source": [
    "## Summary\n",
    "\n",
    "In this workshop, you discovered the HPE iLOrest command line interface and its three operational modes: interactive, scripted and file based. More examples can be studied in the next Jupyter Notebook."
   ]
  }
 ],
 "metadata": {
  "kernelspec": {
   "display_name": "Bash",
   "language": "bash",
   "name": "bash"
  },
  "language_info": {
   "codemirror_mode": "shell",
   "file_extension": ".sh",
   "mimetype": "text/x-sh",
   "name": "bash"
  }
 },
 "nbformat": 4,
 "nbformat_minor": 4
}
