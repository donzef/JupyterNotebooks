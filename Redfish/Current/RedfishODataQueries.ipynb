{
 "cells": [
  {
   "cell_type": "markdown",
   "metadata": {},
   "source": [
    "<img src=\"Pictures/RedfishLogo.png\" alt=\"Redfish Logo\" style=\"width: 250px;\"/> \n",
    "\n",
    "Version 0.35\n",
    "\n",
    "# OData queries"
   ]
  },
  {
   "cell_type": "markdown",
   "metadata": {},
   "source": [
    "## Introduction\n",
    "\n",
    "This Jupyter notebook demonstrates several OData queris (`$expand`, `only`...) using [Bash](https://www.gnu.org/software/bash/) and the [cURL](https://curl.haxx.se/) tool against an HPE iLO 5. For didactic reasons, commands presented in this notebook may be not optimized and don't follow the recommended [best practises](https://developer.hpe.com/blog/getting-started-with-the-redfish-api-part-2).\n",
    "\n",
    "**[OData](https://www.odata.org/)** is an open protocol to allow the creation and consumption of queryable and interoperable RESTful APIs in a simple and standard way.\n",
    "\n",
    "More details are in the [HPE Redfish API Reference document](https://hewlettpackard.github.io/ilo-rest-api-docs/ilo5/#introduction).\n",
    "\n"
   ]
  },
  {
   "cell_type": "markdown",
   "metadata": {},
   "source": [
    "### `$expand` query parameter\n",
    "\n",
    "![ExpandSupport](Pictures/ExpandSupport.png)"
   ]
  },
  {
   "cell_type": "markdown",
   "metadata": {},
   "source": [
    "### `only` Query parameter\n",
    "\n",
    "![OnlyQueryParamter](Pictures/OnlyQueryParameter.png)\n"
   ]
  },
  {
   "cell_type": "markdown",
   "metadata": {},
   "source": [
    "\n",
    "\n",
    "\n",
    "\n",
    "## Create environment variables and session\n",
    "\n",
    "The following `bash` code defines environment variables (i.e. IP address, username, password....) depending on your student ID number stored in variable `$Stud`. It creates as well several `.json` files containing various HTTP workloads required to POST or PATCH the managed iLO. "
   ]
  },
  {
   "cell_type": "code",
   "execution_count": null,
   "metadata": {},
   "outputs": [],
   "source": [
    "# Create BMC related variables\n",
    "iLO5_IP=ilo-etc1\n",
    "#iLO5_IP=172.16.50.99\n",
    "iLO5_URI=\"https://${iLO5_IP}\"\n",
    "\n",
    "# iLO 5 Administrator credentials\n",
    "iLO5_User=\"student\"\n",
    "iLO5_Passwd='P@ssw0rd!'\n",
    "\n",
    "# Minimum required Redfish headers\n",
    "HeaderODataVersion=\"OData-Version: 4.0\"\n",
    "HeaderContentType=\"Content-Type: application/json\"\n",
    "\n",
    "# Data files\n",
    "ResponseHeaders=\"ResponseHeaders.txt\"             # Used to hold HTTP response headers\n",
    "SessionData=\"./CreateSession-data.json\"           # Body/Workload used to create the Redfish session\n",
    "\n",
    "cat > ${SessionData} << __EOF__\n",
    "{\n",
    "        \"UserName\": \"$iLO5_User\",\n",
    "        \"Password\": \"$iLO5_Passwd\"\n",
    "}\n",
    "__EOF__\n",
    "\n",
    "\n",
    "# Verify we can reach the remote Bmc\n",
    "curl --insecure --silent \\\n",
    "  --header  \"$HeaderContentType\" --header \"$HeaderODataVersion\" \\\n",
    "  --request GET ${iLO5_URI}/redfish | jq  || echo \"WARNING: Problem reaching the remote BMC\"\n",
    "  "
   ]
  },
  {
   "cell_type": "markdown",
   "metadata": {},
   "source": [
    "## Create the Redfish session\n",
    "\n",
    "Redfish allows basic authentication and session authentication. With basic authentication you need to supply the required credentials at each and every HTTP request. Session oriented authentication is achieved by requesting a `Token` that will be sent in the headers of all requests until the removal of the session.\n",
    "\n",
    "To get this `Token`, POST a session request with the remote BMC credentials in its body. The `Token` as well as the `session location` will be in the headers of the response."
   ]
  },
  {
   "cell_type": "code",
   "execution_count": null,
   "metadata": {
    "scrolled": true
   },
   "outputs": [],
   "source": [
    "echo 'Create iLO 5 Session' \n",
    "\n",
    "curl --dump-header  $ResponseHeaders \\\n",
    "     --insecure --noproxy \"localhost, 127.0.0.1\" --silent \\\n",
    "     --header \"$HeaderContentType\" --header \"$HeaderODataVersion\" \\\n",
    "     --request POST --data \"@$SessionData\" \\\n",
    "     ${iLO5_URI}/redfish/v1/SessionService/Sessions > /dev/null 2>&1\n",
    "     \n",
    "Token=$(awk '/X-Auth-Token/ {print $NF}' $ResponseHeaders | tr -d '\\r')\n",
    "SessionLocation=\"$iLO5_URI\"$(awk '/^Loca.*Se/ {gsub(\"https://.*/red\", \"/red\", $NF);print $NF}' $ResponseHeaders | tr -d '\\r')\n",
    "\n",
    "echo \"Token: $Token\"\n",
    "echo -e \"Session Location: $SessionLocation\\n\""
   ]
  },
  {
   "cell_type": "markdown",
   "metadata": {},
   "source": [
    "### Retrieve iLO 5 supported OData protocol features\n",
    "\n",
    "The following command retrieves the OData supported protocol features."
   ]
  },
  {
   "cell_type": "code",
   "execution_count": null,
   "metadata": {},
   "outputs": [],
   "source": [
    "echo \"Retrieve supported OData features:\"\n",
    "curl --insecure --silent --noproxy \"localhost, 127.0.0.1\"  \\\n",
    "     --header  \"$HeaderContentType\" --header \"$HeaderODataVersion\" \\\n",
    "     --header \"X-Auth-Token: $Token\" \\\n",
    "     --request GET ${iLO5_URI}/redfish/v1 | jq '.ProtocolFeaturesSupported'\n"
   ]
  },
  {
   "cell_type": "markdown",
   "metadata": {},
   "source": [
    "###  GET collection without `$expand` \n"
   ]
  },
  {
   "cell_type": "code",
   "execution_count": null,
   "metadata": {},
   "outputs": [],
   "source": [
    "echo \"GET FirmwareInventory collection\"\n",
    "\n",
    "curl --insecure --noproxy \"localhost, 127.0.0.1\" --silent \\\n",
    "     --header \"$HeaderContentType\" --header \"$HeaderODataVersion\" \\\n",
    "     --header \"X-Auth-Token: $Token\" \\\n",
    "     --request GET ${iLO5_URI}/redfish/v1/UpdateService/FirmwareInventory | jq \n",
    "       "
   ]
  },
  {
   "cell_type": "markdown",
   "metadata": {},
   "source": [
    "###  Expand collection with `$expand` \n"
   ]
  },
  {
   "cell_type": "code",
   "execution_count": null,
   "metadata": {},
   "outputs": [],
   "source": [
    "echo \"Retrieve ALL Firmware versions with a single GET\"\n",
    "\n",
    "curl --insecure --noproxy \"localhost, 127.0.0.1\" --silent \\\n",
    "     --header \"$HeaderContentType\" --header \"$HeaderODataVersion\" \\\n",
    "     --header \"X-Auth-Token: $Token\" \\\n",
    "     --request GET ${iLO5_URI}'/redfish/v1/UpdateService/FirmwareInventory?$expand=.' | \\\n",
    "       jq '.Members | .[] | {Name: .Name, Description: .Description, Version: .Version}'"
   ]
  },
  {
   "cell_type": "markdown",
   "metadata": {},
   "source": [
    "## Expand collection only if it contains one element\n",
    "\n",
    "### Without the `only` query parameter"
   ]
  },
  {
   "cell_type": "code",
   "execution_count": null,
   "metadata": {},
   "outputs": [],
   "source": [
    "echo \"Chassis collection\"\n",
    "\n",
    "curl --insecure --noproxy \"localhost, 127.0.0.1\" --silent \\\n",
    "     --header \"$HeaderContentType\" --header \"$HeaderODataVersion\" \\\n",
    "     --header \"X-Auth-Token: $Token\" \\\n",
    "     --request GET ${iLO5_URI}'/redfish/v1/Chassis' | jq"
   ]
  },
  {
   "cell_type": "markdown",
   "metadata": {},
   "source": [
    "### With the `only` query parameter\n"
   ]
  },
  {
   "cell_type": "code",
   "execution_count": null,
   "metadata": {},
   "outputs": [],
   "source": [
    "echo \"Chassis collection\"\n",
    "\n",
    "curl --insecure --noproxy \"localhost, 127.0.0.1\" --silent \\\n",
    "     --header \"$HeaderContentType\" --header \"$HeaderODataVersion\" \\\n",
    "     --header \"X-Auth-Token: $Token\" \\\n",
    "     --request GET ${iLO5_URI}'/redfish/v1/Chassis?only' | jq"
   ]
  },
  {
   "cell_type": "markdown",
   "metadata": {},
   "source": [
    "## More OData queries\n",
    "\n",
    "In addition to the `$expand` and `only` OData queries Redfish implementations can support others like `$filter`, `$top` and `$skip`. "
   ]
  },
  {
   "cell_type": "markdown",
   "metadata": {},
   "source": [
    "### `$filter` query\n",
    "\n",
    "Extract IML logs created after a specific date."
   ]
  },
  {
   "cell_type": "code",
   "execution_count": null,
   "metadata": {},
   "outputs": [],
   "source": [
    "Filter=\"filter=Created+gt+'2020-04-01T08:27:03Z'\"\n",
    "\n",
    "curl --insecure --silent \\\n",
    "     --header \"$HeaderContentType\" --header \"$HeaderODataVersion\" \\\n",
    "     --header \"X-Auth-Token: $Token\" \\\n",
    "--request GET ${iLO5_URI}/redfish/v1/Systems/1/LogServices/IML/Entries'?$'$Filter | jq"
   ]
  },
  {
   "cell_type": "markdown",
   "metadata": {},
   "source": [
    "### `$top` query \n",
    "\n",
    "Extract the oldest Log records within all possible iLO log files."
   ]
  },
  {
   "cell_type": "code",
   "execution_count": null,
   "metadata": {},
   "outputs": [],
   "source": [
    "# \n",
    "ODataQuery='?$top=1'\n",
    "\n",
    "# Retrieve LogURIs locations\n",
    "LogURIs=$(curl --insecure --silent \\\n",
    "     --header \"$HeaderContentType\" --header \"$HeaderODataVersion\" \\\n",
    "     --header \"X-Auth-Token: $Token\" \\\n",
    "--request GET ${iLO5_URI}/redfish/v1/Systems/1/LogServices | jq -r '.Members | .[] | .\"@odata.id\"')\n",
    "\n",
    "# For each LogURI in LogURIs, retrieve the location of entries.\n",
    "LogEntriesURIs=\"\"\n",
    "  for LogURI in $LogURIs ; do\n",
    "    LogEntriesURI=$(curl --insecure --silent \\\n",
    "         --header \"$HeaderContentType\" --header \"$HeaderODataVersion\" \\\n",
    "         --header \"X-Auth-Token: $Token\" \\\n",
    "         --request GET ${iLO5_URI}$LogURI | jq -r '.Entries | .\"@odata.id\"')\n",
    "\n",
    "    LogEntriesURIs=\"${LogEntriesURI} $LogEntriesURIs\"\n",
    "done\n",
    "\n",
    "# Remove trailing space if any\n",
    "LogEntriesURIs=$(echo ${LogEntriesURIs%%*()})\n",
    "echo -e \"Oldest Log Entries URIs: ${iLO5_URI}${LogEntriesURIs}${ODataQuery}\\n\"\n",
    "\n",
    "\n",
    "curl --insecure --silent \\\n",
    "     --header \"$HeaderContentType\" --header \"$HeaderODataVersion\" \\\n",
    "     --header \"X-Auth-Token: $Token\" \\\n",
    "--request GET ${iLO5_URI}${LogEntriesURIs}${ODataQuery} | jq\n"
   ]
  },
  {
   "cell_type": "markdown",
   "metadata": {},
   "source": [
    "### `$skip` query\n",
    "\n",
    "Skip the first 75 log entries and print the rest."
   ]
  },
  {
   "cell_type": "code",
   "execution_count": null,
   "metadata": {},
   "outputs": [],
   "source": [
    "\n",
    "\n",
    "curl --insecure --silent \\\n",
    "     --header \"$HeaderContentType\" --header \"$HeaderODataVersion\" \\\n",
    "     --header \"X-Auth-Token: $Token\" \\\n",
    "--request GET ${iLO5_URI}'/redfish/v1/Systems/1/LogServices/IML/Entries?$skip=75' | jq"
   ]
  },
  {
   "cell_type": "markdown",
   "metadata": {},
   "source": [
    "## Delete sessions\n",
    "\n",
    "It is extremely important to delete Redfish sessions to avoid reaching the maximum number of opened sessions in a BMC, preventing any access to it. Read this [article](https://developer.hpe.com/blog/managing-ilo-sessions-with-redfish) for more detail."
   ]
  },
  {
   "cell_type": "code",
   "execution_count": null,
   "metadata": {},
   "outputs": [],
   "source": [
    "echo \"Body response of a session deletion:\"\n",
    "\n",
    "curl --insecure --noproxy \"localhost, 127.0.0.1\" --silent \\\n",
    "     --header \"$HeaderContentType\" --header \"$HeaderODataVersion\" \\\n",
    "     --header \"X-Auth-Token: $Token\" \\\n",
    "     --request DELETE $SessionLocation | jq"
   ]
  },
  {
   "cell_type": "markdown",
   "metadata": {},
   "source": [
    "## Wrap up\n",
    "\n",
    "In this notebook you performed the following actions:\n",
    "\n",
    "  * Create and delete a token based Redfish session\n",
    "  * Retrieved iLO 5 supported OData protocol features\n",
    "  * Expand a collection with OData `$expand` query operator\n",
    "  * Expand a collection with OData `only` query operator\n",
    "  * Filter log entries with `$filter`, `$top` and `$skip` queries\n",
    "  * Delete a Redfish session"
   ]
  }
 ],
 "metadata": {
  "kernelspec": {
   "display_name": "Bash",
   "language": "bash",
   "name": "bash"
  },
  "language_info": {
   "codemirror_mode": "shell",
   "file_extension": ".sh",
   "mimetype": "text/x-sh",
   "name": "bash"
  }
 },
 "nbformat": 4,
 "nbformat_minor": 4
}
