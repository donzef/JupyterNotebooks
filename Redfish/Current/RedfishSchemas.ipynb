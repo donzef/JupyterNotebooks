{
 "cells": [
  {
   "cell_type": "markdown",
   "metadata": {},
   "source": [
    "# Redfish schemas: Why should I care\n",
    "\n",
    "Powered by [HPE DEV Team](hpedev.io)\n",
    "\n",
    "### Speakers : François Donzé\n",
    "\n",
    "\n",
    "Version 0.1\n",
    "\n",
    "<img src=\"https://redfish.dmtf.org/sites/default/files/DMTF_Redfish_logo_R.jpg\" alt=\"Redfish Logo\" style=\"width: 125px;\"/> "
   ]
  },
  {
   "cell_type": "markdown",
   "metadata": {},
   "source": [
    "\n",
    "## Introduction\n",
    "\n",
    "This Jupyter notebook defines environment variables that will be used through the rest of the notebook. Then, it explains how Redfish schemas can help you in your development. For didactic reasons, commands presented in this notebook are not optimized.\n",
    "\n",
    "## Create environment variables\n",
    "\n",
    "The following `bash` code defines environment variables (i.e. IP address, username, password....) depending on your student ID number stored in variable `$Stud`. It creates as well a `.json` file containing the credentials of your OpenBMC appliance required to open a Redfish session. \n",
    "\n",
    "Click in the cell below and then click on the\n",
    "<img src=\"Pictures/RunButton.png\" style=\"display:inline;width=55px;height=25px\"/>\n",
    "icon to create the environment variables and the json file."
   ]
  },
  {
   "cell_type": "code",
   "execution_count": 1,
   "metadata": {},
   "outputs": [
    {
     "name": "stdout",
     "output_type": "stream",
     "text": [
      "You are Student 00\n"
     ]
    }
   ],
   "source": [
    "# Set Student ID number\n",
    "Stud=\"00\"\n",
    "echo \"You are Student $Stud\"\n",
    "\n",
    "# Create BMC location/ports variables\n",
    "BmcIP=openbmcs:443${Stud}          # OpenBMC simulator\n",
    "BmcURI=\"https://${BmcIP}\"\n",
    "\n",
    "# BMC Administrator credentials\n",
    "BmcUser=\"student\"\n",
    "BmcPassword='P@ssw0rd!'\n",
    "\n",
    "# Minimum required Redfish headers\n",
    "HeaderODataVersion=\"OData-Version: 4.0\"\n",
    "HeaderContentType=\"Content-Type: application/json\"\n",
    "\n",
    "# Data files\n",
    "ResponseHeaders=\"ResponseHeaders.txt\"   # Used to hold HTTP response headers\n",
    "SessionData=\"./CreateSession-data.json\" # Body/Workload used to create the Redfish session\n",
    "cat > ${SessionData} << __EOF__\n",
    "{\n",
    "        \"UserName\": \"$BmcUser\",\n",
    "        \"Password\": \"$BmcPassword\"\n",
    "}\n",
    "__EOF__\n",
    "\n",
    "\n",
    "# Verify we can reach the remote Bmc\n",
    "curl --insecure --silent \\\n",
    "  --header  \"$HeaderContentType\" --header \"$HeaderODataVersion\" \\\n",
    "  --request GET ${BmcURI}/redfish | jq &>>/dev/null || echo \"WARNING: Problem reaching the remote BMC\"\n",
    "  \n"
   ]
  },
  {
   "cell_type": "markdown",
   "metadata": {},
   "source": [
    "## Retrieve the Redfish Service Entry point content (Root)\n",
    "\n",
    "The Redfish Service Entry point is **`/redfish/v{RedfishVersion}/`**.\n",
    "\n",
    "Run the next cell to retrieve Redfish version(s) available today in your OpenBMC.\n",
    "\n",
    "This request does not require any authentication.\n",
    "\n",
    "If you are not familiar with cURL, get help from its [manual page](https://curl.haxx.se/docs/manpage.html)."
   ]
  },
  {
   "cell_type": "markdown",
   "metadata": {},
   "source": [
    "## Create a Redfish session using cURL\n",
    "\n",
    "\n",
    "All the URIs below the Root entry point requires authentication. In this section you'll go through the session authentication method as it may differ from other Rest APIs (i.e. OneView). \n",
    "\n",
    "The following `curl` command sends a `POST` request toward the standard `/redfish/v1/SessionService/Sessions` URI of your  BMC. The body/workload of this request is in the `@${SessionData}` json file populated in the very first `bash` cell of this notebook (Environment variables). You can view its content by clicking on it from the left pane of your Jupyter environment.\n",
    "\n",
    "Select and run the following cell.\n",
    "\n",
    "If this `POST` request is successful, the BMC sends back a `Token` and a `Session Location` in the **headers of the response**. Response headers are saved in the `$ResponseHeaders` text file now present in the left pane of your Jupyter environment.\n"
   ]
  },
  {
   "cell_type": "code",
   "execution_count": 20,
   "metadata": {},
   "outputs": [
    {
     "name": "stdout",
     "output_type": "stream",
     "text": [
      "Create Session and print body response:\n",
      "\u001b[1;39m{\n",
      "  \u001b[0m\u001b[34;1m\"@odata.id\"\u001b[0m\u001b[1;39m: \u001b[0m\u001b[0;32m\"/redfish/v1/SessionService/Sessions/yIKuKh6vDk\"\u001b[0m\u001b[1;39m,\n",
      "  \u001b[0m\u001b[34;1m\"@odata.type\"\u001b[0m\u001b[1;39m: \u001b[0m\u001b[0;32m\"#Session.v1_0_2.Session\"\u001b[0m\u001b[1;39m,\n",
      "  \u001b[0m\u001b[34;1m\"Description\"\u001b[0m\u001b[1;39m: \u001b[0m\u001b[0;32m\"Manager User Session\"\u001b[0m\u001b[1;39m,\n",
      "  \u001b[0m\u001b[34;1m\"Id\"\u001b[0m\u001b[1;39m: \u001b[0m\u001b[0;32m\"yIKuKh6vDk\"\u001b[0m\u001b[1;39m,\n",
      "  \u001b[0m\u001b[34;1m\"Name\"\u001b[0m\u001b[1;39m: \u001b[0m\u001b[0;32m\"User Session\"\u001b[0m\u001b[1;39m,\n",
      "  \u001b[0m\u001b[34;1m\"UserName\"\u001b[0m\u001b[1;39m: \u001b[0m\u001b[0;32m\"student\"\u001b[0m\u001b[1;39m\n",
      "\u001b[1;39m}\u001b[0m\n",
      "Bmc Token: nOhnx0jdxfNj0I6kw7hW\n",
      "Bmc Session Location: https://openbmcs:44300/redfish/v1/SessionService/Sessions/yIKuKh6vDk\n",
      "\n"
     ]
    }
   ],
   "source": [
    "echo 'Create Session and print body response:' \n",
    "\n",
    "curl --dump-header  $ResponseHeaders \\\n",
    "     --insecure --noproxy \"localhost, 127.0.0.1\" --silent \\\n",
    "     --header \"$HeaderContentType\" --header \"$HeaderODataVersion\" \\\n",
    "     --request POST --data \"@$SessionData\" \\\n",
    "     ${BmcURI}/redfish/v1/SessionService/Sessions | jq\n",
    "     \n",
    "BmcToken=$(awk '/X-Auth-Token/ {print $NF}' $ResponseHeaders | tr -d '\\r')\n",
    "BmcSessionLocation=\"$BmcURI\"$(awk '/^Loca.*Se/ {gsub(\"https://.*/red\", \"/red\", $NF);print $NF}' $ResponseHeaders | tr -d '\\r')\n",
    "\n",
    "echo \"Bmc Token: $BmcToken\"\n",
    "echo -e \"Bmc Session Location: $BmcSessionLocation\\n\""
   ]
  },
  {
   "cell_type": "markdown",
   "metadata": {},
   "source": [
    "The following cell extracts the name of the BMCs present in your system and then, for each BMC it extracts its properties.\n",
    "\n",
    "Run it and review the properties returned by your OpenBMC. Among them you should notice the `Actions` and the `Oem` resources which need some explanation. \n",
    "\n",
    "The `Actions` collection contains all the possible actions that can be performed on your BMC; With this version of OpenBMC, you can perform a reset of the BMC by posting the value `GracefulRestart` at `/redfish/v1/Managers/bmc/Actions/Manager.Reset`. You'll do this later.\n",
    "\n",
    "The `Oem` collection contains resources specific to `OpenBmc` and not part of the Redfish standard. This is a way to allow computer makers to expose their specific and added value resources to the Rest API."
   ]
  },
  {
   "cell_type": "code",
   "execution_count": 21,
   "metadata": {},
   "outputs": [
    {
     "name": "stdout",
     "output_type": "stream",
     "text": [
      "List of BMC(s) present in this system:\n",
      "bmc\n",
      "\n",
      "Properties of BMC: bmc\n",
      "\u001b[1;39m{\n",
      "  \u001b[0m\u001b[34;1m\"@odata.id\"\u001b[0m\u001b[1;39m: \u001b[0m\u001b[0;32m\"/redfish/v1/Managers/bmc\"\u001b[0m\u001b[1;39m,\n",
      "  \u001b[0m\u001b[34;1m\"@odata.type\"\u001b[0m\u001b[1;39m: \u001b[0m\u001b[0;32m\"#Manager.v1_3_0.Manager\"\u001b[0m\u001b[1;39m,\n",
      "  \u001b[0m\u001b[34;1m\"Actions\"\u001b[0m\u001b[1;39m: \u001b[0m\u001b[1;39m{\n",
      "    \u001b[0m\u001b[34;1m\"#Manager.Reset\"\u001b[0m\u001b[1;39m: \u001b[0m\u001b[1;39m{\n",
      "      \u001b[0m\u001b[34;1m\"ResetType@Redfish.AllowableValues\"\u001b[0m\u001b[1;39m: \u001b[0m\u001b[1;39m[\n",
      "        \u001b[0;32m\"GracefulRestart\"\u001b[0m\u001b[1;39m\n",
      "      \u001b[1;39m]\u001b[0m\u001b[1;39m,\n",
      "      \u001b[0m\u001b[34;1m\"target\"\u001b[0m\u001b[1;39m: \u001b[0m\u001b[0;32m\"/redfish/v1/Managers/bmc/Actions/Manager.Reset\"\u001b[0m\u001b[1;39m\n",
      "    \u001b[1;39m}\u001b[0m\u001b[1;39m\n",
      "  \u001b[1;39m}\u001b[0m\u001b[1;39m,\n",
      "  \u001b[0m\u001b[34;1m\"DateTime\"\u001b[0m\u001b[1;39m: \u001b[0m\u001b[0;32m\"2020-07-24T16:40:18+00:00\"\u001b[0m\u001b[1;39m,\n",
      "  \u001b[0m\u001b[34;1m\"Description\"\u001b[0m\u001b[1;39m: \u001b[0m\u001b[0;32m\"Baseboard Management Controller\"\u001b[0m\u001b[1;39m,\n",
      "  \u001b[0m\u001b[34;1m\"EthernetInterfaces\"\u001b[0m\u001b[1;39m: \u001b[0m\u001b[1;39m{\n",
      "    \u001b[0m\u001b[34;1m\"@odata.id\"\u001b[0m\u001b[1;39m: \u001b[0m\u001b[0;32m\"/redfish/v1/Managers/bmc/EthernetInterfaces\"\u001b[0m\u001b[1;39m\n",
      "  \u001b[1;39m}\u001b[0m\u001b[1;39m,\n",
      "  \u001b[0m\u001b[34;1m\"FirmwareVersion\"\u001b[0m\u001b[1;39m: \u001b[0m\u001b[0;32m\"2.8.0-dev-1427-g64e281927\"\u001b[0m\u001b[1;39m,\n",
      "  \u001b[0m\u001b[34;1m\"GraphicalConsole\"\u001b[0m\u001b[1;39m: \u001b[0m\u001b[1;39m{\n",
      "    \u001b[0m\u001b[34;1m\"ConnectTypesSupported\"\u001b[0m\u001b[1;39m: \u001b[0m\u001b[1;39m[\n",
      "      \u001b[0;32m\"KVMIP\"\u001b[0m\u001b[1;39m\n",
      "    \u001b[1;39m]\u001b[0m\u001b[1;39m,\n",
      "    \u001b[0m\u001b[34;1m\"MaxConcurrentSessions\"\u001b[0m\u001b[1;39m: \u001b[0m\u001b[0;39m4\u001b[0m\u001b[1;39m,\n",
      "    \u001b[0m\u001b[34;1m\"ServiceEnabled\"\u001b[0m\u001b[1;39m: \u001b[0m\u001b[0;39mtrue\u001b[0m\u001b[1;39m\n",
      "  \u001b[1;39m}\u001b[0m\u001b[1;39m,\n",
      "  \u001b[0m\u001b[34;1m\"Id\"\u001b[0m\u001b[1;39m: \u001b[0m\u001b[0;32m\"bmc\"\u001b[0m\u001b[1;39m,\n",
      "  \u001b[0m\u001b[34;1m\"Links\"\u001b[0m\u001b[1;39m: \u001b[0m\u001b[1;39m{\n",
      "    \u001b[0m\u001b[34;1m\"ManagerForChassis\"\u001b[0m\u001b[1;39m: \u001b[0m\u001b[1;39m[\n",
      "      \u001b[1;39m{\n",
      "        \u001b[0m\u001b[34;1m\"@odata.id\"\u001b[0m\u001b[1;39m: \u001b[0m\u001b[0;32m\"/redfish/v1/Chassis/chassis\"\u001b[0m\u001b[1;39m\n",
      "      \u001b[1;39m}\u001b[0m\u001b[1;39m\n",
      "    \u001b[1;39m]\u001b[0m\u001b[1;39m,\n",
      "    \u001b[0m\u001b[34;1m\"ManagerForChassis@odata.count\"\u001b[0m\u001b[1;39m: \u001b[0m\u001b[0;39m1\u001b[0m\u001b[1;39m,\n",
      "    \u001b[0m\u001b[34;1m\"ManagerForServers\"\u001b[0m\u001b[1;39m: \u001b[0m\u001b[1;39m[\n",
      "      \u001b[1;39m{\n",
      "        \u001b[0m\u001b[34;1m\"@odata.id\"\u001b[0m\u001b[1;39m: \u001b[0m\u001b[0;32m\"/redfish/v1/Systems/system\"\u001b[0m\u001b[1;39m\n",
      "      \u001b[1;39m}\u001b[0m\u001b[1;39m\n",
      "    \u001b[1;39m]\u001b[0m\u001b[1;39m,\n",
      "    \u001b[0m\u001b[34;1m\"ManagerForServers@odata.count\"\u001b[0m\u001b[1;39m: \u001b[0m\u001b[0;39m1\u001b[0m\u001b[1;39m,\n",
      "    \u001b[0m\u001b[34;1m\"ManagerInChassis\"\u001b[0m\u001b[1;39m: \u001b[0m\u001b[1;39m{\n",
      "      \u001b[0m\u001b[34;1m\"@odata.id\"\u001b[0m\u001b[1;39m: \u001b[0m\u001b[0;32m\"/redfish/v1/Chassis/chassis\"\u001b[0m\u001b[1;39m\n",
      "    \u001b[1;39m}\u001b[0m\u001b[1;39m\n",
      "  \u001b[1;39m}\u001b[0m\u001b[1;39m,\n",
      "  \u001b[0m\u001b[34;1m\"LogServices\"\u001b[0m\u001b[1;39m: \u001b[0m\u001b[1;39m{\n",
      "    \u001b[0m\u001b[34;1m\"@odata.id\"\u001b[0m\u001b[1;39m: \u001b[0m\u001b[0;32m\"/redfish/v1/Managers/bmc/LogServices\"\u001b[0m\u001b[1;39m\n",
      "  \u001b[1;39m}\u001b[0m\u001b[1;39m,\n",
      "  \u001b[0m\u001b[34;1m\"ManagerType\"\u001b[0m\u001b[1;39m: \u001b[0m\u001b[0;32m\"BMC\"\u001b[0m\u001b[1;39m,\n",
      "  \u001b[0m\u001b[34;1m\"Model\"\u001b[0m\u001b[1;39m: \u001b[0m\u001b[0;32m\"OpenBmc\"\u001b[0m\u001b[1;39m,\n",
      "  \u001b[0m\u001b[34;1m\"Name\"\u001b[0m\u001b[1;39m: \u001b[0m\u001b[0;32m\"OpenBmc Manager\"\u001b[0m\u001b[1;39m,\n",
      "  \u001b[0m\u001b[34;1m\"NetworkProtocol\"\u001b[0m\u001b[1;39m: \u001b[0m\u001b[1;39m{\n",
      "    \u001b[0m\u001b[34;1m\"@odata.id\"\u001b[0m\u001b[1;39m: \u001b[0m\u001b[0;32m\"/redfish/v1/Managers/bmc/NetworkProtocol\"\u001b[0m\u001b[1;39m\n",
      "  \u001b[1;39m}\u001b[0m\u001b[1;39m,\n",
      "  \u001b[0m\u001b[34;1m\"Oem\"\u001b[0m\u001b[1;39m: \u001b[0m\u001b[1;39m{\n",
      "    \u001b[0m\u001b[34;1m\"@odata.id\"\u001b[0m\u001b[1;39m: \u001b[0m\u001b[0;32m\"/redfish/v1/Managers/bmc#/Oem\"\u001b[0m\u001b[1;39m,\n",
      "    \u001b[0m\u001b[34;1m\"@odata.type\"\u001b[0m\u001b[1;39m: \u001b[0m\u001b[0;32m\"#OemManager.Oem\"\u001b[0m\u001b[1;39m,\n",
      "    \u001b[0m\u001b[34;1m\"OpenBmc\"\u001b[0m\u001b[1;39m: \u001b[0m\u001b[1;39m{\n",
      "      \u001b[0m\u001b[34;1m\"@odata.id\"\u001b[0m\u001b[1;39m: \u001b[0m\u001b[0;32m\"/redfish/v1/Managers/bmc#/Oem/OpenBmc\"\u001b[0m\u001b[1;39m,\n",
      "      \u001b[0m\u001b[34;1m\"@odata.type\"\u001b[0m\u001b[1;39m: \u001b[0m\u001b[0;32m\"#OemManager.OpenBmc\"\u001b[0m\u001b[1;39m,\n",
      "      \u001b[0m\u001b[34;1m\"Certificates\"\u001b[0m\u001b[1;39m: \u001b[0m\u001b[1;39m{\n",
      "        \u001b[0m\u001b[34;1m\"@odata.id\"\u001b[0m\u001b[1;39m: \u001b[0m\u001b[0;32m\"/redfish/v1/Managers/bmc/Truststore/Certificates\"\u001b[0m\u001b[1;39m\n",
      "      \u001b[1;39m}\u001b[0m\u001b[1;39m\n",
      "    \u001b[1;39m}\u001b[0m\u001b[1;39m\n",
      "  \u001b[1;39m}\u001b[0m\u001b[1;39m,\n",
      "  \u001b[0m\u001b[34;1m\"PowerState\"\u001b[0m\u001b[1;39m: \u001b[0m\u001b[0;32m\"On\"\u001b[0m\u001b[1;39m,\n",
      "  \u001b[0m\u001b[34;1m\"SerialConsole\"\u001b[0m\u001b[1;39m: \u001b[0m\u001b[1;39m{\n",
      "    \u001b[0m\u001b[34;1m\"ConnectTypesSupported\"\u001b[0m\u001b[1;39m: \u001b[0m\u001b[1;39m[\n",
      "      \u001b[0;32m\"IPMI\"\u001b[0m\u001b[1;39m,\n",
      "      \u001b[0;32m\"SSH\"\u001b[0m\u001b[1;39m\n",
      "    \u001b[1;39m]\u001b[0m\u001b[1;39m,\n",
      "    \u001b[0m\u001b[34;1m\"MaxConcurrentSessions\"\u001b[0m\u001b[1;39m: \u001b[0m\u001b[0;39m15\u001b[0m\u001b[1;39m,\n",
      "    \u001b[0m\u001b[34;1m\"ServiceEnabled\"\u001b[0m\u001b[1;39m: \u001b[0m\u001b[0;39mtrue\u001b[0m\u001b[1;39m\n",
      "  \u001b[1;39m}\u001b[0m\u001b[1;39m,\n",
      "  \u001b[0m\u001b[34;1m\"ServiceEntryPointUUID\"\u001b[0m\u001b[1;39m: \u001b[0m\u001b[0;32m\"8a557334-4a18-4b2a-9b80-da497882408c\"\u001b[0m\u001b[1;39m,\n",
      "  \u001b[0m\u001b[34;1m\"Status\"\u001b[0m\u001b[1;39m: \u001b[0m\u001b[1;39m{\n",
      "    \u001b[0m\u001b[34;1m\"Health\"\u001b[0m\u001b[1;39m: \u001b[0m\u001b[0;32m\"OK\"\u001b[0m\u001b[1;39m,\n",
      "    \u001b[0m\u001b[34;1m\"HealthRollup\"\u001b[0m\u001b[1;39m: \u001b[0m\u001b[0;32m\"OK\"\u001b[0m\u001b[1;39m,\n",
      "    \u001b[0m\u001b[34;1m\"State\"\u001b[0m\u001b[1;39m: \u001b[0m\u001b[0;32m\"Enabled\"\u001b[0m\u001b[1;39m\n",
      "  \u001b[1;39m}\u001b[0m\u001b[1;39m,\n",
      "  \u001b[0m\u001b[34;1m\"UUID\"\u001b[0m\u001b[1;39m: \u001b[0m\u001b[0;32m\"437d2061-659b-4157-9afa-95bf26c8f42d\"\u001b[0m\u001b[1;39m\n",
      "\u001b[1;39m}\u001b[0m\n"
     ]
    }
   ],
   "source": [
    "BmcList=$(curl --insecure --silent --noproxy \"localhost, 127.0.0.1\"  \\\n",
    "  --header  \"$HeaderContentType\" --header \"$HeaderODataVersion\" \\\n",
    "  --header \"X-Auth-Token: $BmcToken\" \\\n",
    "  --request GET ${BmcURI}/redfish/v1/Managers | jq '.Members[]' | \\\n",
    "  awk -F/ '/@odata.id/ {print $NF}' | tr -d '\"' )\n",
    "  \n",
    "echo \"List of BMC(s) present in this system:\"\n",
    "echo -e \"$BmcList\\n\"\n",
    "\n",
    "for bmc in $BmcList ; do   \n",
    "    echo \"Properties of BMC: $bmc\" \n",
    "    curl --insecure --noproxy \"localhost, 127.0.0.1\" --silent \\\n",
    "      --header  \"$HeaderContentType\" --header \"$HeaderODataVersion\" \\\n",
    "      --header \"X-Auth-Token: $BmcToken\" \\\n",
    "      --request GET ${BmcURI}/redfish/v1/Managers/${bmc} | jq\n",
    "done\n"
   ]
  },
  {
   "cell_type": "markdown",
   "metadata": {},
   "source": [
    "If you want to view the network protocols supported by your BMC, you can retrieve them with a `GET` of the `NetworkProtocol` URI mentionned in the output of the above `GET` request.\n",
    "\n",
    "Run the next `curl`command. Its output should show an empty array of `NTPServers` (if not, contact your instructor). It contains as well the **Type** of the resources in this sub-tree: `@odata.type = #ManagerNetworkProtocol.v1_4_0.ManagerNetworkProtocol`.\n",
    "\n",
    "Said differently, the `NetworkProtocol` resources falls in the **`ManagerNetworkProtocol`**. You will need this info later.\n"
   ]
  },
  {
   "cell_type": "code",
   "execution_count": null,
   "metadata": {},
   "outputs": [],
   "source": [
    "echo \"Network Protocol configuration:\"\n",
    "curl --insecure --silent --noproxy \"localhost, 127.0.0.1\"  \\\n",
    "  --header  \"$HeaderContentType\" --header \"$HeaderODataVersion\" \\\n",
    "  --header \"X-Auth-Token: $BmcToken\" \\\n",
    "  --request GET ${BmcURI}/redfish/v1/Managers/${bmc}/NetworkProtocol | jq\n"
   ]
  },
  {
   "cell_type": "markdown",
   "metadata": {},
   "source": [
    "As it is always good to have the correct date and time in a BMC, you may want to supply at least one server IP in the `NTPServers` array of your BMC. To reach that goal you have first to verify in the Redfish Schema whether the `NTPServers` array can be modified. \n",
    "\n",
    "Generally speaking the location of the Redfish Schemas of a particular OData type is under the `/redfish/v1/JsonSchemas/{type}` endpoint.\n",
    "\n",
    "Run the following command listing the location(s) of the `ManagerNetworkProtocol` schema used by your BMC and study its output. \n",
    "\n",
    "The **`PublicationUri`** URI requires an Internet connection to reach `http://redfish.dmtf.org`.\n",
    "\n",
    "However, the `URI` pointer  does not require any Internet access to view its content as it is embedded in the BMC at `/redfish/v1/JsonSchemas/ManagerNetworkProtocol/ManagerNetworkProtocol.json` "
   ]
  },
  {
   "cell_type": "code",
   "execution_count": null,
   "metadata": {},
   "outputs": [],
   "source": [
    "echo \"Manager Network Protocol schema locations:\"\n",
    "\n",
    "curl --insecure --noproxy \"localhost, 127.0.0.1\" --silent \\\n",
    "     --header \"$HeaderContentType\" --header \"$HeaderODataVersion\" \\\n",
    "     --header \"X-Auth-Token: $BmcToken\" \\\n",
    "     --request GET \\\n",
    "     ${BmcURI}/redfish/v1/JsonSchemas/ManagerNetworkProtocol | jq"
   ]
  },
  {
   "cell_type": "markdown",
   "metadata": {},
   "source": [
    "Using the embedded `URI` You can retrieve the definition of the `NTPServers` object and verify you will be able to modify it. \n",
    "\n",
    "Run the following `curl` command which extracts the `NTPServers` schema definition and note the **`readonly = false`** property."
   ]
  },
  {
   "cell_type": "code",
   "execution_count": null,
   "metadata": {},
   "outputs": [],
   "source": [
    "echo \"NTPServers schema definition:\"\n",
    "\n",
    "curl --insecure --noproxy \"localhost, 127.0.0.1\" --silent \\\n",
    "     --header \"$HeaderContentType\" --header \"$HeaderODataVersion\" \\\n",
    "     --header \"X-Auth-Token: $BmcToken\" \\\n",
    "     --request GET \\\n",
    "     ${BmcURI}/redfish/v1/JsonSchemas/ManagerNetworkProtocol/ManagerNetworkProtocol.json | \\\n",
    "     jq '.definitions | .NTPProtocol | .properties | .NTPServers' "
   ]
  },
  {
   "cell_type": "markdown",
   "metadata": {},
   "source": [
    "You are now sure that it is possible to alter/populate the list of `NTPServers` in your BMC. \n",
    "\n",
    "The following commands performs a `PATCH` of the `NetworkProtocol` endpoint with a single NTP server IP address.\n",
    "\n",
    "This `PATCH` request does not return any response data. Other Redfish implementation (i.e. HPE iLO) are more verbose. However, by checking the response header file `$ResponseHeaders`, you should see an `HTTP/1.1: 204` return code stating that the request was successful."
   ]
  },
  {
   "cell_type": "code",
   "execution_count": null,
   "metadata": {},
   "outputs": [],
   "source": [
    "echo \"Patching NTP Servers\"\n",
    "curl --dump-header  $ResponseHeaders \\\n",
    "     --insecure --noproxy \"localhost, 127.0.0.1\" --silent \\\n",
    "     --header \"$HeaderContentType\" --header \"$HeaderODataVersion\" \\\n",
    "     --header \"X-Auth-Token: $BmcToken\" \\\n",
    "     --request PATCH --data '{ \"NTP\": {\"NTPServers\": [\"192.168.0.99\", \"\"]} }' \\\n",
    "     ${BmcURI}/redfish/v1/Managers/bmc/NetworkProtocol | jq"
   ]
  },
  {
   "cell_type": "markdown",
   "metadata": {},
   "source": [
    "Verify with the following command that the `NTPServers` list contains the IP address you supplied."
   ]
  },
  {
   "cell_type": "code",
   "execution_count": null,
   "metadata": {},
   "outputs": [],
   "source": [
    "echo \"NTP Server list:\"\n",
    "curl --insecure --silent --noproxy \"localhost, 127.0.0.1\"  \\\n",
    "  --header  \"$HeaderContentType\" --header \"$HeaderODataVersion\" \\\n",
    "  --header \"X-Auth-Token: $BmcToken\" \\\n",
    "  --request GET ${BmcURI}/redfish/v1/Managers/${bmc}/NetworkProtocol | jq '.NTP'"
   ]
  },
  {
   "cell_type": "markdown",
   "metadata": {},
   "source": [
    "## Perform an action: Reset OpenBMC\n",
    "\n",
    "In the previous section you modified a resource that is not requiring a reset of the BMC to be taken into account. However other parameters may require a restart when changed.\n",
    "\n",
    "In this paragraph you will perform the `GracefulRestart` action seen previously in your OpenBMC using a `POST` request toward the corresponding target. \n",
    "\n",
    "After you run this reset command, run the next `bash` cell in order to wait until the BMC is back online."
   ]
  },
  {
   "cell_type": "code",
   "execution_count": null,
   "metadata": {},
   "outputs": [],
   "source": [
    "echo \"Starting a reset of the BMC at\" ; date\n",
    "echo\n",
    "\n",
    "curl --insecure --noproxy \"localhost, 127.0.0.1\" --silent \\\n",
    "     --header \"$HeaderContentType\" --header \"$HeaderODataVersion\" \\\n",
    "     --header \"X-Auth-Token: $BmcToken\" \\\n",
    "     --request POST --data '{ \"ResetType\": \"GracefulRestart\"}' \\\n",
    "     ${BmcURI}/redfish/v1/Managers/bmc/Actions/Manager.Reset | jq"
   ]
  },
  {
   "cell_type": "markdown",
   "metadata": {},
   "source": [
    "## Wait until OpenBMC is back online\n",
    "\n",
    "The following cell loops until the BMC returns a valid output to a `GET` request. Run it and wait until the BMC is back on line. This should take about two minutes."
   ]
  },
  {
   "cell_type": "code",
   "execution_count": null,
   "metadata": {},
   "outputs": [],
   "source": [
    "ret=\"\"\n",
    "while [ \"X${ret}\" != \"X0\" ] ; do\n",
    "    timeout 3 curl --insecure --noproxy \"localhost, 127.0.0.1\"  --silent \\\n",
    "      --header  \"$HeaderContentType\" --header \"$HeaderODataVersion\" \\\n",
    "      --header \"X-Auth-Token: $BmcToken\" \\\n",
    "      --request GET ${BmcURI}/redfish/v1/Managers/$bmc > /dev/null\n",
    "    ret=$?\n",
    "done\n",
    "\n",
    "echo \"BMC is back online at \" ; date \n",
    "echo"
   ]
  },
  {
   "cell_type": "markdown",
   "metadata": {},
   "source": [
    "## Delete sessions\n",
    "\n",
    "It is extremely important to delete Redfish sessions to avoid reaching the maximum number of opened sessions in a BMC, preventing any access to it. Read this [article](https://developer.hpe.com/blog/managing-ilo-sessions-with-redfish) for more detail."
   ]
  },
  {
   "cell_type": "code",
   "execution_count": null,
   "metadata": {},
   "outputs": [],
   "source": [
    "echo \"Body response of a session deletion:\"\n",
    "\n",
    "curl --insecure --noproxy \"localhost, 127.0.0.1\" --silent \\\n",
    "     --header \"$HeaderContentType\" --header \"$HeaderODataVersion\" --header \"X-Auth-Token: $BmcToken\" \\\n",
    "     --request DELETE $BmcSessionLocation | jq"
   ]
  },
  {
   "cell_type": "markdown",
   "metadata": {},
   "source": [
    "### What next ?\n",
    "\n",
    "If you want to re-run this notebook against an **HPE iLO 5**, from your Jupyter Home page, you can duplicate it and then modify the **`BmcIP`** variable with **`16.31.87.207`**.\n",
    "\n",
    "Then, you will be able to compare the output of OpenBMC and HPE iLO 5 Redfish implementations."
   ]
  },
  {
   "cell_type": "markdown",
   "metadata": {},
   "source": [
    " It is time now to go through the **[Lab 3 notebook](3-Aspire-RedfishPython.ipynb)** to study a Python code suitable for several Redfish implementation"
   ]
  },
  {
   "cell_type": "markdown",
   "metadata": {},
   "source": [
    "<img src=\"https://redfish.dmtf.org/sites/default/files/DMTF_Redfish_logo_R.jpg\" alt=\"Redfish Logo\" style=\"width: 50px;\"/><img src=\"https://redfish.dmtf.org/sites/default/files/DMTF_Redfish_logo_R.jpg\" alt=\"Redfish Logo\" style=\"width: 50px;\"/><img src=\"https://redfish.dmtf.org/sites/default/files/DMTF_Redfish_logo_R.jpg\" alt=\"Redfish Logo\" style=\"width: 50px;\"/><img src=\"https://redfish.dmtf.org/sites/default/files/DMTF_Redfish_logo_R.jpg\" alt=\"Redfish Logo\" style=\"width: 50px;\"/><img src=\"https://redfish.dmtf.org/sites/default/files/DMTF_Redfish_logo_R.jpg\" alt=\"Redfish Logo\" style=\"width: 50px;\"/><img src=\"https://redfish.dmtf.org/sites/default/files/DMTF_Redfish_logo_R.jpg\" alt=\"Redfish Logo\" style=\"width: 50px;\"/><img src=\"https://redfish.dmtf.org/sites/default/files/DMTF_Redfish_logo_R.jpg\" alt=\"Redfish Logo\" style=\"width: 50px;\"/><img src=\"https://redfish.dmtf.org/sites/default/files/DMTF_Redfish_logo_R.jpg\" alt=\"Redfish Logo\" style=\"width: 50px;\"/><img src=\"https://redfish.dmtf.org/sites/default/files/DMTF_Redfish_logo_R.jpg\" alt=\"Redfish Logo\" style=\"width: 50px;\"/><img src=\"https://redfish.dmtf.org/sites/default/files/DMTF_Redfish_logo_R.jpg\" alt=\"Redfish Logo\" style=\"width: 50px;\"/><img src=\"https://redfish.dmtf.org/sites/default/files/DMTF_Redfish_logo_R.jpg\" alt=\"Redfish Logo\" style=\"width: 50px;\"/><img src=\"https://redfish.dmtf.org/sites/default/files/DMTF_Redfish_logo_R.jpg\" alt=\"Redfish Logo\" style=\"width: 50px;\"/><img src=\"https://redfish.dmtf.org/sites/default/files/DMTF_Redfish_logo_R.jpg\" alt=\"Redfish Logo\" style=\"width: 50px;\"/><img src=\"https://redfish.dmtf.org/sites/default/files/DMTF_Redfish_logo_R.jpg\" alt=\"Redfish Logo\" style=\"width: 50px;\"/><img src=\"https://redfish.dmtf.org/sites/default/files/DMTF_Redfish_logo_R.jpg\" alt=\"Redfish Logo\" style=\"width: 50px;\"/><img src=\"https://redfish.dmtf.org/sites/default/files/DMTF_Redfish_logo_R.jpg\" alt=\"Redfish Logo\" style=\"width: 50px;\"/><img src=\"https://redfish.dmtf.org/sites/default/files/DMTF_Redfish_logo_R.jpg\" alt=\"Redfish Logo\" style=\"width: 50px;\"/><img src=\"https://redfish.dmtf.org/sites/default/files/DMTF_Redfish_logo_R.jpg\" alt=\"Redfish Logo\" style=\"width: 50px;\"/><img src=\"https://redfish.dmtf.org/sites/default/files/DMTF_Redfish_logo_R.jpg\" alt=\"Redfish Logo\" style=\"width: 50px;\"/><img src=\"https://redfish.dmtf.org/sites/default/files/DMTF_Redfish_logo_R.jpg\" alt=\"Redfish Logo\" style=\"width: 50px;\"/><img src=\"https://redfish.dmtf.org/sites/default/files/DMTF_Redfish_logo_R.jpg\" alt=\"Redfish Logo\" style=\"width: 50px;\"/><img src=\"https://redfish.dmtf.org/sites/default/files/DMTF_Redfish_logo_R.jpg\" alt=\"Redfish Logo\" style=\"width: 50px;\"/>"
   ]
  }
 ],
 "metadata": {
  "kernelspec": {
   "display_name": "Bash",
   "language": "bash",
   "name": "bash"
  },
  "language_info": {
   "codemirror_mode": "shell",
   "file_extension": ".sh",
   "mimetype": "text/x-sh",
   "name": "bash"
  }
 },
 "nbformat": 4,
 "nbformat_minor": 4
}
