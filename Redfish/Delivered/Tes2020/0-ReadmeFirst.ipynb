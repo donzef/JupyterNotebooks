{
 "cells": [
  {
   "cell_type": "markdown",
   "metadata": {},
   "source": [
    "<img src=\"images/RedfishLogo.png\" alt=\"Redfish Logo\" style=\"width: 250px;\"/>\n",
    "\n",
    "# Basic use of the Redfish API\n",
    "\n",
    "Version 0.28\n",
    "\n",
    "## What is Redfish ? \n",
    "\n",
    "As per the [Redfish](https://www.dmtf.org/standards/redfish) home page, \"DMTF’s Redfish® is a standard designed to deliver **simple and secure management** for converged, hybrid IT and the Software Defined Data Center (SDDC)\". \n",
    "\n",
    "## Workshop Goal\n",
    "\n",
    "At the end of the workshop, you will be able to \n",
    "  * explain the basic architecture of the Redfish tree\n",
    "  * explain the session based authentication mechanism\n",
    "  * explain the Redfish Event Service\n",
    "  * explain the use of the OData `$expand` and `only` operators\n",
    "\n",
    "## Handouts\n",
    "\n",
    "You can freely copy the Jupyter notebooks present in your environment, including their output in order to practice at your own place and pace."
   ]
  }
 ],
 "metadata": {
  "kernelspec": {
   "display_name": "Bash",
   "language": "bash",
   "name": "bash"
  },
  "language_info": {
   "codemirror_mode": "shell",
   "file_extension": ".sh",
   "mimetype": "text/x-sh",
   "name": "bash"
  }
 },
 "nbformat": 4,
 "nbformat_minor": 2
}
