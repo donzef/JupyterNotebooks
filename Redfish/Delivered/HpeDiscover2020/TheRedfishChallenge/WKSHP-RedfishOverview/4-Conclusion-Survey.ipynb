{
 "cells": [
  {
   "cell_type": "markdown",
   "metadata": {},
   "source": [
    "# Conclusion\n",
    "\n",
    "Version 0.22\n",
    "\n",
    "In this Redfish lab, we have shown you basic architecture using simple `cURL` and/or `PowerShell` commands and simple Python instructions using DMTF's Redfish module.\n",
    "\n",
    "**Congratulations!**"
   ]
  },
  {
   "cell_type": "markdown",
   "metadata": {},
   "source": [
    "# Final steps\n",
    "\n",
    "### Please take a moment to fill out our **[survey](https://forms.office.com/Pages/ResponsePage.aspx?id=YSBbEGm2MUuSrCTTBNGV3KHzFdd987lBoQATWJq45DdUMlhIRDlJUjhDV0FESU9YNlEyUjNTSFc3Ui4u)**.\n",
    "\n",
    "### Make sure you use `File->Log Out` to terminate your workshop."
   ]
  },
  {
   "cell_type": "markdown",
   "metadata": {},
   "source": [
    "![HPE DEV Logo](Pictures/hpe-dev-logo.png \"HPE DEV Hack Shack\")\n",
    "\n",
    "# Hack Shack\n",
    "\n",
    "Powered by [HPE DEV Team](hpedev.io)\n"
   ]
  },
  {
   "cell_type": "markdown",
   "metadata": {},
   "source": [
    "# Thank you\n",
    "![ThankYou](Pictures/grommet.jpg)"
   ]
  }
 ],
 "metadata": {
  "kernelspec": {
   "display_name": "Bash",
   "language": "bash",
   "name": "bash"
  },
  "language_info": {
   "codemirror_mode": "shell",
   "file_extension": ".sh",
   "mimetype": "text/x-sh",
   "name": "bash"
  }
 },
 "nbformat": 4,
 "nbformat_minor": 4
}
