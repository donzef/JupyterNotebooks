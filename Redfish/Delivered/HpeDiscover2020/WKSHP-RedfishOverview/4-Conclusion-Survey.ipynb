{
 "cells": [
  {
   "cell_type": "markdown",
   "metadata": {},
   "source": [
    "![HPEDEVlogo](Pictures/hpedevlogo-NB.JPG)\n",
    "\n",
    "# Thank you for visiting the Hack Shack\n",
    "\n",
    "Powered by [HPE DEV Team](hpedev.io)\n",
    "\n",
    "\n",
    "# Conclusion\n",
    "\n",
    "Version 0.3\n",
    "\n",
    "In this Redfish lab, you learned its basic architecture using simple `cURL` and/or `PowerShell` commands and simple Python instructions using DMTF's Redfish module. In addition concrete examples have been presented against different implementations so you can better understand the fundamental best practise saying that you should never assume a resource location.\n",
    "\n",
    "**Congratulations!**"
   ]
  },
  {
   "cell_type": "markdown",
   "metadata": {},
   "source": [
    "# Final steps\n",
    "\n",
    "### Please take a moment to fill out our **[survey](https://forms.office.com/Pages/ResponsePage.aspx?id=YSBbEGm2MUuSrCTTBNGV3KHzFdd987lBoQATWJq45DdUMlhIRDlJUjhDV0FESU9YNlEyUjNTSFc3Ui4u)**.\n",
    "\n",
    "### Join the HPE DEV Community by [signing up](https://developer.hpe.com/event/hpe-discover-us-2020?listid=11647678) to the HPE DEV Newsletter and Participate to our raffle to win !! \n",
    "\n",
    "### Make sure you use `File->Log Out` to terminate your workshop."
   ]
  },
  {
   "cell_type": "markdown",
   "metadata": {},
   "source": [
    "### Learn more about the HPE DEV Community\n",
    "![QRCode](Pictures/QRCode-HPEDEV.PNG)\n"
   ]
  },
  {
   "cell_type": "markdown",
   "metadata": {},
   "source": [
    "# Thank you\n",
    "![ThankYou](Pictures/grommet.jpg)"
   ]
  }
 ],
 "metadata": {
  "kernelspec": {
   "display_name": "Bash",
   "language": "bash",
   "name": "bash"
  },
  "language_info": {
   "codemirror_mode": "shell",
   "file_extension": ".sh",
   "mimetype": "text/x-sh",
   "name": "bash"
  }
 },
 "nbformat": 4,
 "nbformat_minor": 4
}
