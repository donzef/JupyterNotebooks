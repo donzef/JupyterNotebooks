{
 "cells": [
  {
   "cell_type": "markdown",
   "metadata": {},
   "source": [
    "![HPE DEV Logo](Pictures/hpe-dev-logo.png \"HPE DEV Hack Shack\")\n",
    "\n",
    "# Hack Shack\n",
    "\n",
    "Powered by [HPE DEV Team](hpedev.io)\n",
    "\n",
    "### Speakers : Troy Heber, François Donzé\n",
    "\n",
    "### Redfish API Overview workshop\n",
    "\n",
    "**Abstract**: Redfish, a DMTF management standard is now recognized as the best solution to replace proprietary protocols. During this follow along Hack Shack workshop, you will interact with this HTTP/JSON based standard using your favorite language: PowerShell, Python or Bash/cURL. You will explore the Redfish tree of an OpenBMC and an HPE iLO 5 to understand its basic structure. In addition you will learn how to modify resources and perform simple actions. Beginners and experts are welcome.\n",
    "\n",
    "Version 0.51\n",
    "\n",
    "<img src=\"https://redfish.dmtf.org/sites/default/files/DMTF_Redfish_logo_R.jpg\" alt=\"Redfish Logo\" style=\"width: 125px;\"/> \n",
    "\n",
    "## Introduction\n",
    "\n",
    "This notebook contains a single PowerShell program, explained and executed step by step. Its goal is to retrieve the BMC MAC addresses from an OpenBMC and from an HPE iLO 5 using a single piece of code.\n",
    "\n",
    "The account on your dedicated OpenBMC simulator has Administrator privileges while you have Read-Only persmissions on the physical shared iLO 5.\n",
    "\n",
    "For simplicity and didactic reasons, the following code is not optimized and does not handle errors or test return codes. The simple syntax used should be easy to understand by non-PowerShell knowledgeable students.\n",
    "\n",
    "### Setting the scene\n",
    "\n",
    "The following cell imports the minimum required PowerShell Cmdlets and defines **global variables** (credentials and IP addresses). "
   ]
  },
  {
   "cell_type": "code",
   "execution_count": 1,
   "metadata": {},
   "outputs": [
    {
     "name": "stdout",
     "output_type": "stream",
     "text": [
      "You are Student 00\n"
     ]
    }
   ],
   "source": [
    "# Set Student ID number\n",
    "$Stud=\"00\"\n",
    "echo \"You are Student $Stud\"\n",
    "\n",
    "# OpenBMC Host\n",
    "$BmcIP = \"16.31.86.70:443${Stud}\"\n",
    "$BmcURI = \"https://${BmcIP}/redfish/\"\n",
    "\n",
    "# OpenBMC credentials\n",
    "$user = \"student\"\n",
    "$pass = \"P@ssw0rd!\"\n",
    "\n",
    "# Convert the credentials to a base 64 encoded http Basic Auth \n",
    "$pair = \"${user}:${pass}\"\n",
    "$mybytes = [System.Text.Encoding]::ASCII.GetBytes($pair)\n",
    "$b64 = [System.Convert]::ToBase64String($mybytes)\n",
    "$basicAuthValue = \"Basic $b64\"\n",
    "$AuthHeaders = @{ Authorization = $basicAuthValue }"
   ]
  },
  {
   "cell_type": "markdown",
   "metadata": {},
   "source": [
    "## Retrieve the Redfish Service Entry point content (Root)\n",
    "\n",
    "The Redfish Service Entry point is **`/redfish/v{RedfishVersion}/`**.\n",
    "\n",
    "Run the next cell to retrieve Redfish version(s) available today in your OpenBMC.\n",
    "\n",
    "This request does not require any authentication."
   ]
  },
  {
   "cell_type": "code",
   "execution_count": 2,
   "metadata": {},
   "outputs": [
    {
     "name": "stdout",
     "output_type": "stream",
     "text": [
      "Attempting HTTP GET @ https://16.31.86.70:44300/redfish/\n",
      "                                                                                                                                                                                                                                                                                                                                                                                                                                                                                                                                                                                                                                                                \n",
      "v1\n",
      "--\n",
      "/redfish/v1/\n",
      "\n"
     ]
    }
   ],
   "source": [
    "echo \"Attempting HTTP GET @ $BmcURI\"\n",
    "# HTTP GET\n",
    "$r = Invoke-WebRequest -SkipCertificateCheck -Uri $BmcURI -Method 'GET' -ErrorAction Stop\n",
    "\n",
    "# Format the JSON Body Response\n",
    "ConvertFrom-Json $r.Content "
   ]
  },
  {
   "cell_type": "markdown",
   "metadata": {},
   "source": [
    "The previous command returns only one available Redfish version implemented in your BMC: **`v1`**. Hence its Redfish Service Entry point is at **`/redfish/v1`**\n",
    "\n",
    "It contains: \n",
    "\n",
    "  * Keys describing the **Root Service**: `@odata.context`, `Id`, `Name`, `RedfishVersion`, `UUID`....\n",
    "  * Services and collection URIs: `AccountService`, `Managers`, `Systems`.\n",
    "  * Links allowing direct access to resources beneath Root endpoints.\n",
    "\n",
    "A `GET` of the Redfish Root content **does not require authentication**.\n",
    "\n",
    "Run the following PowerShell Invoke-WebRequest cmdlet to retrieve the Redfish Service Entry point content and take a look at the ouput.\n",
    "\n",
    "Note that the keys are scattered among Services. For example, the `Id` key appears between the `Chassis` and `JsonSchemas` entry points. Other Redfish implementations (i.e. HPE iLO) may return a different output order.\n",
    "\n",
    "**Very important**: All the objects present in this output are fully described in the Redfish `ServiceRoot` schema version `v1_5_0` as mentionned in `@odata.type`. You will learn how to browse the `JsonSchemas` resources later in this notebook. \n",
    "\n",
    "The thing to remember for now is that a **single version of Redfish** holds multiple schemas versions. Then, resources can be added, moved or removed from a schema version to another one."
   ]
  },
  {
   "cell_type": "code",
   "execution_count": 3,
   "metadata": {},
   "outputs": [
    {
     "name": "stdout",
     "output_type": "stream",
     "text": [
      "Attempting HTTP GET @ https://16.31.86.70:44300/redfish/v1/\n",
      "                                                                                                                                                                                                                                                                                                                                                                                                                                                                                                                                                                                                                                                                \n",
      "@odata.id          : /redfish/v1\n",
      "@odata.type        : #ServiceRoot.v1_5_0.ServiceRoot\n",
      "AccountService     : @{@odata.id=/redfish/v1/AccountService}\n",
      "CertificateService : @{@odata.id=/redfish/v1/CertificateService}\n",
      "Chassis            : @{@odata.id=/redfish/v1/Chassis}\n",
      "Id                 : RootService\n",
      "JsonSchemas        : @{@odata.id=/redfish/v1/JsonSchemas}\n",
      "Links              : @{Sessions=}\n",
      "Managers           : @{@odata.id=/redfish/v1/Managers}\n",
      "Name               : Root Service\n",
      "RedfishVersion     : 1.9.0\n",
      "Registries         : @{@odata.id=/redfish/v1/Registries}\n",
      "SessionService     : @{@odata.id=/redfish/v1/SessionService}\n",
      "Systems            : @{@odata.id=/redfish/v1/Systems}\n",
      "Tasks              : @{@odata.id=/redfish/v1/TaskService}\n",
      "UUID               : 8a557334-4a18-4b2a-9b80-da497882408c\n",
      "UpdateService      : @{@odata.id=/redfish/v1/UpdateService}\n",
      "\n",
      "\n"
     ]
    }
   ],
   "source": [
    "\n",
    "$BmcURI = \"https://${BmcIP}/redfish/v1/\"\n",
    "\n",
    "echo \"Attempting HTTP GET @ $BmcURI\"\n",
    "# HTTP GET\n",
    "$r = Invoke-WebRequest -SkipCertificateCheck -Uri $BmcURI -Method 'GET' -ErrorAction Stop\n",
    "\n",
    "# Format the JSON Body Response\n",
    "ConvertFrom-Json $r.Content "
   ]
  },
  {
   "cell_type": "markdown",
   "metadata": {},
   "source": [
    "### Resource map (highlights)\n",
    "\n",
    "The above output lists the URI End Points holding all the resources for this Redfish version. Here is a light description of some of the most important ones:\n",
    "\n",
    "  * `AccountService`: collection of user accounts present in this BMC.\n",
    "  * `Chassis`: Collection of Chassis; \"Physical view of the system\" containing global physical asset info (i.e. power, thermal). A system can have multiple chassis (ex: HPE Superdome Flex).\n",
    "  * `Sessions`: Collection of current open sessions (ssh, https, GUI...).\n",
    "  * `Managers`: Collection of BMCs. A server can have multiple BMCs (i.e. HPE Moonshot have one iLO pers SOC).\n",
    "  * `Systems`: Collection of Systems; \"Logical view of the server\" with resources like Model, Serial number, Boot Order, NIC MAC, BIOS parameters ... A server can have multiple Systems (i.e. HPE Superdome Flex can have multiple hardware partitions: one per RedfishSystem).\n",
    "\n"
   ]
  },
  {
   "cell_type": "markdown",
   "metadata": {},
   "source": [
    "## Create a Redfish session using PowerShell\n",
    "\n",
    "\n",
    "All the URIs below the Root entry point require authentication. In this section you'll go through the session authentication method as it may differ from other Rest APIs (i.e. OneView). \n",
    "\n",
    "The following PowerShell Invoke-WebRequest cmdlet sends a `POST` request toward the standard `/redfish/v1/SessionService/Sessions` URI of your  BMC. The body/workload of this request is in the `@${Body}` json data populated using the credentials from the very first `PowerShell` cell of this notebook (Environment variables).\n",
    "\n",
    "Select and run the following cell.\n",
    "\n",
    "If this `POST` request is successful, the BMC sends back a `Token` and a `Session Location` in the **headers of the response**. Response headers are saved in the `$r_headers` variable and further parsed into the $token and $location variables.\n"
   ]
  },
  {
   "cell_type": "code",
   "execution_count": 4,
   "metadata": {},
   "outputs": [
    {
     "name": "stdout",
     "output_type": "stream",
     "text": [
      "                                                                                                                                                                                                                                                                                                                                                                                                                                                                                                                                                                                                                                                                Bmc Token: dBrlKSQMfANu26JzaHf3\n",
      "Bmc Session Location /redfish/v1/SessionService/Sessions/v3VjpbCTVU\n"
     ]
    }
   ],
   "source": [
    "# Create the JSON request to pass BMC credentials to the API                                                                      \n",
    "$Body = @{                                                                                                                            \n",
    "    UserName = $user                                                                                                                  \n",
    "    Password = $pass                                                                                                                  \n",
    "}                                                                                                                                     \n",
    "$Body = ($Body|ConvertTo-Json)                                                                                                        \n",
    "                                                                                                                                      \n",
    "#echo \"Body: \" ($Body|ConvertTo-Json)                                                                                                 \n",
    "$BmcURI = \"https://${BmcIP}/redfish/v1/SessionService/Sessions/\"                                                                      \n",
    "                                                                                                                                      \n",
    "#echo \"Attempting HTTP PUT @ $BmcURI to authenticate to establish a session and get an X-Auth-Token\"                                  \n",
    "$r = Invoke-WebRequest -SkipCertificateCheck -Uri $BmcURI -Method 'POST' -Body $Body -ErrorAction Stop                                \n",
    "                                                                                                                                      \n",
    "$r_headers = $r.Headers                                                                                                               \n",
    "$token = $r_headers.\"X-Auth-Token\"[0]  \n",
    "$location = $r_headers.\"Location\"[0]\n",
    " \n",
    "echo \"Bmc Token: $token\"\n",
    "echo \"Bmc Session Location $location\"                                                                                                                                      "
   ]
  },
  {
   "cell_type": "markdown",
   "metadata": {},
   "source": [
    "## Retrieve BMC parameters\n",
    "\n",
    "Redfish locates BMC parameters under `/redfish/v1/Managers`. From there you'll be able to identify all the BMCs present in your server as well as their properties. Remember that computers like HPE Moonshot and HPE Superdome Flex can have several BMCs.\n",
    "\n",
    "Your lab infrastructure is based upon servers with only a single BMC. However we'll use code suitable for servers with multiple BMCs.\n",
    "\n",
    "The following cell lists the collection of all the BMCs present in your system. Since requests below the Redfish Root Entry point **it requires authentication**, you must supply the **`X-Auth-Token`** as part of the header. \n",
    "\n",
    "Run it and note that there is only one BMC present in  your OpenBMC appliance (`Member@odata.count = 1`). Note as well its location: `/redfish/v1/Managers/bmc`. Other Redfish implementations use different locations. For example, the URI of an HPE iLO in a ProLiant Server is `/redfish/v1/Managers/1`. "
   ]
  },
  {
   "cell_type": "code",
   "execution_count": 5,
   "metadata": {},
   "outputs": [
    {
     "name": "stdout",
     "output_type": "stream",
     "text": [
      "Attempting HTTP GET @ https://16.31.86.70:44300/redfish/v1/Managers with X-Auth-Token: dBrlKSQMfANu26JzaHf3\n",
      "                                                                                                                                                                                                                                                                                                                                                                                                                                                                                                                                                                                                                                                                \n",
      "@odata.id           : /redfish/v1/Managers\n",
      "@odata.type         : #ManagerCollection.ManagerCollection\n",
      "Members             : {@{@odata.id=/redfish/v1/Managers/bmc}}\n",
      "Members@odata.count : 1\n",
      "Name                : Manager Collection\n",
      "\n",
      "\n"
     ]
    }
   ],
   "source": [
    "$headers = @{'X-Auth-Token'= $token}                                                                                                  \n",
    "                                                                                                                                      \n",
    "$BmcURI = \"https://${BmcIP}/redfish/v1/Managers\"                                                                              \n",
    "echo \"Attempting HTTP GET @ $BmcURI with X-Auth-Token: $token\"                                                                        \n",
    "                                                                                                                                      \n",
    "$r = Invoke-WebRequest -SkipCertificateCheck -Uri $BmcURI -Method 'GET' -Headers $headers -ErrorAction Stop                           \n",
    "                                                                                                                                      \n",
    "ConvertFrom-Json $r.Content                                             "
   ]
  },
  {
   "cell_type": "markdown",
   "metadata": {},
   "source": [
    "The following cell extracts the name of the BMCs present in your system and then, for each BMC it extracts its properties.\n",
    "\n",
    "Run it and review the properties returned by your OpenBMC. Among them you should notice the `Actions` and the `Oem` resources which need some explanation. \n",
    "\n",
    "The `Actions` collection contains all the possible actions that can be performed on your BMC; With this version of OpenBMC, you can perform a reset of the BMC by posting the value `GracefulRestart` at `/redfish/v1/Managers/bmc/Actions/Manager.Reset`. You'll do this later.\n",
    "\n",
    "The `Oem` collection contains resources specific to `OpenBmc` and not part of the Redfish standard. This is a way to allow computer makers to expose their specific and added value resources to the Rest API."
   ]
  },
  {
   "cell_type": "code",
   "execution_count": 6,
   "metadata": {},
   "outputs": [
    {
     "name": "stdout",
     "output_type": "stream",
     "text": [
      "List of BMC(s) present in this system: \n",
      "bmc\n",
      "Properties of BMC: \n",
      "bmc\n",
      "\n",
      "                                                                                                                                                                                                                                                                                                                                                                                                                                                                                                                                                                                                                                                                {\n",
      "  \"@odata.id\": \"/redfish/v1/Managers/bmc\",\n",
      "  \"@odata.type\": \"#Manager.v1_3_0.Manager\",\n",
      "  \"Actions\": {\n",
      "    \"#Manager.Reset\": {\n",
      "      \"ResetType@Redfish.AllowableValues\": [\n",
      "        \"GracefulRestart\"\n",
      "      ],\n",
      "      \"target\": \"/redfish/v1/Managers/bmc/Actions/Manager.Reset\"\n",
      "    }\n",
      "  },\n",
      "  \"DateTime\": \"2020-05-15T20:43:29+00:00\",\n",
      "  \"Description\": \"Baseboard Management Controller\",\n",
      "  \"EthernetInterfaces\": {\n",
      "    \"@odata.id\": \"/redfish/v1/Managers/bmc/EthernetInterfaces\"\n",
      "  },\n",
      "  \"FirmwareVersion\": \"2.8.0-dev-1427-g64e281927\",\n",
      "  \"GraphicalConsole\": {\n",
      "    \"ConnectTypesSupported\": [\n",
      "      \"KVMIP\"\n",
      "    ],\n",
      "    \"MaxConcurrentSessions\": 4,\n",
      "    \"ServiceEnabled\": true\n",
      "  },\n",
      "  \"Id\": \"bmc\",\n",
      "  \"Links\": {\n",
      "    \"ManagerForChassis\": [\n",
      "      {\n",
      "        \"@odata.id\": \"/redfish/v1/Chassis/chassis\"\n",
      "      }\n",
      "    ],\n",
      "    \"ManagerForChassis@odata.count\": 1,\n",
      "    \"ManagerForServers\": [\n",
      "      {\n",
      "        \"@odata.id\": \"/redfish/v1/Systems/system\"\n",
      "      }\n",
      "    ],\n",
      "    \"ManagerForServers@odata.count\": 1,\n",
      "    \"ManagerInChassis\": {\n",
      "      \"@odata.id\": \"/redfish/v1/Chassis/chassis\"\n",
      "    }\n",
      "  },\n",
      "  \"LogServices\": {\n",
      "    \"@odata.id\": \"/redfish/v1/Managers/bmc/LogServices\"\n",
      "  },\n",
      "  \"ManagerType\": \"BMC\",\n",
      "  \"Model\": \"OpenBmc\",\n",
      "  \"Name\": \"OpenBmc Manager\",\n",
      "  \"NetworkProtocol\": {\n",
      "    \"@odata.id\": \"/redfish/v1/Managers/bmc/NetworkProtocol\"\n",
      "  },\n",
      "  \"Oem\": {\n",
      "    \"@odata.id\": \"/redfish/v1/Managers/bmc#/Oem\",\n",
      "    \"@odata.type\": \"#OemManager.Oem\",\n",
      "    \"OpenBmc\": {\n",
      "      \"@odata.id\": \"/redfish/v1/Managers/bmc#/Oem/OpenBmc\",\n",
      "      \"@odata.type\": \"#OemManager.OpenBmc\",\n",
      "      \"Certificates\": {\n",
      "        \"@odata.id\": \"/redfish/v1/Managers/bmc/Truststore/Certificates\"\n",
      "      }\n",
      "    }\n",
      "  },\n",
      "  \"PowerState\": \"On\",\n",
      "  \"SerialConsole\": {\n",
      "    \"ConnectTypesSupported\": [\n",
      "      \"IPMI\",\n",
      "      \"SSH\"\n",
      "    ],\n",
      "    \"MaxConcurrentSessions\": 15,\n",
      "    \"ServiceEnabled\": true\n",
      "  },\n",
      "  \"ServiceEntryPointUUID\": \"8a557334-4a18-4b2a-9b80-da497882408c\",\n",
      "  \"Status\": {\n",
      "    \"Health\": \"OK\",\n",
      "    \"HealthRollup\": \"OK\",\n",
      "    \"State\": \"Enabled\"\n",
      "  },\n",
      "  \"UUID\": \"437d2061-659b-4157-9afa-95bf26c8f42d\"\n",
      "}\n"
     ]
    }
   ],
   "source": [
    "$managers = ConvertFrom-Json $r.Content                                                                                                   \n",
    "$bmcs = $()                                                                                                                           \n",
    "$bmcuris = $()                                                                                                                        \n",
    "                                                                                                                                      \n",
    "foreach ($member in $managers.Members) {                                                                                                  \n",
    "  $url = $member.'@odata.id'                                                                                                          \n",
    "  $bmcuris += \"https://${BmcIP}${url}\"                                                                                                \n",
    "  $bmcs += $url.substring($url.lastindexof(\"/\")+1)\n",
    "}                                                                                                                                     \n",
    "                                                                                                                                      \n",
    "echo \"List of BMC(s) present in this system: \" $bmcs                                                                                  \n",
    "                                                                                                                                      \n",
    "foreach ($uri in $bmcuris) {                                                                                                          \n",
    "  echo \"Properties of BMC: \" $uri.substring($uri.lastindexof(\"/\")+1)   \n",
    "  echo \"\"\n",
    "  $bmc_r = Invoke-WebRequest -SkipCertificateCheck -Uri $uri -Method 'GET' -Headers $headers -ErrorAction Stop\n",
    "  $bmc_r.Content\n",
    "}                                                                                                                                                                 "
   ]
  },
  {
   "cell_type": "markdown",
   "metadata": {},
   "source": [
    "If you want to view the network protocols supported by your BMC, you can retrieve them with a `GET` of the `NetworkProtocol` URI mentionned in the output of the above `GET` request.\n",
    "\n",
    "Run the next `PowerShell`cell. Its output should show an empty array of `NTPServers` (if not, contact your instructor). It contains as well the **Type** of the resources in this sub-tree: `@odata.type = #ManagerNetworkProtocol.v1_4_0.ManagerNetworkProtocol`.\n",
    "\n",
    "Said differently, the `NetworkProtocol` resources falls in the **`ManagerNetworkProtocol`**. You will need this info later.\n"
   ]
  },
  {
   "cell_type": "code",
   "execution_count": 7,
   "metadata": {},
   "outputs": [
    {
     "name": "stdout",
     "output_type": "stream",
     "text": [
      "                                                                                                                                                                                                                                                                                                                                                                                                                                                                                                                                                                                                                                                                {\n",
      "  \"@odata.id\": \"/redfish/v1/Managers/bmc/NetworkProtocol\",\n",
      "  \"@odata.type\": \"#ManagerNetworkProtocol.v1_4_0.ManagerNetworkProtocol\",\n",
      "  \"Description\": \"Manager Network Service\",\n",
      "  \"FQDN\": \"palmetto\",\n",
      "  \"HTTP\": {\n",
      "    \"Port\": 0,\n",
      "    \"ProtocolEnabled\": false\n",
      "  },\n",
      "  \"HTTPS\": {\n",
      "    \"Certificates\": {\n",
      "      \"@odata.id\": \"/redfish/v1/Managers/bmc/NetworkProtocol/HTTPS/Certificates\"\n",
      "    },\n",
      "    \"Port\": 443,\n",
      "    \"ProtocolEnabled\": true\n",
      "  },\n",
      "  \"HostName\": \"palmetto\",\n",
      "  \"IPMI\": {\n",
      "    \"Port\": 623,\n",
      "    \"ProtocolEnabled\": true\n",
      "  },\n",
      "  \"Id\": \"NetworkProtocol\",\n",
      "  \"NTP\": {\n",
      "    \"NTPServers\": [],\n",
      "    \"ProtocolEnabled\": true\n",
      "  },\n",
      "  \"Name\": \"Manager Network Protocol\",\n",
      "  \"SSH\": {\n",
      "    \"Port\": 22,\n",
      "    \"ProtocolEnabled\": true\n",
      "  },\n",
      "  \"Status\": {\n",
      "    \"Health\": \"OK\",\n",
      "    \"HealthRollup\": \"OK\",\n",
      "    \"State\": \"Enabled\"\n",
      "  }\n",
      "}\n"
     ]
    }
   ],
   "source": [
    "$BmcURI = \"https://${BmcIP}/redfish/v1/Managers/bmc/NetworkProtocol\"                                                                  \n",
    "\n",
    "$net_r = Invoke-WebRequest -SkipCertificateCheck -Uri $BmcURI -Method 'GET' -Headers $headers -ErrorAction Stop                           \n",
    "\n",
    "$net_r.Content           "
   ]
  },
  {
   "cell_type": "markdown",
   "metadata": {},
   "source": [
    "As it is always good to have the correct date and time in a BMC, you may want to supply at least one server IP in the `NTPServers` array of your BMC. To reach that goal you have first to verify in the Redfish Schema whether the `NTPServers` array can be modified. \n",
    "\n",
    "Generally speaking the location of the Redfish Schemas of a particular OData type is under the `/redfish/v1/JsonSchemas/{type}` endpoint.\n",
    "\n",
    "Run the following command listing the location(s) of the `ManagerNetworkProtocol` schema used by your BMC and study its output. \n",
    "\n",
    "The **`PublicationUri`** URI requires an Internet connection to reach `http://redfish.dmtf.org`.\n",
    "\n",
    "However, the `URI` pointer  does not require any Internet access to view its content as it is embedded in the BMC at `/redfish/v1/JsonSchemas/ManagerNetworkProtocol/ManagerNetworkProtocol.json` "
   ]
  },
  {
   "cell_type": "code",
   "execution_count": 8,
   "metadata": {},
   "outputs": [
    {
     "name": "stdout",
     "output_type": "stream",
     "text": [
      "                                                                                                                                                                                                                                                                                                                                                                                                                                                                                                                                                                                                                                                                {\n",
      "    \"@odata.context\": \"/redfish/v1/$metadata#JsonSchemaFile.JsonSchemaFile\",\n",
      "    \"@odata.id\": \"/redfish/v1/JsonSchemas/ManagerNetworkProtocol\",\n",
      "    \"@odata.type\": \"#JsonSchemaFile.v1_0_2.JsonSchemaFile\",\n",
      "    \"Name\": \"ManagerNetworkProtocol Schema File\",\n",
      "    \"Schema\": \"#ManagerNetworkProtocol.ManagerNetworkProtocol\",\n",
      "    \"Description\": \"ManagerNetworkProtocol Schema File Location\",\n",
      "    \"Id\": \"ManagerNetworkProtocol\",\n",
      "    \"Languages\": [\n",
      "        \"en\"\n",
      "    ],\n",
      "    \"Languages@odata.count\": 1,\n",
      "    \"Location\": [\n",
      "        {\n",
      "            \"Language\": \"en\",\n",
      "            \"PublicationUri\": \"http://redfish.dmtf.org/schemas/v1/ManagerNetworkProtocol.json\",\n",
      "            \"Uri\": \"/redfish/v1/JsonSchemas/ManagerNetworkProtocol/ManagerNetworkProtocol.json\"\n",
      "        }\n",
      "    ],\n",
      "    \"Location@odata.count\": 1\n",
      "}\n"
     ]
    }
   ],
   "source": [
    "$BmcURI = \"https://${BmcIP}/redfish/v1/JsonSchemas/ManagerNetworkProtocol\"\n",
    "                                                                                                                                      \n",
    "$sch_r = Invoke-WebRequest -SkipCertificateCheck -Uri $BmcURI -Method 'GET' -Headers $headers -ErrorAction Stop                           \n",
    "                                                                                                                                      \n",
    "$sch_r.Content       "
   ]
  },
  {
   "cell_type": "markdown",
   "metadata": {},
   "source": [
    "Using the embedded `URI` You can retrieve the definition of the `NTPServers` object and verify you will be able to modify it. \n",
    "\n",
    "Run the following `curl` command to extract the `NTPServers` schema definition and note the **`readonly = false`** property."
   ]
  },
  {
   "cell_type": "code",
   "execution_count": 9,
   "metadata": {},
   "outputs": [
    {
     "name": "stdout",
     "output_type": "stream",
     "text": [
      "                                                                                                                                                                                                                                                                                                                                                                                                                                                                                                                                                                                                                                                                {\n",
      "  \"additionalProperties\": false,\n",
      "  \"description\": \"The settings for a network protocol associated with a manager.\",\n",
      "  \"longDescription\": \"This type shall describe information about a protocol setting for a manager.\",\n",
      "  \"patternProperties\": {\n",
      "    \"^([a-zA-Z_][a-zA-Z0-9_]*)?@(odata|Redfish|Message)\\\\.[a-zA-Z_][a-zA-Z0-9_]*$\": {\n",
      "      \"description\": \"This property shall specify a valid odata or Redfish property.\",\n",
      "      \"type\": \"array boolean integer number null object string\"\n",
      "    }\n",
      "  },\n",
      "  \"properties\": {\n",
      "    \"NTPServers\": {\n",
      "      \"description\": \"Indicates to which NTP servers this manager is subscribed.\",\n",
      "      \"items\": \"@{type=System.Object[]}\",\n",
      "      \"longDescription\": \"This property shall contain all the NTP servers for which this manager is using to obtain time.\",\n",
      "      \"readonly\": false,\n",
      "      \"type\": \"array\",\n",
      "      \"versionAdded\": \"v1_2_0\"\n",
      "    },\n",
      "    \"Port\": {\n",
      "      \"description\": \"The protocol port.\",\n",
      "      \"longDescription\": \"This property shall contain the port assigned to the protocol.\",\n",
      "      \"minimum\": 0,\n",
      "      \"readonly\": false,\n",
      "      \"type\": \"integer null\"\n",
      "    },\n",
      "    \"ProtocolEnabled\": {\n",
      "      \"description\": \"An indication of whether the protocol is enabled.\",\n",
      "      \"longDescription\": \"This property shall indicate whether the protocol is enabled.\",\n",
      "      \"readonly\": false,\n",
      "      \"type\": \"boolean null\"\n",
      "    }\n",
      "  },\n",
      "  \"type\": \"object\"\n",
      "}\n"
     ]
    }
   ],
   "source": [
    "$BmcURI = \"https://${BmcIP}/redfish/v1/JsonSchemas/ManagerNetworkProtocol/ManagerNetworkProtocol.json\"\n",
    "                                                                                                                                      \n",
    "$def_r = Invoke-WebRequest -SkipCertificateCheck -Uri $BmcURI -Method 'GET' -Headers $headers -ErrorAction Stop                           \n",
    "                                                                                                                                      \n",
    "$content = $def_r.Content | ConvertFrom-Json                                                                                       \n",
    "$content[0].definitions.NTPProtocol |ConvertTo-Json      "
   ]
  },
  {
   "cell_type": "markdown",
   "metadata": {},
   "source": [
    "You are now sure that it is possible to alter/populate the list of `NTPServers` in your BMC. \n",
    "\n",
    "The following commands performs a `PATCH` of the `NetworkProtocol` endpoint with a single NTP server IP address.\n",
    "\n",
    "This `PATCH` request does not return any response data. Other Redfish implementation (i.e. HPE iLO) are more verbose. However, by checking the response header file `$ResponseHeaders`, you should see an `HTTP/1.1: 204` return code stating that the request was successful."
   ]
  },
  {
   "cell_type": "code",
   "execution_count": 10,
   "metadata": {},
   "outputs": [
    {
     "name": "stdout",
     "output_type": "stream",
     "text": [
      "                                                                                                                                                                                                                                                                                                                                                                                                                                                                                                                                                                                                                                                                "
     ]
    }
   ],
   "source": [
    "$BmcURI = \"https://${BmcIP}/redfish/v1/Managers/bmc/NetworkProtocol\"\n",
    "$Body = @{\n",
    "  NTP = @{\n",
    "    NTPServers = \"192.168.0.99\", \"\"\n",
    "  }\n",
    "}\n",
    "$Body = ($Body|ConvertTo-Json)\n",
    "\n",
    "$ignore = Invoke-WebRequest -SkipCertificateCheck -Uri $BmcURI -Method 'PATCH' -Body $Body -Headers $headers -ErrorAction Stop"
   ]
  },
  {
   "cell_type": "markdown",
   "metadata": {},
   "source": [
    "Verify with the following command that the NTPServers list contains the IP address you supplied."
   ]
  },
  {
   "cell_type": "code",
   "execution_count": 11,
   "metadata": {},
   "outputs": [
    {
     "name": "stdout",
     "output_type": "stream",
     "text": [
      "                                                                                                                                                                                                                                                                                                                                                                                                                                                                                                                                                                                                                                                                \n",
      "NTPServers       ProtocolEnabled\n",
      "----------       ---------------\n",
      "{192.168.0.99, }            True\n",
      "\n"
     ]
    }
   ],
   "source": [
    "$BmcURI = \"https://${BmcIP}/redfish/v1/Managers/bmc/NetworkProtocol\"\n",
    " \n",
    "$patch_results = Invoke-WebRequest -SkipCertificateCheck -Uri $BmcURI -Method 'GET' -Headers $headers -ErrorAction Stop\n",
    "\n",
    "$ntp = $patch_results.Content | ConvertFrom-Json\n",
    "$ntp[0].NTP\n"
   ]
  },
  {
   "cell_type": "markdown",
   "metadata": {},
   "source": [
    "## Perform an action: Reset OpenBMC\n",
    "\n",
    "In the previous section you modified a resource that is not requiring a reset of the BMC to be taken into account. However other parameters may require a restart when changed.\n",
    "\n",
    "In this paragraph you will perform the `GracefulRestart` action seen previously in your OpenBMC using a `POST` request toward the corresponding target. \n",
    "\n",
    "After you run this reset command, run the next `powershell` cell in order to wait until the BMC is back online."
   ]
  },
  {
   "cell_type": "code",
   "execution_count": 12,
   "metadata": {},
   "outputs": [
    {
     "name": "stdout",
     "output_type": "stream",
     "text": [
      "Starting a reset of the BMC at 05/15/2020 22:44:11\n",
      "                                                                                                                                                                                                                                                                                                                                                                                                                                                                                                                                                                                                                                                                {\n",
      "  \"@Message.ExtendedInfo\": [\n",
      "    {\n",
      "      \"@odata.type\": \"#Message.v1_0_0.Message\",\n",
      "      \"Message\": \"Successfully Completed Request\",\n",
      "      \"MessageArgs\": [],\n",
      "      \"MessageId\": \"Base.1.4.0.Success\",\n",
      "      \"Resolution\": \"None\",\n",
      "      \"Severity\": \"OK\"\n",
      "    }\n",
      "  ]\n",
      "}\n"
     ]
    }
   ],
   "source": [
    "$BmcURI = \"https://${BmcIP}/redfish/v1/Managers/bmc/Actions/Manager.Reset\"                                                                                                                                                     \n",
    "$Body = @{\n",
    "  \"ResetType\" = \"GracefulRestart\"                                                                                                                                                                                              \n",
    "}                                                                                                                                                                                                                              \n",
    "$Body = ($Body|ConvertTo-Json)                                                                                                                                                                                                 \n",
    "                                                                                                                                                                                                                               \n",
    "$date = Get-Date                                                                                                                                                                                                               \n",
    "echo \"Starting a reset of the BMC at $date\"                                                                                                                                                                                    \n",
    "                                                                                                                                                                                                                               \n",
    "$ret = Invoke-WebRequest -SkipCertificateCheck -Uri $BmcURI -Method 'POST' -Body $Body -Headers $headers -ErrorAction Stop\n",
    "                                                                                                                                                                                                                               \n",
    "$ret.Content"
   ]
  },
  {
   "cell_type": "markdown",
   "metadata": {},
   "source": [
    "## Wait until OpenBMC is back online\n",
    "\n",
    "The following cell loops until the BMC returns a valid HTTP 200 response to a `GET` request. Run it and wait until the BMC is back on line. This should take about two minutes."
   ]
  },
  {
   "cell_type": "code",
   "execution_count": 13,
   "metadata": {},
   "outputs": [
    {
     "name": "stdout",
     "output_type": "stream",
     "text": [
      "                                                                                                                                                                                                                                                                                                                                                                                                                                                                                                                                                                                                                                                                BMC is back online at 05/15/2020 22:46:02\n"
     ]
    }
   ],
   "source": [
    "$BmcURI = \"https://${BmcIP}/redfish/v1/Managers/bmc/\"                                                                                                                                                                          \n",
    "                                                                                                                                                                                                                               \n",
    "Do {                                                                                                                                                                                                                           \n",
    "  try {                                                                                                                                                                                                                        \n",
    "    $r = Invoke-WebRequest -SkipCertificateCheck -Uri $BmcURI -Method 'GET' -Headers $headers -TimeoutSec 1 -ErrorAction Stop\n",
    "    $StatusCode = $r.StatusCode                                                                                                                                                                                                \n",
    "  }                                                                                                                                                                                                                            \n",
    "  catch                                                                                                                                                                                                                        \n",
    "  {                                                                                                                                                                                                                            \n",
    "    $StatusCode = $_.Exception.Response.StatusCode.value__                                                                                                                                                                     \n",
    "    Start-Sleep -s 1                                                                                                                                                                                                           \n",
    "  }                                                                                                                                                                                                                            \n",
    "                                                                                                                                                                                                                               \n",
    "} Until ($StatusCode -eq 200)                                                                                                                                                                                                  \n",
    "$date = Get-Date                                                                                                                                                                                                               \n",
    "echo \"BMC is back online at $date\"   "
   ]
  },
  {
   "cell_type": "markdown",
   "metadata": {},
   "source": [
    "## Delete sessions\n",
    "\n",
    "It is extremely important to delete Redfish sessions to avoid reaching the maximum number of opened sessions in a BMC, preventing any access to it. Read this [article](https://developer.hpe.com/blog/managing-ilo-sessions-with-redfish) for more detail."
   ]
  },
  {
   "cell_type": "code",
   "execution_count": 14,
   "metadata": {},
   "outputs": [
    {
     "name": "stdout",
     "output_type": "stream",
     "text": [
      "                                                                                                                                                                                                                                                                                                                                                                                                                                                                                                                                                                                                                                                                {\n",
      "  \"@odata.id\": \"/redfish/v1/SessionService/Sessions/v3VjpbCTVU\",\n",
      "  \"@odata.type\": \"#Session.v1_0_2.Session\",\n",
      "  \"Description\": \"Manager User Session\",\n",
      "  \"Id\": \"v3VjpbCTVU\",\n",
      "  \"Name\": \"User Session\",\n",
      "  \"UserName\": \"student\"\n",
      "}\n"
     ]
    }
   ],
   "source": [
    "$BmcURI = \"https://${BmcIP}$location\"                                                                                                                                                                                          \n",
    "                                                                                                                                                                                                                                                                                                                                                                                                                                                           \n",
    "$r = Invoke-WebRequest -SkipCertificateCheck -Uri $BmcURI -Method 'DELETE' -Headers $headers -ErrorAction Stop                                                                                                                 \n",
    "                                                                                                                                                                                                                               \n",
    "$r.Content                                                                                                                    "
   ]
  },
  {
   "cell_type": "markdown",
   "metadata": {},
   "source": [
    "### What next ?\n",
    "\n",
    "If you want to re-run this notebook against an **HPE iLO 5**, from your Jupyter Home page, you can duplicate it and then modify the **`BmcIP`** variable with **`16.31.87.207`**.\n",
    "\n",
    "Then, you will be able to compare the output of OpenBMC and HPE iLO 5 Redfish implementations.\n",
    "\n",
    " It is time now to go through the **[Lab 3 notebook](3-Aspire-RedfishPython.ipynb)** to study a Python code suitable for several Redfish implementation"
   ]
  },
  {
   "cell_type": "markdown",
   "metadata": {},
   "source": [
    "<img src=\"https://redfish.dmtf.org/sites/default/files/DMTF_Redfish_logo_R.jpg\" alt=\"Redfish Logo\" style=\"width: 50px;\"/><img src=\"https://redfish.dmtf.org/sites/default/files/DMTF_Redfish_logo_R.jpg\" alt=\"Redfish Logo\" style=\"width: 50px;\"/><img src=\"https://redfish.dmtf.org/sites/default/files/DMTF_Redfish_logo_R.jpg\" alt=\"Redfish Logo\" style=\"width: 50px;\"/><img src=\"https://redfish.dmtf.org/sites/default/files/DMTF_Redfish_logo_R.jpg\" alt=\"Redfish Logo\" style=\"width: 50px;\"/><img src=\"https://redfish.dmtf.org/sites/default/files/DMTF_Redfish_logo_R.jpg\" alt=\"Redfish Logo\" style=\"width: 50px;\"/><img src=\"https://redfish.dmtf.org/sites/default/files/DMTF_Redfish_logo_R.jpg\" alt=\"Redfish Logo\" style=\"width: 50px;\"/><img src=\"https://redfish.dmtf.org/sites/default/files/DMTF_Redfish_logo_R.jpg\" alt=\"Redfish Logo\" style=\"width: 50px;\"/><img src=\"https://redfish.dmtf.org/sites/default/files/DMTF_Redfish_logo_R.jpg\" alt=\"Redfish Logo\" style=\"width: 50px;\"/><img src=\"https://redfish.dmtf.org/sites/default/files/DMTF_Redfish_logo_R.jpg\" alt=\"Redfish Logo\" style=\"width: 50px;\"/><img src=\"https://redfish.dmtf.org/sites/default/files/DMTF_Redfish_logo_R.jpg\" alt=\"Redfish Logo\" style=\"width: 50px;\"/><img src=\"https://redfish.dmtf.org/sites/default/files/DMTF_Redfish_logo_R.jpg\" alt=\"Redfish Logo\" style=\"width: 50px;\"/><img src=\"https://redfish.dmtf.org/sites/default/files/DMTF_Redfish_logo_R.jpg\" alt=\"Redfish Logo\" style=\"width: 50px;\"/><img src=\"https://redfish.dmtf.org/sites/default/files/DMTF_Redfish_logo_R.jpg\" alt=\"Redfish Logo\" style=\"width: 50px;\"/><img src=\"https://redfish.dmtf.org/sites/default/files/DMTF_Redfish_logo_R.jpg\" alt=\"Redfish Logo\" style=\"width: 50px;\"/><img src=\"https://redfish.dmtf.org/sites/default/files/DMTF_Redfish_logo_R.jpg\" alt=\"Redfish Logo\" style=\"width: 50px;\"/><img src=\"https://redfish.dmtf.org/sites/default/files/DMTF_Redfish_logo_R.jpg\" alt=\"Redfish Logo\" style=\"width: 50px;\"/><img src=\"https://redfish.dmtf.org/sites/default/files/DMTF_Redfish_logo_R.jpg\" alt=\"Redfish Logo\" style=\"width: 50px;\"/><img src=\"https://redfish.dmtf.org/sites/default/files/DMTF_Redfish_logo_R.jpg\" alt=\"Redfish Logo\" style=\"width: 50px;\"/><img src=\"https://redfish.dmtf.org/sites/default/files/DMTF_Redfish_logo_R.jpg\" alt=\"Redfish Logo\" style=\"width: 50px;\"/><img src=\"https://redfish.dmtf.org/sites/default/files/DMTF_Redfish_logo_R.jpg\" alt=\"Redfish Logo\" style=\"width: 50px;\"/>"
   ]
  }
 ],
 "metadata": {
  "kernelspec": {
   "display_name": "PowerShell",
   "language": "powershell",
   "name": "powershell"
  },
  "language_info": {
   "codemirror_mode": "shell",
   "file_extension": ".ps1",
   "mimetype": "text/x-sh",
   "name": "powershell"
  }
 },
 "nbformat": 4,
 "nbformat_minor": 4
}
