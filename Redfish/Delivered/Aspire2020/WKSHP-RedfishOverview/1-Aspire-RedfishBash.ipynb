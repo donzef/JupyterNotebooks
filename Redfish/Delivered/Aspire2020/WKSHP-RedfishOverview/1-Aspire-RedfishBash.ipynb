{
 "cells": [
  {
   "cell_type": "markdown",
   "metadata": {},
   "source": [
    "![HPE DEV Logo](Pictures/hpe-dev-logo.png \"HPE DEV Hack Shack\")\n",
    "\n",
    "# Hack Shack @Aspire\n",
    "\n",
    "Powered by [HPE DEV Team](hpedev.io)\n",
    "\n",
    "### Speakers : Troy Heber / François Donzé\n",
    "\n",
    "### Redfish REST API overview\n",
    "\n",
    "Version 0.58\n",
    "\n",
    "<img src=\"https://redfish.dmtf.org/sites/default/files/DMTF_Redfish_logo_R.jpg\" alt=\"Redfish Logo\" style=\"width: 125px;\"/> "
   ]
  },
  {
   "cell_type": "markdown",
   "metadata": {},
   "source": [
    "\n",
    "## Introduction\n",
    "\n",
    "This Jupyter notebook defines environment variables that will be used through the rest of the notebook. Then, it explains the Redfish resource tree as well as how to use the session authentication mechanism using [Bash](https://www.gnu.org/software/bash/) and the [cURL](https://curl.haxx.se/) tool against an OpenBMC simulator. Then, it performs a reset of the OpenBMC. For didactic reasons, commands presented in this notebook are not optimized.\n",
    "\n",
    "## Create environment variables\n",
    "\n",
    "The following `bash` code defines environment variables (i.e. IP address, username, password....) depending on your student ID number stored in variable `$Stud`. It creates as well a `.json` file containing the credentials of your OpenBMC appliance required to open a Redfish session. \n",
    "\n",
    "Click in the cell below and then click on the\n",
    "<img src=\"Pictures/RunButton.png\" style=\"display:inline;width=55px;height=25px\"/>\n",
    "icon to create the environment variables and the json file."
   ]
  },
  {
   "cell_type": "code",
   "execution_count": null,
   "metadata": {},
   "outputs": [],
   "source": [
    "# Set Student ID number\n",
    "Stud=\"00\"\n",
    "echo \"You are Student $Stud\"\n",
    "\n",
    "# Create BMC location/ports variables\n",
    "BmcIP=openbmcs:443${Stud}          # OpenBMC simulator\n",
    "BmcURI=\"https://${BmcIP}\"\n",
    "\n",
    "# BMC Administrator credentials\n",
    "BmcUser=\"student\"\n",
    "BmcPassword='P@ssw0rd!'\n",
    "\n",
    "# Minimum required Redfish headers\n",
    "HeaderODataVersion=\"OData-Version: 4.0\"\n",
    "HeaderContentType=\"Content-Type: application/json\"\n",
    "\n",
    "# Data files\n",
    "ResponseHeaders=\"ResponseHeaders.txt\"   # Used to hold HTTP response headers\n",
    "SessionData=\"./CreateSession-data.json\" # Body/Workload used to create the Redfish session\n",
    "cat > ${SessionData} << __EOF__\n",
    "{\n",
    "        \"UserName\": \"$BmcUser\",\n",
    "        \"Password\": \"$BmcPassword\"\n",
    "}\n",
    "__EOF__\n"
   ]
  },
  {
   "cell_type": "markdown",
   "metadata": {},
   "source": [
    "## Retrieve the Redfish Service Entry point content (Root)\n",
    "\n",
    "The Redfish Service Entry point is **`/redfish/v{RedfishVersion}/`**.\n",
    "\n",
    "Run the next cell to retrieve Redfish version(s) available today in your OpenBMC.\n",
    "\n",
    "This request does not require any authentication.\n",
    "\n",
    "If you are not familiar with cURL, get help from its [manual page](https://curl.haxx.se/docs/manpage.html)."
   ]
  },
  {
   "cell_type": "code",
   "execution_count": null,
   "metadata": {},
   "outputs": [],
   "source": [
    "echo \"Available Redfish version(s):\"\n",
    "\n",
    "curl --insecure --noproxy \"localhost, 127.0.0.1\" --silent \\\n",
    "  --header  \"$HeaderContentType\" --header \"$HeaderODataVersion\" \\\n",
    "  --request GET ${BmcURI}/redfish | jq"
   ]
  },
  {
   "cell_type": "markdown",
   "metadata": {},
   "source": [
    "The previous command returns only one available Redfish version implemented in your BMC: **`v1`**. Hence its Redfish Service Entry point is at **`/redfish/v1`**\n",
    "\n",
    "It contains: \n",
    "\n",
    "  * Keys describing the **Root Service**: `@odata.context`, `Id`, `Name`, `RedfishVersion`, `UUID`....\n",
    "  * Services and collection URIs: `AccountService`, `Managers`, `Systems`.\n",
    "  * Links allowing direct access to resources beneath Root endpoints.\n",
    "\n",
    "A `GET` of the Redfish Root content does not require authentication.\n",
    "\n",
    "Run the following `curl` command to retrieve the Redfish Service Entry point content and take a look at the ouput.\n",
    "\n",
    "Note that the keys are scattered among Services. For example, the `Id` key appears between the `Chassis` and `JsonSchemas` entry points. Other Redfish implementations (i.e. HPE iLO) may return a different output order.\n",
    "\n",
    "**Very important**: All the objects present in this output are fully described in the Redfish `ServiceRoot` schema version `v1_5_0` as mentionned in `@odata.type`. You will learn how to browse the `JsonSchemas` resources later in this notebook. \n",
    "\n",
    "The thing to remember for now is that a **single version of Redfish** holds multiple schemas versions. Then, resources can be added, moved or removed from a schema version to another one."
   ]
  },
  {
   "cell_type": "code",
   "execution_count": null,
   "metadata": {},
   "outputs": [],
   "source": [
    "echo \"Redfish Service Entry point:\"\n",
    "\n",
    "curl --insecure --noproxy \"localhost, 127.0.0.1\" --silent \\\n",
    "  --header  \"$HeaderContentType\" --header \"$HeaderODataVersion\" \\\n",
    "  --request GET ${BmcURI}/redfish/v1 | jq "
   ]
  },
  {
   "cell_type": "markdown",
   "metadata": {},
   "source": [
    "### Resource map (highlights)\n",
    "\n",
    "The above output lists the URI End Points holding all the resources for this Redfish version. Here is a light description of some of the most important ones:\n",
    "\n",
    "  * `AccountService`: collection of user accounts present in this BMC.\n",
    "  * `Chassis`: Collection of Chassis; \"Physical view of the system\" containing global physical asset info (i.e. power, thermal). A system can have multiple chassis (ex: HPE Superdome Flex).\n",
    "  * `Sessions`: Collection of current open sessions (ssh, https, GUI...).\n",
    "  * `Managers`: Collection of BMCs. A server can have multiple BMCs (i.e. HPE Moonshot have one iLO pers SOC).\n",
    "  * `Systems`: Collection of Systems; \"Logical view of the server\" with resources like Model, Serial number, Boot Order, NIC MAC, BIOS parameters ... A server can have multiple Systems (i.e. HPE Superdome Flex can have multiple hardware partitions: one per RedfishSystem).\n",
    "\n"
   ]
  },
  {
   "cell_type": "markdown",
   "metadata": {},
   "source": [
    "## Create a Redfish session using cURL\n",
    "\n",
    "\n",
    "All the URIs below the Root entry point requires authentication. In this section you'll go through the session authentication method as it may differ from other Rest APIs (i.e. OneView). \n",
    "\n",
    "The following `curl` command sends a `POST` request toward the standard `/redfish/v1/SessionService/Sessions` URI of your  BMC. The body/workload of this request is in the `@${SessionData}` json file populated in the very first `bash` cell of this notebook (Environment variables). You can view its content by clicking on it from the left pane of your Jupyter environment.\n",
    "\n",
    "Select and run the following cell.\n",
    "\n",
    "If this `POST` request is successful, the BMC sends back a `Token` and a `Session Location` in the **headers of the response**. Response headers are saved in the `$ResponseHeaders` text file now present in the left pane of your Jupyter environment.\n"
   ]
  },
  {
   "cell_type": "code",
   "execution_count": null,
   "metadata": {},
   "outputs": [],
   "source": [
    "echo 'Create Session and print body response:' \n",
    "\n",
    "curl --dump-header  $ResponseHeaders \\\n",
    "     --insecure --noproxy \"localhost, 127.0.0.1\" --silent \\\n",
    "     --header \"$HeaderContentType\" --header \"$HeaderODataVersion\" \\\n",
    "     --request POST --data \"@$SessionData\" \\\n",
    "     ${BmcURI}/redfish/v1/SessionService/Sessions | jq"
   ]
  },
  {
   "cell_type": "markdown",
   "metadata": {},
   "source": [
    "## Extract session token and session location\n",
    "\n",
    "In the next cell, the `Session Token` (aka `Session Key`) and `Location` are retrieved from the headers of the BMC response and saved in variables. The `Session Token` will be used later to authenticate when needed. The `Sesion Location` will be used to close the session.\n",
    "\n",
    "Run it.\n"
   ]
  },
  {
   "cell_type": "code",
   "execution_count": null,
   "metadata": {},
   "outputs": [],
   "source": [
    "BmcToken=$(awk '/X-Auth-Token/ {print $NF}' $ResponseHeaders | tr -d '\\r')\n",
    "BmcSessionLocation=\"$BmcURI\"$(awk '/^Loca.*Se/ {gsub(\"https://.*/red\", \"/red\", $NF);print $NF}' $ResponseHeaders | tr -d '\\r')\n",
    "\n",
    "echo \"Bmc Token: $BmcToken\"\n",
    "echo -e \"Bmc Session Location: $BmcSessionLocation\\n\""
   ]
  },
  {
   "cell_type": "markdown",
   "metadata": {},
   "source": [
    "## Retrieve BMC parameters\n",
    "\n",
    "Redfish locates BMC parameters under `/redfish/v1/Managers`. From there you'll be able to identify all the BMCs present in your server as well as their properties. Remember that computers like HPE Moonshot and HPE Superdome Flex can have several BMCs.\n",
    "\n",
    "Your infrastructure is based upon servers with only one BMC. However we'll use a code suitable for servers with multiple BMCs.\n",
    "\n",
    "The following cell lists the collection of all the BMCs present in your system. Since requests below the Redfish Root Entry point requires authentication, you must supply the **`X-Auth-Token`** header to `curl`. \n",
    "\n",
    "Run it and note that there is only one BMC present in  your OpenBMC appliance (`Member@odata.count = 1`). Note as well its location: `/redfish/v1/Managers/bmc`. Other Redfish implementations use different locations. For example, the URI of an HPE iLO in a ProLiant Server is `/redfish/v1/Managers/1`. "
   ]
  },
  {
   "cell_type": "code",
   "execution_count": null,
   "metadata": {},
   "outputs": [],
   "source": [
    "echo \"BMC collection:\"\n",
    "curl --insecure --silent --noproxy \"localhost, 127.0.0.1\"  \\\n",
    "  --header  \"$HeaderContentType\" --header \"$HeaderODataVersion\" \\\n",
    "  --header \"X-Auth-Token: $BmcToken\" \\\n",
    "  --request GET ${BmcURI}/redfish/v1/Managers | jq\n"
   ]
  },
  {
   "cell_type": "markdown",
   "metadata": {},
   "source": [
    "The following cell extracts the name of the BMCs present in your system and then, for each BMC it extracts its properties.\n",
    "\n",
    "Run it and review the properties returned by your OpenBMC. Among them you should notice the `Actions` and the `Oem` resources which need some explanation. \n",
    "\n",
    "The `Actions` collection contains all the possible actions that can be performed on your BMC; With this version of OpenBMC, you can perform a reset of the BMC by posting the value `GracefulRestart` at `/redfish/v1/Managers/bmc/Actions/Manager.Reset`. You'll do this later.\n",
    "\n",
    "The `Oem` collection contains resources specific to `OpenBmc` and not part of the Redfish standard. This is a way to allow computer makers to expose their specific and added value resources to the Rest API."
   ]
  },
  {
   "cell_type": "code",
   "execution_count": null,
   "metadata": {},
   "outputs": [],
   "source": [
    "BmcList=$(curl --insecure --silent --noproxy \"localhost, 127.0.0.1\"  \\\n",
    "  --header  \"$HeaderContentType\" --header \"$HeaderODataVersion\" \\\n",
    "  --header \"X-Auth-Token: $BmcToken\" \\\n",
    "  --request GET ${BmcURI}/redfish/v1/Managers | jq '.Members[]' | \\\n",
    "  awk -F/ '/@odata.id/ {print $NF}' | tr -d '\"' )\n",
    "  \n",
    "echo \"List of BMC(s) present in this system:\"\n",
    "echo -e \"$BmcList\\n\"\n",
    "\n",
    "for bmc in $BmcList ; do   \n",
    "    echo \"Properties of BMC: $bmc\" \n",
    "    curl --insecure --noproxy \"localhost, 127.0.0.1\" --silent \\\n",
    "      --header  \"$HeaderContentType\" --header \"$HeaderODataVersion\" \\\n",
    "      --header \"X-Auth-Token: $BmcToken\" \\\n",
    "      --request GET ${BmcURI}/redfish/v1/Managers/${bmc} | jq\n",
    "done\n"
   ]
  },
  {
   "cell_type": "markdown",
   "metadata": {},
   "source": [
    "If you want to view the network protocols supported by your BMC, you can retrieve them with a `GET` of the `NetworkProtocol` URI mentionned in the output of the above `GET` request.\n",
    "\n",
    "Run the next `curl`command. Its output should show an empty array of `NTPServers` (if not, contact your instructor). It contains as well the **Type** of the resources in this sub-tree: `@odata.type = #ManagerNetworkProtocol.v1_4_0.ManagerNetworkProtocol`.\n",
    "\n",
    "Said differently, the `NetworkProtocol` resources falls in the **`ManagerNetworkProtocol`**. You will need this info later.\n"
   ]
  },
  {
   "cell_type": "code",
   "execution_count": null,
   "metadata": {},
   "outputs": [],
   "source": [
    "echo \"Network Protocol configuration:\"\n",
    "curl --insecure --silent --noproxy \"localhost, 127.0.0.1\"  \\\n",
    "  --header  \"$HeaderContentType\" --header \"$HeaderODataVersion\" \\\n",
    "  --header \"X-Auth-Token: $BmcToken\" \\\n",
    "  --request GET ${BmcURI}/redfish/v1/Managers/${bmc}/NetworkProtocol | jq\n"
   ]
  },
  {
   "cell_type": "markdown",
   "metadata": {},
   "source": [
    "As it is always good to have the correct date and time in a BMC, you may want to supply at least one server IP in the `NTPServers` array of your BMC. To reach that goal you have first to verify in the Redfish Schema whether the `NTPServers` array can be modified. \n",
    "\n",
    "Generally speaking the location of the Redfish Schemas of a particular OData type is under the `/redfish/v1/JsonSchemas/{type}` endpoint.\n",
    "\n",
    "Run the following command listing the location(s) of the `ManagerNetworkProtocol` schema used by your BMC and study its output. \n",
    "\n",
    "The **`PublicationUri`** URI requires an Internet connection to reach `http://redfish.dmtf.org`.\n",
    "\n",
    "However, the `URI` pointer  does not require any Internet access to view its content as it is embedded in the BMC at `/redfish/v1/JsonSchemas/ManagerNetworkProtocol/ManagerNetworkProtocol.json` "
   ]
  },
  {
   "cell_type": "code",
   "execution_count": null,
   "metadata": {},
   "outputs": [],
   "source": [
    "echo \"Manager Network Protocol schema locations:\"\n",
    "\n",
    "curl --insecure --noproxy \"localhost, 127.0.0.1\" --silent \\\n",
    "     --header \"$HeaderContentType\" --header \"$HeaderODataVersion\" \\\n",
    "     --header \"X-Auth-Token: $BmcToken\" \\\n",
    "     --request GET \\\n",
    "     ${BmcURI}/redfish/v1/JsonSchemas/ManagerNetworkProtocol | jq"
   ]
  },
  {
   "cell_type": "markdown",
   "metadata": {},
   "source": [
    "Using the embedded `URI` You can retrieve the definition of the `NTPServers` object and verify you will be able to modify it. \n",
    "\n",
    "Run the following `curl` command which extracts the `NTPServers` schema definition and note the **`readonly = false`** property."
   ]
  },
  {
   "cell_type": "code",
   "execution_count": null,
   "metadata": {},
   "outputs": [],
   "source": [
    "echo \"NTPServers schema definition:\"\n",
    "\n",
    "curl --insecure --noproxy \"localhost, 127.0.0.1\" --silent \\\n",
    "     --header \"$HeaderContentType\" --header \"$HeaderODataVersion\" \\\n",
    "     --header \"X-Auth-Token: $BmcToken\" \\\n",
    "     --request GET \\\n",
    "     ${BmcURI}/redfish/v1/JsonSchemas/ManagerNetworkProtocol/ManagerNetworkProtocol.json | \\\n",
    "     jq '.definitions | .NTPProtocol | .properties | .NTPServers' "
   ]
  },
  {
   "cell_type": "markdown",
   "metadata": {},
   "source": [
    "You are now sure that it is possible to alter/populate the list of `NTPServers` in your BMC. \n",
    "\n",
    "The following commands performs a `PATCH` of the `NetworkProtocol` endpoint with a single NTP server IP address.\n",
    "\n",
    "This `PATCH` request does not return any response data. Other Redfish implementation (i.e. HPE iLO) are more verbose. However, by checking the response header file `$ResponseHeaders`, you should see an `HTTP/1.1: 204` return code stating that the request was successful."
   ]
  },
  {
   "cell_type": "code",
   "execution_count": null,
   "metadata": {},
   "outputs": [],
   "source": [
    "echo \"Patching NTP Servers\"\n",
    "curl --dump-header  $ResponseHeaders \\\n",
    "     --insecure --noproxy \"localhost, 127.0.0.1\" --silent \\\n",
    "     --header \"$HeaderContentType\" --header \"$HeaderODataVersion\" \\\n",
    "     --header \"X-Auth-Token: $BmcToken\" \\\n",
    "     --request PATCH --data '{ \"NTP\": {\"NTPServers\": [\"192.168.0.99\", \"\"]} }' \\\n",
    "     ${BmcURI}/redfish/v1/Managers/bmc/NetworkProtocol | jq"
   ]
  },
  {
   "cell_type": "markdown",
   "metadata": {},
   "source": [
    "Verify with the following command that the `NTPServers` list contains the IP address you supplied."
   ]
  },
  {
   "cell_type": "code",
   "execution_count": null,
   "metadata": {},
   "outputs": [],
   "source": [
    "echo \"NTP Server list:\"\n",
    "curl --insecure --silent --noproxy \"localhost, 127.0.0.1\"  \\\n",
    "  --header  \"$HeaderContentType\" --header \"$HeaderODataVersion\" \\\n",
    "  --header \"X-Auth-Token: $BmcToken\" \\\n",
    "  --request GET ${BmcURI}/redfish/v1/Managers/${bmc}/NetworkProtocol | jq '.NTP'"
   ]
  },
  {
   "cell_type": "markdown",
   "metadata": {},
   "source": [
    "## Perform an action: Reset OpenBMC\n",
    "\n",
    "In the previous section you modified a resource that is not requiring a reset of the BMC to be taken into account. However other parameters may require a restart when changed.\n",
    "\n",
    "In this paragraph you will perform the `GracefulRestart` action seen previously in your OpenBMC using a `POST` request toward the corresponding target. \n",
    "\n",
    "After you run this reset command, run the next `bash` cell in order to wait until the BMC is back online."
   ]
  },
  {
   "cell_type": "code",
   "execution_count": null,
   "metadata": {},
   "outputs": [],
   "source": [
    "echo \"Starting a reset of the BMC at\" ; date\n",
    "echo\n",
    "\n",
    "curl --insecure --noproxy \"localhost, 127.0.0.1\" --silent \\\n",
    "     --header \"$HeaderContentType\" --header \"$HeaderODataVersion\" \\\n",
    "     --header \"X-Auth-Token: $BmcToken\" \\\n",
    "     --request POST --data '{ \"ResetType\": \"GracefulRestart\"}' \\\n",
    "     ${BmcURI}/redfish/v1/Managers/bmc/Actions/Manager.Reset | jq"
   ]
  },
  {
   "cell_type": "markdown",
   "metadata": {},
   "source": [
    "## Wait until OpenBMC is back online\n",
    "\n",
    "The following cell loops until the BMC returns a valid output to a `GET` request. Run it and wait until the BMC is back on line. This should take about two minutes."
   ]
  },
  {
   "cell_type": "code",
   "execution_count": null,
   "metadata": {},
   "outputs": [],
   "source": [
    "ret=\"\"\n",
    "while [ \"X${ret}\" != \"X0\" ] ; do\n",
    "    timeout 3 curl --insecure --noproxy \"localhost, 127.0.0.1\"  --silent \\\n",
    "      --header  \"$HeaderContentType\" --header \"$HeaderODataVersion\" \\\n",
    "      --header \"X-Auth-Token: $BmcToken\" \\\n",
    "      --request GET ${BmcURI}/redfish/v1/Managers/$bmc > /dev/null\n",
    "    ret=$?\n",
    "done\n",
    "\n",
    "echo \"BMC is back online at \" ; date \n",
    "echo"
   ]
  },
  {
   "cell_type": "markdown",
   "metadata": {},
   "source": [
    "## Delete sessions\n",
    "\n",
    "It is extremely important to delete Redfish sessions to avoid reaching the maximum number of opened sessions in a BMC, preventing any access to it. Read this [article](https://developer.hpe.com/blog/managing-ilo-sessions-with-redfish) for more detail."
   ]
  },
  {
   "cell_type": "code",
   "execution_count": null,
   "metadata": {},
   "outputs": [],
   "source": [
    "echo \"Body response of a session deletion:\"\n",
    "\n",
    "curl --insecure --noproxy \"localhost, 127.0.0.1\" --silent \\\n",
    "     --header \"$HeaderContentType\" --header \"$HeaderODataVersion\" --header \"X-Auth-Token: $BmcToken\" \\\n",
    "     --request DELETE $BmcSessionLocation | jq"
   ]
  },
  {
   "cell_type": "markdown",
   "metadata": {},
   "source": [
    "### What next ?\n",
    "\n",
    "If you want to re-run this notebook against an **HPE iLO 5**, from your Jupyter Home page, you can duplicate it and then modify the **`BmcIP`** variable with **`16.31.87.207`**.\n",
    "\n",
    "Then, you will be able to compare the output of OpenBMC and HPE iLO 5 Redfish implementations."
   ]
  },
  {
   "cell_type": "markdown",
   "metadata": {},
   "source": [
    " It is time now to go through the **[Lab 3 notebook](3-Aspire-RedfishPython.ipynb)** to study a Python code suitable for several Redfish implementation"
   ]
  },
  {
   "cell_type": "markdown",
   "metadata": {},
   "source": [
    "<img src=\"https://redfish.dmtf.org/sites/default/files/DMTF_Redfish_logo_R.jpg\" alt=\"Redfish Logo\" style=\"width: 50px;\"/><img src=\"https://redfish.dmtf.org/sites/default/files/DMTF_Redfish_logo_R.jpg\" alt=\"Redfish Logo\" style=\"width: 50px;\"/><img src=\"https://redfish.dmtf.org/sites/default/files/DMTF_Redfish_logo_R.jpg\" alt=\"Redfish Logo\" style=\"width: 50px;\"/><img src=\"https://redfish.dmtf.org/sites/default/files/DMTF_Redfish_logo_R.jpg\" alt=\"Redfish Logo\" style=\"width: 50px;\"/><img src=\"https://redfish.dmtf.org/sites/default/files/DMTF_Redfish_logo_R.jpg\" alt=\"Redfish Logo\" style=\"width: 50px;\"/><img src=\"https://redfish.dmtf.org/sites/default/files/DMTF_Redfish_logo_R.jpg\" alt=\"Redfish Logo\" style=\"width: 50px;\"/><img src=\"https://redfish.dmtf.org/sites/default/files/DMTF_Redfish_logo_R.jpg\" alt=\"Redfish Logo\" style=\"width: 50px;\"/><img src=\"https://redfish.dmtf.org/sites/default/files/DMTF_Redfish_logo_R.jpg\" alt=\"Redfish Logo\" style=\"width: 50px;\"/><img src=\"https://redfish.dmtf.org/sites/default/files/DMTF_Redfish_logo_R.jpg\" alt=\"Redfish Logo\" style=\"width: 50px;\"/><img src=\"https://redfish.dmtf.org/sites/default/files/DMTF_Redfish_logo_R.jpg\" alt=\"Redfish Logo\" style=\"width: 50px;\"/><img src=\"https://redfish.dmtf.org/sites/default/files/DMTF_Redfish_logo_R.jpg\" alt=\"Redfish Logo\" style=\"width: 50px;\"/><img src=\"https://redfish.dmtf.org/sites/default/files/DMTF_Redfish_logo_R.jpg\" alt=\"Redfish Logo\" style=\"width: 50px;\"/><img src=\"https://redfish.dmtf.org/sites/default/files/DMTF_Redfish_logo_R.jpg\" alt=\"Redfish Logo\" style=\"width: 50px;\"/><img src=\"https://redfish.dmtf.org/sites/default/files/DMTF_Redfish_logo_R.jpg\" alt=\"Redfish Logo\" style=\"width: 50px;\"/><img src=\"https://redfish.dmtf.org/sites/default/files/DMTF_Redfish_logo_R.jpg\" alt=\"Redfish Logo\" style=\"width: 50px;\"/><img src=\"https://redfish.dmtf.org/sites/default/files/DMTF_Redfish_logo_R.jpg\" alt=\"Redfish Logo\" style=\"width: 50px;\"/><img src=\"https://redfish.dmtf.org/sites/default/files/DMTF_Redfish_logo_R.jpg\" alt=\"Redfish Logo\" style=\"width: 50px;\"/><img src=\"https://redfish.dmtf.org/sites/default/files/DMTF_Redfish_logo_R.jpg\" alt=\"Redfish Logo\" style=\"width: 50px;\"/><img src=\"https://redfish.dmtf.org/sites/default/files/DMTF_Redfish_logo_R.jpg\" alt=\"Redfish Logo\" style=\"width: 50px;\"/><img src=\"https://redfish.dmtf.org/sites/default/files/DMTF_Redfish_logo_R.jpg\" alt=\"Redfish Logo\" style=\"width: 50px;\"/><img src=\"https://redfish.dmtf.org/sites/default/files/DMTF_Redfish_logo_R.jpg\" alt=\"Redfish Logo\" style=\"width: 50px;\"/><img src=\"https://redfish.dmtf.org/sites/default/files/DMTF_Redfish_logo_R.jpg\" alt=\"Redfish Logo\" style=\"width: 50px;\"/>"
   ]
  }
 ],
 "metadata": {
  "kernelspec": {
   "display_name": "Bash",
   "language": "bash",
   "name": "bash"
  },
  "language_info": {
   "codemirror_mode": "shell",
   "file_extension": ".sh",
   "mimetype": "text/x-sh",
   "name": "bash"
  }
 },
 "nbformat": 4,
 "nbformat_minor": 4
}
