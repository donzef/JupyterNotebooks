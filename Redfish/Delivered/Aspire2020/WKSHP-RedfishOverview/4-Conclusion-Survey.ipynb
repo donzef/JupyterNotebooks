{
 "cells": [
  {
   "cell_type": "markdown",
   "metadata": {},
   "source": [
    "# Conclusion\n",
    "\n",
    "Version 0.14\n",
    "\n",
    "In this Redfish lab, you have learned its basic architecture using simple `cURL` and/or `PowerShell` commands and simple python instruction using DMTF's Redfish module.\n",
    "\n",
    "**Congratulations!**\n",
    "\n",
    "\n",
    "## Homework ?\n",
    "\n",
    "You can dowmload the different notebooks composing this lab and reuse them on your own laptop (provided the fact that you own the relevant infrastructure to interact with.) leveraging a local setup of [Jupyter notebooks](https://jupyter-notebook-beginner-guide.readthedocs.io/en/latest/what_is_jupyter.html).\n",
    "\n",
    "Simply right click on the notebook and/or the `.PDF` file and select `Download`.\n"
   ]
  },
  {
   "cell_type": "markdown",
   "metadata": {},
   "source": [
    "# Final Steps\n",
    "\n",
    "### Please take a moment to fill out our **[survey](https://forms.office.com/Pages/ResponsePage.aspx?id=YSBbEGm2MUuSrCTTBNGV3KHzFdd987lBoQATWJq45DdUOEZJTFBCUEJDQktPVkcyREVBRDFJOEVMOS4u)**\n",
    "\n",
    "### Make sure you use `File->Log Out` to terminate your workshop."
   ]
  },
  {
   "cell_type": "markdown",
   "metadata": {},
   "source": [
    "![HPE DEV Logo](Pictures/hpe-dev-logo.png \"HPE DEV Hack Shack\")\n",
    "\n",
    "# Hack Shack\n",
    "\n",
    "Powered by [HPE DEV Team](hpedev.io)\n"
   ]
  },
  {
   "cell_type": "markdown",
   "metadata": {},
   "source": [
    "# Thank You\n",
    "![ThankYou](Pictures/grommet.jpg)"
   ]
  }
 ],
 "metadata": {
  "kernelspec": {
   "display_name": "Bash",
   "language": "bash",
   "name": "bash"
  },
  "language_info": {
   "codemirror_mode": "shell",
   "file_extension": ".sh",
   "mimetype": "text/x-sh",
   "name": "bash"
  }
 },
 "nbformat": 4,
 "nbformat_minor": 4
}
