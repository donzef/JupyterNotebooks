{
 "cells": [
  {
   "cell_type": "markdown",
   "metadata": {},
   "source": [
    "![HPE DEV Logo](Pictures/hpe-dev-logo.png \"HPE DEV Hack Shack\")\n",
    "\n",
    "# Hack Shack\n",
    "\n",
    "Powered by [HPE DEV Team](hpedev.io)\n",
    "\n",
    "Version 0.34\n",
    "\n",
    "# Speaker : [Troy Heber](mailto:Troy.Heber@hpe.com) / [François Donzé](francois.donze@hpe.com)\n",
    "\n",
    "Find us on [YouTube](https://www.youtube.com/channel/UCIZhrIYcNh3wHLiY4ola5ew), [Blog](https://developer.hpe.com/blog)\n",
    "\n",
    "# Introduction to Workshop Subject\n",
    "\n",
    "**Abstract**: After a quick positioning of the DMTF Redfish API, we'll explore a Redfish tree to understand its basic structure. In addition we'll learn how to modify resources and perform actions using different tools. Best practises will be presented as well. Beginners and experts are welcome.\n",
    "\n",
    "# Lab Flow\n",
    "HackShack Labs are delivered through a central point that allows a portable and dynamic version of the lab guides. Indeed, rather than using standard PDF files that always ends in copy / paste errors from the lab guide into the terminal server sessions, we decided this year to innovate and introduce a brand new infrastructure. We will therefore leverage a `Jupyterhub` server on which all the different labs guides will be stored in a notebook format (`*.ipynb`).\n",
    "\n",
    "Moreover, the notebooks can be downloaded on to your own laptop for further usage or edition. In order to use  them, you will need to install the Jupyter notebook application available [here](https://jupyter.org/install). In addition, we provide as well `*.PDF` versions of each notebooks with associated ouputs.\n",
    "\n",
    "To download those notebooks, just right click on them and select `Download`.\n",
    "\n",
    "Please now listen to the instructor guidelines on how to use jupyter and follow the different steps.\n",
    "\n",
    "Happy labs ! :-)\n",
    "\n",
    "\n",
    "<img src=\"https://redfish.dmtf.org/sites/default/files/DMTF_Redfish_logo_R.jpg\" alt=\"Redfish Logo\" style=\"width: 125px;\"/> "
   ]
  },
  {
   "cell_type": "markdown",
   "metadata": {},
   "source": [
    "## What is Redfish ? \n",
    "\n",
    "As per the [Redfish](https://www.dmtf.org/standards/redfish) home page, \"DMTF’s Redfish® is a standard designed to deliver **simple and secure management** for converged, hybrid IT and the Software Defined Data Center (SDDC)\". \n",
    "\n",
    "## Workshop Goal\n",
    "\n",
    "At the end of the workshop, you will be able to \n",
    "  * explain the basic architecture of the Redfish resource tree\n",
    "  * explain why it is crucial to follow [best practises](https://developer.hpe.com/blog/getting-started-with-ilo-restful-api-redfish-api-conformance) when programming the Redfish API\n",
    "  * explain the session based authentication mechanism\n",
    "\n",
    "\n",
    "## Workshop infrastructure\n",
    "\n",
    "Each student or team has a dedicated [Jupyter](https://jupyter.org/) environment hosted by a Linux host, providing a set of [Jupyter notebooks](https://jupyter-notebook-beginner-guide.readthedocs.io/en/latest/what_is_jupyter.html).\n",
    "\n",
    "The notebooks can access a dedicated [OpenBMC](https://www.openbmc.org/) appliance simulator with `GET` and `SET` methods, and a shared [HPE iLO 5](http://hpe.com/info/ilo) in `GET` mode only.\n",
    "\n",
    "![ProgrammingRedfsihInfrastructureDescription](Pictures/ProgrammingRedfishInfraDescription.png)\n",
    "\n",
    "\n",
    "# Lab description\n",
    "\n",
    "> **NOTE**: Since the content of [Lab 1](1-Aspire-RedfishBash.ipynb) and [Lab 2](2-Aspire-RedfishPowerShell.ipynb) are identical, you can choose either one depending on your skills and preferences. If you are more Linux/Bash/cURL oriented, choose  [Lab 1](1-Aspire-RedfishBash.ipynb) and if you are more Windows/PowerShell focused, choose [Lab 2](2-Aspire-RedfishPowerShell.ipynb). \n",
    "\n",
    "### [Lab 1](1-Aspire-RedfishBash.ipynb): Redfish overview using Bash/cURL\n",
    "\n",
    "Redfish tree overview using [Bash](https://www.gnu.org/software/bash/) and [cURL](https://curl.haxx.se/) tool against an OpenBMC simulator followed by a reset of the OpenBMC.Choose this lab if you are more Linux/Bash/cURL oriented.\n",
    "\n",
    "### [Lab 2](2-Aspire-RedfishPowerShell.ipynb): Redfish overview using PowerShell\n",
    "Identical to Lab 1 but using PowerShell commands. Choose this lab if you are more Windows/PowerShell focused.\n",
    "\n",
    "### [Lab 3](3-Aspire-RedfishPython.ipynb): Browsing multiple Redfish implementations using a single piece of code\n",
    "Single python program to retrieve MAC addresses from an OpenBMC and from an HPE iLO 5. \n"
   ]
  },
  {
   "cell_type": "markdown",
   "metadata": {},
   "source": [
    "# Take a chance to win a Canakit Raspberry Pi\n",
    "[Join the HPE DEV Community by signing up to the HPE DEV Newsletter and Particpate to our raffle to win !!](https://developer.hpe.com/event/aspire-us-2020?listid=11646955)\n",
    "\n",
    "# Join the HPE DEV Commmunity - scan the QRCode below\n",
    "![QRCode](Pictures/QRCode-HPEDEV.PNG)\n",
    "\n",
    "# Thank You!\n",
    "![grommet.JPG](Pictures/grommet.jpg)"
   ]
  },
  {
   "cell_type": "markdown",
   "metadata": {},
   "source": [
    "\n",
    "<img src=\"https://redfish.dmtf.org/sites/default/files/DMTF_Redfish_logo_R.jpg\" alt=\"Redfish Logo\" style=\"width: 50px;\"/><img src=\"https://redfish.dmtf.org/sites/default/files/DMTF_Redfish_logo_R.jpg\" alt=\"Redfish Logo\" style=\"width: 50px;\"/><img src=\"https://redfish.dmtf.org/sites/default/files/DMTF_Redfish_logo_R.jpg\" alt=\"Redfish Logo\" style=\"width: 50px;\"/><img src=\"https://redfish.dmtf.org/sites/default/files/DMTF_Redfish_logo_R.jpg\" alt=\"Redfish Logo\" style=\"width: 50px;\"/><img src=\"https://redfish.dmtf.org/sites/default/files/DMTF_Redfish_logo_R.jpg\" alt=\"Redfish Logo\" style=\"width: 50px;\"/><img src=\"https://redfish.dmtf.org/sites/default/files/DMTF_Redfish_logo_R.jpg\" alt=\"Redfish Logo\" style=\"width: 50px;\"/><img src=\"https://redfish.dmtf.org/sites/default/files/DMTF_Redfish_logo_R.jpg\" alt=\"Redfish Logo\" style=\"width: 50px;\"/><img src=\"https://redfish.dmtf.org/sites/default/files/DMTF_Redfish_logo_R.jpg\" alt=\"Redfish Logo\" style=\"width: 50px;\"/><img src=\"https://redfish.dmtf.org/sites/default/files/DMTF_Redfish_logo_R.jpg\" alt=\"Redfish Logo\" style=\"width: 50px;\"/><img src=\"https://redfish.dmtf.org/sites/default/files/DMTF_Redfish_logo_R.jpg\" alt=\"Redfish Logo\" style=\"width: 50px;\"/><img src=\"https://redfish.dmtf.org/sites/default/files/DMTF_Redfish_logo_R.jpg\" alt=\"Redfish Logo\" style=\"width: 50px;\"/><img src=\"https://redfish.dmtf.org/sites/default/files/DMTF_Redfish_logo_R.jpg\" alt=\"Redfish Logo\" style=\"width: 50px;\"/><img src=\"https://redfish.dmtf.org/sites/default/files/DMTF_Redfish_logo_R.jpg\" alt=\"Redfish Logo\" style=\"width: 50px;\"/><img src=\"https://redfish.dmtf.org/sites/default/files/DMTF_Redfish_logo_R.jpg\" alt=\"Redfish Logo\" style=\"width: 50px;\"/><img src=\"https://redfish.dmtf.org/sites/default/files/DMTF_Redfish_logo_R.jpg\" alt=\"Redfish Logo\" style=\"width: 50px;\"/><img src=\"https://redfish.dmtf.org/sites/default/files/DMTF_Redfish_logo_R.jpg\" alt=\"Redfish Logo\" style=\"width: 50px;\"/><img src=\"https://redfish.dmtf.org/sites/default/files/DMTF_Redfish_logo_R.jpg\" alt=\"Redfish Logo\" style=\"width: 50px;\"/><img src=\"https://redfish.dmtf.org/sites/default/files/DMTF_Redfish_logo_R.jpg\" alt=\"Redfish Logo\" style=\"width: 50px;\"/>"
   ]
  }
 ],
 "metadata": {
  "kernelspec": {
   "display_name": "Python 3",
   "language": "python",
   "name": "python3"
  },
  "language_info": {
   "codemirror_mode": {
    "name": "ipython",
    "version": 3
   },
   "file_extension": ".py",
   "mimetype": "text/x-python",
   "name": "python",
   "nbconvert_exporter": "python",
   "pygments_lexer": "ipython3",
   "version": "3.6.8"
  }
 },
 "nbformat": 4,
 "nbformat_minor": 4
}
