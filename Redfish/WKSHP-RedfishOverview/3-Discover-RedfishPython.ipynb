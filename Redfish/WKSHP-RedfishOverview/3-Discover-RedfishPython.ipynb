{
 "cells": [
  {
   "cell_type": "markdown",
   "metadata": {},
   "source": [
    "![HPE DEV Logo](Pictures/hpe-dev-logo.png \"HPE DEV Hack Shack\")\n",
    "\n",
    "# Hack Shack\n",
    "\n",
    "Powered by [HPE DEV Team](hpedev.io)\n",
    "\n",
    "### Speakers : Troy Heber, François Donzé\n",
    "\n",
    "### Redfish overview workshop\n",
    "\n",
    "Version 0.41\n",
    "\n",
    "<img src=\"https://redfish.dmtf.org/sites/default/files/DMTF_Redfish_logo_R.jpg\" alt=\"Redfish Logo\" style=\"width: 125px;\"/> \n",
    "\n",
    "# Using unique code to retrieve properties from different Redfish implementations\n",
    "\n",
    "## Introduction\n",
    "\n",
    "This notebook contains a single Python program, explained and executed step by step. The goal of this lab is to retrieve the BMC MAC addresses from an OpenBMC and from an HPE iLO 5 using a single piece of code.\n",
    "\n",
    "Please note that the account on your dedicated OpenBMC simulator has Administrator privileges, while you have Read-Only permissions on the physical shared iLO 5.\n",
    "\n",
    "For simplicity and didactic reasons, the following code is not optimized and does not handle errors or test return codes. The simple syntax used should be easy to understand by non-Python knowledgeable students.\n",
    "\n",
    "### Setting the scene\n",
    "\n",
    "The following cell imports the minimum required Python modules and defines **global variables** (credentials and IP addresses). The `redfish` module has been installed on the Jupyter server using the `pip3 install redfish` command as explained in the [DMTF's Python Redfish library](https://github.com/DMTF/python-redfish-library) GitHub site."
   ]
  },
  {
   "cell_type": "code",
   "execution_count": null,
   "metadata": {},
   "outputs": [],
   "source": [
    "# -*- coding: utf-8 -*-\n",
    "\n",
    "import os\n",
    "import re\n",
    "import sys\n",
    "import json\n",
    "import redfish # Module sources at: https://github.com/DMTF/python-redfish-library/blob/master/src/redfish/rest/v1.py\n",
    "\n",
    "###########################################################################################################\n",
    "#\n",
    "# Variables\n",
    "#\n",
    "###########################################################################################################\n",
    "\n",
    "# Set Student ID number\n",
    "Stud=\"00\"\n",
    "print (\"You are Student\" + Stud + \"\\n\\n\")\n",
    "\n",
    "# OpenBMC and iLO common credentials\n",
    "user=\"student\"\n",
    "Password = \"P@ssw0rd!\"\n",
    "\n",
    "# OpenBMC and iLO IP addresses with port\n",
    "ObmcIP = \"openbmcs:443\" + Stud\n",
    "iLO5IP = \"ilo5\""
   ]
  },
  {
   "cell_type": "markdown",
   "metadata": {},
   "source": [
    "## Redfish session creation and Root service content\n",
    "\n",
    "The following Python cell creates a Redfish session and saves the Root service content (`/redfish/v1`) in a variable called `service_root`. \n",
    "\n",
    "Session details (Session Key, Token, Location...) are stored in the  **`_redfishobj`** Python object. This `_redfishobj` object is automatically and silently removed at the end of the cell and the corresponding session is automatically deleted in the remote BMC.\n",
    "\n",
    "Hence, each Jupyter cell in this notebook starts with the creation of a new session object. This may not be optimal in real life, but allows for an easy comparison of several Redfish implementations in a single notebook."
   ]
  },
  {
   "cell_type": "code",
   "execution_count": null,
   "metadata": {},
   "outputs": [],
   "source": [
    "IP = ObmcIP\n",
    "base_url = \"https://\" + IP\n",
    "\n",
    "###########################################################################################################\n",
    "#\n",
    "# Redfish session creation and root services listing\n",
    "#\n",
    "###########################################################################################################\n",
    "if __name__ == \"__main__\":\n",
    "    # Set up the Redfish session object (_redfishobj)\n",
    "    with redfish.redfish_client( base_url = base_url, username = user, password = Password ) as _redfishobj:      \n",
    "        \n",
    "        SessionKey = _redfishobj.get_session_key()\n",
    "        SessionLocation = _redfishobj.get_session_location()\n",
    "        print (\"Session Key (Token): \" + SessionKey + \"\\n\" +\n",
    "            \"Session Location   : \" + SessionLocation + \"\\n\")\n",
    "        \n",
    "        # Retrieve and print the Redfish Root service content from the standard location /redfish/v1/\n",
    "        service_root = _redfishobj.get( \"/redfish/v1/\" )\n",
    "        print (\"Root Services:\" + \"\\n\" + json.dumps( service_root.dict, indent=4 ) + \"\\n\")"
   ]
  },
  {
   "cell_type": "markdown",
   "metadata": {},
   "source": [
    "## Managers collection listing\n",
    "\n",
    "### OpenBMC\n",
    "\n",
    "As explained in the previous notebook, the standard Redfish location of a server BMC(s) is found at `/redfish/v1/Managers/{item}`, where `{item}` varies from one Redfish implementation to another. \n",
    "\n",
    "The next cell retrieves and prints the `Managers` collection from an OpenBMC simulator. This collection has only one item named `bmc`. Run it."
   ]
  },
  {
   "cell_type": "code",
   "execution_count": null,
   "metadata": {},
   "outputs": [],
   "source": [
    "IP = ObmcIP\n",
    "base_url = \"https://\" + IP\n",
    "###########################################################################################################\n",
    "#\n",
    "# Managers service listing\n",
    "#\n",
    "###########################################################################################################\n",
    "if __name__ == \"__main__\":\n",
    "    with redfish.redfish_client( base_url = base_url, username = user, password = Password ) as _redfishobj:\n",
    "        service_root = _redfishobj.get( \"/redfish/v1/\" )\n",
    "        \n",
    "        # Retrieve the location of the \"Managers\" service and its content.\n",
    "        # To be perfect, we should verify that the `Managers` resource is present in the ServiceRoot schema\n",
    "        manager_collection = _redfishobj.get( service_root.dict[\"Managers\"][\"@odata.id\"] )\n",
    "        print ( \"Managers collection: \" + \"\\n\" + json.dumps( manager_collection.dict, indent=4 ) + \"\\n\" )"
   ]
  },
  {
   "cell_type": "markdown",
   "metadata": {},
   "source": [
    "### HPE iLO 5\n",
    "\n",
    "The following program retrieves the `Managers` collection of an **HPE ProLiant iLO 5**.\n",
    "\n",
    "In this example, the HPE server has only one item called `1`. Other HPE servers may have several BMCs called differently.\n",
    "\n",
    "**CONCLUSION**: If you want to your Redfish programs to work against different Redfish implementations, it is mandatory to avoid assumptions on the URIs of services. You must crawl the Redfish tree and mechanically discover the desired URIs."
   ]
  },
  {
   "cell_type": "code",
   "execution_count": null,
   "metadata": {},
   "outputs": [],
   "source": [
    "IP = iLO5IP\n",
    "base_url = \"https://\" + IP\n",
    "###########################################################################################################\n",
    "#\n",
    "# Managers service listing\n",
    "#\n",
    "###########################################################################################################\n",
    "if __name__ == \"__main__\":\n",
    "    with redfish.redfish_client( base_url = base_url, username = user, password = Password ) as _redfishobj:\n",
    "        service_root = _redfishobj.get( \"/redfish/v1/\" )\n",
    "        # Retrieve the location of the \"Managers\" service and its content.\n",
    "        # To be perfect, we should verify that the `Managers` resource is present in the ServiceRoot schema\n",
    "        manager_collection = _redfishobj.get( service_root.dict[\"Managers\"][\"@odata.id\"] )\n",
    "        print ( \"Managers location: \" + \"\\n\" + json.dumps( manager_collection.dict, indent=4 ) + \"\\n\" )"
   ]
  },
  {
   "cell_type": "markdown",
   "metadata": {},
   "source": [
    "## BMC properties and `EthernetInterfaces` collection\n",
    "\n",
    "The next two Python cells use the exact same code to locate the BMC properties of an HPE iLO 5 first and then an OpenBMC simulator. Then, they locate and print the collection of `EthernetInterfaces` found in each BMC.\n",
    "\n",
    "The logic of this code starts at the Root Redfish tree and then follows the desired links. The main steps are; 1) Create a Redfish session object `_redfishobj`; 2) Retrieve and save the Root service content in variable `service_root`; 3) Retrieve and save the URI of the `Managers` collection in variable `manager_collection`; 4) For each BMC URI, save its properties in variable `manager_resources`; and 5) Print  those properties as well as the collection of `EthernetInterfaces`\n"
   ]
  },
  {
   "cell_type": "markdown",
   "metadata": {},
   "source": [
    "### OpenBMC \n",
    "\n",
    "The OpenBMC simulator returns **two** BMC NICs under `/redfish/v1/Managers/bmc/EthernetInterfaces`. "
   ]
  },
  {
   "cell_type": "code",
   "execution_count": null,
   "metadata": {},
   "outputs": [],
   "source": [
    "IP = ObmcIP\n",
    "base_url = \"https://\" + IP\n",
    "###########################################################################################################\n",
    "#\n",
    "# BMC properties and Ethernet Network Interfaces listing\n",
    "#\n",
    "###########################################################################################################\n",
    "if __name__ == \"__main__\":\n",
    "    with redfish.redfish_client( base_url = base_url, username = user, password = Password ) as _redfishobj:  \n",
    "        service_root = _redfishobj.get( \"/redfish/v1/\" )\n",
    "        manager_collection = _redfishobj.get( service_root.dict[\"Managers\"][\"@odata.id\"] )\n",
    "    \n",
    "        for manager_member in manager_collection.dict[\"Members\"]:\n",
    "            manager_resources = _redfishobj.get( manager_member[\"@odata.id\"] )\n",
    "            print ( \"Manager Resources\" + \"\\n\" + json.dumps(manager_resources.dict, indent=4) + \"\\n\" )  \n",
    "            print (\"##############################################################################\" + \"\\n\")\n",
    "            ethernet_network_interface_collection = _redfishobj.get(manager_resources.dict[\"EthernetInterfaces\"][\"@odata.id\"])\n",
    "            print ( \"Ethernet Network Interface Collection\" + \"\\n\" + \n",
    "                   json.dumps(ethernet_network_interface_collection.dict, indent=4) + \"\\n\")   "
   ]
  },
  {
   "cell_type": "markdown",
   "metadata": {},
   "source": [
    "### HPE iLO 5\n",
    "\n",
    "The HPE iLO 5 returns **three** BMC NICs under `/redifsh/v1/Managers/1/EthernetInterfaces`. "
   ]
  },
  {
   "cell_type": "code",
   "execution_count": null,
   "metadata": {},
   "outputs": [],
   "source": [
    "IP = iLO5IP\n",
    "base_url = \"https://\" + IP\n",
    "###########################################################################################################\n",
    "#\n",
    "# BMC properties and Ethernet Network Interfaces listing\n",
    "#\n",
    "###########################################################################################################\n",
    "if __name__ == \"__main__\":\n",
    "    with redfish.redfish_client( base_url = base_url, username = user, password = Password ) as _redfishobj:  \n",
    "        service_root = _redfishobj.get( \"/redfish/v1/\" )\n",
    "        manager_collection = _redfishobj.get( service_root.dict[\"Managers\"][\"@odata.id\"] )\n",
    "    \n",
    "        for manager_member in manager_collection.dict[\"Members\"]:\n",
    "            manager_resources = _redfishobj.get( manager_member[\"@odata.id\"] )\n",
    "            print ( \"Manager Resources\" + \"\\n\" + json.dumps(manager_resources.dict, indent=4) + \"\\n\" )  \n",
    "            print (\"##############################################################################\" + \"\\n\")\n",
    "            ethernet_network_interface_collection = _redfishobj.get(manager_resources.dict[\"EthernetInterfaces\"][\"@odata.id\"])\n",
    "            print ( \"Ethernet Network Interface Collection\" + \"\\n\" + \n",
    "                   json.dumps(ethernet_network_interface_collection.dict, indent=4) + \"\\n\")   "
   ]
  },
  {
   "cell_type": "markdown",
   "metadata": {},
   "source": [
    "## BMC NICs MAC addresses\n",
    "\n",
    "Using the exact same code again, we extract the MAC addresses of the two OpenBMC NICs and then the three iLO 5 NICs, regardless their different names and locations.\n",
    "\n",
    "### OpenBMC"
   ]
  },
  {
   "cell_type": "code",
   "execution_count": null,
   "metadata": {},
   "outputs": [],
   "source": [
    "IP = ObmcIP\n",
    "base_url = \"https://\" + IP\n",
    "###########################################################################################################\n",
    "#\n",
    "# BMC NICs MAC addresses extraction\n",
    "#\n",
    "###########################################################################################################\n",
    "if __name__ == \"__main__\":\n",
    "    with redfish.redfish_client( base_url = base_url, username = user, password = Password ) as _redfishobj:  \n",
    "        # Retrieve the Redfish root services from the standard location /redfish/v1/\n",
    "        service_root = _redfishobj.get( \"/redfish/v1/\" )\n",
    "        manager_collection = _redfishobj.get( service_root.dict[\"Managers\"][\"@odata.id\"] )\n",
    "\n",
    "        for manager_member in manager_collection.dict[\"Members\"]:\n",
    "            manager_resources = _redfishobj.get( manager_member[\"@odata.id\"] )\n",
    "            ethernet_network_interface_collection = _redfishobj.get(manager_resources.dict[\"EthernetInterfaces\"][\"@odata.id\"])\n",
    "            \n",
    "            # For each ethernet network interface, get its properties and print the location, Id and MAC Address\n",
    "            for ethernet_network_interface in ethernet_network_interface_collection.dict[\"Members\"]:\n",
    "                print (json.dumps(ethernet_network_interface))\n",
    "                ethernet_network_interface_resources = _redfishobj.get(ethernet_network_interface[\"@odata.id\"])\n",
    "                \n",
    "                print (json.dumps(ethernet_network_interface_resources.dict[\"Id\"], indent=4) + \":\\t\" +\n",
    "                       json.dumps(ethernet_network_interface_resources.dict[\"MACAddress\"], indent=4) + \"\\n\")   "
   ]
  },
  {
   "cell_type": "markdown",
   "metadata": {},
   "source": [
    "### HPE iLO 5\n"
   ]
  },
  {
   "cell_type": "code",
   "execution_count": null,
   "metadata": {},
   "outputs": [],
   "source": [
    "IP = iLO5IP\n",
    "base_url = \"https://\" + IP\n",
    "\n",
    "###########################################################################################################\n",
    "#\n",
    "# BMC NICs MAC addresses extraction\n",
    "#\n",
    "###########################################################################################################\n",
    "if __name__ == \"__main__\":\n",
    "    with redfish.redfish_client( base_url = base_url, username = user, password = Password ) as _redfishobj:  \n",
    "        # Retrieve the Redfish root services from the standard location /redfish/v1/\n",
    "        service_root = _redfishobj.get( \"/redfish/v1/\" )\n",
    "        manager_collection = _redfishobj.get( service_root.dict[\"Managers\"][\"@odata.id\"] )\n",
    "\n",
    "        for manager_member in manager_collection.dict[\"Members\"]:\n",
    "            manager_resources = _redfishobj.get( manager_member[\"@odata.id\"] )\n",
    "            ethernet_network_interface_collection = _redfishobj.get(manager_resources.dict[\"EthernetInterfaces\"][\"@odata.id\"])\n",
    "            \n",
    "            # For each ethernet network interface, get its properties and print the location, Id and MAC Address\n",
    "            for ethernet_network_interface in ethernet_network_interface_collection.dict[\"Members\"]:\n",
    "                print (json.dumps(ethernet_network_interface))\n",
    "                ethernet_network_interface_resources = _redfishobj.get(ethernet_network_interface[\"@odata.id\"])\n",
    "                \n",
    "                print (json.dumps(ethernet_network_interface_resources.dict[\"Id\"], indent=4) + \":\\t\" +\n",
    "                       json.dumps(ethernet_network_interface_resources.dict[\"MACAddress\"], indent=4) + \"\\n\")  "
   ]
  },
  {
   "cell_type": "markdown",
   "metadata": {},
   "source": [
    "## Congratulations !\n",
    "\n",
    "You may now continue to the **[Conclusion/Survey](4-Conclusion-Survey.ipynb)** notebook. Thanks you for participating to this lab."
   ]
  }
 ],
 "metadata": {
  "kernelspec": {
   "display_name": "Python 3",
   "language": "python",
   "name": "python3"
  },
  "language_info": {
   "codemirror_mode": {
    "name": "ipython",
    "version": 3
   },
   "file_extension": ".py",
   "mimetype": "text/x-python",
   "name": "python",
   "nbconvert_exporter": "python",
   "pygments_lexer": "ipython3",
   "version": "3.6.9"
  }
 },
 "nbformat": 4,
 "nbformat_minor": 4
}
