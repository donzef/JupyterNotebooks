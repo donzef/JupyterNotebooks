{
 "cells": [
  {
   "cell_type": "code",
   "execution_count": 1,
   "metadata": {},
   "outputs": [
    {
     "name": "stdout",
     "output_type": "stream",
     "text": [
      "You are Student00\n",
      "\n",
      "\n"
     ]
    }
   ],
   "source": [
    "# -*- coding: utf-8 -*-\n",
    "\n",
    "import os\n",
    "import re\n",
    "import sys\n",
    "import json\n",
    "import redfish # Module sources at: https://github.com/DMTF/python-redfish-library/blob/master/src/redfish/rest/v1.py\n",
    "\n",
    "###########################################################################################################\n",
    "#\n",
    "# Variables\n",
    "#\n",
    "###########################################################################################################\n",
    "\n",
    "# Set Student ID number\n",
    "Stud=\"00\"\n",
    "print (\"You are Student\" + Stud + \"\\n\\n\")\n",
    "\n",
    "# iLO common credentials\n",
    "user=\"student\"\n",
    "Password = \"P@ssw0rd!\"\n",
    "\n",
    "# iLO IP addresses with port\n",
    "\n",
    "iLO5IP = \"ilo5\"\n",
    "base_url = \"https://\" + iLO5IP"
   ]
  },
  {
   "cell_type": "code",
   "execution_count": 14,
   "metadata": {},
   "outputs": [
    {
     "name": "stdout",
     "output_type": "stream",
     "text": [
      "Odata supported queries:\n",
      "{\n",
      "    \"ExpandQuery\": {\n",
      "        \"ExpandAll\": false,\n",
      "        \"Levels\": true,\n",
      "        \"Links\": false,\n",
      "        \"MaxLevels\": 1,\n",
      "        \"NoLinks\": true\n",
      "    },\n",
      "    \"FilterQuery\": true,\n",
      "    \"OnlyMemberQuery\": true,\n",
      "    \"SelectQuery\": false\n",
      "}\n",
      "\n",
      "Device Inventory\n",
      "PCI-E Slot 1\n",
      "\tEmpty slot 1\n",
      "\t\n",
      "\t{'Current': {'VersionString': 'N/A'}}\n",
      "\t{'State': 'Absent'}\n",
      "\n",
      "\n",
      "Embedded LOM\n",
      "\tIntel(R) I350 Gigabit Network Connection\n",
      "\t\n",
      "\t{'Current': {'VersionString': '1.2507.0'}}\n",
      "\t{'Health': None, 'State': None}\n",
      "\n",
      "\n",
      "Embedded Device\n",
      "\tEmbedded Video Controller\n",
      "\t\n",
      "\t{'Current': {'VersionString': '2.5'}}\n",
      "\t{'Health': 'OK', 'State': 'Enabled'}\n",
      "\n",
      "\n",
      "Embedded Device\n",
      "\tCannon Lake PCH-H AHCI Controller\n",
      "\t\n",
      "\t{'Current': {'VersionString': 'N/A'}}\n",
      "\t{'Health': 'OK', 'State': 'Enabled'}\n",
      "\n",
      "\n"
     ]
    }
   ],
   "source": [
    "###########################################################################################################\n",
    "#\n",
    "# iLO 5 Devices\n",
    "#\n",
    "###########################################################################################################\n",
    "if __name__ == \"__main__\":\n",
    "    with redfish.redfish_client( base_url = base_url, username = user, password = Password ) as _redfishobj:  \n",
    "        # Retrieve the Redfish root services from the standard location /redfish/v1/\n",
    "        service_root = _redfishobj.get( \"/redfish/v1/\" )\n",
    "        \n",
    "        # Make sure the OData Expand query is supported by the remote iLO 5, at least for 1 level\n",
    "        print(\"Odata supported queries:\")\n",
    "        print(json.dumps(service_root.dict['ProtocolFeaturesSupported'], indent=4) + \"\\n\\n\\n\")\n",
    "        \n",
    "        # Retrieve the Chassis collection URI \n",
    "        chassis_collection_URI = _redfishobj.get( service_root.dict[\"Chassis\"][\"@odata.id\"] )\n",
    "        \n",
    "        # For each chassis in the collection retrieve the Devices collection URI, \n",
    "        # extract their properties and print them\n",
    "        for chassis_member in chassis_collection_URI.dict[\"Members\"]:\n",
    "            \n",
    "            # Retrieve all the resources present in this chassis\n",
    "            chassis_resources = _redfishobj.get( chassis_member[\"@odata.id\"] )\n",
    "            \n",
    "            # Find the URI of the Devices resource. To be perfect, we should have found the \n",
    "            # location of the Oem/Hpe Devices from the Schema.\n",
    "            chassis_devices_uri = chassis_resources.obj.Oem.Hpe.Links['Devices']['@odata.id']\n",
    "            \n",
    "            # Retrieve the URIs of the Devices as well as their properties using \n",
    "            # a single GET request and the $expand odata parameter\n",
    "            chassis_device_members = _redfishobj.get( chassis_devices_uri + \"?$expand=.\" )\n",
    "            \n",
    "            # Extract Devices properties from previous\n",
    "            chassis_device_properties = chassis_device_members.obj['Members']\n",
    "            \n",
    "            # Print requested properties\n",
    "            print (\"Device Inventory list\")\n",
    "            for i in chassis_device_properties:\n",
    "                print(i['Location'])\n",
    "                print(\"\\t\" + i['Name'])\n",
    "                print(\"\\t\" + str(i['ProductVersion']))\n",
    "                print(\"\\t\" + str(i['FirmwareVersion']))\n",
    "                print(\"\\t\" + str(i['Status']))\n",
    "                print(\"\\n\")\n",
    "              "
   ]
  },
  {
   "cell_type": "code",
   "execution_count": null,
   "metadata": {},
   "outputs": [],
   "source": []
  }
 ],
 "metadata": {
  "kernelspec": {
   "display_name": "Python 3",
   "language": "python",
   "name": "python3"
  },
  "language_info": {
   "codemirror_mode": {
    "name": "ipython",
    "version": 3
   },
   "file_extension": ".py",
   "mimetype": "text/x-python",
   "name": "python",
   "nbconvert_exporter": "python",
   "pygments_lexer": "ipython3",
   "version": "3.6.9"
  }
 },
 "nbformat": 4,
 "nbformat_minor": 4
}
