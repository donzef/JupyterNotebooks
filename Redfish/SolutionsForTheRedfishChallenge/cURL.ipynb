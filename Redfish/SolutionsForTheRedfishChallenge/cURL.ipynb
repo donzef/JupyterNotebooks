{
 "cells": [
  {
   "cell_type": "code",
   "execution_count": 1,
   "metadata": {},
   "outputs": [
    {
     "name": "stdout",
     "output_type": "stream",
     "text": [
      "Verifying that the remote iLO 5 is accessible on port 443 (HTTPS)\n",
      "Connection to ilo5 443 port [tcp/https] succeeded!\n"
     ]
    }
   ],
   "source": [
    "# Create iLO 5 environment variables\n",
    "iLO5IP=\"ilo5\"\n",
    "iLO5URI=\"https://${iLO5IP}\"\n",
    "\n",
    "iLO5User=\"student\"\n",
    "iLO5Password='P@ssw0rd!'\n",
    "\n",
    "# Minimum required Redfish headers\n",
    "HeaderODataVersion=\"OData-Version: 4.0\"\n",
    "HeaderContentType=\"Content-Type: application/json\"\n",
    "\n",
    "# Data files\n",
    "ResponseHeaders=\"ResponseHeaders.txt\"   # Used to hold HTTP response headers\n",
    "SessionData=\"./CreateSession-data.json\" # Body/Workload used to create the Redfish session\n",
    "cat > ${SessionData} << __EOF__\n",
    "{\n",
    "        \"UserName\": \"$iLO5User\",\n",
    "        \"Password\": \"$iLO5Password\"\n",
    "}\n",
    "__EOF__\n",
    "\n",
    "echo \"Verifying that the remote iLO 5 is accessible on port 443 (HTTPS)\"\n",
    "nc -vz $iLO5IP 443 || echo -e \"\\nProblem: Ask for help in Slack\""
   ]
  },
  {
   "cell_type": "code",
   "execution_count": 2,
   "metadata": {},
   "outputs": [
    {
     "name": "stdout",
     "output_type": "stream",
     "text": [
      "OData Supported operations:\n",
      "\u001b[1;39m{\n",
      "  \u001b[0m\u001b[34;1m\"ExpandQuery\"\u001b[0m\u001b[1;39m: \u001b[0m\u001b[1;39m{\n",
      "    \u001b[0m\u001b[34;1m\"ExpandAll\"\u001b[0m\u001b[1;39m: \u001b[0m\u001b[0;39mfalse\u001b[0m\u001b[1;39m,\n",
      "    \u001b[0m\u001b[34;1m\"Levels\"\u001b[0m\u001b[1;39m: \u001b[0m\u001b[0;39mtrue\u001b[0m\u001b[1;39m,\n",
      "    \u001b[0m\u001b[34;1m\"Links\"\u001b[0m\u001b[1;39m: \u001b[0m\u001b[0;39mfalse\u001b[0m\u001b[1;39m,\n",
      "    \u001b[0m\u001b[34;1m\"MaxLevels\"\u001b[0m\u001b[1;39m: \u001b[0m\u001b[0;39m1\u001b[0m\u001b[1;39m,\n",
      "    \u001b[0m\u001b[34;1m\"NoLinks\"\u001b[0m\u001b[1;39m: \u001b[0m\u001b[0;39mtrue\u001b[0m\u001b[1;39m\n",
      "  \u001b[1;39m}\u001b[0m\u001b[1;39m,\n",
      "  \u001b[0m\u001b[34;1m\"FilterQuery\"\u001b[0m\u001b[1;39m: \u001b[0m\u001b[0;39mtrue\u001b[0m\u001b[1;39m,\n",
      "  \u001b[0m\u001b[34;1m\"OnlyMemberQuery\"\u001b[0m\u001b[1;39m: \u001b[0m\u001b[0;39mtrue\u001b[0m\u001b[1;39m,\n",
      "  \u001b[0m\u001b[34;1m\"SelectQuery\"\u001b[0m\u001b[1;39m: \u001b[0m\u001b[0;39mfalse\u001b[0m\u001b[1;39m\n",
      "\u001b[1;39m}\u001b[0m\n"
     ]
    }
   ],
   "source": [
    "echo \"OData Supported operations:\"\n",
    "curl --insecure --silent --noproxy \"localhost, 127.0.0.1\"  \\\n",
    "  --header  \"$HeaderContentType\" --header \"$HeaderODataVersion\" \\\n",
    "  --request GET ${iLO5URI}/redfish/v1/ | jq '.ProtocolFeaturesSupported'"
   ]
  },
  {
   "cell_type": "code",
   "execution_count": null,
   "metadata": {},
   "outputs": [],
   "source": [
    "echo 'Create Session and print body response:' \n",
    "\n",
    "curl --dump-header  $ResponseHeaders \\\n",
    "     --insecure --noproxy \"localhost, 127.0.0.1\" --silent \\\n",
    "     --header \"$HeaderContentType\" --header \"$HeaderODataVersion\" \\\n",
    "     --request POST --data \"@$SessionData\" \\\n",
    "     ${iLO5URI}/redfish/v1/SessionService/Sessions | jq"
   ]
  },
  {
   "cell_type": "code",
   "execution_count": null,
   "metadata": {},
   "outputs": [],
   "source": [
    "Token=$(awk '/X-Auth-Token/ {print $NF}' $ResponseHeaders | tr -d '\\r')\n",
    "SessionLocation=\"$iLO5URI\"$(awk '/^Loca.*Se/ {gsub(\"https://.*/red\", \"/red\", $NF);print $NF}' $ResponseHeaders | tr -d '\\r')\n",
    "\n",
    "echo \"Token: $Token\"\n",
    "echo -e \"Session Location: $SessionLocation\\n\""
   ]
  },
  {
   "cell_type": "markdown",
   "metadata": {},
   "source": [
    "## Retrieve the Chassis collection URI"
   ]
  },
  {
   "cell_type": "code",
   "execution_count": null,
   "metadata": {},
   "outputs": [],
   "source": [
    "ChassisCollectionURIs=$(curl --insecure --silent   \\\n",
    "  --header  \"$HeaderContentType\" --header \"$HeaderODataVersion\" \\\n",
    "  --header \"X-Auth-Token: $Token\" \\\n",
    "  --request GET ${iLO5URI}/redfish/v1/Chassis | jq -r '.Members | .[] | .\"@odata.id\"')\n",
    "  \n",
    "echo $ChassisCollectionURIs\n"
   ]
  },
  {
   "cell_type": "markdown",
   "metadata": {},
   "source": [
    "## For every chassis in the collection retrieve the Device"
   ]
  },
  {
   "cell_type": "code",
   "execution_count": null,
   "metadata": {},
   "outputs": [],
   "source": [
    "DevicesURIs=\"\"\n",
    "\n",
    "for chassis in $ChassisCollectionURIs ; do\n",
    "DU=$(curl --insecure --silent  \\\n",
    "  --header  \"$HeaderContentType\" --header \"$HeaderODataVersion\" \\\n",
    "  --header \"X-Auth-Token: $Token\" \\\n",
    "  --request GET ${iLO5URI}${chassis} | jq -r '[.Oem.Hpe.Links.Devices] | .[] | .\"@odata.id\"')\n",
    "DevicesURIs=\"$DevicesURIs $DU\" \n",
    "done \n",
    " \n",
    "echo $DevicesURIs"
   ]
  },
  {
   "cell_type": "markdown",
   "metadata": {},
   "source": [
    "## For each Device URI, retrieve properties "
   ]
  },
  {
   "cell_type": "code",
   "execution_count": null,
   "metadata": {},
   "outputs": [],
   "source": [
    "echo \"Selected device properties:\"\n",
    "\n",
    "for du in ${DevicesURIs}; do\n",
    "\n",
    "curl --insecure --silent  \\\n",
    "  --header  \"$HeaderContentType\" --header \"$HeaderODataVersion\" \\\n",
    "  --header \"X-Auth-Token: $Token\" \\\n",
    "  --request GET ${iLO5URI}${du}'?$expand=.' | \\\n",
    "      jq '.Members | .[] | {Location: .Location, Name: .Name, ProductVersion: .ProductVersion, FirmwareVersion: .FirmwareVersion, Status: .Status }'\n",
    "done"
   ]
  },
  {
   "cell_type": "markdown",
   "metadata": {},
   "source": [
    "## Logout"
   ]
  },
  {
   "cell_type": "code",
   "execution_count": null,
   "metadata": {},
   "outputs": [],
   "source": [
    "curl --insecure --silent \\\n",
    "     --header \"$HeaderContentType\" --header \"$HeaderODataVersion\" --header \"X-Auth-Token: $BmcToken\" \\\n",
    "     --request DELETE $SessionLocation | jq"
   ]
  },
  {
   "cell_type": "code",
   "execution_count": null,
   "metadata": {},
   "outputs": [],
   "source": []
  }
 ],
 "metadata": {
  "kernelspec": {
   "display_name": "Bash",
   "language": "bash",
   "name": "bash"
  },
  "language_info": {
   "codemirror_mode": "shell",
   "file_extension": ".sh",
   "mimetype": "text/x-sh",
   "name": "bash"
  }
 },
 "nbformat": 4,
 "nbformat_minor": 4
}
