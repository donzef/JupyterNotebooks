{
 "cells": [
  {
   "cell_type": "markdown",
   "metadata": {},
   "source": [
    "![HPEDEV](Pictures/LogoHPEDEV.png)\n",
    "\n",
    "# Welcome to the Hack Shack \n",
    "\n",
    "Powered by [HPEDEV Team](hpedev.io)\n",
    "\n",
    "# Speaker: Didier Lalli\n"
   ]
  },
  {
   "cell_type": "markdown",
   "metadata": {},
   "source": [
    "# GIT 101 Understand GIT well enough to join the open source community!\n",
    "\n",
    "In this workshop, you’ll learn how to master basic Git concepts that will allow you to become members of the open source community. This workshop covers real-life use cases, including scenarios covering the following::\n",
    " \n",
    "1. I’d like to use something from the community\n",
    "2. I'd like to report an issue on a repository\n",
    "3. I'd like to share something with the community\n",
    "4. I'd like to contribute code to a repository\n",
    "\n",
    "You do not need to be a developer to participate and you will not need to write any code. Instead, we will use bash scripting to learn Git through its Command Line Interface (CLI).\n",
    "\n",
    "\n",
    "# Lab Flow\n",
    "\n",
    "HackShack Labs and Open labs are delivered through a central point that allows a portable, dynamic version of the lab guides. Rather than using standard PDF files that always ends in copy / paste errors from the lab guide into the terminal sessions, this year, we decided to innovate and introduce a brand new infrastructure. We will leverage a JupyterHub server on which all the different labs guides will be stored in a notebook format (*.ipynb). \n",
    "\n",
    "However, the notebooks can be downloaded on to your own laptop for further use or edits. In order to use  them, you will need to install the Jupyter Notebook application available [here](https://jupyter.org/install).\n",
    "\n",
    "Now, please listen to the instructor guidelines on how to use Jupyter Notebooks and follow along as he goes through the different steps.\n",
    "\n",
    "Happy labs ! :-)\n",
    "\n",
    "\n",
    "## Handouts\n",
    "\n",
    "You can freely copy the Jupyter notebooks, including their output, in order to practice back at your office at your own pace, leveraging a local installation of Jupyter Notebook on your laptop.\n",
    "\n",
    "## Workflow\n",
    "\n",
    "There is only one lab in this worskhop: \n",
    "\n",
    "# Lab 1: Understand GIT well enough to join the open source community!\n",
    "\n",
    "* [Lab 1](1-WKSHP-GIT-Basics.ipynb)\n",
    "\n",
    "Happy labs ! :-)!"
   ]
  },
  {
   "cell_type": "markdown",
   "metadata": {},
   "source": [
    "# Earn a chance to win a Canakit Raspberry Pi\n",
    "[Join the HPE DEV Community by signing up to the HPE DEV Newsletter](https://developer.hpe.com/event/hpe-discover-us-2020?listid=11647678)\n",
    "\n",
    "# Join the HPE DEV Commmunity!\n",
    "![QRCode](Pictures/QRCode-HPEDEV.png)\n",
    "\n",
    "# Thank You!\n",
    "![grommet.JPG](Pictures/grommet.jpg)\n"
   ]
  },
  {
   "cell_type": "code",
   "execution_count": null,
   "metadata": {},
   "outputs": [],
   "source": []
  }
 ],
 "metadata": {
  "kernelspec": {
   "display_name": "Python 3",
   "language": "python",
   "name": "python3"
  },
  "language_info": {
   "codemirror_mode": {
    "name": "ipython",
    "version": 3
   },
   "file_extension": ".py",
   "mimetype": "text/x-python",
   "name": "python",
   "nbconvert_exporter": "python",
   "pygments_lexer": "ipython3",
   "version": "3.6.9"
  }
 },
 "nbformat": 4,
 "nbformat_minor": 4
}
